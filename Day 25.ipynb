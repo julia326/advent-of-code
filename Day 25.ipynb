{
 "cells": [
  {
   "cell_type": "code",
   "execution_count": 43,
   "metadata": {},
   "outputs": [],
   "source": [
    "def transform(subject_number, loop_size):\n",
    "    val = 1\n",
    "    for i in range(loop_size):\n",
    "        val *= subject_number\n",
    "        val %= 20201227\n",
    "    return val\n",
    "\n",
    "assert transform(7, 8) == 5764801\n",
    "assert transform(7, 11) == 17807724\n",
    "assert transform(17807724, 8) == 14897079\n",
    "assert transform(5764801, 11) == 14897079\n",
    "\n",
    "assert transform(transform(7, 11), 8) == transform(transform(7, 8), 11)\n",
    "\n",
    "assert transform(transform(7, 2), 5) == transform(transform(7, 5), 2)\n",
    "assert transform(transform(8, 2), 5) == transform(transform(8, 5), 2)"
   ]
  },
  {
   "cell_type": "code",
   "execution_count": 44,
   "metadata": {},
   "outputs": [
    {
     "name": "stdout",
     "output_type": "stream",
     "text": [
      "Loop size: 2232839\n",
      "Encryption key: 11328376\n"
     ]
    }
   ],
   "source": [
    "from functools import lru_cache\n",
    "\n",
    "@lru_cache(maxsize=10**7)\n",
    "def recursive_transform(subject_number, loop_size):\n",
    "    if loop_size == 1:\n",
    "        return subject_number\n",
    "    else:\n",
    "        return (recursive_transform(subject_number, loop_size-1) * subject_number) % 20201227\n",
    "    \n",
    "def compute_loop_size(public_key):\n",
    "    loop_size = 0\n",
    "    val = None\n",
    "    while val != public_key:  # this just increments the loop size by 1 and tries again\n",
    "        loop_size += 1\n",
    "        val = recursive_transform(7, loop_size)\n",
    "    return loop_size\n",
    "\n",
    "pk1 = 10705932\n",
    "pk2 = 12301431\n",
    "loop_size1 = compute_loop_size(10705932)\n",
    "print('Loop size: %d' % loop_size1)\n",
    "encryption_key = transform(pk2, loop_size1)\n",
    "print('Encryption key: %d' % encryption_key)"
   ]
  }
 ],
 "metadata": {
  "kernelspec": {
   "display_name": "Python 3",
   "language": "python",
   "name": "python3"
  },
  "language_info": {
   "codemirror_mode": {
    "name": "ipython",
    "version": 3
   },
   "file_extension": ".py",
   "mimetype": "text/x-python",
   "name": "python",
   "nbconvert_exporter": "python",
   "pygments_lexer": "ipython3",
   "version": "3.6.7"
  }
 },
 "nbformat": 4,
 "nbformat_minor": 2
}
