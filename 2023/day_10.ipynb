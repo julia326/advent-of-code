{
 "cells": [
  {
   "cell_type": "code",
   "execution_count": 34,
   "metadata": {},
   "outputs": [
    {
     "data": {
      "text/html": [
       "<div>\n",
       "<style scoped>\n",
       "    .dataframe tbody tr th:only-of-type {\n",
       "        vertical-align: middle;\n",
       "    }\n",
       "\n",
       "    .dataframe tbody tr th {\n",
       "        vertical-align: top;\n",
       "    }\n",
       "\n",
       "    .dataframe thead th {\n",
       "        text-align: right;\n",
       "    }\n",
       "</style>\n",
       "<table border=\"1\" class=\"dataframe\">\n",
       "  <thead>\n",
       "    <tr style=\"text-align: right;\">\n",
       "      <th></th>\n",
       "      <th>0</th>\n",
       "      <th>1</th>\n",
       "      <th>2</th>\n",
       "      <th>3</th>\n",
       "      <th>4</th>\n",
       "    </tr>\n",
       "  </thead>\n",
       "  <tbody>\n",
       "    <tr>\n",
       "      <th>0</th>\n",
       "      <td>.</td>\n",
       "      <td>.</td>\n",
       "      <td>.</td>\n",
       "      <td>.</td>\n",
       "      <td>.</td>\n",
       "    </tr>\n",
       "    <tr>\n",
       "      <th>1</th>\n",
       "      <td>.</td>\n",
       "      <td>S</td>\n",
       "      <td>-</td>\n",
       "      <td>7</td>\n",
       "      <td>.</td>\n",
       "    </tr>\n",
       "    <tr>\n",
       "      <th>2</th>\n",
       "      <td>.</td>\n",
       "      <td>|</td>\n",
       "      <td>.</td>\n",
       "      <td>|</td>\n",
       "      <td>.</td>\n",
       "    </tr>\n",
       "    <tr>\n",
       "      <th>3</th>\n",
       "      <td>.</td>\n",
       "      <td>L</td>\n",
       "      <td>-</td>\n",
       "      <td>J</td>\n",
       "      <td>.</td>\n",
       "    </tr>\n",
       "    <tr>\n",
       "      <th>4</th>\n",
       "      <td>.</td>\n",
       "      <td>.</td>\n",
       "      <td>.</td>\n",
       "      <td>.</td>\n",
       "      <td>.</td>\n",
       "    </tr>\n",
       "  </tbody>\n",
       "</table>\n",
       "</div>"
      ],
      "text/plain": [
       "   0  1  2  3  4\n",
       "0  .  .  .  .  .\n",
       "1  .  S  -  7  .\n",
       "2  .  |  .  |  .\n",
       "3  .  L  -  J  .\n",
       "4  .  .  .  .  ."
      ]
     },
     "execution_count": 34,
     "metadata": {},
     "output_type": "execute_result"
    }
   ],
   "source": [
    "example_square = \"\"\".....\n",
    ".S-7.\n",
    ".|.|.\n",
    ".L-J.\n",
    ".....\"\"\"\n",
    "\n",
    "import pandas as pd\n",
    "\n",
    "def convert_input_to_df(input_str):\n",
    "    return pd.DataFrame([list(x) for x in input_str.split('\\n')])\n",
    "\n",
    "example_square_df = convert_input_to_df(example_square)\n",
    "example_square_df"
   ]
  },
  {
   "cell_type": "code",
   "execution_count": 35,
   "metadata": {},
   "outputs": [],
   "source": [
    "example_complex_small_square = \"\"\"-L|F7\n",
    "7S-7|\n",
    "L|7||\n",
    "-L-J|\n",
    "L|-JF\"\"\"\n",
    "\n",
    "example_complex_small_square_df = convert_input_to_df(example_complex_small_square)"
   ]
  },
  {
   "cell_type": "code",
   "execution_count": 37,
   "metadata": {},
   "outputs": [],
   "source": [
    "example_more_complex = \"\"\"..F7.\n",
    ".FJ|.\n",
    "SJ.L7\n",
    "|F--J\n",
    "LJ...\"\"\"\n",
    "\n",
    "example_more_complex_df = convert_input_to_df(example_more_complex)"
   ]
  },
  {
   "cell_type": "code",
   "execution_count": 48,
   "metadata": {},
   "outputs": [],
   "source": [
    "example_even_more_complex = \"\"\"7-F7-\n",
    ".FJ|7\n",
    "SJLL7\n",
    "|F--J\n",
    "LJ.LJ\"\"\"\n",
    "\n",
    "example_even_more_complex_df = convert_input_to_df(example_even_more_complex)"
   ]
  },
  {
   "cell_type": "code",
   "execution_count": 38,
   "metadata": {},
   "outputs": [
    {
     "data": {
      "text/plain": [
       "(1, 1)"
      ]
     },
     "execution_count": 38,
     "metadata": {},
     "output_type": "execute_result"
    }
   ],
   "source": [
    "# Construct an adjacency graph; each node knows its position, and knows which 2 nodes it's connected to.\n",
    "# Start with S and traverse all possible paths from it.\n",
    "\"\"\"\n",
    "1. Determine which 2 pipes S connects to, depending on the 4 adjacent positions.\n",
    "2. Pick one of those pipes and do a DFS on resulting paths, until finding S again\n",
    "\"\"\"\n",
    "\n",
    "def find_start(df):\n",
    "    for i in range(df.shape[0]):\n",
    "        for j in range(df.shape[1]):\n",
    "            if df.iloc[i, j] == 'S':\n",
    "                return (i, j)\n",
    "            \n",
    "find_start(df)"
   ]
  },
  {
   "cell_type": "code",
   "execution_count": 25,
   "metadata": {},
   "outputs": [
    {
     "data": {
      "text/plain": [
       "[(2, 3), (3, 2)]"
      ]
     },
     "execution_count": 25,
     "metadata": {},
     "output_type": "execute_result"
    }
   ],
   "source": [
    "def is_in_range(df, pos):\n",
    "    return pos[0] < df.shape[0] and pos[1] < df.shape[1]\n",
    "\n",
    "def top(pos):\n",
    "    return (pos[0]-1, pos[1])\n",
    "\n",
    "def bottom(pos):\n",
    "    return (pos[0]+1, pos[1])\n",
    "\n",
    "def left(pos):\n",
    "    return (pos[0], pos[1]-1)\n",
    "\n",
    "def right(pos):\n",
    "    return (pos[0], pos[1]+1)\n",
    "\n",
    "# for given position, find its 2 neighboring nodes\n",
    "def find_neighbors(df, pos):\n",
    "    pipe_at_pos = df.iloc[pos[0], pos[1]]\n",
    "    out = []\n",
    "    if pipe_at_pos == '-':  # left and right\n",
    "        out = [left(pos), right(pos)]\n",
    "            \n",
    "    elif pipe_at_pos == '7':  # left and bottom\n",
    "        out = [left(pos), bottom(pos)]\n",
    "    \n",
    "    elif pipe_at_pos == '|':  # top and bottom\n",
    "        out = [top(pos), bottom(pos)]\n",
    "        \n",
    "    elif pipe_at_pos == 'J':  # top and left\n",
    "        out = [top(pos), left(pos)]\n",
    "        \n",
    "    elif pipe_at_pos == 'L':  # top and right\n",
    "        out = [top(pos), right(pos)]\n",
    "        \n",
    "    elif pipe_at_pos == 'F':  # bottom and right\n",
    "        out = [bottom(pos), right(pos)]\n",
    "        \n",
    "    else:\n",
    "        return out\n",
    "        \n",
    "    return [node for node in out if is_in_range(df, node)]\n",
    "    \n",
    "find_neighbors(df, [3, 3])"
   ]
  },
  {
   "cell_type": "code",
   "execution_count": 32,
   "metadata": {},
   "outputs": [
    {
     "name": "stdout",
     "output_type": "stream",
     "text": [
      "(1, 2): -\n",
      "(1, 3): 7\n",
      "(2, 3): |\n",
      "(3, 3): J\n",
      "(3, 2): -\n",
      "(3, 1): L\n",
      "(2, 1): |\n"
     ]
    }
   ],
   "source": [
    "def dfs(visited, df, pos):\n",
    "    if pos not in visited:\n",
    "        print('(%d, %d): %s' % (pos[0], pos[1], df.iloc[pos[0], pos[1]]))\n",
    "        visited.add(pos)\n",
    "        neighbors = find_neighbors(df, pos)\n",
    "        for node in neighbors:\n",
    "            if node == 'S':\n",
    "                print('found S again!!')\n",
    "                print(visited)\n",
    "            else:\n",
    "                dfs(visited, df, node)\n",
    "\n",
    "visited = set()  # keep track of visited nodes\n",
    "visited.add((1,1))  # starting position\n",
    "dfs(visited, df, (1, 2))"
   ]
  },
  {
   "cell_type": "code",
   "execution_count": 36,
   "metadata": {},
   "outputs": [
    {
     "name": "stdout",
     "output_type": "stream",
     "text": [
      "(1, 2): -\n",
      "(1, 3): 7\n",
      "(2, 3): |\n",
      "(3, 3): J\n",
      "(3, 2): -\n",
      "(3, 1): L\n",
      "(2, 1): |\n"
     ]
    }
   ],
   "source": [
    "visited = set()  # keep track of visited nodes\n",
    "visited.add((1,1))  # starting position\n",
    "dfs(visited, example_complex_small_square_df, (1, 2))"
   ]
  },
  {
   "cell_type": "code",
   "execution_count": 39,
   "metadata": {},
   "outputs": [
    {
     "name": "stdout",
     "output_type": "stream",
     "text": [
      "(3, 0): |\n",
      "(4, 0): L\n",
      "(4, 1): J\n",
      "(3, 1): F\n",
      "(3, 2): -\n",
      "(3, 3): -\n",
      "(3, 4): J\n",
      "(2, 4): 7\n",
      "(2, 3): L\n",
      "(1, 3): |\n",
      "(0, 3): 7\n",
      "(0, 2): F\n",
      "(1, 2): J\n",
      "(1, 1): F\n",
      "(2, 1): J\n"
     ]
    }
   ],
   "source": [
    "visited = set()  # keep track of visited nodes\n",
    "\n",
    "visited.add((2,0))  # starting position\n",
    "dfs(visited, example_more_complex_df, (3,0))"
   ]
  },
  {
   "cell_type": "code",
   "execution_count": 81,
   "metadata": {},
   "outputs": [
    {
     "data": {
      "text/plain": [
       "18"
      ]
     },
     "execution_count": 81,
     "metadata": {},
     "output_type": "execute_result"
    }
   ],
   "source": [
    "def dfs(visited, df, pos):\n",
    "    if pos not in visited:\n",
    "        visited.add(pos)\n",
    "        neighbors = find_neighbors(df, pos)\n",
    "        for node in neighbors:\n",
    "            if node != 'S':\n",
    "                dfs(visited, df, node)\n",
    "                \n",
    "visited = set((2,0))  # keep track of visited nodes; include starting position\n",
    "dfs(visited, example_even_more_complex_df, (3,0))\n",
    "\n",
    "len(visited)"
   ]
  },
  {
   "cell_type": "code",
   "execution_count": 72,
   "metadata": {},
   "outputs": [
    {
     "data": {
      "text/plain": [
       "(95, 74)"
      ]
     },
     "execution_count": 72,
     "metadata": {},
     "output_type": "execute_result"
    }
   ],
   "source": [
    "# real input\n",
    "a = open('day_10.txt').read()[:-1]\n",
    "real_df = convert_input_to_df(a)\n",
    "real_df.shape\n",
    "\n",
    "s_pos = find_start(real_df)\n",
    "s_pos"
   ]
  },
  {
   "cell_type": "code",
   "execution_count": 73,
   "metadata": {},
   "outputs": [],
   "source": [
    "visited = set()  # keep track of visited nodes\n",
    "visited.add((95, 74))  # starting position\n",
    "\n",
    "import sys\n",
    "\n",
    "sys.setrecursionlimit(30000)  # there are ~20k nodes\n",
    "dfs(visited, real_df, (94,74))"
   ]
  },
  {
   "cell_type": "code",
   "execution_count": 76,
   "metadata": {},
   "outputs": [
    {
     "data": {
      "text/plain": [
       "6725"
      ]
     },
     "execution_count": 76,
     "metadata": {},
     "output_type": "execute_result"
    }
   ],
   "source": [
    "int(len(visited)/2)"
   ]
  }
 ],
 "metadata": {
  "kernelspec": {
   "display_name": "Python 3",
   "language": "python",
   "name": "python3"
  },
  "language_info": {
   "codemirror_mode": {
    "name": "ipython",
    "version": 3
   },
   "file_extension": ".py",
   "mimetype": "text/x-python",
   "name": "python",
   "nbconvert_exporter": "python",
   "pygments_lexer": "ipython3",
   "version": "3.6.7"
  }
 },
 "nbformat": 4,
 "nbformat_minor": 2
}
