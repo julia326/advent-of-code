{
 "cells": [
  {
   "cell_type": "markdown",
   "metadata": {},
   "source": [
    "# Part 1"
   ]
  },
  {
   "cell_type": "code",
   "execution_count": 22,
   "metadata": {},
   "outputs": [],
   "source": [
    "import numpy as np"
   ]
  },
  {
   "cell_type": "code",
   "execution_count": 29,
   "metadata": {},
   "outputs": [],
   "source": [
    "example_races = [\n",
    "    [7, 9],\n",
    "    [15, 40],\n",
    "    [30, 200],\n",
    "]"
   ]
  },
  {
   "cell_type": "code",
   "execution_count": 24,
   "metadata": {
    "scrolled": true
   },
   "outputs": [
    {
     "data": {
      "text/plain": [
       "288"
      ]
     },
     "execution_count": 24,
     "metadata": {},
     "output_type": "execute_result"
    }
   ],
   "source": [
    "\"\"\"\n",
    "the formulas here: given that I have 7 seconds, the distance traveled as a function of k (where k number of\n",
    "seconds that the button is held down) is:\n",
    "\n",
    "k: number of seconds the button is held down\n",
    "7 - k: number of seconds that the boat has to move\n",
    "k: speed\n",
    "\n",
    "so the distance is: k*(7-k)\n",
    "\"\"\"\n",
    "\n",
    "def distance_fn(k, time):\n",
    "    return k * (time - k)\n",
    "\n",
    "def get_win_count(time, distance):\n",
    "    win_count = 0\n",
    "    for k in range(time+1):\n",
    "        distance_for_k = distance_fn(k, time)\n",
    "        if distance_for_k > distance:\n",
    "            win_count += 1\n",
    "\n",
    "    return win_count\n",
    "\n",
    "np.prod([get_win_count(time, distance) for (time, distance) in example_races])"
   ]
  },
  {
   "cell_type": "code",
   "execution_count": 25,
   "metadata": {},
   "outputs": [
    {
     "data": {
      "text/plain": [
       "449550"
      ]
     },
     "execution_count": 25,
     "metadata": {},
     "output_type": "execute_result"
    }
   ],
   "source": [
    "\"\"\"\n",
    "Real input:\n",
    "Time:        46     82     84     79\n",
    "Distance:   347   1522   1406   1471\n",
    "\"\"\"\n",
    "\n",
    "real_races = [\n",
    "    [46, 347],\n",
    "    [82, 1522],\n",
    "    [84, 1406],\n",
    "    [79, 1471]\n",
    "]\n",
    "np.prod([get_win_count(time, distance) for (time, distance) in real_races])"
   ]
  },
  {
   "cell_type": "markdown",
   "metadata": {},
   "source": [
    "# Part 2"
   ]
  },
  {
   "cell_type": "code",
   "execution_count": 26,
   "metadata": {},
   "outputs": [
    {
     "data": {
      "text/plain": [
       "71503"
      ]
     },
     "execution_count": 26,
     "metadata": {},
     "output_type": "execute_result"
    }
   ],
   "source": [
    "# example\n",
    "time = 71530\n",
    "distance = 940200\n",
    "get_win_count(time, distance)"
   ]
  },
  {
   "cell_type": "code",
   "execution_count": 27,
   "metadata": {},
   "outputs": [
    {
     "data": {
      "text/plain": [
       "28360140"
      ]
     },
     "execution_count": 27,
     "metadata": {},
     "output_type": "execute_result"
    }
   ],
   "source": [
    "# real\n",
    "time = 46828479\n",
    "distance = 347152214061471\n",
    "get_win_count(time, distance)"
   ]
  }
 ],
 "metadata": {
  "kernelspec": {
   "display_name": "Python 3",
   "language": "python",
   "name": "python3"
  },
  "language_info": {
   "codemirror_mode": {
    "name": "ipython",
    "version": 3
   },
   "file_extension": ".py",
   "mimetype": "text/x-python",
   "name": "python",
   "nbconvert_exporter": "python",
   "pygments_lexer": "ipython3",
   "version": "3.6.7"
  }
 },
 "nbformat": 4,
 "nbformat_minor": 2
}
