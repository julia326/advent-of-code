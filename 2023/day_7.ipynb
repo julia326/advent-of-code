{
 "cells": [
  {
   "cell_type": "code",
   "execution_count": 1,
   "metadata": {},
   "outputs": [
    {
     "data": {
      "text/plain": [
       "['32T3K 765', 'T55J5 684', 'KK677 28', 'KTJJT 220', 'QQQJA 483']"
      ]
     },
     "execution_count": 1,
     "metadata": {},
     "output_type": "execute_result"
    }
   ],
   "source": [
    "example = \"\"\"32T3K 765\n",
    "T55J5 684\n",
    "KK677 28\n",
    "KTJJT 220\n",
    "QQQJA 483\"\"\"\n",
    "\n",
    "example.split('\\n')"
   ]
  },
  {
   "cell_type": "markdown",
   "metadata": {},
   "source": [
    "# Part 1"
   ]
  },
  {
   "cell_type": "code",
   "execution_count": 2,
   "metadata": {},
   "outputs": [],
   "source": [
    "from collections import Counter\n",
    "from enum import Enum\n",
    "import functools"
   ]
  },
  {
   "cell_type": "code",
   "execution_count": 3,
   "metadata": {},
   "outputs": [
    {
     "name": "stdout",
     "output_type": "stream",
     "text": [
      "32T3K: Hand.ONE_PAIR\n",
      "T55J5: Hand.THREE_OF_A_KIND\n",
      "KK677: Hand.TWO_PAIR\n",
      "KTJJT: Hand.TWO_PAIR\n",
      "QQQJA: Hand.THREE_OF_A_KIND\n"
     ]
    }
   ],
   "source": [
    "CARD_ORDER = ['A', 'K', 'Q', 'J', 'T', '9', '8', '7', '6', '5', '4', '3', '2']\n",
    "\n",
    "class Hand(Enum):\n",
    "    FIVE_OF_A_KIND = 1\n",
    "    FOUR_OF_A_KIND = 2\n",
    "    FULL_HOUSE = 3\n",
    "    THREE_OF_A_KIND = 4\n",
    "    TWO_PAIR = 5\n",
    "    ONE_PAIR = 6\n",
    "    HIGH_CARD = 7\n",
    "\n",
    "def classify_hand(hand):\n",
    "    hand_counts_values = sorted(Counter(hand).values())\n",
    "    # check is 5 of a kind\n",
    "    if hand_counts_values == [5]:\n",
    "        return Hand.FIVE_OF_A_KIND\n",
    "    elif hand_counts_values == [1,4]:\n",
    "        return Hand.FOUR_OF_A_KIND\n",
    "    elif hand_counts_values == [2,3]:\n",
    "        return Hand.FULL_HOUSE\n",
    "    elif hand_counts_values == [1,1,3]:\n",
    "        return Hand.THREE_OF_A_KIND\n",
    "    elif hand_counts_values == [1,2,2]:\n",
    "        return Hand.TWO_PAIR\n",
    "    elif hand_counts_values == [1,1,1,2]:\n",
    "        return Hand.ONE_PAIR\n",
    "    else:\n",
    "        return Hand.HIGH_CARD\n",
    "    \n",
    "# Returns 1 if hand1 is stronger than hand2, -1 otherwise\n",
    "def compare_hands(hand1, hand2):\n",
    "    hand1_class = classify_hand(hand1)\n",
    "    hand2_class = classify_hand(hand2)\n",
    "    if hand1_class == hand2_class:\n",
    "        # go card by card\n",
    "        for (card1, card2) in zip(hand1, hand2):\n",
    "            if card1 == card2:\n",
    "                continue\n",
    "            return 1 if CARD_ORDER.index(card1) < CARD_ORDER.index(card2) else -1\n",
    "    return 1 if hand1_class.value < hand2_class.value else -1\n",
    "\n",
    "hands = [x.split(' ')[0] for x in example.split('\\n')]\n",
    "for hand in hands:\n",
    "    print('%s: %s' % (hand, classify_hand(hand)))"
   ]
  },
  {
   "cell_type": "code",
   "execution_count": 4,
   "metadata": {},
   "outputs": [
    {
     "data": {
      "text/plain": [
       "-1"
      ]
     },
     "execution_count": 4,
     "metadata": {},
     "output_type": "execute_result"
    }
   ],
   "source": [
    "compare_hands('KTJJT', 'KK677')"
   ]
  },
  {
   "cell_type": "code",
   "execution_count": 5,
   "metadata": {},
   "outputs": [
    {
     "data": {
      "text/plain": [
       "6440"
      ]
     },
     "execution_count": 5,
     "metadata": {},
     "output_type": "execute_result"
    }
   ],
   "source": [
    "def compute_winnings(hands):\n",
    "    hand_to_bid = {hand: int(bid) for hand, bid in [line.split(' ') for line in hands]}\n",
    "    sorted_hands = sorted(hand_to_bid.keys(), key=functools.cmp_to_key(compare_hands))\n",
    "    return sum((i+1) * hand_to_bid[hand] for i, hand in enumerate(sorted_hands))\n",
    "\n",
    "compute_winnings(example.split('\\n'))"
   ]
  },
  {
   "cell_type": "code",
   "execution_count": 6,
   "metadata": {},
   "outputs": [
    {
     "data": {
      "text/plain": [
       "250058342"
      ]
     },
     "execution_count": 6,
     "metadata": {},
     "output_type": "execute_result"
    }
   ],
   "source": [
    "real_input = open('day_7.txt').read().split('\\n')[:-1]\n",
    "compute_winnings(real_input)"
   ]
  },
  {
   "cell_type": "markdown",
   "metadata": {},
   "source": [
    "# Part 2"
   ]
  },
  {
   "cell_type": "code",
   "execution_count": 7,
   "metadata": {},
   "outputs": [
    {
     "name": "stdout",
     "output_type": "stream",
     "text": [
      "32T3K: Hand.ONE_PAIR\n",
      "T55J5: Hand.FOUR_OF_A_KIND\n",
      "KK677: Hand.TWO_PAIR\n",
      "KTJJT: Hand.FOUR_OF_A_KIND\n",
      "QQQJA: Hand.FOUR_OF_A_KIND\n"
     ]
    }
   ],
   "source": [
    "def classify_hand_with_jokers(hand):\n",
    "    if 'J' not in hand:\n",
    "        return classify_hand(hand)\n",
    "    \n",
    "    # figure out what the highest value would be if the jokers were anything\n",
    "    hand_counts = Counter(hand)\n",
    "    num_jokers = hand_counts.pop('J')\n",
    "    \n",
    "    # degenerate case\n",
    "    if num_jokers == 5:\n",
    "        return Hand.FIVE_OF_A_KIND\n",
    "    \n",
    "    hand_counts_values = sorted(hand_counts.values())\n",
    "    counts_plus_jokers = num_jokers + max(hand_counts_values)\n",
    "    \n",
    "    if counts_plus_jokers == 5:\n",
    "        return Hand.FIVE_OF_A_KIND\n",
    "    \n",
    "    elif counts_plus_jokers == 4:\n",
    "        return Hand.FOUR_OF_A_KIND\n",
    "    \n",
    "    elif num_jokers == 1 and hand_counts_values == [2,2]:\n",
    "        return Hand.FULL_HOUSE\n",
    "    \n",
    "    elif counts_plus_jokers == 3:\n",
    "        return Hand.THREE_OF_A_KIND\n",
    "    \n",
    "    elif counts_plus_jokers == 2:\n",
    "        return Hand.ONE_PAIR\n",
    "\n",
    "    else:\n",
    "        raise ValueError('should not happen')\n",
    "\n",
    "hands = [x.split(' ')[0] for x in example.split('\\n')]\n",
    "for hand in hands:\n",
    "    print('%s: %s' % (hand, classify_hand_with_jokers(hand)))"
   ]
  },
  {
   "cell_type": "code",
   "execution_count": 8,
   "metadata": {},
   "outputs": [],
   "source": [
    "JOKER_CARD_ORDER = ['A', 'K', 'Q', 'T', '9', '8', '7', '6', '5', '4', '3', '2', 'J']\n",
    "\n",
    "# Returns 1 if hand1 is stronger than hand2, -1 otherwise\n",
    "def compare_hands_with_jokers(hand1, hand2):\n",
    "    hand1_class = classify_hand_with_jokers(hand1)\n",
    "    hand2_class = classify_hand_with_jokers(hand2)\n",
    "    if hand1_class == hand2_class:\n",
    "        # go card by card\n",
    "        for (card1, card2) in zip(hand1, hand2):\n",
    "            if card1 == card2:\n",
    "                continue\n",
    "            return 1 if JOKER_CARD_ORDER.index(card1) < JOKER_CARD_ORDER.index(card2) else -1\n",
    "    return 1 if hand1_class.value < hand2_class.value else -1"
   ]
  },
  {
   "cell_type": "code",
   "execution_count": 9,
   "metadata": {},
   "outputs": [
    {
     "data": {
      "text/plain": [
       "5905"
      ]
     },
     "execution_count": 9,
     "metadata": {},
     "output_type": "execute_result"
    }
   ],
   "source": [
    "def compute_winnings_with_jokers(hands):\n",
    "    hand_to_bid = {hand: int(bid) for hand, bid in [line.split(' ') for line in hands]}\n",
    "    sorted_hands = sorted(hand_to_bid.keys(), key=functools.cmp_to_key(compare_hands_with_jokers))\n",
    "    return sum((i+1) * hand_to_bid[hand] for i, hand in enumerate(sorted_hands))\n",
    "\n",
    "compute_winnings_with_jokers(example.split('\\n'))"
   ]
  },
  {
   "cell_type": "code",
   "execution_count": 10,
   "metadata": {},
   "outputs": [
    {
     "data": {
      "text/plain": [
       "250506580"
      ]
     },
     "execution_count": 10,
     "metadata": {},
     "output_type": "execute_result"
    }
   ],
   "source": [
    "compute_winnings_with_jokers(real_input)"
   ]
  }
 ],
 "metadata": {
  "kernelspec": {
   "display_name": "Python 3",
   "language": "python",
   "name": "python3"
  },
  "language_info": {
   "codemirror_mode": {
    "name": "ipython",
    "version": 3
   },
   "file_extension": ".py",
   "mimetype": "text/x-python",
   "name": "python",
   "nbconvert_exporter": "python",
   "pygments_lexer": "ipython3",
   "version": "3.6.7"
  }
 },
 "nbformat": 4,
 "nbformat_minor": 2
}
