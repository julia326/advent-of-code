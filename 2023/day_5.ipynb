{
 "cells": [
  {
   "cell_type": "code",
   "execution_count": 49,
   "metadata": {},
   "outputs": [
    {
     "name": "stdout",
     "output_type": "stream",
     "text": [
      "81\n",
      "14\n",
      "57\n",
      "13\n"
     ]
    }
   ],
   "source": [
    "example = \"\"\"seeds: 79 14 55 13\n",
    "\n",
    "seed-to-soil map:\n",
    "50 98 2\n",
    "52 50 48\n",
    "\n",
    "soil-to-fertilizer map:\n",
    "0 15 37\n",
    "37 52 2\n",
    "39 0 15\n",
    "\n",
    "fertilizer-to-water map:\n",
    "49 53 8\n",
    "0 11 42\n",
    "42 0 7\n",
    "57 7 4\n",
    "\n",
    "water-to-light map:\n",
    "88 18 7\n",
    "18 25 70\n",
    "\n",
    "light-to-temperature map:\n",
    "45 77 23\n",
    "81 45 19\n",
    "68 64 13\n",
    "\n",
    "temperature-to-humidity map:\n",
    "0 69 1\n",
    "1 0 69\n",
    "\n",
    "humidity-to-location map:\n",
    "60 56 37\n",
    "56 93 4\"\"\"\n",
    "\n",
    "def make_map(lines):\n",
    "    seed_map = {}\n",
    "    for line in lines:\n",
    "        dest_start, source_start, range_len = map(int, line.split(' '))\n",
    "        for i in range(range_len):\n",
    "            seed_map[source_start+i] = dest_start+i\n",
    "    return seed_map\n",
    "    \n",
    "lines = [\"50 98 2\", \"52 50 48\"]\n",
    "seed_to_soil_map = make_map(lines)\n",
    "for seed_num in [79, 14, 55, 13]:\n",
    "    print(seed_to_soil_map.get(seed_num, seed_num))"
   ]
  },
  {
   "cell_type": "code",
   "execution_count": 17,
   "metadata": {},
   "outputs": [
    {
     "data": {
      "text/plain": [
       "['seeds: 79 14 55 13',\n",
       " '',\n",
       " 'seed-to-soil map:',\n",
       " '50 98 2',\n",
       " '52 50 48',\n",
       " '',\n",
       " 'soil-to-fertilizer map:',\n",
       " '0 15 37',\n",
       " '37 52 2',\n",
       " '39 0 15']"
      ]
     },
     "execution_count": 17,
     "metadata": {},
     "output_type": "execute_result"
    }
   ],
   "source": [
    "example.split('\\n')"
   ]
  },
  {
   "cell_type": "code",
   "execution_count": 19,
   "metadata": {},
   "outputs": [
    {
     "name": "stdout",
     "output_type": "stream",
     "text": [
      "seed-to-soil map:\n",
      "50 98 2\n",
      "52 50 48\n",
      "\n",
      "soil-to-fertilizer map:\n",
      "0 15 37\n",
      "37 52 2\n",
      "39 0 15\n"
     ]
    }
   ],
   "source": [
    "for line in example.split('\\n')[2:]:\n",
    "    print(line)"
   ]
  },
  {
   "cell_type": "code",
   "execution_count": 50,
   "metadata": {
    "scrolled": true
   },
   "outputs": [
    {
     "data": {
      "text/plain": [
       "35"
      ]
     },
     "execution_count": 50,
     "metadata": {},
     "output_type": "execute_result"
    }
   ],
   "source": [
    "sections = example.split('\\n\\n')\n",
    "seeds = map(int, sections[0].split(': ')[1].split(' '))\n",
    "maps = sections[1:]\n",
    "\n",
    "maps_list = []\n",
    "for single_map in maps:\n",
    "    maps_list.append(make_map(single_map.split('\\n')[1:]))\n",
    "    \n",
    "final_seed_nums = []\n",
    "for seed_num in seeds:\n",
    "    for seed_map in maps_list:\n",
    "        seed_num = seed_map.get(seed_num, seed_num)\n",
    "    final_seed_nums.append(seed_num)\n",
    "    \n",
    "min(final_seed_nums)"
   ]
  },
  {
   "cell_type": "code",
   "execution_count": 52,
   "metadata": {
    "scrolled": true
   },
   "outputs": [
    {
     "data": {
      "text/plain": [
       "{98: 50,\n",
       " 99: 51,\n",
       " 50: 52,\n",
       " 51: 53,\n",
       " 52: 54,\n",
       " 53: 55,\n",
       " 54: 56,\n",
       " 55: 57,\n",
       " 56: 58,\n",
       " 57: 59,\n",
       " 58: 60,\n",
       " 59: 61,\n",
       " 60: 62,\n",
       " 61: 63,\n",
       " 62: 64,\n",
       " 63: 65,\n",
       " 64: 66,\n",
       " 65: 67,\n",
       " 66: 68,\n",
       " 67: 69,\n",
       " 68: 70,\n",
       " 69: 71,\n",
       " 70: 72,\n",
       " 71: 73,\n",
       " 72: 74,\n",
       " 73: 75,\n",
       " 74: 76,\n",
       " 75: 77,\n",
       " 76: 78,\n",
       " 77: 79,\n",
       " 78: 80,\n",
       " 79: 81,\n",
       " 80: 82,\n",
       " 81: 83,\n",
       " 82: 84,\n",
       " 83: 85,\n",
       " 84: 86,\n",
       " 85: 87,\n",
       " 86: 88,\n",
       " 87: 89,\n",
       " 88: 90,\n",
       " 89: 91,\n",
       " 90: 92,\n",
       " 91: 93,\n",
       " 92: 94,\n",
       " 93: 95,\n",
       " 94: 96,\n",
       " 95: 97,\n",
       " 96: 98,\n",
       " 97: 99}"
      ]
     },
     "execution_count": 52,
     "metadata": {},
     "output_type": "execute_result"
    }
   ],
   "source": [
    "maps_list[0]  # from \"50 98 2\" and \"52 50 48\"\n",
    "\n",
    "\"\"\"\n",
    "98: 50\n",
    "99: 51\n",
    "\n",
    "For the first bit, the logic is:\n",
    "If k is within [98, 98+2-1] inclusive, we map it. And what we map it to is k-98+50\n",
    "\"\"\""
   ]
  },
  {
   "cell_type": "code",
   "execution_count": 61,
   "metadata": {},
   "outputs": [
    {
     "data": {
      "text/plain": [
       "13"
      ]
     },
     "execution_count": 61,
     "metadata": {},
     "output_type": "execute_result"
    }
   ],
   "source": [
    "def map_num(num, line):\n",
    "    dest_start, source_start, range_len = map(int, line.split(' '))\n",
    "    if num >= source_start and num < source_start + range_len:\n",
    "        return num - source_start + dest_start\n",
    "    return num\n",
    "    \n",
    "map_num(13, \"52 50 48\")"
   ]
  },
  {
   "cell_type": "code",
   "execution_count": 67,
   "metadata": {},
   "outputs": [
    {
     "name": "stdout",
     "output_type": "stream",
     "text": [
      "[79, 14, 55, 13]\n",
      "[['50 98 2', '52 50 48'], ['0 15 37', '37 52 2', '39 0 15'], ['49 53 8', '0 11 42', '42 0 7', '57 7 4'], ['88 18 7', '18 25 70'], ['45 77 23', '81 45 19', '68 64 13'], ['0 69 1', '1 0 69'], ['60 56 37', '56 93 4']]\n"
     ]
    }
   ],
   "source": [
    "sections = example.split('\\n\\n')\n",
    "seeds = [int(x) for x in sections[0].split(': ')[1].split(' ')]\n",
    "maps = sections[1:]\n",
    "\n",
    "maps_list = []\n",
    "for single_map in maps:\n",
    "    maps_list.append(single_map.split('\\n')[1:])\n",
    "    \n",
    "print(seeds)\n",
    "print(maps_list)\n",
    "    \n",
    "# final_seed_nums = []\n",
    "# for seed_num in seeds:\n",
    "#     for seed_map in maps_list:\n",
    "#         seed_num = seed_map.get(seed_num, seed_num)\n",
    "#     final_seed_nums.append(seed_num)"
   ]
  },
  {
   "cell_type": "code",
   "execution_count": 76,
   "metadata": {},
   "outputs": [
    {
     "data": {
      "text/plain": [
       "35"
      ]
     },
     "execution_count": 76,
     "metadata": {},
     "output_type": "execute_result"
    }
   ],
   "source": [
    "final_seeds = []\n",
    "for seed in seeds:\n",
    "#     print('Initial seed: %d' % seed)\n",
    "    for seed_map in maps_list:\n",
    "        for line in seed_map:\n",
    "            prior_seed = seed    \n",
    "            seed = map_num(seed, line)\n",
    "            if seed != prior_seed:\n",
    "                break\n",
    "#         print('Next seed: %d' % seed)\n",
    "\n",
    "#     print('Final seed: %d' % seed)\n",
    "    final_seeds.append(seed)\n",
    "    \n",
    "min(final_seeds)"
   ]
  },
  {
   "cell_type": "code",
   "execution_count": 79,
   "metadata": {},
   "outputs": [
    {
     "data": {
      "text/plain": [
       "322500873"
      ]
     },
     "execution_count": 79,
     "metadata": {},
     "output_type": "execute_result"
    }
   ],
   "source": [
    "real_input = open('day_5.txt').read()[:-1]  # remove last newline\n",
    "\n",
    "sections = real_input.split('\\n\\n')\n",
    "seeds = [int(x) for x in sections[0].split(': ')[1].split(' ')]\n",
    "maps = sections[1:]\n",
    "\n",
    "maps_list = []\n",
    "for single_map in maps:\n",
    "    maps_list.append(single_map.split('\\n')[1:])\n",
    "    \n",
    "final_seeds = []\n",
    "for seed in seeds:\n",
    "    for seed_map in maps_list:\n",
    "        for line in seed_map:\n",
    "            prior_seed = seed    \n",
    "            seed = map_num(seed, line)\n",
    "            if seed != prior_seed:\n",
    "                break\n",
    "\n",
    "    final_seeds.append(seed)\n",
    "    \n",
    "min(final_seeds)"
   ]
  },
  {
   "cell_type": "markdown",
   "metadata": {},
   "source": [
    "# Part 2"
   ]
  },
  {
   "cell_type": "code",
   "execution_count": 94,
   "metadata": {},
   "outputs": [
    {
     "name": "stdout",
     "output_type": "stream",
     "text": [
      "46\n"
     ]
    }
   ],
   "source": [
    "sections = example.split('\\n\\n')\n",
    "\n",
    "seeds = [int(x) for x in sections[0].split(': ')[1].split(' ')]\n",
    "maps = sections[1:]\n",
    "maps_list = []\n",
    "for single_map in maps:\n",
    "    maps_list.append(single_map.split('\\n')[1:])\n",
    "\n",
    "a = iter(seeds)\n",
    "pairs = list(zip(a, a))\n",
    "\n",
    "min_final_seed = 1e20\n",
    "for pair in pairs:\n",
    "    for seed in range(pair[0], pair[0] + pair[1]):\n",
    "        for seed_map in maps_list:\n",
    "            for line in seed_map:\n",
    "                prior_seed = seed    \n",
    "                seed = map_num(seed, line)\n",
    "                if seed != prior_seed:\n",
    "                    break\n",
    "        min_final_seed = min(min_final_seed, seed)\n",
    "        \n",
    "print(min_final_seed)"
   ]
  },
  {
   "cell_type": "code",
   "execution_count": 111,
   "metadata": {},
   "outputs": [],
   "source": [
    "NUM_LINE_MAP = {}\n",
    "\n",
    "def map_num_memo(num, line):\n",
    "    if (num, line) in NUM_LINE_MAP:\n",
    "        return NUM_LINE_MAP[(num, line)]\n",
    "    dest_start, source_start, range_len = map(int, line.split(' '))\n",
    "    if num >= source_start and num < source_start + range_len:\n",
    "        ans = num - source_start + dest_start\n",
    "        NUM_LINE_MAP[(num, line)] = ans\n",
    "        return ans\n",
    "    \n",
    "    NUM_LINE_MAP[(num, line)] = num\n",
    "    return num"
   ]
  },
  {
   "cell_type": "code",
   "execution_count": 110,
   "metadata": {},
   "outputs": [
    {
     "name": "stdout",
     "output_type": "stream",
     "text": [
      "46\n"
     ]
    }
   ],
   "source": [
    "sections = example.split('\\n\\n')\n",
    "\n",
    "seeds = [int(x) for x in sections[0].split(': ')[1].split(' ')]\n",
    "maps = sections[1:]\n",
    "maps_list = []\n",
    "for single_map in maps:\n",
    "    maps_list.append(single_map.split('\\n')[1:])\n",
    "\n",
    "a = iter(seeds)\n",
    "pairs = list(zip(a, a))\n",
    "\n",
    "min_final_seed = 1e20\n",
    "for pair in pairs:\n",
    "    for seed in range(pair[0], pair[0] + pair[1]):\n",
    "        for seed_map in maps_list:\n",
    "            for line in seed_map:\n",
    "                prior_seed = seed    \n",
    "                seed = map_num_memo(seed, line)\n",
    "                if seed != prior_seed:\n",
    "                    break\n",
    "        min_final_seed = min(min_final_seed, seed)\n",
    "        \n",
    "print(min_final_seed)"
   ]
  },
  {
   "cell_type": "code",
   "execution_count": 113,
   "metadata": {},
   "outputs": [
    {
     "name": "stdout",
     "output_type": "stream",
     "text": [
      "(1367444651, 99920667)\n"
     ]
    },
    {
     "ename": "KeyboardInterrupt",
     "evalue": "",
     "output_type": "error",
     "traceback": [
      "\u001b[0;31m---------------------------------------------------------------------------\u001b[0m",
      "\u001b[0;31mKeyboardInterrupt\u001b[0m                         Traceback (most recent call last)",
      "\u001b[0;32m<ipython-input-113-b29856bd7787>\u001b[0m in \u001b[0;36m<module>\u001b[0;34m\u001b[0m\n\u001b[1;32m     17\u001b[0m             \u001b[0;32mfor\u001b[0m \u001b[0mline\u001b[0m \u001b[0;32min\u001b[0m \u001b[0mseed_map\u001b[0m\u001b[0;34m:\u001b[0m\u001b[0;34m\u001b[0m\u001b[0;34m\u001b[0m\u001b[0m\n\u001b[1;32m     18\u001b[0m                 \u001b[0mprior_seed\u001b[0m \u001b[0;34m=\u001b[0m \u001b[0mseed\u001b[0m\u001b[0;34m\u001b[0m\u001b[0;34m\u001b[0m\u001b[0m\n\u001b[0;32m---> 19\u001b[0;31m                 \u001b[0mseed\u001b[0m \u001b[0;34m=\u001b[0m \u001b[0mmap_num_memo\u001b[0m\u001b[0;34m(\u001b[0m\u001b[0mseed\u001b[0m\u001b[0;34m,\u001b[0m \u001b[0mline\u001b[0m\u001b[0;34m)\u001b[0m\u001b[0;34m\u001b[0m\u001b[0;34m\u001b[0m\u001b[0m\n\u001b[0m\u001b[1;32m     20\u001b[0m                 \u001b[0;32mif\u001b[0m \u001b[0mseed\u001b[0m \u001b[0;34m!=\u001b[0m \u001b[0mprior_seed\u001b[0m\u001b[0;34m:\u001b[0m\u001b[0;34m\u001b[0m\u001b[0;34m\u001b[0m\u001b[0m\n\u001b[1;32m     21\u001b[0m                     \u001b[0;32mbreak\u001b[0m\u001b[0;34m\u001b[0m\u001b[0;34m\u001b[0m\u001b[0m\n",
      "\u001b[0;32m<ipython-input-111-f18d2be39f33>\u001b[0m in \u001b[0;36mmap_num_memo\u001b[0;34m(num, line)\u001b[0m\n\u001b[1;32m      4\u001b[0m     \u001b[0;32mif\u001b[0m \u001b[0;34m(\u001b[0m\u001b[0mnum\u001b[0m\u001b[0;34m,\u001b[0m \u001b[0mline\u001b[0m\u001b[0;34m)\u001b[0m \u001b[0;32min\u001b[0m \u001b[0mNUM_LINE_MAP\u001b[0m\u001b[0;34m:\u001b[0m\u001b[0;34m\u001b[0m\u001b[0;34m\u001b[0m\u001b[0m\n\u001b[1;32m      5\u001b[0m         \u001b[0;32mreturn\u001b[0m \u001b[0mNUM_LINE_MAP\u001b[0m\u001b[0;34m[\u001b[0m\u001b[0;34m(\u001b[0m\u001b[0mnum\u001b[0m\u001b[0;34m,\u001b[0m \u001b[0mline\u001b[0m\u001b[0;34m)\u001b[0m\u001b[0;34m]\u001b[0m\u001b[0;34m\u001b[0m\u001b[0;34m\u001b[0m\u001b[0m\n\u001b[0;32m----> 6\u001b[0;31m     \u001b[0mdest_start\u001b[0m\u001b[0;34m,\u001b[0m \u001b[0msource_start\u001b[0m\u001b[0;34m,\u001b[0m \u001b[0mrange_len\u001b[0m \u001b[0;34m=\u001b[0m \u001b[0mmap\u001b[0m\u001b[0;34m(\u001b[0m\u001b[0mint\u001b[0m\u001b[0;34m,\u001b[0m \u001b[0mline\u001b[0m\u001b[0;34m.\u001b[0m\u001b[0msplit\u001b[0m\u001b[0;34m(\u001b[0m\u001b[0;34m' '\u001b[0m\u001b[0;34m)\u001b[0m\u001b[0;34m)\u001b[0m\u001b[0;34m\u001b[0m\u001b[0;34m\u001b[0m\u001b[0m\n\u001b[0m\u001b[1;32m      7\u001b[0m     \u001b[0;32mif\u001b[0m \u001b[0mnum\u001b[0m \u001b[0;34m>=\u001b[0m \u001b[0msource_start\u001b[0m \u001b[0;32mand\u001b[0m \u001b[0mnum\u001b[0m \u001b[0;34m<\u001b[0m \u001b[0msource_start\u001b[0m \u001b[0;34m+\u001b[0m \u001b[0mrange_len\u001b[0m\u001b[0;34m:\u001b[0m\u001b[0;34m\u001b[0m\u001b[0;34m\u001b[0m\u001b[0m\n\u001b[1;32m      8\u001b[0m         \u001b[0mans\u001b[0m \u001b[0;34m=\u001b[0m \u001b[0mnum\u001b[0m \u001b[0;34m-\u001b[0m \u001b[0msource_start\u001b[0m \u001b[0;34m+\u001b[0m \u001b[0mdest_start\u001b[0m\u001b[0;34m\u001b[0m\u001b[0;34m\u001b[0m\u001b[0m\n",
      "\u001b[0;31mKeyboardInterrupt\u001b[0m: "
     ]
    }
   ],
   "source": [
    "sections = real_input.split('\\n\\n')\n",
    "\n",
    "seeds = [int(x) for x in sections[0].split(': ')[1].split(' ')]\n",
    "maps = sections[1:]\n",
    "maps_list = []\n",
    "for single_map in maps:\n",
    "    maps_list.append(single_map.split('\\n')[1:])\n",
    "\n",
    "a = iter(seeds)\n",
    "pairs = list(zip(a, a))\n",
    "\n",
    "min_final_seed = 1e20\n",
    "for pair in pairs:\n",
    "    print(pair)\n",
    "    for seed in range(pair[0], pair[0] + pair[1]):\n",
    "        for seed_map in maps_list:\n",
    "            for line in seed_map:\n",
    "                prior_seed = seed    \n",
    "                seed = map_num_memo(seed, line)\n",
    "                if seed != prior_seed:\n",
    "                    break\n",
    "        min_final_seed = min(min_final_seed, seed)\n",
    "        \n",
    "print(min_final_seed)"
   ]
  },
  {
   "cell_type": "code",
   "execution_count": 106,
   "metadata": {
    "scrolled": true
   },
   "outputs": [
    {
     "name": "stdout",
     "output_type": "stream",
     "text": [
      "(1367444651, 99920667)\n",
      "Initial seed: 1367444651\n",
      "Final seed: 3744061387\n",
      "Initial seed: 1467365318\n",
      "Final seed: 3827263367\n",
      "(3319921504, 153335682)\n",
      "Initial seed: 3319921504\n",
      "Final seed: 796058796\n",
      "Initial seed: 3473257186\n",
      "Final seed: 3152798951\n",
      "(67832336, 139859832)\n",
      "Initial seed: 67832336\n",
      "Final seed: 1691810020\n",
      "Initial seed: 207692168\n",
      "Final seed: 2534522849\n",
      "(2322838536, 666063790)\n",
      "Initial seed: 2322838536\n",
      "Final seed: 2761422636\n",
      "Initial seed: 2988902326\n",
      "Final seed: 925815809\n",
      "(1591621692, 111959634)\n",
      "Initial seed: 1591621692\n",
      "Final seed: 1807732639\n",
      "Initial seed: 1703581326\n",
      "Final seed: 3355431962\n",
      "(442852010, 119609663)\n",
      "Initial seed: 442852010\n",
      "Final seed: 3052504695\n",
      "Initial seed: 562461673\n",
      "Final seed: 1744716140\n",
      "(733590868, 56288233)\n",
      "Initial seed: 733590868\n",
      "Final seed: 2627973033\n",
      "Initial seed: 789879101\n",
      "Final seed: 225784067\n",
      "(2035874278, 85269124)\n",
      "Initial seed: 2035874278\n",
      "Final seed: 629695516\n",
      "Initial seed: 2121143402\n",
      "Final seed: 3974153059\n",
      "(4145746192, 55841637)\n",
      "Initial seed: 4145746192\n",
      "Final seed: 2045643344\n",
      "Initial seed: 4201587829\n",
      "Final seed: 1073467400\n",
      "(864476811, 347179760)\n",
      "Initial seed: 864476811\n",
      "Final seed: 439018996\n",
      "Initial seed: 1211656571\n",
      "Final seed: 2866075639\n",
      "225784067\n"
     ]
    }
   ],
   "source": [
    "sections = real_input.split('\\n\\n')\n",
    "seeds = [int(x) for x in sections[0].split(': ')[1].split(' ')]\n",
    "maps = sections[1:]\n",
    "maps_list = []\n",
    "for single_map in maps:\n",
    "    maps_list.append(single_map.split('\\n')[1:])\n",
    "\n",
    "# seeds = [1367444651, 99920667]\n",
    "a = iter(seeds)\n",
    "pairs = list(zip(a, a))\n",
    "\n",
    "min_final_seed = 1e20\n",
    "for pair in pairs:\n",
    "    print(pair)\n",
    "    for seed in [pair[0], pair[0] + pair[1]]:\n",
    "        print('Initial seed: %d' % seed)\n",
    "        for seed_map in maps_list:\n",
    "            for line in seed_map:\n",
    "                prior_seed = seed    \n",
    "                seed = map_num(seed, line)\n",
    "                if seed != prior_seed:\n",
    "                    break\n",
    "        print('Final seed: %d' % seed)\n",
    "        min_final_seed = min(min_final_seed, seed)\n",
    "        \n",
    "print(min_final_seed)"
   ]
  },
  {
   "cell_type": "code",
   "execution_count": 115,
   "metadata": {
    "scrolled": true
   },
   "outputs": [
    {
     "name": "stdout",
     "output_type": "stream",
     "text": [
      "seeds: 79 14 55 13\n",
      "\n",
      "seed-to-soil map:\n",
      "50 98 2\n",
      "52 50 48\n",
      "\n",
      "soil-to-fertilizer map:\n",
      "0 15 37\n",
      "37 52 2\n",
      "39 0 15\n",
      "\n",
      "fertilizer-to-water map:\n",
      "49 53 8\n",
      "0 11 42\n",
      "42 0 7\n",
      "57 7 4\n",
      "\n",
      "water-to-light map:\n",
      "88 18 7\n",
      "18 25 70\n",
      "\n",
      "light-to-temperature map:\n",
      "45 77 23\n",
      "81 45 19\n",
      "68 64 13\n",
      "\n",
      "temperature-to-humidity map:\n",
      "0 69 1\n",
      "1 0 69\n",
      "\n",
      "humidity-to-location map:\n",
      "60 56 37\n",
      "56 93 4\n"
     ]
    }
   ],
   "source": [
    "print(example)"
   ]
  },
  {
   "cell_type": "code",
   "execution_count": 116,
   "metadata": {},
   "outputs": [
    {
     "data": {
      "text/plain": [
       "'\\n1st section: [98, 99] and [50, 97]: [50, 99]\\n  dests: [50, 51] and [52, 99]: [50, 99]\\n2nd section: [15, 51], [52, 53] and [0, 14]: [0, 53]\\n  dests: [0, 36], [37, 38] and [39, 53]: [0, 53]\\n3rd section: [53, 60], [11, 52], [0, 6] and [7, 10]: [0, 60]\\n  dests: [49, 56], [0, 41], [42, 48] and [57, 60]: [0, 60]\\n4th section: [18, 24] and [25, 94]: [18, 94]\\n  dests: [88, 94] and [18, 87]: [18, 94]\\n5th section: [77, 99], [45, 63] and [64, 76]: [45, 99]\\n  dests: [45, 67], [81, 99] and [68, 80]: [45, 99]\\n6th section: [69] and [0, 68]: [0, 69]\\n  dests: [1, 69] and [0]: [0, 69]\\n7th section: [56, 92] and [93, 96]: [56, 96]\\n  dests: [60, 96] and [56, 59]: [56, 96]\\n  \\nThe numeric spaces for all transformations are the same! Does this help me at all?\\n\\nOriginal seeds are: 79-92 and 55-67\\n\\n'"
      ]
     },
     "execution_count": 116,
     "metadata": {},
     "output_type": "execute_result"
    }
   ],
   "source": [
    "\"\"\"\n",
    "1st section: [98, 99] and [50, 97]: [50, 99]\n",
    "  dests: [50, 51] and [52, 99]: [50, 99]\n",
    "2nd section: [15, 51], [52, 53] and [0, 14]: [0, 53]\n",
    "  dests: [0, 36], [37, 38] and [39, 53]: [0, 53]\n",
    "3rd section: [53, 60], [11, 52], [0, 6] and [7, 10]: [0, 60]\n",
    "  dests: [49, 56], [0, 41], [42, 48] and [57, 60]: [0, 60]\n",
    "4th section: [18, 24] and [25, 94]: [18, 94]\n",
    "  dests: [88, 94] and [18, 87]: [18, 94]\n",
    "5th section: [77, 99], [45, 63] and [64, 76]: [45, 99]\n",
    "  dests: [45, 67], [81, 99] and [68, 80]: [45, 99]\n",
    "6th section: [69] and [0, 68]: [0, 69]\n",
    "  dests: [1, 69] and [0]: [0, 69]\n",
    "7th section: [56, 92] and [93, 96]: [56, 96]\n",
    "  dests: [60, 96] and [56, 59]: [56, 96]\n",
    "  \n",
    "The numeric spaces for all transformations are the same! Does this help me at all?\n",
    "\n",
    "Original seeds are: 79-92 and 55-67\n",
    "Transform spaces: 50-99, 0-53, 0-60, 18-94, 45-99, 0-69, 56-96\n",
    "\n",
    "           seed 82\n",
    "50-99           84\n",
    "0-53            84\n",
    "0-60            84\n",
    "18-94           77\n",
    "45-99           45\n",
    "0-69            46\n",
    "56-96           46\n",
    "\"\"\""
   ]
  },
  {
   "cell_type": "code",
   "execution_count": 123,
   "metadata": {},
   "outputs": [
    {
     "data": {
      "text/plain": [
       "\"\\nWork through a single seed range on a single map and see what happens. What if one or both edges of the map\\nare within the seed range?\\n\\nseed-to-soil map:\\n50 98 2\\n52 50 48\\n\\nThe map edges are (50, 99). The seed range is 79-92.\\n79 -> 81\\n92 -> 94\\n\\nNext map, 0-53: seed range remains 79-92\\nNext map, 0-60: seed range remains 79-92\\nNext map, 18-94: seed range entirely in the map, so things get interesting here. It's this map:\\n\\nwater-to-light map:\\n88 18 7\\n18 25 70\\nFor input numbers between 18 and 24, you add 70. For numbers between 25 and 94, you subtract 7.\\n79 becomes 72, 92 becomes 85. So 79-92 goes to 92-85.\\n\\nNext map, 45-99: seed range entirely in the map.\\nlight-to-temperature map:\\n45 77 23\\n81 45 19\\n68 64 13\\n\\n45-63 range: add 36\\n64-76 range: add 4\\n77-99 range: subtract 32\\n\\nInput is 92-85: subtract 32 for all of it, so we get 60-53.\\n\\nNext map, 0-69: seed range entirely in the map\\ntemperature-to-humidity map:\\n0 69 1\\n1 0 69\\n69: nothing\\n0-68: add 1\\nSo 60-53 goes to 61-54.\\n\\nNext map, 56-96: all outside the range.\\n\\n\\n\\nWhat if the seed range is actually 40-60?\\n40 -> 40\\n60 -> 62\\n\\nIf both edges of the map are within the seed range, then the parts of the seed range that are OUTSIDE the map\\nwill remain themselves. \\n\\n\""
      ]
     },
     "execution_count": 123,
     "metadata": {},
     "output_type": "execute_result"
    }
   ],
   "source": [
    "\"\"\"\n",
    "Work through a single seed range on a single map and see what happens. What if one or both edges of the map\n",
    "are within the seed range?\n",
    "\n",
    "For the map, keep a list of output ranges (initialize to empty).\n",
    "Start with a list of input ranges.\n",
    "For each line in the map:\n",
    "- figure out its (min, max) boundaries\n",
    "- see if any part of the input range falls in that boundary, and if necessary, split the input into\n",
    "  \"inside the line boundary\" and \"outside the line boundary\".\n",
    "- for any input range that falls in the boundary, transform it:\n",
    "  remove from input range list, add to output range list.\n",
    "  \n",
    "Then for the next map, the input range is the previous map's output range.\n",
    "\n",
    "seed-to-soil map:\n",
    "50 98 2\n",
    "52 50 48\n",
    "\n",
    "98-99 range: subtract 48\n",
    "50-97 range: add 2\n",
    "\n",
    "79-92 becomes 81-94.\n",
    "\n",
    "----------\n",
    "\n",
    "Next map, 0-53: seed range remains 81-94\n",
    "\n",
    "---------\n",
    "\n",
    "Next map, 0-60: seed range remains 81-94\n",
    "\n",
    "---------\n",
    "\n",
    "Next map, 18-94: seed range entirely in the map, so things get interesting here. It's this map:\n",
    "\n",
    "water-to-light map:\n",
    "88 18 7\n",
    "18 25 70\n",
    "\n",
    "18-24 range: add 70\n",
    "25-94 range: subtract 7\n",
    "\n",
    "81-94 becomes 74-87.\n",
    "\n",
    "-----------\n",
    "\n",
    "Next map, 45-99: seed range entirely in the map.\n",
    "light-to-temperature map:\n",
    "45 77 23\n",
    "81 45 19\n",
    "68 64 13\n",
    "\n",
    "45-63 range: add 36\n",
    "64-76 range: add 4\n",
    "77-99 range: subtract 32\n",
    "\n",
    "Input is 74-87: this is where things get interesting, because the boundaries cross different map lines.\n",
    "74-76: add 4, so we get 78-80.\n",
    "77-87: subtract 32, so we get 45-55.\n",
    "\n",
    "Output: 45-55, 78-80.\n",
    "\n",
    "-----------\n",
    "\n",
    "Next map, 0-69:\n",
    "\n",
    "78-80 outside of map, remains 78-80.\n",
    "45-55 fully inside the map:\n",
    "temperature-to-humidity map:\n",
    "0 69 1\n",
    "1 0 69\n",
    "\n",
    "69: no-op\n",
    "0-68: add 1\n",
    "So 45-55 goes to 46-56.\n",
    "\n",
    "Output: 46-56, 78-80.\n",
    "\n",
    "-----------\n",
    "\n",
    "Next map, 56-96:\n",
    "\n",
    "46-55 are outside the map, remain themselves. The rest are 56 and 78-80.\n",
    "\n",
    "humidity-to-location map:\n",
    "60 56 37\n",
    "56 93 4\n",
    "\n",
    "56-92: add 4\n",
    "93-96: subtract 37\n",
    "\n",
    "56 becomes 60, 78-80 become 82-84.\n",
    "\n",
    "Final output: 46-55, 60, 82-84.\n",
    "\n",
    "Minimum: 46.\n",
    "\n",
    "\"\"\""
   ]
  },
  {
   "cell_type": "code",
   "execution_count": 125,
   "metadata": {
    "scrolled": true
   },
   "outputs": [
    {
     "name": "stdout",
     "output_type": "stream",
     "text": [
      "seed-to-soil map:\n",
      "50 98 2\n",
      "52 50 48\n",
      "soil-to-fertilizer map:\n",
      "0 15 37\n",
      "37 52 2\n",
      "39 0 15\n",
      "fertilizer-to-water map:\n",
      "49 53 8\n",
      "0 11 42\n",
      "42 0 7\n",
      "57 7 4\n",
      "water-to-light map:\n",
      "88 18 7\n",
      "18 25 70\n",
      "light-to-temperature map:\n",
      "45 77 23\n",
      "81 45 19\n",
      "68 64 13\n",
      "temperature-to-humidity map:\n",
      "0 69 1\n",
      "1 0 69\n",
      "humidity-to-location map:\n",
      "60 56 37\n",
      "56 93 4\n"
     ]
    },
    {
     "data": {
      "text/plain": [
       "[]"
      ]
     },
     "execution_count": 125,
     "metadata": {},
     "output_type": "execute_result"
    }
   ],
   "source": [
    "sections = example.split('\\n\\n')\n",
    "seeds = map(int, sections[0].split(': ')[1].split(' '))\n",
    "maps = sections[1:]\n",
    "\n",
    "maps_list = []\n",
    "for single_map in maps:\n",
    "    print(single_map)\n",
    "#     maps_list.append(make_map(single_map.split('\\n')[1:]))\n",
    "\n",
    "maps_list"
   ]
  },
  {
   "cell_type": "code",
   "execution_count": 173,
   "metadata": {},
   "outputs": [],
   "source": [
    "\"\"\"\n",
    "5 cases:\n",
    "1. ------\n",
    "            ------\n",
    "            \n",
    "2. ------\n",
    "      ------\n",
    "      \n",
    "3. ------\n",
    "     ---\n",
    "     \n",
    "4.    ------\n",
    "    ----\n",
    "    \n",
    "5.    ------\n",
    "   --\n",
    "\"\"\"\n",
    "    \n",
    "def process_range_in_map(input_range, single_map_actual_map):\n",
    "    map_boundaries = [min(single_map_actual_map.keys()), max(single_map_actual_map.keys())]\n",
    "    if input_range[1] < map_boundaries[0] or input_range[0] > map_boundaries[1]:\n",
    "        print('No overlaps')\n",
    "        # cases 1 or 5: no overlaps\n",
    "        return [input_range]\n",
    "    elif input_range[0] >= map_boundaries[0] and input_range[1] <= map_boundaries[1]:\n",
    "        print('Input range fully inside map')\n",
    "        # case 3: fully inside\n",
    "        next_range_min = single_map_actual_map.get(input_range[0])\n",
    "        next_range_max = single_map_actual_map.get(input_range[1])\n",
    "        next_range = sorted([next_range_min, next_range_max])\n",
    "        return [next_range]\n",
    "    elif input_range[0] < map_boundaries[0] and input_range[1] <= map_boundaries[1]:\n",
    "        print('Input is partially left of boundary')\n",
    "        # case 2: input is to the left of the boundary\n",
    "        min_in_range = map_boundaries[0]\n",
    "        max_in_range = input_range[1]\n",
    "        min_out_of_range = input_range[0]\n",
    "        max_out_of_range = min_in_range - 1\n",
    "\n",
    "        next_in_range_min = single_map_actual_map.get(min_in_range)\n",
    "        next_in_range_max = single_map_actual_map.get(max_in_range)\n",
    "        return [sorted([next_in_range_min, next_in_range_max]),\n",
    "               [min_out_of_range, max_out_of_range]]\n",
    "    else:\n",
    "        # case 4: input is to the right of boundary\n",
    "        print('Input is partially right of boundary')\n",
    "        min_in_range = input_range[0]\n",
    "        max_in_range = map_boundaries[1]\n",
    "\n",
    "        min_out_of_range = max_in_range + 1\n",
    "        max_out_of_range = input_range[1]\n",
    "\n",
    "        next_in_range_min = single_map_actual_map.get(min_in_range)\n",
    "        next_in_range_max = single_map_actual_map.get(max_in_range)\n",
    "\n",
    "        return [sorted([next_in_range_min, next_in_range_max]),\n",
    "               [min_out_of_range, max_out_of_range]]\n",
    "    \n"
   ]
  },
  {
   "cell_type": "code",
   "execution_count": 174,
   "metadata": {},
   "outputs": [
    {
     "name": "stdout",
     "output_type": "stream",
     "text": [
      "Input range fully inside map\n"
     ]
    },
    {
     "data": {
      "text/plain": [
       "[[55, 78]]"
      ]
     },
     "execution_count": 174,
     "metadata": {},
     "output_type": "execute_result"
    }
   ],
   "source": [
    "# convert a point boundary for a single input range into output point boundaries after a single map\n",
    "input_range = [74, 87]\n",
    "single_map = \"\"\"light-to-temperature map:\n",
    "45 77 23\n",
    "81 45 19\n",
    "68 64 13\"\"\"\n",
    "single_map_actual_map = make_map(single_map.split('\\n')[1:])\n",
    "\n",
    "process_range_in_map(input_range, single_map_actual_map)"
   ]
  },
  {
   "cell_type": "code",
   "execution_count": 118,
   "metadata": {},
   "outputs": [
    {
     "data": {
      "text/plain": [
       "[(1367444651, 99920667),\n",
       " (3319921504, 153335682),\n",
       " (67832336, 139859832),\n",
       " (2322838536, 666063790),\n",
       " (1591621692, 111959634),\n",
       " (442852010, 119609663),\n",
       " (733590868, 56288233),\n",
       " (2035874278, 85269124),\n",
       " (4145746192, 55841637),\n",
       " (864476811, 347179760)]"
      ]
     },
     "execution_count": 118,
     "metadata": {},
     "output_type": "execute_result"
    }
   ],
   "source": [
    "a = iter(seeds)\n",
    "pairs = list(zip(a, a))\n",
    "pairs"
   ]
  }
 ],
 "metadata": {
  "kernelspec": {
   "display_name": "Python 3",
   "language": "python",
   "name": "python3"
  },
  "language_info": {
   "codemirror_mode": {
    "name": "ipython",
    "version": 3
   },
   "file_extension": ".py",
   "mimetype": "text/x-python",
   "name": "python",
   "nbconvert_exporter": "python",
   "pygments_lexer": "ipython3",
   "version": "3.6.7"
  }
 },
 "nbformat": 4,
 "nbformat_minor": 2
}
