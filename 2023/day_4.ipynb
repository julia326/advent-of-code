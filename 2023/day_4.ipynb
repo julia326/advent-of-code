{
 "cells": [
  {
   "cell_type": "markdown",
   "metadata": {},
   "source": [
    "# Part 1"
   ]
  },
  {
   "cell_type": "code",
   "execution_count": 1,
   "metadata": {},
   "outputs": [],
   "source": [
    "example = \"\"\"Card 1: 41 48 83 86 17 | 83 86  6 31 17  9 48 53\n",
    "Card 2: 13 32 20 16 61 | 61 30 68 82 17 32 24 19\n",
    "Card 3:  1 21 53 59 44 | 69 82 63 72 16 21 14  1\n",
    "Card 4: 41 92 73 84 69 | 59 84 76 51 58  5 54 83\n",
    "Card 5: 87 83 26 28 32 | 88 30 70 12 93 22 82 36\n",
    "Card 6: 31 18 13 56 72 | 74 77 10 23 35 67 36 11\"\"\"\n",
    "\n",
    "example = example.split('\\n')"
   ]
  },
  {
   "cell_type": "code",
   "execution_count": 2,
   "metadata": {},
   "outputs": [
    {
     "data": {
      "text/plain": [
       "'Card 1: 41 48 83 86 17 | 83 86  6 31 17  9 48 53'"
      ]
     },
     "execution_count": 2,
     "metadata": {},
     "output_type": "execute_result"
    }
   ],
   "source": [
    "card = example[0]\n",
    "card"
   ]
  },
  {
   "cell_type": "code",
   "execution_count": 3,
   "metadata": {},
   "outputs": [],
   "source": [
    "winning, mine = card.split(': ')[1].split('|')\n",
    "winning = [x for x in winning.split(' ') if x]\n",
    "mine = [x for x in mine.split(' ') if x]"
   ]
  },
  {
   "cell_type": "code",
   "execution_count": 4,
   "metadata": {},
   "outputs": [
    {
     "name": "stdout",
     "output_type": "stream",
     "text": [
      "['41', '48', '83', '86', '17']\n",
      "['83', '86', '6', '31', '17', '9', '48', '53']\n"
     ]
    }
   ],
   "source": [
    "winning, mine = list(map(lambda y: [x for x in y.split(' ') if x], card.split(': ')[1].split('|')))\n",
    "print(winning)\n",
    "print(mine)"
   ]
  },
  {
   "cell_type": "code",
   "execution_count": 5,
   "metadata": {},
   "outputs": [
    {
     "data": {
      "text/plain": [
       "8"
      ]
     },
     "execution_count": 5,
     "metadata": {},
     "output_type": "execute_result"
    }
   ],
   "source": [
    "num_winning_in_mine = len(set(winning).intersection(set(mine)))\n",
    "pow(2, num_winning_in_mine-1)"
   ]
  },
  {
   "cell_type": "code",
   "execution_count": 6,
   "metadata": {},
   "outputs": [
    {
     "data": {
      "text/plain": [
       "13"
      ]
     },
     "execution_count": 6,
     "metadata": {},
     "output_type": "execute_result"
    }
   ],
   "source": [
    "def part1(lines):\n",
    "\n",
    "    total = 0\n",
    "    for card in lines:\n",
    "        winning, mine = list(map(lambda y: [x for x in y.split(' ') if x], card.split(': ')[1].split('|')))\n",
    "        num_winning_in_mine = len(set(winning).intersection(set(mine)))\n",
    "        if num_winning_in_mine > 0:\n",
    "            total += pow(2, num_winning_in_mine-1)\n",
    "\n",
    "    return total\n",
    "\n",
    "part1(example)"
   ]
  },
  {
   "cell_type": "code",
   "execution_count": 7,
   "metadata": {},
   "outputs": [
    {
     "data": {
      "text/plain": [
       "199"
      ]
     },
     "execution_count": 7,
     "metadata": {},
     "output_type": "execute_result"
    }
   ],
   "source": [
    "real_input = open('day_4.txt').read().split('\\n')[:-1]\n",
    "len(real_input)"
   ]
  },
  {
   "cell_type": "code",
   "execution_count": 8,
   "metadata": {},
   "outputs": [
    {
     "data": {
      "text/plain": [
       "18653"
      ]
     },
     "execution_count": 8,
     "metadata": {},
     "output_type": "execute_result"
    }
   ],
   "source": [
    "part1(real_input)"
   ]
  },
  {
   "cell_type": "markdown",
   "metadata": {},
   "source": [
    "# Part 2"
   ]
  },
  {
   "cell_type": "code",
   "execution_count": 9,
   "metadata": {},
   "outputs": [],
   "source": [
    "# build up a dictionary of card nums to the cards themselves and the counts\n",
    "\n",
    "def initialize_card_dict(lines):\n",
    "    card_dict = {}\n",
    "    for card in lines:\n",
    "        card_num = int(card.split(': ')[0].split(' ')[-1])\n",
    "        winning, mine = list(map(lambda y: [x for x in y.split(' ') if x], card.split(': ')[1].split('|')))\n",
    "        num_winning_in_mine = len(set(winning).intersection(set(mine)))\n",
    "\n",
    "        card_dict[card_num] = {\n",
    "            'overlap': num_winning_in_mine,\n",
    "            'count': 1\n",
    "        }\n",
    "\n",
    "    return card_dict"
   ]
  },
  {
   "cell_type": "code",
   "execution_count": 10,
   "metadata": {},
   "outputs": [
    {
     "data": {
      "text/plain": [
       "30"
      ]
     },
     "execution_count": 10,
     "metadata": {},
     "output_type": "execute_result"
    }
   ],
   "source": [
    "def process_lines(lines):\n",
    "    card_dict = initialize_card_dict(lines)\n",
    "    for card_num in sorted(card_dict.keys()):\n",
    "        state = card_dict[card_num]\n",
    "        overlap = state['overlap']\n",
    "        count = state['count']\n",
    "        for i in range(count):\n",
    "            for next_card_num in range(card_num + 1, card_num + overlap + 1):\n",
    "                card_dict[next_card_num]['count'] += 1\n",
    "\n",
    "    return sum(x['count'] for x in card_dict.values())\n",
    "    \n",
    "process_lines(example)"
   ]
  },
  {
   "cell_type": "code",
   "execution_count": 11,
   "metadata": {},
   "outputs": [
    {
     "data": {
      "text/plain": [
       "5921508"
      ]
     },
     "execution_count": 11,
     "metadata": {},
     "output_type": "execute_result"
    }
   ],
   "source": [
    "process_lines(real_input)"
   ]
  }
 ],
 "metadata": {
  "kernelspec": {
   "display_name": "Python 3",
   "language": "python",
   "name": "python3"
  },
  "language_info": {
   "codemirror_mode": {
    "name": "ipython",
    "version": 3
   },
   "file_extension": ".py",
   "mimetype": "text/x-python",
   "name": "python",
   "nbconvert_exporter": "python",
   "pygments_lexer": "ipython3",
   "version": "3.6.7"
  }
 },
 "nbformat": 4,
 "nbformat_minor": 2
}
