{
 "cells": [
  {
   "cell_type": "markdown",
   "metadata": {},
   "source": [
    "# Part 1"
   ]
  },
  {
   "cell_type": "code",
   "execution_count": 1,
   "metadata": {},
   "outputs": [],
   "source": [
    "example = \"\"\"467..114..\n",
    "...*......\n",
    "..35..633.\n",
    "......#...\n",
    "617*......\n",
    ".....+.58.\n",
    "..592.....\n",
    "......755.\n",
    "...$.*....\n",
    ".664.598..\"\"\""
   ]
  },
  {
   "cell_type": "code",
   "execution_count": 2,
   "metadata": {},
   "outputs": [],
   "source": [
    "import pandas as pd"
   ]
  },
  {
   "cell_type": "code",
   "execution_count": 3,
   "metadata": {},
   "outputs": [
    {
     "data": {
      "text/html": [
       "<div>\n",
       "<style scoped>\n",
       "    .dataframe tbody tr th:only-of-type {\n",
       "        vertical-align: middle;\n",
       "    }\n",
       "\n",
       "    .dataframe tbody tr th {\n",
       "        vertical-align: top;\n",
       "    }\n",
       "\n",
       "    .dataframe thead th {\n",
       "        text-align: right;\n",
       "    }\n",
       "</style>\n",
       "<table border=\"1\" class=\"dataframe\">\n",
       "  <thead>\n",
       "    <tr style=\"text-align: right;\">\n",
       "      <th></th>\n",
       "      <th>0</th>\n",
       "      <th>1</th>\n",
       "      <th>2</th>\n",
       "      <th>3</th>\n",
       "      <th>4</th>\n",
       "      <th>5</th>\n",
       "      <th>6</th>\n",
       "      <th>7</th>\n",
       "      <th>8</th>\n",
       "      <th>9</th>\n",
       "    </tr>\n",
       "  </thead>\n",
       "  <tbody>\n",
       "    <tr>\n",
       "      <th>0</th>\n",
       "      <td>4</td>\n",
       "      <td>6</td>\n",
       "      <td>7</td>\n",
       "      <td>.</td>\n",
       "      <td>.</td>\n",
       "      <td>1</td>\n",
       "      <td>1</td>\n",
       "      <td>4</td>\n",
       "      <td>.</td>\n",
       "      <td>.</td>\n",
       "    </tr>\n",
       "    <tr>\n",
       "      <th>1</th>\n",
       "      <td>.</td>\n",
       "      <td>.</td>\n",
       "      <td>.</td>\n",
       "      <td>*</td>\n",
       "      <td>.</td>\n",
       "      <td>.</td>\n",
       "      <td>.</td>\n",
       "      <td>.</td>\n",
       "      <td>.</td>\n",
       "      <td>.</td>\n",
       "    </tr>\n",
       "    <tr>\n",
       "      <th>2</th>\n",
       "      <td>.</td>\n",
       "      <td>.</td>\n",
       "      <td>3</td>\n",
       "      <td>5</td>\n",
       "      <td>.</td>\n",
       "      <td>.</td>\n",
       "      <td>6</td>\n",
       "      <td>3</td>\n",
       "      <td>3</td>\n",
       "      <td>.</td>\n",
       "    </tr>\n",
       "    <tr>\n",
       "      <th>3</th>\n",
       "      <td>.</td>\n",
       "      <td>.</td>\n",
       "      <td>.</td>\n",
       "      <td>.</td>\n",
       "      <td>.</td>\n",
       "      <td>.</td>\n",
       "      <td>#</td>\n",
       "      <td>.</td>\n",
       "      <td>.</td>\n",
       "      <td>.</td>\n",
       "    </tr>\n",
       "    <tr>\n",
       "      <th>4</th>\n",
       "      <td>6</td>\n",
       "      <td>1</td>\n",
       "      <td>7</td>\n",
       "      <td>*</td>\n",
       "      <td>.</td>\n",
       "      <td>.</td>\n",
       "      <td>.</td>\n",
       "      <td>.</td>\n",
       "      <td>.</td>\n",
       "      <td>.</td>\n",
       "    </tr>\n",
       "    <tr>\n",
       "      <th>5</th>\n",
       "      <td>.</td>\n",
       "      <td>.</td>\n",
       "      <td>.</td>\n",
       "      <td>.</td>\n",
       "      <td>.</td>\n",
       "      <td>+</td>\n",
       "      <td>.</td>\n",
       "      <td>5</td>\n",
       "      <td>8</td>\n",
       "      <td>.</td>\n",
       "    </tr>\n",
       "    <tr>\n",
       "      <th>6</th>\n",
       "      <td>.</td>\n",
       "      <td>.</td>\n",
       "      <td>5</td>\n",
       "      <td>9</td>\n",
       "      <td>2</td>\n",
       "      <td>.</td>\n",
       "      <td>.</td>\n",
       "      <td>.</td>\n",
       "      <td>.</td>\n",
       "      <td>.</td>\n",
       "    </tr>\n",
       "    <tr>\n",
       "      <th>7</th>\n",
       "      <td>.</td>\n",
       "      <td>.</td>\n",
       "      <td>.</td>\n",
       "      <td>.</td>\n",
       "      <td>.</td>\n",
       "      <td>.</td>\n",
       "      <td>7</td>\n",
       "      <td>5</td>\n",
       "      <td>5</td>\n",
       "      <td>.</td>\n",
       "    </tr>\n",
       "    <tr>\n",
       "      <th>8</th>\n",
       "      <td>.</td>\n",
       "      <td>.</td>\n",
       "      <td>.</td>\n",
       "      <td>$</td>\n",
       "      <td>.</td>\n",
       "      <td>*</td>\n",
       "      <td>.</td>\n",
       "      <td>.</td>\n",
       "      <td>.</td>\n",
       "      <td>.</td>\n",
       "    </tr>\n",
       "    <tr>\n",
       "      <th>9</th>\n",
       "      <td>.</td>\n",
       "      <td>6</td>\n",
       "      <td>6</td>\n",
       "      <td>4</td>\n",
       "      <td>.</td>\n",
       "      <td>5</td>\n",
       "      <td>9</td>\n",
       "      <td>8</td>\n",
       "      <td>.</td>\n",
       "      <td>.</td>\n",
       "    </tr>\n",
       "  </tbody>\n",
       "</table>\n",
       "</div>"
      ],
      "text/plain": [
       "   0  1  2  3  4  5  6  7  8  9\n",
       "0  4  6  7  .  .  1  1  4  .  .\n",
       "1  .  .  .  *  .  .  .  .  .  .\n",
       "2  .  .  3  5  .  .  6  3  3  .\n",
       "3  .  .  .  .  .  .  #  .  .  .\n",
       "4  6  1  7  *  .  .  .  .  .  .\n",
       "5  .  .  .  .  .  +  .  5  8  .\n",
       "6  .  .  5  9  2  .  .  .  .  .\n",
       "7  .  .  .  .  .  .  7  5  5  .\n",
       "8  .  .  .  $  .  *  .  .  .  .\n",
       "9  .  6  6  4  .  5  9  8  .  ."
      ]
     },
     "execution_count": 3,
     "metadata": {},
     "output_type": "execute_result"
    }
   ],
   "source": [
    "example_df = pd.DataFrame([list(x) for x in example.split('\\n')])\n",
    "example_df"
   ]
  },
  {
   "cell_type": "code",
   "execution_count": 4,
   "metadata": {},
   "outputs": [
    {
     "data": {
      "text/plain": [
       "{(0, 0): 467,\n",
       " (0, 5): 114,\n",
       " (2, 2): 35,\n",
       " (2, 6): 633,\n",
       " (4, 0): 617,\n",
       " (5, 7): 58,\n",
       " (6, 2): 592,\n",
       " (7, 6): 755,\n",
       " (9, 1): 664,\n",
       " (9, 5): 598}"
      ]
     },
     "execution_count": 4,
     "metadata": {},
     "output_type": "execute_result"
    }
   ],
   "source": [
    "# find all the numbers first.\n",
    "\n",
    "import string\n",
    "DIGITS = set(string.digits)\n",
    "\n",
    "# create a dict of positions (i, j) to numbers\n",
    "\n",
    "def compute_pos_to_num_dict(df):\n",
    "    pos_to_num_dict = {}\n",
    "    for i, row in df.iterrows():\n",
    "        for j, elt in enumerate(row):\n",
    "            if elt in DIGITS:\n",
    "                # if the previous digit is a number, continue - we shouldn't do num substrings\n",
    "                if j > 0 and row[j-1] in DIGITS:\n",
    "                    continue\n",
    "                # figure out the whole number. This is the start of the number\n",
    "                num_str = elt\n",
    "                for k in range(j+1, len(row)):\n",
    "                    if row[k] in DIGITS:  # the number continues\n",
    "                        num_str += row[k]                    \n",
    "                    else:  # the number has ended\n",
    "                        pos_to_num_dict[(i, j)] = int(num_str)\n",
    "                        num_str = ''\n",
    "                        break\n",
    "                # if num_str isn't empty, then it was at the end of the row\n",
    "                if num_str:\n",
    "                    pos_to_num_dict[(i, j)] = int(num_str)\n",
    "\n",
    "    return pos_to_num_dict\n",
    "\n",
    "pos_to_num_dict = compute_pos_to_num_dict(example_df)\n",
    "pos_to_num_dict"
   ]
  },
  {
   "cell_type": "code",
   "execution_count": 5,
   "metadata": {},
   "outputs": [
    {
     "data": {
      "text/plain": [
       "True"
      ]
     },
     "execution_count": 5,
     "metadata": {},
     "output_type": "execute_result"
    }
   ],
   "source": [
    "# for each number and its starting position, get a list of all other surrounding positions\n",
    "    \n",
    "def compute_surrounding_pos_to_check(pos, num, df):\n",
    "    row = pos[0]\n",
    "    col = pos[1]\n",
    "\n",
    "    existing_pos = set()\n",
    "    for j in range(0, len(str(num))):\n",
    "        existing_pos.add((row, col+j))\n",
    "\n",
    "    pos_to_check = set()\n",
    "    min_row = row-1\n",
    "    max_row = row+1\n",
    "    min_col = col-1\n",
    "    max_col = col+len(str(num))\n",
    "\n",
    "    for i in range(min_row, max_row+1):\n",
    "        for j in range(min_col, max_col+1):\n",
    "            if i >= 0 and i < df.shape[0] and j >= 0 and j < df.shape[1] and (i, j) not in existing_pos:\n",
    "                pos_to_check.add((i, j))\n",
    "\n",
    "    return pos_to_check\n",
    "\n",
    "SET_TO_CHECK = {'#', '$', '%', '&', '*', '+', '-', '/', '=', '@'}\n",
    "\n",
    "def is_part_number(pos, num, df):\n",
    "    pos_to_check = compute_surrounding_pos_to_check(pos, num, df)\n",
    "    any_symbols = False\n",
    "    for (i, j) in pos_to_check:\n",
    "        if df.iloc[i, j] != '.':\n",
    "            return True\n",
    "    return False\n",
    "        \n",
    "pos = (2, 6)\n",
    "num = 633\n",
    "is_part_number(pos, num, example_df)"
   ]
  },
  {
   "cell_type": "code",
   "execution_count": 6,
   "metadata": {},
   "outputs": [
    {
     "data": {
      "text/plain": [
       "4361"
      ]
     },
     "execution_count": 6,
     "metadata": {},
     "output_type": "execute_result"
    }
   ],
   "source": [
    "pos_to_num_dict = compute_pos_to_num_dict(example_df)\n",
    "\n",
    "total = 0\n",
    "for pos, num in pos_to_num_dict.items():\n",
    "    if is_part_number(pos, num, example_df):\n",
    "        total += num\n",
    "total"
   ]
  },
  {
   "cell_type": "code",
   "execution_count": 7,
   "metadata": {},
   "outputs": [
    {
     "data": {
      "text/plain": [
       "(140, 140)"
      ]
     },
     "execution_count": 7,
     "metadata": {},
     "output_type": "execute_result"
    }
   ],
   "source": [
    "real_input = open('day_3.txt').read().split('\\n')[:-1]\n",
    "df = pd.DataFrame([list(x) for x in real_input])\n",
    "df.shape"
   ]
  },
  {
   "cell_type": "code",
   "execution_count": 8,
   "metadata": {},
   "outputs": [
    {
     "data": {
      "text/plain": [
       "546563"
      ]
     },
     "execution_count": 8,
     "metadata": {},
     "output_type": "execute_result"
    }
   ],
   "source": [
    "pos_to_num_dict = compute_pos_to_num_dict(df)\n",
    "\n",
    "total = 0\n",
    "for pos, num in pos_to_num_dict.items():\n",
    "    if is_part_number(pos, num, df):\n",
    "        total += num\n",
    "total"
   ]
  },
  {
   "cell_type": "markdown",
   "metadata": {},
   "source": [
    "# Part 2"
   ]
  },
  {
   "cell_type": "code",
   "execution_count": 25,
   "metadata": {},
   "outputs": [
    {
     "data": {
      "text/plain": [
       "467835"
      ]
     },
     "execution_count": 25,
     "metadata": {},
     "output_type": "execute_result"
    }
   ],
   "source": [
    "from collections import defaultdict\n",
    "\n",
    "# Return the location of the attached gear, if it exists, for this particular position and number\n",
    "def get_gear(pos, num, df):\n",
    "    pos_to_check = compute_surrounding_pos_to_check(pos, num, df)\n",
    "    any_symbols = False\n",
    "    for (i, j) in pos_to_check:\n",
    "        if df.iloc[i, j] == '*':\n",
    "            return (i, j)\n",
    "    return None\n",
    "\n",
    "def get_total_gear_ratio(df):\n",
    "    pos_to_num_dict = compute_pos_to_num_dict(df)\n",
    "\n",
    "    # Build a map: gear position to a list of numbers attached to it\n",
    "    gear_dict = defaultdict(list)\n",
    "    for pos, num in pos_to_num_dict.items():\n",
    "        gear_pos = get_gear(pos, num, df)\n",
    "        if gear_pos is not None:\n",
    "            gear_dict[gear_pos].append(num)\n",
    "\n",
    "    total_gear_ratio = 0\n",
    "    for pos, nums in gear_dict.items():\n",
    "        if len(nums) == 2:\n",
    "            gear_ratio = nums[0] * nums[1]\n",
    "            total_gear_ratio += gear_ratio\n",
    "\n",
    "    return total_gear_ratio\n",
    "\n",
    "get_total_gear_ratio(example_df)"
   ]
  },
  {
   "cell_type": "code",
   "execution_count": 26,
   "metadata": {},
   "outputs": [
    {
     "data": {
      "text/plain": [
       "91031374"
      ]
     },
     "execution_count": 26,
     "metadata": {},
     "output_type": "execute_result"
    }
   ],
   "source": [
    "get_total_gear_ratio(df)"
   ]
  }
 ],
 "metadata": {
  "kernelspec": {
   "display_name": "Python 3",
   "language": "python",
   "name": "python3"
  },
  "language_info": {
   "codemirror_mode": {
    "name": "ipython",
    "version": 3
   },
   "file_extension": ".py",
   "mimetype": "text/x-python",
   "name": "python",
   "nbconvert_exporter": "python",
   "pygments_lexer": "ipython3",
   "version": "3.6.7"
  }
 },
 "nbformat": 4,
 "nbformat_minor": 2
}
