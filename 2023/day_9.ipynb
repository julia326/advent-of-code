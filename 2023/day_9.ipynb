{
 "cells": [
  {
   "cell_type": "code",
   "execution_count": 31,
   "metadata": {},
   "outputs": [
    {
     "data": {
      "text/plain": [
       "[0, 3, 6, 9, 12, 15]"
      ]
     },
     "execution_count": 31,
     "metadata": {},
     "output_type": "execute_result"
    }
   ],
   "source": [
    "example = \"\"\"0 3 6 9 12 15\n",
    "1 3 6 10 15 21\n",
    "10 13 16 21 30 45\"\"\"\n",
    "\n",
    "sequence = \"0 3 6 9 12 15\"\n",
    "sequence = [int(x) for x in sequence.split(' ')]\n",
    "sequence"
   ]
  },
  {
   "cell_type": "code",
   "execution_count": 32,
   "metadata": {},
   "outputs": [
    {
     "data": {
      "text/plain": [
       "[[0, 0, 0, 0], [3, 3, 3, 3, 3], [0, 3, 6, 9, 12, 15]]"
      ]
     },
     "execution_count": 32,
     "metadata": {},
     "output_type": "execute_result"
    }
   ],
   "source": [
    "sequences = [sequence]\n",
    "while any(sequence):\n",
    "    sequence = list(np.diff(sequence))\n",
    "    sequences.append(sequence)\n",
    "sequences = list(reversed(sequences))\n",
    "sequences"
   ]
  },
  {
   "cell_type": "code",
   "execution_count": 33,
   "metadata": {},
   "outputs": [
    {
     "name": "stdout",
     "output_type": "stream",
     "text": [
      "[[0, 0, 0, 0], [3, 3, 3, 3, 3, 3], [0, 3, 6, 9, 12, 15, 18]]\n"
     ]
    }
   ],
   "source": [
    "for i in range(len(sequences) - 1):\n",
    "    cur_last_elt = sequences[i][-1]\n",
    "    next_seq_last_elt = sequences[i+1][-1]\n",
    "    # append to next sequence\n",
    "    sequences[i+1].append(next_seq_last_elt + cur_last_elt)\n",
    "\n",
    "print(sequences)"
   ]
  },
  {
   "cell_type": "code",
   "execution_count": 34,
   "metadata": {},
   "outputs": [
    {
     "data": {
      "text/plain": [
       "18"
      ]
     },
     "execution_count": 34,
     "metadata": {},
     "output_type": "execute_result"
    }
   ],
   "source": [
    "sequences[-1][-1]"
   ]
  },
  {
   "cell_type": "code",
   "execution_count": 36,
   "metadata": {},
   "outputs": [
    {
     "data": {
      "text/plain": [
       "114"
      ]
     },
     "execution_count": 36,
     "metadata": {},
     "output_type": "execute_result"
    }
   ],
   "source": [
    "# sequence is a list of ints\n",
    "def compute_next_elt(sequence):\n",
    "    sequences = [sequence]\n",
    "    # compute all the sequence diffs\n",
    "    while any(sequence):\n",
    "        sequence = list(np.diff(sequence))\n",
    "        sequences.append(sequence)\n",
    "    sequences = list(reversed(sequences))\n",
    "    \n",
    "    # compute last elements for each sequence\n",
    "    for i in range(len(sequences) - 1):\n",
    "        cur_last_elt = sequences[i][-1]\n",
    "        next_seq_last_elt = sequences[i+1][-1]\n",
    "        # append to next sequence\n",
    "        sequences[i+1].append(next_seq_last_elt + cur_last_elt)\n",
    "    return sequences[-1][-1]\n",
    "\n",
    "total = 0\n",
    "for line in example.split('\\n'):\n",
    "    sequence = [int(x) for x in line.split(' ')]\n",
    "    total += compute_next_elt(sequence)\n",
    "total"
   ]
  },
  {
   "cell_type": "code",
   "execution_count": 37,
   "metadata": {},
   "outputs": [
    {
     "data": {
      "text/plain": [
       "1901217887"
      ]
     },
     "execution_count": 37,
     "metadata": {},
     "output_type": "execute_result"
    }
   ],
   "source": [
    "real_input = open('day_9.txt').read().split('\\n')[:-1]\n",
    "\n",
    "total = 0\n",
    "for line in real_input:\n",
    "    sequence = [int(x) for x in line.split(' ')]\n",
    "    total += compute_next_elt(sequence)\n",
    "total"
   ]
  },
  {
   "cell_type": "markdown",
   "metadata": {},
   "source": [
    "# Part 2"
   ]
  },
  {
   "cell_type": "code",
   "execution_count": 58,
   "metadata": {},
   "outputs": [
    {
     "data": {
      "text/plain": [
       "2"
      ]
     },
     "execution_count": 58,
     "metadata": {},
     "output_type": "execute_result"
    }
   ],
   "source": [
    "def compute_prior_element(sequence):\n",
    "    sequences = [sequence]\n",
    "    # compute all the sequence diffs\n",
    "    while any(sequence):\n",
    "        sequence = list(np.diff(sequence))\n",
    "        sequences.append(sequence)\n",
    "    sequences = list(reversed(sequences))\n",
    "\n",
    "    # compute all prior elements\n",
    "    for i in range(len(sequences)-1):\n",
    "        cur_first_elt = sequences[i][0]\n",
    "        next_first_elt = sequences[i+1][0]\n",
    "        sequences[i+1] = [next_first_elt - cur_first_elt] + sequences[i]\n",
    "\n",
    "    return sequences[-1][0]\n",
    "\n",
    "total = 0\n",
    "for line in example.split('\\n'):\n",
    "    sequence = [int(x) for x in line.split(' ')]\n",
    "    total += compute_prior_element(sequence)\n",
    "    \n",
    "total"
   ]
  },
  {
   "cell_type": "code",
   "execution_count": 59,
   "metadata": {},
   "outputs": [
    {
     "data": {
      "text/plain": [
       "905"
      ]
     },
     "execution_count": 59,
     "metadata": {},
     "output_type": "execute_result"
    }
   ],
   "source": [
    "total = 0\n",
    "for line in real_input:\n",
    "    sequence = [int(x) for x in line.split(' ')]\n",
    "    total += compute_prior_element(sequence)\n",
    "total"
   ]
  }
 ],
 "metadata": {
  "kernelspec": {
   "display_name": "Python 3",
   "language": "python",
   "name": "python3"
  },
  "language_info": {
   "codemirror_mode": {
    "name": "ipython",
    "version": 3
   },
   "file_extension": ".py",
   "mimetype": "text/x-python",
   "name": "python",
   "nbconvert_exporter": "python",
   "pygments_lexer": "ipython3",
   "version": "3.6.7"
  }
 },
 "nbformat": 4,
 "nbformat_minor": 2
}
