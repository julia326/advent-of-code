{
 "cells": [
  {
   "cell_type": "markdown",
   "metadata": {},
   "source": [
    "# Part 1"
   ]
  },
  {
   "cell_type": "code",
   "execution_count": 1,
   "metadata": {},
   "outputs": [
    {
     "data": {
      "text/plain": [
       "['1abc2', 'pqr3stu8vwx', 'a1b2c3d4e5f', 'treb7uchet']"
      ]
     },
     "execution_count": 1,
     "metadata": {},
     "output_type": "execute_result"
    }
   ],
   "source": [
    "example_input = \"\"\"1abc2\n",
    "pqr3stu8vwx\n",
    "a1b2c3d4e5f\n",
    "treb7uchet\"\"\"\n",
    "\n",
    "example_input.split('\\n')"
   ]
  },
  {
   "cell_type": "code",
   "execution_count": 2,
   "metadata": {},
   "outputs": [
    {
     "data": {
      "text/plain": [
       "{'0', '1', '2', '3', '4', '5', '6', '7', '8', '9'}"
      ]
     },
     "execution_count": 2,
     "metadata": {},
     "output_type": "execute_result"
    }
   ],
   "source": [
    "import string\n",
    "\n",
    "DIGIT_SET = set(string.digits)\n",
    "DIGIT_SET"
   ]
  },
  {
   "cell_type": "code",
   "execution_count": 3,
   "metadata": {},
   "outputs": [
    {
     "data": {
      "text/plain": [
       "142"
      ]
     },
     "execution_count": 3,
     "metadata": {},
     "output_type": "execute_result"
    }
   ],
   "source": [
    "def find_first_digit(iterable):\n",
    "    for char in iterable:\n",
    "        if char in DIGIT_SET:\n",
    "            return char\n",
    "\n",
    "def get_number_from_word(word):\n",
    "    first_digit = find_first_digit(word)\n",
    "    last_digit = find_first_digit(reversed(word))\n",
    "    return int('%s%s' % (first_digit, last_digit))\n",
    "\n",
    "total = 0\n",
    "for word in example_input.split('\\n'):\n",
    "    total += get_number_from_word(word)\n",
    "    \n",
    "total"
   ]
  },
  {
   "cell_type": "code",
   "execution_count": 4,
   "metadata": {},
   "outputs": [
    {
     "data": {
      "text/plain": [
       "54951"
      ]
     },
     "execution_count": 4,
     "metadata": {},
     "output_type": "execute_result"
    }
   ],
   "source": [
    "real_input = open('day_1.txt').read().split('\\n')[:-1]\n",
    "\n",
    "total = 0\n",
    "for word in real_input:\n",
    "    total += get_number_from_word(word)\n",
    "    \n",
    "total"
   ]
  },
  {
   "cell_type": "markdown",
   "metadata": {},
   "source": [
    "# Part 2"
   ]
  },
  {
   "cell_type": "code",
   "execution_count": 5,
   "metadata": {},
   "outputs": [
    {
     "data": {
      "text/plain": [
       "['two1nine',\n",
       " 'eightwothree',\n",
       " 'abcone2threexyz',\n",
       " 'xtwone3four',\n",
       " '4nineeightseven2',\n",
       " 'zoneight234',\n",
       " '7pqrstsixteen']"
      ]
     },
     "execution_count": 5,
     "metadata": {},
     "output_type": "execute_result"
    }
   ],
   "source": [
    "example2 = \"\"\"two1nine\n",
    "eightwothree\n",
    "abcone2threexyz\n",
    "xtwone3four\n",
    "4nineeightseven2\n",
    "zoneight234\n",
    "7pqrstsixteen\"\"\"\n",
    "\n",
    "example2.split('\\n')"
   ]
  },
  {
   "cell_type": "code",
   "execution_count": 6,
   "metadata": {},
   "outputs": [
    {
     "name": "stdout",
     "output_type": "stream",
     "text": [
      "{'one': '1', 'two': '2', 'three': '3', 'four': '4', 'five': '5', 'six': '6', 'seven': '7', 'eight': '8', 'nine': '9'}\n",
      "{'5', '7', '9', '1', '2', '6', '0', '8', '3', '4'}\n"
     ]
    }
   ],
   "source": [
    "DIGIT_WORD_DICT = {\n",
    "    'one': '1',\n",
    "    'two': '2',\n",
    "    'three': '3',\n",
    "    'four': '4',\n",
    "    'five': '5',\n",
    "    'six': '6',\n",
    "    'seven': '7',\n",
    "    'eight': '8',\n",
    "    'nine': '9'\n",
    "}\n",
    "\n",
    "print(DIGIT_WORD_DICT)\n",
    "print(DIGIT_SET)"
   ]
  },
  {
   "cell_type": "code",
   "execution_count": 7,
   "metadata": {},
   "outputs": [],
   "source": [
    "word = '7pqrstsixteen'\n",
    "\n",
    "def find_first_last_digits_in_word(word, digit_set, pos_dict):\n",
    "    # updates pos_dict with first and last positions of any member of digit_set in the word\n",
    "    for i in digit_set:\n",
    "        pos = word.find(i)\n",
    "        if pos > -1:\n",
    "            pos_dict[pos] = i\n",
    "        pos = word.rfind(i)\n",
    "        if pos > -1:\n",
    "            pos_dict[pos] = i\n",
    "\n",
    "def convert_if_necessary(digit):\n",
    "    if digit in DIGIT_WORD_DICT:\n",
    "        return DIGIT_WORD_DICT[digit]\n",
    "    return digit\n",
    "\n",
    "def get_number_from_mixed_word(word):\n",
    "    pos_dict = {}  # position to number\n",
    "    find_first_last_digits_in_word(word, DIGIT_SET, pos_dict)\n",
    "    find_first_last_digits_in_word(word, DIGIT_WORD_DICT.keys(), pos_dict)\n",
    "\n",
    "    sorted_digits = list({k: pos_dict[k] for k in sorted(pos_dict)}.items())\n",
    "    \n",
    "    first_digit = convert_if_necessary(sorted_digits[0][1])\n",
    "    last_digit = convert_if_necessary(sorted_digits[-1][1])\n",
    "    return int('%s%s' % (first_digit, last_digit))"
   ]
  },
  {
   "cell_type": "code",
   "execution_count": 8,
   "metadata": {},
   "outputs": [
    {
     "name": "stdout",
     "output_type": "stream",
     "text": [
      "29\n",
      "83\n",
      "13\n",
      "24\n",
      "42\n",
      "14\n",
      "76\n"
     ]
    },
    {
     "data": {
      "text/plain": [
       "281"
      ]
     },
     "execution_count": 8,
     "metadata": {},
     "output_type": "execute_result"
    }
   ],
   "source": [
    "total = 0\n",
    "for word in example2.split('\\n'):\n",
    "    print(get_number_from_mixed_word(word))\n",
    "    total += get_number_from_mixed_word(word)\n",
    "    \n",
    "total"
   ]
  },
  {
   "cell_type": "code",
   "execution_count": 9,
   "metadata": {},
   "outputs": [
    {
     "data": {
      "text/plain": [
       "55218"
      ]
     },
     "execution_count": 9,
     "metadata": {},
     "output_type": "execute_result"
    }
   ],
   "source": [
    "total = 0\n",
    "for word in real_input:\n",
    "    total += get_number_from_mixed_word(word)\n",
    "    \n",
    "total"
   ]
  }
 ],
 "metadata": {
  "kernelspec": {
   "display_name": "Python 3",
   "language": "python",
   "name": "python3"
  },
  "language_info": {
   "codemirror_mode": {
    "name": "ipython",
    "version": 3
   },
   "file_extension": ".py",
   "mimetype": "text/x-python",
   "name": "python",
   "nbconvert_exporter": "python",
   "pygments_lexer": "ipython3",
   "version": "3.6.7"
  }
 },
 "nbformat": 4,
 "nbformat_minor": 2
}
