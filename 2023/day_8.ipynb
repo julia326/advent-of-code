{
 "cells": [
  {
   "cell_type": "markdown",
   "metadata": {},
   "source": [
    "# Part 1"
   ]
  },
  {
   "cell_type": "code",
   "execution_count": 5,
   "metadata": {},
   "outputs": [],
   "source": [
    "example = \"\"\"RL\n",
    "\n",
    "AAA = (BBB, CCC)\n",
    "BBB = (DDD, EEE)\n",
    "CCC = (ZZZ, GGG)\n",
    "DDD = (DDD, DDD)\n",
    "EEE = (EEE, EEE)\n",
    "GGG = (GGG, GGG)\n",
    "ZZZ = (ZZZ, ZZZ)\"\"\"\n",
    "\n",
    "lines = example.split('\\n')\n",
    "instruction = lines[0]\n",
    "nodes = lines[2:]"
   ]
  },
  {
   "cell_type": "code",
   "execution_count": 10,
   "metadata": {},
   "outputs": [
    {
     "data": {
      "text/plain": [
       "'AAA = (BBB, CCC)'"
      ]
     },
     "execution_count": 10,
     "metadata": {},
     "output_type": "execute_result"
    }
   ],
   "source": [
    "line = nodes[0]\n",
    "line"
   ]
  },
  {
   "cell_type": "code",
   "execution_count": 33,
   "metadata": {},
   "outputs": [
    {
     "data": {
      "text/plain": [
       "{'AAA': {'L': 'BBB', 'R': 'CCC'},\n",
       " 'BBB': {'L': 'DDD', 'R': 'EEE'},\n",
       " 'CCC': {'L': 'ZZZ', 'R': 'GGG'},\n",
       " 'DDD': {'L': 'DDD', 'R': 'DDD'},\n",
       " 'EEE': {'L': 'EEE', 'R': 'EEE'},\n",
       " 'GGG': {'L': 'GGG', 'R': 'GGG'},\n",
       " 'ZZZ': {'L': 'ZZZ', 'R': 'ZZZ'}}"
      ]
     },
     "execution_count": 33,
     "metadata": {},
     "output_type": "execute_result"
    }
   ],
   "source": [
    "# node -> (left -> node, right -> node)\n",
    "node_dict = {}\n",
    "\n",
    "for line in nodes:\n",
    "    node = line[:3]\n",
    "    left = line[7:10]\n",
    "    right = line[12:15]\n",
    "    node_dict[node] = {'L': left, 'R': right}\n",
    "    \n",
    "node_dict"
   ]
  },
  {
   "cell_type": "code",
   "execution_count": 53,
   "metadata": {},
   "outputs": [
    {
     "data": {
      "text/plain": [
       "2"
      ]
     },
     "execution_count": 53,
     "metadata": {},
     "output_type": "execute_result"
    }
   ],
   "source": [
    "def make_node_dict(nodes):\n",
    "    node_dict = {}\n",
    "    for line in nodes:\n",
    "        node = line[:3]\n",
    "        left = line[7:10]\n",
    "        right = line[12:15]\n",
    "        node_dict[node] = {'L': left, 'R': right}\n",
    "    return node_dict\n",
    "\n",
    "def process_instruction(instruction, node_dict):\n",
    "    count = 0\n",
    "    char = 'AAA'\n",
    "    while True:\n",
    "        for side in instruction:\n",
    "            char = node_dict[char][side]\n",
    "            count += 1\n",
    "            if char == 'ZZZ':\n",
    "                break\n",
    "        if char == 'ZZZ':\n",
    "            break\n",
    "    return count\n",
    "\n",
    "example = \"\"\"RL\n",
    "\n",
    "AAA = (BBB, CCC)\n",
    "BBB = (DDD, EEE)\n",
    "CCC = (ZZZ, GGG)\n",
    "DDD = (DDD, DDD)\n",
    "EEE = (EEE, EEE)\n",
    "GGG = (GGG, GGG)\n",
    "ZZZ = (ZZZ, ZZZ)\"\"\"\n",
    "\n",
    "lines = example.split('\\n')\n",
    "instruction = lines[0]\n",
    "nodes = lines[2:]\n",
    "\n",
    "process_instruction('RL', make_node_dict(nodes))"
   ]
  },
  {
   "cell_type": "code",
   "execution_count": 55,
   "metadata": {},
   "outputs": [
    {
     "data": {
      "text/plain": [
       "6"
      ]
     },
     "execution_count": 55,
     "metadata": {},
     "output_type": "execute_result"
    }
   ],
   "source": [
    "example = \"\"\"LLR\n",
    "\n",
    "AAA = (BBB, BBB)\n",
    "BBB = (AAA, ZZZ)\n",
    "ZZZ = (ZZZ, ZZZ)\"\"\"\n",
    "\n",
    "lines = example.split('\\n')\n",
    "instruction = lines[0]\n",
    "nodes = lines[2:]\n",
    "\n",
    "process_instruction(instruction, make_node_dict(nodes))"
   ]
  },
  {
   "cell_type": "code",
   "execution_count": 56,
   "metadata": {},
   "outputs": [
    {
     "data": {
      "text/plain": [
       "16043"
      ]
     },
     "execution_count": 56,
     "metadata": {},
     "output_type": "execute_result"
    }
   ],
   "source": [
    "# real input\n",
    "lines = open('day_8.txt').read().split('\\n')[:-1]\n",
    "instruction = lines[0]\n",
    "nodes = lines[2:]\n",
    "\n",
    "process_instruction(instruction, make_node_dict(nodes))"
   ]
  },
  {
   "cell_type": "markdown",
   "metadata": {},
   "source": [
    "# Part 2"
   ]
  },
  {
   "cell_type": "code",
   "execution_count": 104,
   "metadata": {},
   "outputs": [
    {
     "name": "stdout",
     "output_type": "stream",
     "text": [
      "LR\n",
      "{'11A': {'L': '11B', 'R': 'XXX'}, '11B': {'L': 'XXX', 'R': '11Z'}, '11Z': {'L': '11B', 'R': 'XXX'}, '22A': {'L': '22B', 'R': 'XXX'}, '22B': {'L': '22C', 'R': '22C'}, '22C': {'L': '22Z', 'R': '22Z'}, '22Z': {'L': '22B', 'R': '22B'}, 'XXX': {'L': 'XXX', 'R': 'XXX'}}\n"
     ]
    }
   ],
   "source": [
    "example = \"\"\"LR\n",
    "\n",
    "11A = (11B, XXX)\n",
    "11B = (XXX, 11Z)\n",
    "11Z = (11B, XXX)\n",
    "22A = (22B, XXX)\n",
    "22B = (22C, 22C)\n",
    "22C = (22Z, 22Z)\n",
    "22Z = (22B, 22B)\n",
    "XXX = (XXX, XXX)\"\"\"\n",
    "\n",
    "lines = example.split('\\n')\n",
    "instruction = lines[0]\n",
    "node_dict = make_node_dict(lines[2:])\n",
    "\n",
    "print(instruction)\n",
    "print(node_dict)"
   ]
  },
  {
   "cell_type": "code",
   "execution_count": 105,
   "metadata": {},
   "outputs": [
    {
     "data": {
      "text/plain": [
       "{'11Z': 2, '22Z': 3}"
      ]
     },
     "execution_count": 105,
     "metadata": {},
     "output_type": "execute_result"
    }
   ],
   "source": [
    "# Treat each starting node separately. Find out how many instructions/cycles it takes to get to a Z node.\n",
    "# Compute this for all starting nodes, then find the least common multiple\n",
    "\n",
    "def compute_path_lengths(instruction, node_dict):\n",
    "    node_to_z_count = {}\n",
    "    \n",
    "    for node in [x for x in node_dict.keys() if x.endswith('A')]:\n",
    "        count = 0\n",
    "        while True:\n",
    "            for side in instruction:\n",
    "                node = node_dict[node][side]\n",
    "                count += 1\n",
    "                if node.endswith('Z'):\n",
    "                    break\n",
    "            if node.endswith('Z'):\n",
    "                break\n",
    "        node_to_z_count[node] = count\n",
    "\n",
    "    return node_to_z_count\n",
    "\n",
    "lines = example.split('\\n')\n",
    "instruction = lines[0]\n",
    "node_dict = make_node_dict(lines[2:])\n",
    "compute_path_lengths(instruction, node_dict)"
   ]
  },
  {
   "cell_type": "code",
   "execution_count": 107,
   "metadata": {},
   "outputs": [
    {
     "data": {
      "text/plain": [
       "{'HJZ': 19199,\n",
       " 'SBZ': 11309,\n",
       " 'RFZ': 17621,\n",
       " 'VPZ': 20777,\n",
       " 'ZZZ': 16043,\n",
       " 'PQZ': 15517}"
      ]
     },
     "execution_count": 107,
     "metadata": {},
     "output_type": "execute_result"
    }
   ],
   "source": [
    "# real input\n",
    "lines = open('day_8.txt').read().split('\\n')[:-1]\n",
    "\n",
    "instruction = lines[0]\n",
    "node_dict = make_node_dict(lines[2:])\n",
    "counts = compute_path_lengths(instruction, node_dict)\n",
    "counts"
   ]
  },
  {
   "cell_type": "code",
   "execution_count": 109,
   "metadata": {},
   "outputs": [
    {
     "data": {
      "text/plain": [
       "15726453850399"
      ]
     },
     "execution_count": 109,
     "metadata": {},
     "output_type": "execute_result"
    }
   ],
   "source": [
    "from numpy import lcm\n",
    "\n",
    "lcm.reduce(list(counts.values()))"
   ]
  }
 ],
 "metadata": {
  "kernelspec": {
   "display_name": "Python 3",
   "language": "python",
   "name": "python3"
  },
  "language_info": {
   "codemirror_mode": {
    "name": "ipython",
    "version": 3
   },
   "file_extension": ".py",
   "mimetype": "text/x-python",
   "name": "python",
   "nbconvert_exporter": "python",
   "pygments_lexer": "ipython3",
   "version": "3.6.7"
  }
 },
 "nbformat": 4,
 "nbformat_minor": 2
}
