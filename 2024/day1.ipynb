{
 "cells": [
  {
   "cell_type": "code",
   "execution_count": 22,
   "metadata": {},
   "outputs": [
    {
     "name": "stdout",
     "output_type": "stream",
     "text": [
      "11\n"
     ]
    }
   ],
   "source": [
    "import heapq\n",
    "\n",
    "example_input = \"\"\"3   4\n",
    "4   3\n",
    "2   5\n",
    "1   3\n",
    "3   9\n",
    "3   3\"\"\"\n",
    "\n",
    "\n",
    "def part1(input_str):\n",
    "    left = []\n",
    "    right = []\n",
    "    for line in input_str.split('\\n'):\n",
    "        left_val, right_val = line.split()\n",
    "        heapq.heappush(left, int(left_val))\n",
    "        heapq.heappush(right, int(right_val))\n",
    "    assert len(left) == len(right)\n",
    "    \n",
    "    diff_sum = 0\n",
    "\n",
    "    for i in range(len(left)):\n",
    "        left_val = heapq.heappop(left)\n",
    "        right_val = heapq.heappop(right)\n",
    "        diff_sum += abs(left_val - right_val)\n",
    "\n",
    "    print(diff_sum)\n",
    "    \n",
    "part1(example_input)"
   ]
  },
  {
   "cell_type": "code",
   "execution_count": 24,
   "metadata": {},
   "outputs": [
    {
     "name": "stdout",
     "output_type": "stream",
     "text": [
      "1189304\n"
     ]
    }
   ],
   "source": [
    "real_input = open('day1.txt').read()[:-1]\n",
    "part1(real_input)"
   ]
  },
  {
   "cell_type": "code",
   "execution_count": 27,
   "metadata": {},
   "outputs": [
    {
     "name": "stdout",
     "output_type": "stream",
     "text": [
      "31\n"
     ]
    }
   ],
   "source": [
    "from collections import defaultdict\n",
    "\n",
    "def part2(input_str):\n",
    "    # figure out how many times numbers appear in each list\n",
    "    num_counts_left = defaultdict(int)\n",
    "    num_counts_right = defaultdict(int)\n",
    "    for line in input_str.split('\\n'):\n",
    "        left_val, right_val = line.split()\n",
    "        num_counts_left[int(left_val)] += 1\n",
    "        num_counts_right[int(right_val)] += 1\n",
    "        \n",
    "    # get similarity score\n",
    "    sim_score = 0\n",
    "    for key, val in num_counts_left.items():\n",
    "        for i in range(val):\n",
    "            num_in_right = num_counts_right[key]\n",
    "            sim_score += key * num_in_right\n",
    "            \n",
    "    print(sim_score)\n",
    "    \n",
    "part2(example_input)"
   ]
  },
  {
   "cell_type": "code",
   "execution_count": 28,
   "metadata": {},
   "outputs": [
    {
     "name": "stdout",
     "output_type": "stream",
     "text": [
      "24349736\n"
     ]
    }
   ],
   "source": [
    "part2(real_input)"
   ]
  }
 ],
 "metadata": {
  "kernelspec": {
   "display_name": "Python 3",
   "language": "python",
   "name": "python3"
  },
  "language_info": {
   "codemirror_mode": {
    "name": "ipython",
    "version": 3
   },
   "file_extension": ".py",
   "mimetype": "text/x-python",
   "name": "python",
   "nbconvert_exporter": "python",
   "pygments_lexer": "ipython3",
   "version": "3.6.7"
  }
 },
 "nbformat": 4,
 "nbformat_minor": 2
}
