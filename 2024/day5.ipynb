{
 "cells": [
  {
   "cell_type": "code",
   "execution_count": 1,
   "metadata": {},
   "outputs": [],
   "source": [
    "import networkx as nx\n",
    "\n",
    "example_input = \"\"\"47|53\n",
    "97|13\n",
    "97|61\n",
    "97|47\n",
    "75|29\n",
    "61|13\n",
    "75|53\n",
    "29|13\n",
    "97|29\n",
    "53|29\n",
    "61|53\n",
    "97|53\n",
    "61|29\n",
    "47|13\n",
    "75|47\n",
    "97|75\n",
    "47|61\n",
    "75|61\n",
    "47|29\n",
    "75|13\n",
    "53|13\n",
    "\n",
    "75,47,61,53,29\n",
    "97,61,53,29,13\n",
    "75,29,13\n",
    "75,97,47,61,53\n",
    "61,13,29\n",
    "97,13,75,29,47\"\"\""
   ]
  },
  {
   "cell_type": "code",
   "execution_count": 2,
   "metadata": {},
   "outputs": [
    {
     "name": "stdout",
     "output_type": "stream",
     "text": [
      "143\n"
     ]
    }
   ],
   "source": [
    "def part1(input_str):\n",
    "    rules, updates = input_str.split('\\n\\n')\n",
    "    good_update_mid_num_sum = 0\n",
    "\n",
    "    for update in updates.split('\\n'):\n",
    "        nums = update.split(',')\n",
    "        # figure out the relevant edges to include in the graph. We only want to keep edges where both\n",
    "        # nodes are in the update, otherwise we don't care. Make a set of all nodes in the update and filter\n",
    "        # the edges this way.\n",
    "        num_set = set(nums)\n",
    "        graph = nx.DiGraph()\n",
    "        for rule in rules.split('\\n'):\n",
    "            u, v = rule.split('|')\n",
    "            if u in num_set and v in num_set:\n",
    "                graph.add_edge(u, v)\n",
    "        top_sort = list(nx.topological_sort(graph))\n",
    "\n",
    "\n",
    "        good_update = True\n",
    "        for i in range(len(nums)-1):\n",
    "            cur_num = nums[i]\n",
    "            next_num = nums[i+1]\n",
    "            if cur_num not in top_sort or next_num not in top_sort:\n",
    "                continue\n",
    "            if top_sort.index(cur_num) > top_sort.index(next_num):\n",
    "                good_update = False\n",
    "                break\n",
    "\n",
    "        if good_update:\n",
    "            mid_num = int(nums[int(len(nums)/2)])\n",
    "            good_update_mid_num_sum += mid_num\n",
    "\n",
    "    print(good_update_mid_num_sum)\n",
    "    \n",
    "part1(example_input)"
   ]
  },
  {
   "cell_type": "code",
   "execution_count": 3,
   "metadata": {},
   "outputs": [
    {
     "name": "stdout",
     "output_type": "stream",
     "text": [
      "4996\n"
     ]
    }
   ],
   "source": [
    "a = open('day5.txt').read()[:-1]\n",
    "part1(a)"
   ]
  },
  {
   "cell_type": "code",
   "execution_count": 4,
   "metadata": {},
   "outputs": [
    {
     "name": "stdout",
     "output_type": "stream",
     "text": [
      "123\n"
     ]
    }
   ],
   "source": [
    "def part2(input_str):\n",
    "    rules, updates = input_str.split('\\n\\n')\n",
    "    good_update_mid_num_sum = 0\n",
    "\n",
    "    for update in updates.split('\\n'):\n",
    "        nums = update.split(',')\n",
    "        # figure out the relevant edges to include in the graph. We only want to keep edges where both\n",
    "        # nodes are in the update, otherwise we don't care. Make a set of all nodes in the update and filter\n",
    "        # the edges this way.\n",
    "        num_set = set(nums)\n",
    "        graph = nx.DiGraph()\n",
    "        for rule in rules.split('\\n'):\n",
    "            u, v = rule.split('|')\n",
    "            if u in num_set and v in num_set:\n",
    "                graph.add_edge(u, v)\n",
    "        top_sort = list(nx.topological_sort(graph))\n",
    "\n",
    "        good_update = True\n",
    "        for i in range(len(nums)-1):\n",
    "            cur_num = nums[i]\n",
    "            next_num = nums[i+1]\n",
    "            if cur_num not in top_sort or next_num not in top_sort:\n",
    "                continue\n",
    "            if top_sort.index(cur_num) > top_sort.index(next_num):\n",
    "                good_update = False\n",
    "                break\n",
    "                \n",
    "        # if it's a bad update, need to sort it in the same order as the topological sort, ie, sort by\n",
    "        # index in top_sort\n",
    "        if not good_update:\n",
    "            fixed_update = sorted(nums, key=lambda x: top_sort.index(x))\n",
    "            mid_num = int(fixed_update[int(len(fixed_update)/2)])\n",
    "            good_update_mid_num_sum += mid_num\n",
    "\n",
    "    print(good_update_mid_num_sum)\n",
    "    \n",
    "part2(example_input)"
   ]
  },
  {
   "cell_type": "code",
   "execution_count": 5,
   "metadata": {},
   "outputs": [
    {
     "name": "stdout",
     "output_type": "stream",
     "text": [
      "6311\n"
     ]
    }
   ],
   "source": [
    "part2(a)"
   ]
  }
 ],
 "metadata": {
  "kernelspec": {
   "display_name": "Python 3",
   "language": "python",
   "name": "python3"
  },
  "language_info": {
   "codemirror_mode": {
    "name": "ipython",
    "version": 3
   },
   "file_extension": ".py",
   "mimetype": "text/x-python",
   "name": "python",
   "nbconvert_exporter": "python",
   "pygments_lexer": "ipython3",
   "version": "3.6.7"
  }
 },
 "nbformat": 4,
 "nbformat_minor": 2
}
