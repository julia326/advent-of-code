{
 "cells": [
  {
   "cell_type": "code",
   "execution_count": 9,
   "metadata": {},
   "outputs": [
    {
     "name": "stdout",
     "output_type": "stream",
     "text": [
      "161\n"
     ]
    }
   ],
   "source": [
    "import numpy as np\n",
    "import re\n",
    "\n",
    "example_input = 'xmul(2,4)%&mul[3,7]!@^do_not_mul(5,5)+mul(32,64]then(mul(11,8)mul(8,5))'\n",
    "\n",
    "def part1(input_str):\n",
    "    pattern = r'mul\\(\\d+,\\d+\\)'\n",
    "    muls = re.findall(pattern, input_str)\n",
    "    sum_muls = 0\n",
    "    for mul in muls:\n",
    "        nums = [int(x) for x in re.findall(r'\\d+', mul)]\n",
    "        sum_muls += np.prod(nums)\n",
    "\n",
    "    print(sum_muls)\n",
    "    \n",
    "part1(example_input)"
   ]
  },
  {
   "cell_type": "code",
   "execution_count": 11,
   "metadata": {},
   "outputs": [
    {
     "name": "stdout",
     "output_type": "stream",
     "text": [
      "182619815\n"
     ]
    }
   ],
   "source": [
    "a = open('day3.txt').read()[:-1]\n",
    "part1(a)"
   ]
  },
  {
   "cell_type": "code",
   "execution_count": 27,
   "metadata": {},
   "outputs": [
    {
     "name": "stdout",
     "output_type": "stream",
     "text": [
      "48\n"
     ]
    }
   ],
   "source": [
    "def part2(input_str):\n",
    "    pattern = r'do\\(\\)|don\\'t\\(\\)|mul\\(\\d+,\\d+\\)'\n",
    "    muls = re.findall(pattern, input_str)\n",
    "    \n",
    "    enabled = True\n",
    "    sum_muls = 0\n",
    "    for mul in muls:\n",
    "        if mul == 'do()':\n",
    "            enabled = True\n",
    "        elif mul == \"don't()\":\n",
    "            enabled = False\n",
    "        elif enabled:\n",
    "            nums = [int(x) for x in re.findall(r'\\d+', mul)]\n",
    "            sum_muls += np.prod(nums)\n",
    "        else:\n",
    "            continue\n",
    "\n",
    "    print(sum_muls)\n",
    "    \n",
    "part2(new_example_input)"
   ]
  },
  {
   "cell_type": "code",
   "execution_count": 28,
   "metadata": {},
   "outputs": [
    {
     "name": "stdout",
     "output_type": "stream",
     "text": [
      "80747545\n"
     ]
    }
   ],
   "source": [
    "part2(a)"
   ]
  }
 ],
 "metadata": {
  "kernelspec": {
   "display_name": "Python 3",
   "language": "python",
   "name": "python3"
  },
  "language_info": {
   "codemirror_mode": {
    "name": "ipython",
    "version": 3
   },
   "file_extension": ".py",
   "mimetype": "text/x-python",
   "name": "python",
   "nbconvert_exporter": "python",
   "pygments_lexer": "ipython3",
   "version": "3.6.7"
  }
 },
 "nbformat": 4,
 "nbformat_minor": 2
}
