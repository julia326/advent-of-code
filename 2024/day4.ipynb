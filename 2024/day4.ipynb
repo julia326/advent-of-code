{
 "cells": [
  {
   "cell_type": "code",
   "execution_count": 1,
   "metadata": {},
   "outputs": [
    {
     "data": {
      "text/html": [
       "<div>\n",
       "<style scoped>\n",
       "    .dataframe tbody tr th:only-of-type {\n",
       "        vertical-align: middle;\n",
       "    }\n",
       "\n",
       "    .dataframe tbody tr th {\n",
       "        vertical-align: top;\n",
       "    }\n",
       "\n",
       "    .dataframe thead th {\n",
       "        text-align: right;\n",
       "    }\n",
       "</style>\n",
       "<table border=\"1\" class=\"dataframe\">\n",
       "  <thead>\n",
       "    <tr style=\"text-align: right;\">\n",
       "      <th></th>\n",
       "      <th>0</th>\n",
       "      <th>1</th>\n",
       "      <th>2</th>\n",
       "      <th>3</th>\n",
       "      <th>4</th>\n",
       "      <th>5</th>\n",
       "      <th>6</th>\n",
       "      <th>7</th>\n",
       "      <th>8</th>\n",
       "      <th>9</th>\n",
       "    </tr>\n",
       "  </thead>\n",
       "  <tbody>\n",
       "    <tr>\n",
       "      <th>0</th>\n",
       "      <td>M</td>\n",
       "      <td>M</td>\n",
       "      <td>M</td>\n",
       "      <td>S</td>\n",
       "      <td>X</td>\n",
       "      <td>X</td>\n",
       "      <td>M</td>\n",
       "      <td>A</td>\n",
       "      <td>S</td>\n",
       "      <td>M</td>\n",
       "    </tr>\n",
       "    <tr>\n",
       "      <th>1</th>\n",
       "      <td>M</td>\n",
       "      <td>S</td>\n",
       "      <td>A</td>\n",
       "      <td>M</td>\n",
       "      <td>X</td>\n",
       "      <td>M</td>\n",
       "      <td>S</td>\n",
       "      <td>M</td>\n",
       "      <td>S</td>\n",
       "      <td>A</td>\n",
       "    </tr>\n",
       "    <tr>\n",
       "      <th>2</th>\n",
       "      <td>A</td>\n",
       "      <td>M</td>\n",
       "      <td>X</td>\n",
       "      <td>S</td>\n",
       "      <td>X</td>\n",
       "      <td>M</td>\n",
       "      <td>A</td>\n",
       "      <td>A</td>\n",
       "      <td>M</td>\n",
       "      <td>M</td>\n",
       "    </tr>\n",
       "    <tr>\n",
       "      <th>3</th>\n",
       "      <td>M</td>\n",
       "      <td>S</td>\n",
       "      <td>A</td>\n",
       "      <td>M</td>\n",
       "      <td>A</td>\n",
       "      <td>S</td>\n",
       "      <td>M</td>\n",
       "      <td>S</td>\n",
       "      <td>M</td>\n",
       "      <td>X</td>\n",
       "    </tr>\n",
       "    <tr>\n",
       "      <th>4</th>\n",
       "      <td>X</td>\n",
       "      <td>M</td>\n",
       "      <td>A</td>\n",
       "      <td>S</td>\n",
       "      <td>A</td>\n",
       "      <td>M</td>\n",
       "      <td>X</td>\n",
       "      <td>A</td>\n",
       "      <td>M</td>\n",
       "      <td>M</td>\n",
       "    </tr>\n",
       "    <tr>\n",
       "      <th>5</th>\n",
       "      <td>X</td>\n",
       "      <td>X</td>\n",
       "      <td>A</td>\n",
       "      <td>M</td>\n",
       "      <td>M</td>\n",
       "      <td>X</td>\n",
       "      <td>X</td>\n",
       "      <td>A</td>\n",
       "      <td>M</td>\n",
       "      <td>A</td>\n",
       "    </tr>\n",
       "    <tr>\n",
       "      <th>6</th>\n",
       "      <td>S</td>\n",
       "      <td>M</td>\n",
       "      <td>S</td>\n",
       "      <td>M</td>\n",
       "      <td>S</td>\n",
       "      <td>A</td>\n",
       "      <td>S</td>\n",
       "      <td>X</td>\n",
       "      <td>S</td>\n",
       "      <td>S</td>\n",
       "    </tr>\n",
       "    <tr>\n",
       "      <th>7</th>\n",
       "      <td>S</td>\n",
       "      <td>A</td>\n",
       "      <td>X</td>\n",
       "      <td>A</td>\n",
       "      <td>M</td>\n",
       "      <td>A</td>\n",
       "      <td>S</td>\n",
       "      <td>A</td>\n",
       "      <td>A</td>\n",
       "      <td>A</td>\n",
       "    </tr>\n",
       "    <tr>\n",
       "      <th>8</th>\n",
       "      <td>M</td>\n",
       "      <td>A</td>\n",
       "      <td>M</td>\n",
       "      <td>M</td>\n",
       "      <td>M</td>\n",
       "      <td>X</td>\n",
       "      <td>M</td>\n",
       "      <td>M</td>\n",
       "      <td>M</td>\n",
       "      <td>M</td>\n",
       "    </tr>\n",
       "    <tr>\n",
       "      <th>9</th>\n",
       "      <td>M</td>\n",
       "      <td>X</td>\n",
       "      <td>M</td>\n",
       "      <td>X</td>\n",
       "      <td>A</td>\n",
       "      <td>X</td>\n",
       "      <td>M</td>\n",
       "      <td>A</td>\n",
       "      <td>S</td>\n",
       "      <td>X</td>\n",
       "    </tr>\n",
       "  </tbody>\n",
       "</table>\n",
       "</div>"
      ],
      "text/plain": [
       "   0  1  2  3  4  5  6  7  8  9\n",
       "0  M  M  M  S  X  X  M  A  S  M\n",
       "1  M  S  A  M  X  M  S  M  S  A\n",
       "2  A  M  X  S  X  M  A  A  M  M\n",
       "3  M  S  A  M  A  S  M  S  M  X\n",
       "4  X  M  A  S  A  M  X  A  M  M\n",
       "5  X  X  A  M  M  X  X  A  M  A\n",
       "6  S  M  S  M  S  A  S  X  S  S\n",
       "7  S  A  X  A  M  A  S  A  A  A\n",
       "8  M  A  M  M  M  X  M  M  M  M\n",
       "9  M  X  M  X  A  X  M  A  S  X"
      ]
     },
     "execution_count": 1,
     "metadata": {},
     "output_type": "execute_result"
    }
   ],
   "source": [
    "from io import StringIO\n",
    "import itertools\n",
    "import pandas as pd\n",
    "\n",
    "example_input = \"\"\"MMMSXXMASM\n",
    "MSAMXMSMSA\n",
    "AMXSXMAAMM\n",
    "MSAMASMSMX\n",
    "XMASAMXAMM\n",
    "XXAMMXXAMA\n",
    "SMSMSASXSS\n",
    "SAXAMASAAA\n",
    "MAMMMXMMMM\n",
    "MXMXAXMASX\"\"\"\n",
    "\n",
    "lines = []\n",
    "for line in example_input.split('\\n'):\n",
    "    lines.append(list(line))\n",
    "\n",
    "df = pd.DataFrame(lines)\n",
    "df"
   ]
  },
  {
   "cell_type": "code",
   "execution_count": 2,
   "metadata": {},
   "outputs": [
    {
     "data": {
      "text/plain": [
       "True"
      ]
     },
     "execution_count": 2,
     "metadata": {},
     "output_type": "execute_result"
    }
   ],
   "source": [
    "# see if there's an 'XMAS' in a specific direction\n",
    "def is_xmas(df, i, j, i_delta, j_delta):\n",
    "    cur_i = i\n",
    "    cur_j = j\n",
    "    for k in range(len('XMAS')):\n",
    "        if cur_i >= df.shape[0] or cur_j >= df.shape[1] or cur_i < 0 or cur_j < 0:  # out of bounds\n",
    "            return False\n",
    "        if df.iloc[cur_i, cur_j] != 'XMAS'[k]:\n",
    "            return False\n",
    "        # increment counters\n",
    "        cur_i += i_delta\n",
    "        cur_j += j_delta\n",
    "    return True\n",
    "\n",
    "is_xmas(df, 0, 5, 0, 1)"
   ]
  },
  {
   "cell_type": "code",
   "execution_count": 3,
   "metadata": {},
   "outputs": [
    {
     "data": {
      "text/plain": [
       "[(-1, -1), (-1, 0), (-1, 1), (0, -1), (0, 1), (1, -1), (1, 0), (1, 1)]"
      ]
     },
     "execution_count": 3,
     "metadata": {},
     "output_type": "execute_result"
    }
   ],
   "source": [
    "all_directions = list(itertools.product([-1, 0, 1], [-1, 0, 1]))\n",
    "all_directions.remove((0, 0))\n",
    "all_directions"
   ]
  },
  {
   "cell_type": "code",
   "execution_count": 4,
   "metadata": {},
   "outputs": [
    {
     "name": "stdout",
     "output_type": "stream",
     "text": [
      "18\n"
     ]
    }
   ],
   "source": [
    "# see if there's an 'XMAS' in a specific direction\n",
    "def is_xmas(df, i, j, i_delta, j_delta):\n",
    "    cur_i = i\n",
    "    cur_j = j\n",
    "    for k in range(len('XMAS')):\n",
    "        if cur_i >= df.shape[0] or cur_j >= df.shape[1] or cur_i < 0 or cur_j < 0:  # out of bounds\n",
    "            return False\n",
    "        if df.iloc[cur_i, cur_j] != 'XMAS'[k]:\n",
    "            return False\n",
    "        # increment counters\n",
    "        cur_i += i_delta\n",
    "        cur_j += j_delta\n",
    "    return True\n",
    "\n",
    "def part1(input_str):\n",
    "    # parse input into dataframe\n",
    "    lines = []\n",
    "    for line in input_str.split('\\n'):\n",
    "        lines.append(list(line))\n",
    "    df = pd.DataFrame(lines)\n",
    "    \n",
    "    # create list of all directions to check\n",
    "    all_directions = list(itertools.product([-1, 0, 1], [-1, 0, 1]))\n",
    "    all_directions.remove((0, 0))\n",
    "    \n",
    "    sum_all_xmas = 0\n",
    "    for i in range(df.shape[0]):\n",
    "        for j in range(df.shape[1]):\n",
    "            for (i_delta, j_delta) in all_directions:\n",
    "                if is_xmas(df, i, j, i_delta, j_delta):\n",
    "                    sum_all_xmas += 1\n",
    "\n",
    "    print(sum_all_xmas)\n",
    "    \n",
    "part1(example_input)"
   ]
  },
  {
   "cell_type": "code",
   "execution_count": 5,
   "metadata": {},
   "outputs": [
    {
     "name": "stdout",
     "output_type": "stream",
     "text": [
      "2571\n"
     ]
    }
   ],
   "source": [
    "a = open('day4.txt').read()[:-1]\n",
    "part1(a)"
   ]
  },
  {
   "cell_type": "code",
   "execution_count": 6,
   "metadata": {},
   "outputs": [
    {
     "name": "stdout",
     "output_type": "stream",
     "text": [
      "9\n"
     ]
    }
   ],
   "source": [
    "# for part 2, need to look for these:\n",
    "allowed_strings = {'MAS', 'SAM'}\n",
    "def is_x_mas(df, i, j):\n",
    "    if i >= df.shape[0]-1 or j >= df.shape[1]-1 or i < 1 or j < 1:\n",
    "        return False\n",
    "    \n",
    "    # get string at first diagonal\n",
    "    left_diagonal = '%s%s%s' % (df.iloc[i-1, j-1], df.iloc[i, j], df.iloc[i+1, j+1])\n",
    "    right_diagonal = '%s%s%s' % (df.iloc[i+1, j-1], df.iloc[i, j], df.iloc[i-1, j+1])\n",
    "    return left_diagonal in allowed_strings and right_diagonal in allowed_strings\n",
    "\n",
    "def part2(input_str):\n",
    "    # parse input into dataframe\n",
    "    lines = []\n",
    "    for line in input_str.split('\\n'):\n",
    "        lines.append(list(line))\n",
    "    df = pd.DataFrame(lines)\n",
    "    \n",
    "    sum_all_xmas = 0\n",
    "    for i in range(df.shape[0]):\n",
    "        for j in range(df.shape[1]):\n",
    "            if is_x_mas(df, i, j):\n",
    "                sum_all_xmas += 1\n",
    "\n",
    "    print(sum_all_xmas)\n",
    "    \n",
    "part2(example_input)"
   ]
  },
  {
   "cell_type": "code",
   "execution_count": 7,
   "metadata": {},
   "outputs": [
    {
     "name": "stdout",
     "output_type": "stream",
     "text": [
      "1992\n"
     ]
    }
   ],
   "source": [
    "part2(a)"
   ]
  }
 ],
 "metadata": {
  "kernelspec": {
   "display_name": "Python 3",
   "language": "python",
   "name": "python3"
  },
  "language_info": {
   "codemirror_mode": {
    "name": "ipython",
    "version": 3
   },
   "file_extension": ".py",
   "mimetype": "text/x-python",
   "name": "python",
   "nbconvert_exporter": "python",
   "pygments_lexer": "ipython3",
   "version": "3.6.7"
  }
 },
 "nbformat": 4,
 "nbformat_minor": 2
}
