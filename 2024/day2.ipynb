{
 "cells": [
  {
   "cell_type": "code",
   "execution_count": 23,
   "metadata": {},
   "outputs": [
    {
     "name": "stdout",
     "output_type": "stream",
     "text": [
      "2\n"
     ]
    }
   ],
   "source": [
    "example_input = \"\"\"7 6 4 2 1\n",
    "1 2 7 8 9\n",
    "9 7 6 2 1\n",
    "1 3 2 4 5\n",
    "8 6 4 4 1\n",
    "1 3 6 7 9\"\"\"\n",
    "\n",
    "def is_safe(nums):\n",
    "    diffs = [y - x for x, y in zip(nums, nums[1:])]\n",
    "    if not (all(x > 0 for x in diffs) or all(x < 0 for x in diffs)):  # non-monotonic\n",
    "        return False\n",
    "\n",
    "    if any(abs(x) < 1 or abs(x) > 3 for x in diffs):\n",
    "        return False\n",
    "    \n",
    "    return True\n",
    "\n",
    "\n",
    "def part1(input_str):\n",
    "    num_safe = 0\n",
    "    for line in input_str.split('\\n'):\n",
    "        line_nums = [int(x) for x in line.split()]\n",
    "        if is_safe(line_nums):\n",
    "            num_safe += 1\n",
    "\n",
    "    print(num_safe)\n",
    "    \n",
    "part1(example_input)"
   ]
  },
  {
   "cell_type": "code",
   "execution_count": 24,
   "metadata": {},
   "outputs": [
    {
     "name": "stdout",
     "output_type": "stream",
     "text": [
      "218\n"
     ]
    }
   ],
   "source": [
    "a = open('day2.txt').read()[:-1]\n",
    "part1(a)"
   ]
  },
  {
   "cell_type": "code",
   "execution_count": 26,
   "metadata": {},
   "outputs": [
    {
     "name": "stdout",
     "output_type": "stream",
     "text": [
      "4\n"
     ]
    }
   ],
   "source": [
    "def part2(input_str):\n",
    "    num_safe = 0\n",
    "    for line in input_str.split('\\n'):\n",
    "        line_nums = [int(x) for x in line.split()]\n",
    "        if is_safe(line_nums):\n",
    "            num_safe += 1\n",
    "        else:\n",
    "            # try removing each number in turn from the list, check if safe\n",
    "            for i in range(len(line_nums)):\n",
    "                nums_copy = line_nums.copy()\n",
    "                del(nums_copy[i])\n",
    "                if is_safe(nums_copy):\n",
    "                    num_safe += 1\n",
    "                    break\n",
    "                    \n",
    "    print(num_safe)\n",
    "            \n",
    "part2(example_input)"
   ]
  },
  {
   "cell_type": "code",
   "execution_count": 27,
   "metadata": {},
   "outputs": [
    {
     "name": "stdout",
     "output_type": "stream",
     "text": [
      "290\n"
     ]
    }
   ],
   "source": [
    "part2(a)"
   ]
  }
 ],
 "metadata": {
  "kernelspec": {
   "display_name": "Python 3",
   "language": "python",
   "name": "python3"
  },
  "language_info": {
   "codemirror_mode": {
    "name": "ipython",
    "version": 3
   },
   "file_extension": ".py",
   "mimetype": "text/x-python",
   "name": "python",
   "nbconvert_exporter": "python",
   "pygments_lexer": "ipython3",
   "version": "3.6.7"
  }
 },
 "nbformat": 4,
 "nbformat_minor": 2
}
