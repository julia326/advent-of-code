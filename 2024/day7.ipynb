{
 "cells": [
  {
   "cell_type": "code",
   "execution_count": 1,
   "metadata": {},
   "outputs": [],
   "source": [
    "example_input = \"\"\"190: 10 19\n",
    "3267: 81 40 27\n",
    "83: 17 5\n",
    "156: 15 6\n",
    "7290: 6 8 6 15\n",
    "161011: 16 10 13\n",
    "192: 17 8 14\n",
    "21037: 9 7 18 13\n",
    "292: 11 6 16 20\"\"\""
   ]
  },
  {
   "cell_type": "code",
   "execution_count": 2,
   "metadata": {},
   "outputs": [
    {
     "name": "stdout",
     "output_type": "stream",
     "text": [
      "292\n",
      "['11', '6', '16', '20']\n"
     ]
    }
   ],
   "source": [
    "line = \"292: 11 6 16 20\"\n",
    "out, nums = line.split(': ')\n",
    "nums = nums.split(' ')\n",
    "print(out)\n",
    "print(nums)"
   ]
  },
  {
   "cell_type": "code",
   "execution_count": 3,
   "metadata": {},
   "outputs": [
    {
     "data": {
      "text/plain": [
       "['+++', '++*', '+*+', '+**', '*++', '*+*', '**+', '***']"
      ]
     },
     "execution_count": 3,
     "metadata": {},
     "output_type": "execute_result"
    }
   ],
   "source": [
    "def generate_all_operators(str_so_far, num_left, all_combos):\n",
    "    if num_left == 0:\n",
    "        all_combos.append(str_so_far)\n",
    "        return\n",
    "    for char in ['+', '*']:\n",
    "        generate_all_operators(str_so_far + char, num_left-1, all_combos)\n",
    "        \n",
    "all_combos = []\n",
    "generate_all_operators('', 3, all_combos)\n",
    "all_combos"
   ]
  },
  {
   "cell_type": "code",
   "execution_count": 4,
   "metadata": {},
   "outputs": [
    {
     "name": "stdout",
     "output_type": "stream",
     "text": [
      "Found! 292\n"
     ]
    }
   ],
   "source": [
    "nums = [int(x) for x in nums]\n",
    "for combo in all_combos:\n",
    "    total = 0\n",
    "    for i in range(len(nums)-1):\n",
    "        operator = combo[i]\n",
    "        first_num = nums[0] if i == 0 else total\n",
    "        if operator == '+':\n",
    "            total = first_num + nums[i+1]\n",
    "        else:\n",
    "            total = first_num * nums[i+1]\n",
    "        \n",
    "    if total == int(out):\n",
    "        print('Found! ' + str(total))\n",
    "            "
   ]
  },
  {
   "cell_type": "code",
   "execution_count": 5,
   "metadata": {},
   "outputs": [
    {
     "name": "stdout",
     "output_type": "stream",
     "text": [
      "3749\n"
     ]
    }
   ],
   "source": [
    "def part1(input_str):\n",
    "    total_possible = 0\n",
    "    for line in input_str.split('\\n'):\n",
    "        out, nums = line.split(': ')\n",
    "        nums = [int(x) for x in nums.split(' ')]\n",
    "        all_combos = []\n",
    "        generate_all_operators('', len(nums)-1, all_combos)\n",
    "        found = False\n",
    "        for combo in all_combos:\n",
    "            total = 0\n",
    "            for i in range(len(nums)-1):\n",
    "                operator = combo[i]\n",
    "                first_num = nums[0] if i == 0 else total\n",
    "                if operator == '+':\n",
    "                    total = first_num + nums[i+1]\n",
    "                else:\n",
    "                    total = first_num * nums[i+1]\n",
    "\n",
    "            if total == int(out):\n",
    "                found = True\n",
    "                break\n",
    "        if found:\n",
    "            total_possible += total\n",
    "    print(total_possible)\n",
    "                \n",
    "part1(example_input)"
   ]
  },
  {
   "cell_type": "code",
   "execution_count": 6,
   "metadata": {},
   "outputs": [
    {
     "name": "stdout",
     "output_type": "stream",
     "text": [
      "5512534574980\n"
     ]
    }
   ],
   "source": [
    "a = open('day7.txt').read()[:-1]\n",
    "part1(a)"
   ]
  },
  {
   "cell_type": "code",
   "execution_count": 7,
   "metadata": {
    "scrolled": true
   },
   "outputs": [
    {
     "data": {
      "text/plain": [
       "['+++',\n",
       " '++*',\n",
       " '++|',\n",
       " '+*+',\n",
       " '+**',\n",
       " '+*|',\n",
       " '+|+',\n",
       " '+|*',\n",
       " '+||',\n",
       " '*++',\n",
       " '*+*',\n",
       " '*+|',\n",
       " '**+',\n",
       " '***',\n",
       " '**|',\n",
       " '*|+',\n",
       " '*|*',\n",
       " '*||',\n",
       " '|++',\n",
       " '|+*',\n",
       " '|+|',\n",
       " '|*+',\n",
       " '|**',\n",
       " '|*|',\n",
       " '||+',\n",
       " '||*',\n",
       " '|||']"
      ]
     },
     "execution_count": 7,
     "metadata": {},
     "output_type": "execute_result"
    }
   ],
   "source": [
    "# part 2: also have a concat operator, '||'\n",
    "def generate_all_operators_with_concat(str_so_far, num_left, all_combos):\n",
    "    if num_left == 0:\n",
    "        all_combos.append(str_so_far)\n",
    "        return\n",
    "    for char in ['+', '*', '|']:\n",
    "        generate_all_operators_with_concat(str_so_far + char, num_left-1, all_combos)\n",
    "        \n",
    "all_combos = []\n",
    "generate_all_operators_with_concat('', 3, all_combos)\n",
    "all_combos"
   ]
  },
  {
   "cell_type": "code",
   "execution_count": 15,
   "metadata": {},
   "outputs": [
    {
     "name": "stdout",
     "output_type": "stream",
     "text": [
      "11387\n"
     ]
    }
   ],
   "source": [
    "def part2(input_str):\n",
    "    total_possible = 0\n",
    "    for line in input_str.split('\\n'):\n",
    "        out, nums = line.split(': ')\n",
    "        out = int(out)\n",
    "        nums = [int(x) for x in nums.split(' ')]\n",
    "        all_combos = []\n",
    "        generate_all_operators_with_concat('', len(nums)-1, all_combos)\n",
    "        found = False\n",
    "        for combo in all_combos:\n",
    "            total = 0\n",
    "            for i in range(len(nums)-1):\n",
    "                operator = combo[i]\n",
    "                first_num = nums[0] if i == 0 else total\n",
    "                if operator == '+':\n",
    "                    total = first_num + nums[i+1]\n",
    "                elif operator == '*':\n",
    "                    total = first_num * nums[i+1]\n",
    "                elif operator == '|':\n",
    "                    total = eval('%d%d' % (first_num, nums[i+1]))\n",
    "                else:\n",
    "                    raise ValueError('unexpected op')\n",
    "                \n",
    "                if total > out:\n",
    "                    break\n",
    "                \n",
    "            if total == out:\n",
    "                found = True\n",
    "                break\n",
    "        if found:\n",
    "            total_possible += total\n",
    "    print(total_possible)\n",
    "                \n",
    "part2(example_input)"
   ]
  },
  {
   "cell_type": "code",
   "execution_count": 16,
   "metadata": {
    "scrolled": true
   },
   "outputs": [
    {
     "name": "stdout",
     "output_type": "stream",
     "text": [
      "328790210468594\n"
     ]
    }
   ],
   "source": [
    "part2(a)"
   ]
  }
 ],
 "metadata": {
  "kernelspec": {
   "display_name": "Python 3",
   "language": "python",
   "name": "python3"
  },
  "language_info": {
   "codemirror_mode": {
    "name": "ipython",
    "version": 3
   },
   "file_extension": ".py",
   "mimetype": "text/x-python",
   "name": "python",
   "nbconvert_exporter": "python",
   "pygments_lexer": "ipython3",
   "version": "3.6.7"
  }
 },
 "nbformat": 4,
 "nbformat_minor": 2
}
