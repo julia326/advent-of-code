{
 "cells": [
  {
   "cell_type": "code",
   "execution_count": 1,
   "metadata": {},
   "outputs": [
    {
     "data": {
      "text/plain": [
       "['0', '.', '.', '1', '1', '1', '.', '.', '.', '.', '2', '2', '2', '2', '2']"
      ]
     },
     "execution_count": 1,
     "metadata": {},
     "output_type": "execute_result"
    }
   ],
   "source": [
    "easy_example = \"12345\"\n",
    "\n",
    "# returns a list\n",
    "def convert_dense(input_str):\n",
    "    # convert to a file ID and block representation\n",
    "    file = True\n",
    "    id_num = 0\n",
    "    out = []\n",
    "    for char in input_str:\n",
    "        num_blocks = int(char)\n",
    "        if file:\n",
    "            out.extend([str(id_num)] * num_blocks)\n",
    "            id_num += 1\n",
    "            file = False\n",
    "        else:\n",
    "            out.extend(['.'] * num_blocks)\n",
    "            file = True\n",
    "\n",
    "    return out\n",
    "        \n",
    "convert_dense(easy_example)"
   ]
  },
  {
   "cell_type": "code",
   "execution_count": 2,
   "metadata": {},
   "outputs": [
    {
     "data": {
      "text/plain": [
       "'00...111...2...333.44.5555.6666.777.888899'"
      ]
     },
     "execution_count": 2,
     "metadata": {},
     "output_type": "execute_result"
    }
   ],
   "source": [
    "''.join(convert_dense('2333133121414131402'))"
   ]
  },
  {
   "cell_type": "code",
   "execution_count": 5,
   "metadata": {},
   "outputs": [],
   "source": [
    "from collections import Counter\n",
    "import queue\n",
    "\n",
    "def move_blocks(input_lst):\n",
    "    # move blocks from right to leftmost free spot\n",
    "    # count how many total free blocks there are\n",
    "    num_free_space = Counter(input_lst)['.']\n",
    "    free_space_str = '.' * num_free_space\n",
    "    \n",
    "    blocks_to_move = queue.Queue()\n",
    "    # get the list all file block chars from the end of the string to fill up the free space\n",
    "    for i in range(len(input_lst)):\n",
    "        pos = len(input_lst)-i-1\n",
    "        char = input_lst[pos]\n",
    "        if char != '.':\n",
    "            blocks_to_move.put(char)\n",
    "            if blocks_to_move.qsize() == num_free_space:\n",
    "                break\n",
    "                \n",
    "    # populate the list with the chars we just collected\n",
    "    for i in range(len(input_lst)):\n",
    "        # if no more blocks to move, break\n",
    "        if blocks_to_move.empty():\n",
    "            break\n",
    "            \n",
    "        if input_lst[i] == '.':\n",
    "            input_lst[i] = blocks_to_move.get()\n",
    "\n",
    "    # reset the last bit of the list to .\n",
    "    num_reset = 0\n",
    "    for i in range(len(input_lst)):\n",
    "        if num_reset == num_free_space:\n",
    "            break\n",
    "        pos = len(input_lst)-i-1\n",
    "        input_lst[pos] = '.'\n",
    "        num_reset += 1\n",
    "        \n",
    "    return input_lst"
   ]
  },
  {
   "cell_type": "code",
   "execution_count": 6,
   "metadata": {},
   "outputs": [
    {
     "data": {
      "text/plain": [
       "'0099811188827773336446555566..............'"
      ]
     },
     "execution_count": 6,
     "metadata": {},
     "output_type": "execute_result"
    }
   ],
   "source": [
    "a = convert_dense('2333133121414131402')\n",
    "''.join(move_blocks(a))"
   ]
  },
  {
   "cell_type": "code",
   "execution_count": 7,
   "metadata": {},
   "outputs": [
    {
     "data": {
      "text/plain": [
       "True"
      ]
     },
     "execution_count": 7,
     "metadata": {},
     "output_type": "execute_result"
    }
   ],
   "source": [
    "'0099811188827773336446555566..............' == '0099811188827773336446555566..............'"
   ]
  },
  {
   "cell_type": "code",
   "execution_count": 52,
   "metadata": {},
   "outputs": [
    {
     "data": {
      "text/plain": [
       "1928"
      ]
     },
     "execution_count": 52,
     "metadata": {},
     "output_type": "execute_result"
    }
   ],
   "source": [
    "def compute_checksum(dense):\n",
    "    checksum = 0\n",
    "    for i in range(len(dense)):\n",
    "        char = dense[i]\n",
    "        if char != '.':\n",
    "            checksum += int(char) * i\n",
    "    return checksum\n",
    "\n",
    "compute_checksum('0099811188827773336446555566..............')"
   ]
  },
  {
   "cell_type": "code",
   "execution_count": 9,
   "metadata": {},
   "outputs": [
    {
     "name": "stdout",
     "output_type": "stream",
     "text": [
      "1928\n"
     ]
    }
   ],
   "source": [
    "a = '2333133121414131402'\n",
    "\n",
    "dense_a = convert_dense(a)\n",
    "blocks_moved = move_blocks(dense_a)\n",
    "checksum = compute_checksum(blocks_moved)\n",
    "print(checksum)"
   ]
  },
  {
   "cell_type": "code",
   "execution_count": 10,
   "metadata": {},
   "outputs": [
    {
     "data": {
      "text/plain": [
       "6334655979668"
      ]
     },
     "execution_count": 10,
     "metadata": {},
     "output_type": "execute_result"
    }
   ],
   "source": [
    "a = open('day9.txt').read()[:-1]\n",
    "compute_checksum(move_blocks(convert_dense(a)))"
   ]
  },
  {
   "cell_type": "code",
   "execution_count": 47,
   "metadata": {},
   "outputs": [
    {
     "name": "stdout",
     "output_type": "stream",
     "text": [
      "0\n",
      "['0', '0', '9', '9', '2', '1', '1', '1', '7', '7', '7', '.', '4', '4', '.', '3', '3', '3', '.', '.', '.', '.', '5', '5', '5', '5', '.', '6', '6', '6', '6', '.', '.', '.', '.', '.', '8', '8', '8', '8', '.', '.']\n"
     ]
    }
   ],
   "source": [
    "# part 2\n",
    "def move_blocks_whole_file(input_lst):\n",
    "    # move blocks from right to leftmost free spot\n",
    "    # count how many total free blocks there are\n",
    "    \n",
    "    # make a map of file IDs to how many blocks they take up\n",
    "    file_id_block_counter = Counter(input_lst)\n",
    "    \n",
    "    # also save the first position of each file ID\n",
    "    file_id_positions = {}\n",
    "    for i in range(len(input_lst)):\n",
    "        char = input_lst[i]\n",
    "        if char != '.' and char not in file_id_positions:\n",
    "            file_id_positions[char] = i\n",
    "            \n",
    "#     print(''.join([str(x) for x in input_lst]))\n",
    "        \n",
    "    # starting from the highest number: see if there is any place to put it earlier in the list\n",
    "    cur_file_id = max(file_id_block_counter.keys())\n",
    "    while cur_file_id >= '0':\n",
    "        if int(cur_file_id) % 100 == 0:\n",
    "            print(cur_file_id)\n",
    "        num_blocks_needed = file_id_block_counter[cur_file_id]\n",
    "        former_pos = file_id_positions[cur_file_id]\n",
    "        # is there anywhere it can be put?\n",
    "        for i in range(0, min(former_pos, len(input_lst))):\n",
    "            if input_lst[i:i+num_blocks_needed] == ['.'] * num_blocks_needed:\n",
    "                # found a spot!\n",
    "                input_lst[i:i+num_blocks_needed] = [cur_file_id] * num_blocks_needed\n",
    "                input_lst[\n",
    "                    former_pos:former_pos+num_blocks_needed] = ['.'] * num_blocks_needed\n",
    "                break\n",
    "                \n",
    "        cur_file_id = str(int(cur_file_id)-1)\n",
    "#         print(''.join([str(x) for x in input_lst]))\n",
    "        \n",
    "    return input_lst\n",
    "\n",
    "dense_a = convert_dense('2333133121414131402')\n",
    "blocks_moved_part2 = move_blocks_whole_file(dense_a)\n",
    "print(blocks_moved_part2)"
   ]
  },
  {
   "cell_type": "code",
   "execution_count": 48,
   "metadata": {
    "scrolled": true
   },
   "outputs": [
    {
     "name": "stdout",
     "output_type": "stream",
     "text": [
      "9900\n",
      "9800\n",
      "9700\n",
      "9600\n",
      "9500\n",
      "9400\n",
      "9300\n",
      "9200\n",
      "9100\n",
      "9000\n",
      "8900\n",
      "8800\n",
      "8700\n",
      "8600\n",
      "8500\n",
      "8400\n",
      "8300\n",
      "8200\n",
      "8100\n",
      "8000\n",
      "7900\n",
      "7800\n",
      "7700\n",
      "7600\n",
      "7500\n",
      "7400\n",
      "7300\n",
      "7200\n",
      "7100\n",
      "7000\n",
      "6900\n",
      "6800\n",
      "6700\n",
      "6600\n",
      "6500\n",
      "6400\n",
      "6300\n",
      "6200\n",
      "6100\n",
      "6000\n",
      "5900\n",
      "5800\n",
      "5700\n",
      "5600\n",
      "5500\n",
      "5400\n",
      "5300\n",
      "5200\n",
      "5100\n",
      "5000\n",
      "4900\n",
      "4800\n",
      "4700\n",
      "4600\n",
      "4500\n",
      "4400\n",
      "4300\n",
      "4200\n",
      "4100\n",
      "4000\n",
      "3900\n",
      "3800\n",
      "3700\n",
      "3600\n",
      "3500\n",
      "3400\n",
      "3300\n",
      "3200\n",
      "3100\n",
      "3000\n",
      "2900\n",
      "2800\n",
      "2700\n",
      "2600\n",
      "2500\n",
      "2400\n",
      "2300\n",
      "2200\n",
      "2100\n",
      "2000\n",
      "1900\n",
      "1800\n",
      "1700\n",
      "1600\n",
      "1500\n",
      "1400\n",
      "1300\n",
      "1200\n",
      "1100\n",
      "1000\n",
      "900\n",
      "800\n",
      "700\n",
      "600\n",
      "500\n",
      "400\n",
      "300\n",
      "200\n",
      "100\n",
      "0\n"
     ]
    }
   ],
   "source": [
    "a = open('day9.txt').read()[:-1]\n",
    "dense_a = convert_dense(a)\n",
    "blocks_moved_part2 = move_blocks_whole_file(dense_a)"
   ]
  },
  {
   "cell_type": "code",
   "execution_count": 49,
   "metadata": {},
   "outputs": [
    {
     "data": {
      "text/plain": [
       "94638"
      ]
     },
     "execution_count": 49,
     "metadata": {},
     "output_type": "execute_result"
    }
   ],
   "source": [
    "len(blocks_moved_part2)"
   ]
  },
  {
   "cell_type": "code",
   "execution_count": 53,
   "metadata": {},
   "outputs": [
    {
     "data": {
      "text/plain": [
       "6349492251099"
      ]
     },
     "execution_count": 53,
     "metadata": {},
     "output_type": "execute_result"
    }
   ],
   "source": [
    "compute_checksum(blocks_moved_part2)"
   ]
  }
 ],
 "metadata": {
  "kernelspec": {
   "display_name": "Python 3",
   "language": "python",
   "name": "python3"
  },
  "language_info": {
   "codemirror_mode": {
    "name": "ipython",
    "version": 3
   },
   "file_extension": ".py",
   "mimetype": "text/x-python",
   "name": "python",
   "nbconvert_exporter": "python",
   "pygments_lexer": "ipython3",
   "version": "3.6.7"
  }
 },
 "nbformat": 4,
 "nbformat_minor": 2
}
