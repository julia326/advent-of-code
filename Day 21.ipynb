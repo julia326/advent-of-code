{
 "cells": [
  {
   "cell_type": "code",
   "execution_count": 70,
   "metadata": {},
   "outputs": [
    {
     "data": {
      "text/plain": [
       "['mxmxvkd kfcds sqjhc nhms (contains dairy, fish)',\n",
       " 'trh fvjkl sbzzf mxmxvkd (contains dairy)',\n",
       " 'sqjhc fvjkl (contains soy)',\n",
       " 'sqjhc mxmxvkd sbzzf (contains fish)']"
      ]
     },
     "execution_count": 70,
     "metadata": {},
     "output_type": "execute_result"
    }
   ],
   "source": [
    "example = \"\"\"\n",
    "mxmxvkd kfcds sqjhc nhms (contains dairy, fish)\n",
    "trh fvjkl sbzzf mxmxvkd (contains dairy)\n",
    "sqjhc fvjkl (contains soy)\n",
    "sqjhc mxmxvkd sbzzf (contains fish)\n",
    "\"\"\".strip().split('\\n')\n",
    "example"
   ]
  },
  {
   "cell_type": "code",
   "execution_count": 71,
   "metadata": {},
   "outputs": [
    {
     "name": "stdout",
     "output_type": "stream",
     "text": [
      "['mxmxvkd', 'kfcds', 'sqjhc', 'nhms']\n",
      "['dairy', 'fish']\n"
     ]
    }
   ],
   "source": [
    "import re\n",
    "\n",
    "line = example[0]\n",
    "ingredients, allergens = re.search('(.+?) \\(contains (.+?)\\)', line).groups()\n",
    "ingredients = ingredients.split(' ')\n",
    "allergens = allergens.split(', ')\n",
    "print(ingredients)\n",
    "print(allergens)"
   ]
  },
  {
   "cell_type": "code",
   "execution_count": 72,
   "metadata": {},
   "outputs": [
    {
     "name": "stdout",
     "output_type": "stream",
     "text": [
      "Allergen map: {'dairy': 'mxmxvkd'}\n",
      "Allergen map: {'dairy': 'mxmxvkd', 'fish': 'sqjhc'}\n",
      "Allergen map: {'dairy': 'mxmxvkd', 'fish': 'sqjhc', 'soy': 'fvjkl'}\n",
      "5\n"
     ]
    },
    {
     "data": {
      "text/plain": [
       "{'dairy': 'mxmxvkd', 'fish': 'sqjhc', 'soy': 'fvjkl'}"
      ]
     },
     "execution_count": 72,
     "metadata": {},
     "output_type": "execute_result"
    }
   ],
   "source": [
    "# each ingredient may contain at most one allergen; each allergen maps to some ingredient\n",
    "\n",
    "from collections import defaultdict\n",
    "\n",
    "def puzzle(example):\n",
    "\n",
    "    # for each allergen, list the lines it's found in\n",
    "    allergen_to_ingredient_lists = defaultdict(list)\n",
    "    allergen_map = {}\n",
    "\n",
    "    for line in example:\n",
    "        ingredients, allergens = re.search('(.+?) \\(contains (.+?)\\)', line).groups()\n",
    "        ingredients = ingredients.split(' ')\n",
    "        allergens = allergens.split(', ')\n",
    "        for allergen in allergens:\n",
    "            allergen_to_ingredient_lists[allergen].append(ingredients)\n",
    "\n",
    "    while True:\n",
    "        # take the set intersection of ingredient lists this allergen occurs in: is it 1?\n",
    "        for allergen, ingredient_list in allergen_to_ingredient_lists.items():\n",
    "            possible_ingredients = set.intersection(*[set(x) for x in ingredient_list])\n",
    "            if len(possible_ingredients) == 1:\n",
    "                matched_ingredient = list(possible_ingredients)[0]\n",
    "                allergen_map[allergen] = matched_ingredient\n",
    "\n",
    "        print('Allergen map: %s' % allergen_map)\n",
    "\n",
    "        # if we know this is dairy, we can remove it from the other allergen_to_ingredient_lists lists;\n",
    "        # do not change dairy, but update the lists for fish and soy\n",
    "        for allergen, matched_ingredient in allergen_map.items():\n",
    "            for allergen2 in set(allergen_to_ingredient_lists.keys()).difference({'dairy'}):\n",
    "                ingredient_lists = allergen_to_ingredient_lists[allergen2]\n",
    "                # removed matched ingredient from this other list\n",
    "                for ingredient_list in ingredient_lists:\n",
    "                    if matched_ingredient in ingredient_list:\n",
    "                        ingredient_list.remove(matched_ingredient)\n",
    "\n",
    "        if len(allergen_map) == len(allergen_to_ingredient_lists):\n",
    "            break\n",
    "\n",
    "    # go back through the original lists of all the things, diff with known allergens, keep count\n",
    "    count_no_allergen = 0\n",
    "    ingredients_with_known_allergens = set(allergen_map.values())\n",
    "    for line in example:\n",
    "        ingredients = re.search('(.+?) \\(contains (.+?)\\)', line).groups()[0].split(' ')\n",
    "        for ingredient in ingredients:\n",
    "            if ingredient not in ingredients_with_known_allergens:\n",
    "                count_no_allergen += 1\n",
    "\n",
    "    print(count_no_allergen)\n",
    "    return allergen_map\n",
    "    \n",
    "puzzle(example)"
   ]
  },
  {
   "cell_type": "code",
   "execution_count": 73,
   "metadata": {},
   "outputs": [
    {
     "name": "stdout",
     "output_type": "stream",
     "text": [
      "Allergen map: {'sesame': 'xzfj'}\n",
      "Allergen map: {'sesame': 'xzfj', 'fish': 'ndfb', 'soy': 'fkcmf'}\n",
      "Allergen map: {'sesame': 'xzfj', 'fish': 'ndfb', 'soy': 'fkcmf', 'dairy': 'ktpbgdn', 'wheat': 'hdqkqhh'}\n",
      "Allergen map: {'sesame': 'xzfj', 'fish': 'ndfb', 'soy': 'fkcmf', 'dairy': 'ktpbgdn', 'wheat': 'hdqkqhh', 'shellfish': 'bfgcms', 'eggs': 'pnpfjb'}\n",
      "Allergen map: {'sesame': 'xzfj', 'fish': 'ndfb', 'soy': 'fkcmf', 'dairy': 'ktpbgdn', 'wheat': 'hdqkqhh', 'shellfish': 'bfgcms', 'eggs': 'pnpfjb', 'peanuts': 'rdhljms'}\n",
      "2380\n"
     ]
    }
   ],
   "source": [
    "with open('inputs/input21.txt') as f:\n",
    "    input21 = f.read().split('\\n')\n",
    "    \n",
    "allergens = puzzle(input21)"
   ]
  },
  {
   "cell_type": "code",
   "execution_count": 74,
   "metadata": {},
   "outputs": [
    {
     "data": {
      "text/plain": [
       "'ktpbgdn,pnpfjb,ndfb,rdhljms,xzfj,bfgcms,fkcmf,hdqkqhh'"
      ]
     },
     "execution_count": 74,
     "metadata": {},
     "output_type": "execute_result"
    }
   ],
   "source": [
    "# puzzle 2\n",
    "\n",
    "','.join([allergens[k] for k in sorted(allergens.keys())])"
   ]
  }
 ],
 "metadata": {
  "kernelspec": {
   "display_name": "Python 3",
   "language": "python",
   "name": "python3"
  },
  "language_info": {
   "codemirror_mode": {
    "name": "ipython",
    "version": 3
   },
   "file_extension": ".py",
   "mimetype": "text/x-python",
   "name": "python",
   "nbconvert_exporter": "python",
   "pygments_lexer": "ipython3",
   "version": "3.6.7"
  }
 },
 "nbformat": 4,
 "nbformat_minor": 2
}
