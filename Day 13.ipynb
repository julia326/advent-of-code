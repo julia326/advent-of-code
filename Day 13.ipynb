{
 "cells": [
  {
   "cell_type": "code",
   "execution_count": 36,
   "metadata": {},
   "outputs": [],
   "source": [
    "with open('inputs/input13.txt') as f:\n",
    "    buses = f.read().split('\\n')"
   ]
  },
  {
   "cell_type": "code",
   "execution_count": 38,
   "metadata": {},
   "outputs": [
    {
     "name": "stdout",
     "output_type": "stream",
     "text": [
      "1013728\n",
      "[23, 41, 733, 13, 17, 19, 29, 449, 37]\n",
      "8063\n"
     ]
    }
   ],
   "source": [
    "def find_lowest_multiple(min_start, nums):\n",
    "    for i in range(min_start, 2**31-1):\n",
    "        for num in nums:\n",
    "            if i % num == 0:\n",
    "                return num, i\n",
    "            \n",
    "# puzzle 1\n",
    "min_start = int(buses[0])\n",
    "buses_in_service = list(map(int, (x for x in buses[1].split(',') if x != 'x')))\n",
    "print(min_start)\n",
    "print(buses_in_service)\n",
    "\n",
    "# starting with min_start, what's the smallest multiple of any of the input numbers?\n",
    "first_bus, etd = find_lowest_multiple(min_start, buses_in_service)\n",
    "wait_time = etd - min_start\n",
    "print(first_bus * wait_time)"
   ]
  },
  {
   "cell_type": "code",
   "execution_count": 39,
   "metadata": {},
   "outputs": [
    {
     "name": "stdout",
     "output_type": "stream",
     "text": [
      "2\n",
      "1\n",
      "4\n",
      "2\n"
     ]
    }
   ],
   "source": [
    "# puzzle 2: Chinese remainder theorem with modular equations\n",
    "\n",
    "# finding modular multiplicative inverse\n",
    "# lifted from https://stackoverflow.com/questions/4798654/modular-multiplicative-inverse-function-in-python\n",
    "\n",
    "def egcd(a, b):\n",
    "    if a == 0:\n",
    "        return (b, 0, 1)\n",
    "    else:\n",
    "        g, y, x = egcd(b % a, a)\n",
    "        return (g, x - (b // a) * y, y)\n",
    "\n",
    "# returns y such that x*y == 1 (mod p)\n",
    "def modinv(a, m):\n",
    "    g, x, y = egcd(a, m)\n",
    "    if g != 1:\n",
    "        raise Exception('modular inverse does not exist')\n",
    "    else:\n",
    "        return x % m\n",
    "\n",
    "print(modinv(140, 3))\n",
    "print(modinv(105, 4))\n",
    "print(modinv(84, 5))\n",
    "print(modinv(60, 7))"
   ]
  },
  {
   "cell_type": "code",
   "execution_count": 41,
   "metadata": {},
   "outputs": [
    {
     "name": "stdout",
     "output_type": "stream",
     "text": [
      "M = 3162341\n",
      "y0 = 2\n",
      "y1 = 1\n",
      "y2 = 35\n",
      "y3 = 3\n",
      "y4 = 18\n",
      "156023490.0\n",
      "1068781.0\n"
     ]
    }
   ],
   "source": [
    "# using the example\n",
    "\n",
    "\"\"\"\n",
    "t = 0 mod 7\n",
    "t = 1 mod 13\n",
    "t = 4 mod 59\n",
    "t = 6 mod 31\n",
    "t = 7 mod 19\n",
    "\"\"\"\n",
    "\n",
    "import numpy as np\n",
    "\n",
    "mods = [7, 13, 59, 31, 19]\n",
    "offsets = [0, 1, 4, 6, 7]\n",
    "    \n",
    "M = np.prod(mods)\n",
    "print('M = %d' % M)\n",
    "\n",
    "ys = []\n",
    "ms = []\n",
    "for i, mod in enumerate(mods):\n",
    "    mi = M/mod  # product of all but one\n",
    "    ms.append(mi)\n",
    "    # solve for yi: mi * yi = 1 (mod mod)\n",
    "    yi = int(modinv(mi, mod))\n",
    "    ys.append(yi)\n",
    "    print('y%d = %d' % (i, yi))\n",
    "    \n",
    "t = 0\n",
    "for i in range(len(mods)):\n",
    "     t += (mods[i] - offsets[i]) * ms[i] * ys[i]\n",
    "               \n",
    "print(t)\n",
    "print(t % M)"
   ]
  },
  {
   "cell_type": "code",
   "execution_count": 177,
   "metadata": {},
   "outputs": [
    {
     "name": "stdout",
     "output_type": "stream",
     "text": [
      "{23: 0, 41: 13, 733: 23, 13: 36, 17: 37, 19: 42, 29: 52, 449: 54, 37: 91}\n"
     ]
    }
   ],
   "source": [
    "buses = '23,x,x,x,x,x,x,x,x,x,x,x,x,41,x,x,x,x,x,x,x,x,x,733,x,x,x,x,x,x,x,x,x,x,x,x,13,17,x,x,x,x,19,x,x,x,x,x,x,x,x,x,29,x,449,x,x,x,x,x,x,x,x,x,x,x,x,x,x,x,x,x,x,x,x,x,x,x,x,x,x,x,x,x,x,x,x,x,x,x,x,37'\n",
    "bus_offsets = {}\n",
    "for i, bus in enumerate(buses.split(',')):\n",
    "    if bus != 'x':\n",
    "        bus_offsets[int(bus)] = i\n",
    "print(bus_offsets)"
   ]
  },
  {
   "cell_type": "code",
   "execution_count": 264,
   "metadata": {},
   "outputs": [],
   "source": [
    "def compute_min_t_crt(mods, offsets):\n",
    "    M = np.prod(mods)\n",
    "    print('M = %d' % M)\n",
    "\n",
    "    ys = []\n",
    "    ms = []\n",
    "    for i, mod in enumerate(mods):\n",
    "        mi = M/mod  # product of all but one\n",
    "        ms.append(mi)\n",
    "        # solve for yi: mi * yi = 1 (mod mod)\n",
    "        yi = int(modinv(mi, mod))\n",
    "        ys.append(yi)\n",
    "        print('y%d = %d' % (i, yi))\n",
    "\n",
    "    t = 0\n",
    "    for i in range(len(mods)):\n",
    "        print('Adding offset %d * mi %d * yi %d' % (offsets[i], ms[i], ys[i]))\n",
    "        t += offsets[i] * ms[i] * ys[i]\n",
    "\n",
    "    print('Some t: %d' % int(t))\n",
    "    print('Min t: %d' % int(t % M))\n",
    "    return int(t % M)\n"
   ]
  },
  {
   "cell_type": "code",
   "execution_count": 268,
   "metadata": {},
   "outputs": [
    {
     "name": "stdout",
     "output_type": "stream",
     "text": [
      "Original offset input: {17: 0, 13: 2, 19: 3}\n",
      "mods: [17, 13, 19]\n",
      "offsets: [0, 11, 16]\n",
      "M = 4199\n",
      "y0 = 2\n",
      "y1 = 6\n",
      "y2 = 8\n",
      "Adding offset 0 * mi 247 * yi 2\n",
      "Adding offset 11 * mi 323 * yi 6\n",
      "Adding offset 16 * mi 221 * yi 8\n",
      "Some t: 49606\n",
      "Min t: 3417\n"
     ]
    }
   ],
   "source": [
    "def solve(buses):\n",
    "    bus_offsets = {}\n",
    "    for i, bus in enumerate(buses.split(',')):\n",
    "        if bus != 'x':\n",
    "            bus_offsets[int(bus)] = i\n",
    "    print('Original offset input: %s' % bus_offsets)\n",
    "    mods = []\n",
    "    offsets = []\n",
    "    for i, (mod, offset) in enumerate(bus_offsets.items()):\n",
    "        mods.append(mod)\n",
    "        if i == 0:\n",
    "            offsets.append(0)\n",
    "        else:\n",
    "            offsets.append(mod - offset % mod)\n",
    "\n",
    "    print('mods: %s' % mods)\n",
    "    print('offsets: %s' % offsets)\n",
    "    compute_min_t_crt(mods, offsets)\n",
    "\n",
    "# my input\n",
    "#buses = '23,x,x,x,x,x,x,x,x,x,x,x,x,41,x,x,x,x,x,x,x,x,x,733,x,x,x,x,x,x,x,x,x,x,x,x,13,17,x,x,x,x,19,x,x,x,x,x,x,x,x,x,29,x,449,x,x,x,x,x,x,x,x,x,x,x,x,x,x,x,x,x,x,x,x,x,x,x,x,x,x,x,x,x,x,x,x,x,x,x,x,37'\n",
    "\n",
    "buses = '17,x,13,19'\n",
    "solve(buses)\n"
   ]
  }
 ],
 "metadata": {
  "kernelspec": {
   "display_name": "Python 3",
   "language": "python",
   "name": "python3"
  },
  "language_info": {
   "codemirror_mode": {
    "name": "ipython",
    "version": 3
   },
   "file_extension": ".py",
   "mimetype": "text/x-python",
   "name": "python",
   "nbconvert_exporter": "python",
   "pygments_lexer": "ipython3",
   "version": "3.6.7"
  }
 },
 "nbformat": 4,
 "nbformat_minor": 2
}
