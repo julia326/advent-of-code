{
 "cells": [
  {
   "cell_type": "code",
   "execution_count": 71,
   "metadata": {},
   "outputs": [],
   "source": [
    "p1 = [9, 2, 6, 3, 1]\n",
    "p2 = [5, 8, 4, 7, 10]\n",
    "\n",
    "def play_round(p1, p2):\n",
    "    p1_card = p1.pop(0)\n",
    "    p2_card = p2.pop(0)\n",
    "    if p1_card > p2_card:\n",
    "        p1.extend([p1_card, p2_card])\n",
    "    else:\n",
    "        p2.extend([p2_card, p1_card])\n"
   ]
  },
  {
   "cell_type": "code",
   "execution_count": 72,
   "metadata": {},
   "outputs": [],
   "source": [
    "while len(p1) > 0 and len(p2) > 0:\n",
    "    play_round(p1, p2)\n"
   ]
  },
  {
   "cell_type": "code",
   "execution_count": 73,
   "metadata": {},
   "outputs": [
    {
     "data": {
      "text/plain": [
       "[3, 2, 10, 6, 8, 5, 9, 4, 7, 1]"
      ]
     },
     "execution_count": 73,
     "metadata": {},
     "output_type": "execute_result"
    }
   ],
   "source": [
    "p2"
   ]
  },
  {
   "cell_type": "code",
   "execution_count": 74,
   "metadata": {},
   "outputs": [
    {
     "data": {
      "text/plain": [
       "306"
      ]
     },
     "execution_count": 74,
     "metadata": {},
     "output_type": "execute_result"
    }
   ],
   "source": [
    "mults = list(reversed(range(1, len(p2) + 1)))\n",
    "total = sum(p2[i] * mults[i] for i in range(len(p2)))\n",
    "total"
   ]
  },
  {
   "cell_type": "code",
   "execution_count": 75,
   "metadata": {},
   "outputs": [],
   "source": [
    "# actual input\n",
    "p1 = [25, 37, 35, 16, 9, 26, 17, 5, 47, 32, 11, 43, 40, 15, 7, 19, 36, 20, 50, 3, 21, 34, 44, 18, 22]\n",
    "p2 = [12, 1, 27, 41, 4, 39, 13, 29, 38, 2, 33, 28, 10, 6, 24, 31, 42, 8, 23, 45, 46, 48, 49, 30, 14]"
   ]
  },
  {
   "cell_type": "code",
   "execution_count": 76,
   "metadata": {},
   "outputs": [],
   "source": [
    "while len(p1) > 0 and len(p2) > 0:\n",
    "    play_round(p1, p2)"
   ]
  },
  {
   "cell_type": "code",
   "execution_count": 77,
   "metadata": {},
   "outputs": [
    {
     "name": "stdout",
     "output_type": "stream",
     "text": [
      "50\n",
      "0\n"
     ]
    }
   ],
   "source": [
    "print(len(p1))\n",
    "print(len(p2))"
   ]
  },
  {
   "cell_type": "code",
   "execution_count": 78,
   "metadata": {},
   "outputs": [
    {
     "data": {
      "text/plain": [
       "35370"
      ]
     },
     "execution_count": 78,
     "metadata": {},
     "output_type": "execute_result"
    }
   ],
   "source": [
    "mults = list(reversed(range(1, len(p1) + 1)))\n",
    "total = sum(p1[i] * mults[i] for i in range(len(p1)))\n",
    "total"
   ]
  },
  {
   "cell_type": "markdown",
   "metadata": {},
   "source": [
    "# Puzzle 2"
   ]
  },
  {
   "cell_type": "code",
   "execution_count": 168,
   "metadata": {},
   "outputs": [
    {
     "data": {
      "text/plain": [
       "'p1'"
      ]
     },
     "execution_count": 168,
     "metadata": {},
     "output_type": "execute_result"
    }
   ],
   "source": [
    "# Returns the winner of the round\n",
    "def play_round(p1, p2):\n",
    "    p1_card = p1[0]\n",
    "    p2_card = p2[0]\n",
    "    \n",
    "    # do the non-recursive version first:\n",
    "    if len(p1)-1 < p1_card or len(p2)-1 < p2_card:\n",
    "        return \"p1\" if p1_card > p2_card else \"p2\"\n",
    "    \n",
    "    # recurse into a sub-game\n",
    "    p1_copy = p1[1:p1_card+1].copy()\n",
    "    p2_copy = p2[1:p2_card+1].copy()  \n",
    "    new_deck_history = set()\n",
    "    return play_game(p1_copy, p2_copy, new_deck_history)\n",
    "    \n",
    "\n",
    "# Returns the winner of the game\n",
    "def play_game(p1, p2, deck_history):\n",
    "    winner = None\n",
    "    while len(p1) > 0 and len(p2) > 0:\n",
    "        turn = (tuple(p1), tuple(p2))\n",
    "        if turn in deck_history:  # if we've entered a loop, p1 wins\n",
    "            return 'p1'\n",
    "\n",
    "        deck_history.add(turn)\n",
    "        \n",
    "        winner = play_round(p1, p2)\n",
    "        p1_card = p1.pop(0)\n",
    "        p2_card = p2.pop(0)\n",
    "        if winner == 'p1':\n",
    "            p1.extend([p1_card, p2_card])\n",
    "        else:\n",
    "            p2.extend([p2_card, p1_card])\n",
    "    return winner\n",
    "\n",
    "# actual input\n",
    "p1 = [25, 37, 35, 16, 9, 26, 17, 5, 47, 32, 11, 43, 40, 15, 7, 19, 36, 20, 50, 3, 21, 34, 44, 18, 22]\n",
    "p2 = [12, 1, 27, 41, 4, 39, 13, 29, 38, 2, 33, 28, 10, 6, 24, 31, 42, 8, 23, 45, 46, 48, 49, 30, 14]\n",
    "\n",
    "play_game(p1, p2, set())"
   ]
  },
  {
   "cell_type": "code",
   "execution_count": 171,
   "metadata": {},
   "outputs": [
    {
     "name": "stdout",
     "output_type": "stream",
     "text": [
      "[48, 24, 39, 9, 31, 16, 47, 42, 44, 32, 46, 34, 38, 5, 40, 28, 18, 6, 37, 33, 45, 22, 30, 2, 41, 27, 43, 15, 35, 1, 36, 17, 25, 14, 10, 4, 29, 26, 19, 8, 11, 3, 50, 20, 23, 13, 49, 12, 21, 7]\n",
      "[]\n"
     ]
    }
   ],
   "source": [
    "print(p1)\n",
    "print(p2)"
   ]
  },
  {
   "cell_type": "code",
   "execution_count": 172,
   "metadata": {},
   "outputs": [
    {
     "data": {
      "text/plain": [
       "36246"
      ]
     },
     "execution_count": 172,
     "metadata": {},
     "output_type": "execute_result"
    }
   ],
   "source": [
    "mults = list(reversed(range(1, len(p1) + 1)))\n",
    "total = sum(p1[i] * mults[i] for i in range(len(p1)))\n",
    "total"
   ]
  }
 ],
 "metadata": {
  "kernelspec": {
   "display_name": "Python 3",
   "language": "python",
   "name": "python3"
  },
  "language_info": {
   "codemirror_mode": {
    "name": "ipython",
    "version": 3
   },
   "file_extension": ".py",
   "mimetype": "text/x-python",
   "name": "python",
   "nbconvert_exporter": "python",
   "pygments_lexer": "ipython3",
   "version": "3.6.7"
  }
 },
 "nbformat": 4,
 "nbformat_minor": 2
}
