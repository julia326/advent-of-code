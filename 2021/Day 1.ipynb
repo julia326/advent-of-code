{
 "cells": [
  {
   "cell_type": "code",
   "execution_count": 34,
   "metadata": {},
   "outputs": [
    {
     "data": {
      "text/plain": [
       "[199, 200, 208, 210, 200, 207, 240, 269, 260, 263]"
      ]
     },
     "execution_count": 34,
     "metadata": {},
     "output_type": "execute_result"
    }
   ],
   "source": [
    "a = \"\"\"199\n",
    "200\n",
    "208\n",
    "210\n",
    "200\n",
    "207\n",
    "240\n",
    "269\n",
    "260\n",
    "263\n",
    "\"\"\".split('\\n')[:-1]\n",
    "\n",
    "a = [int(x) for x in a]\n",
    "a"
   ]
  },
  {
   "cell_type": "code",
   "execution_count": 35,
   "metadata": {},
   "outputs": [
    {
     "data": {
      "text/plain": [
       "7"
      ]
     },
     "execution_count": 35,
     "metadata": {},
     "output_type": "execute_result"
    }
   ],
   "source": [
    "inc_sum = 0\n",
    "for i in range(len(a)-1):\n",
    "    inc = int(a[i+1]) > int(a[i])\n",
    "    if inc:\n",
    "        inc_sum += 1\n",
    "        \n",
    "inc_sum"
   ]
  },
  {
   "cell_type": "code",
   "execution_count": 36,
   "metadata": {},
   "outputs": [
    {
     "data": {
      "text/plain": [
       "1139"
      ]
     },
     "execution_count": 36,
     "metadata": {},
     "output_type": "execute_result"
    }
   ],
   "source": [
    "a = [int(x) for x in open('day1.txt').read().split('\\n')[:-1]]\n",
    "\n",
    "inc_sum = 0\n",
    "for i in range(len(a)-1):\n",
    "    inc = int(a[i+1]) > int(a[i])\n",
    "    if inc:\n",
    "        inc_sum += 1\n",
    "        \n",
    "inc_sum"
   ]
  },
  {
   "cell_type": "code",
   "execution_count": 37,
   "metadata": {},
   "outputs": [
    {
     "data": {
      "text/plain": [
       "1103"
      ]
     },
     "execution_count": 37,
     "metadata": {},
     "output_type": "execute_result"
    }
   ],
   "source": [
    "# sliding window of 3\n",
    "inc_sum = 0\n",
    "for i in range(len(a)-3):\n",
    "    cur_sum = a[i] + a[i+1] + a[i+2]\n",
    "    next_sum = a[i+1] + a[i+2] + a[i+3]\n",
    "    if next_sum > cur_sum:\n",
    "        inc_sum += 1\n",
    "\n",
    "inc_sum"
   ]
  }
 ],
 "metadata": {
  "kernelspec": {
   "display_name": "Python 3",
   "language": "python",
   "name": "python3"
  },
  "language_info": {
   "codemirror_mode": {
    "name": "ipython",
    "version": 3
   },
   "file_extension": ".py",
   "mimetype": "text/x-python",
   "name": "python",
   "nbconvert_exporter": "python",
   "pygments_lexer": "ipython3",
   "version": "3.6.7"
  }
 },
 "nbformat": 4,
 "nbformat_minor": 2
}
