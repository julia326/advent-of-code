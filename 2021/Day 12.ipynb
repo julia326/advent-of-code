{
 "cells": [
  {
   "cell_type": "code",
   "execution_count": 122,
   "metadata": {},
   "outputs": [],
   "source": [
    "from collections import Counter\n",
    "from itertools import product, combinations\n",
    "import networkx as nx"
   ]
  },
  {
   "cell_type": "code",
   "execution_count": 198,
   "metadata": {},
   "outputs": [
    {
     "data": {
      "text/plain": [
       "['fs-end',\n",
       " 'he-DX',\n",
       " 'fs-he',\n",
       " 'start-DX',\n",
       " 'pj-DX',\n",
       " 'end-zg',\n",
       " 'zg-sl',\n",
       " 'zg-pj',\n",
       " 'pj-he',\n",
       " 'RW-he',\n",
       " 'fs-DX',\n",
       " 'pj-RW',\n",
       " 'zg-RW',\n",
       " 'start-pj',\n",
       " 'he-WI',\n",
       " 'zg-he',\n",
       " 'pj-fs',\n",
       " 'start-RW']"
      ]
     },
     "execution_count": 198,
     "metadata": {},
     "output_type": "execute_result"
    }
   ],
   "source": [
    "def load_small_example():\n",
    "    example = \"\"\"\n",
    "start-A\n",
    "start-b\n",
    "A-c\n",
    "A-b\n",
    "b-d\n",
    "A-end\n",
    "b-end\n",
    "    \"\"\"\n",
    "\n",
    "    example = example.split('\\n')[1:-1]\n",
    "    return example\n",
    "\n",
    "def load_larger_example():\n",
    "    example = \"\"\"\n",
    "dc-end\n",
    "HN-start\n",
    "start-kj\n",
    "dc-start\n",
    "dc-HN\n",
    "LN-dc\n",
    "HN-end\n",
    "kj-sa\n",
    "kj-HN\n",
    "kj-dc\n",
    "    \"\"\"\n",
    "    example = example.split('\\n')[1:-1]\n",
    "    return example\n",
    "\n",
    "def load_largest_example():\n",
    "    example = \"\"\"\n",
    "fs-end\n",
    "he-DX\n",
    "fs-he\n",
    "start-DX\n",
    "pj-DX\n",
    "end-zg\n",
    "zg-sl\n",
    "zg-pj\n",
    "pj-he\n",
    "RW-he\n",
    "fs-DX\n",
    "pj-RW\n",
    "zg-RW\n",
    "start-pj\n",
    "he-WI\n",
    "zg-he\n",
    "pj-fs\n",
    "start-RW\n",
    "    \"\"\"\n",
    "    example = example.split('\\n')[1:-1]\n",
    "    return example\n",
    "\n",
    "def load_my_input():\n",
    "    a = \"\"\"\n",
    "EO-jc\n",
    "end-tm\n",
    "jy-FI\n",
    "ek-EO\n",
    "mg-ek\n",
    "jc-jy\n",
    "FI-start\n",
    "jy-mg\n",
    "mg-FI\n",
    "jc-tm\n",
    "end-EO\n",
    "ds-EO\n",
    "jy-start\n",
    "tm-EO\n",
    "mg-jc\n",
    "ek-jc\n",
    "tm-ek\n",
    "FI-jc\n",
    "jy-EO\n",
    "ek-jy\n",
    "ek-LT\n",
    "start-mg\n",
    "    \"\"\"\n",
    "    a = a.split('\\n')[1:-1]\n",
    "    return a\n",
    "\n",
    "\n",
    "load_largest_example()"
   ]
  },
  {
   "cell_type": "code",
   "execution_count": 220,
   "metadata": {},
   "outputs": [
    {
     "data": {
      "text/plain": [
       "EdgeView([('start', 'A'), ('start', 'b'), ('A', 'c'), ('A', 'b'), ('A', 'end'), ('b', 'd'), ('b', 'end')])"
      ]
     },
     "execution_count": 220,
     "metadata": {},
     "output_type": "execute_result"
    }
   ],
   "source": [
    "example = load_small_example()\n",
    "G = nx.Graph()\n",
    "G.add_edges_from(x.split('-') for x in example)\n",
    "G.edges()"
   ]
  },
  {
   "cell_type": "code",
   "execution_count": 128,
   "metadata": {},
   "outputs": [
    {
     "data": {
      "text/plain": [
       "NodeView(('start', 'A', 'b', 'c', 'd', 'end'))"
      ]
     },
     "execution_count": 128,
     "metadata": {},
     "output_type": "execute_result"
    }
   ],
   "source": [
    "G.nodes()"
   ]
  },
  {
   "cell_type": "code",
   "execution_count": 197,
   "metadata": {},
   "outputs": [
    {
     "data": {
      "text/plain": [
       "226"
      ]
     },
     "execution_count": 197,
     "metadata": {},
     "output_type": "execute_result"
    }
   ],
   "source": [
    "def is_lower(node):\n",
    "    return node == node.lower()\n",
    "\n",
    "def is_upper(node):\n",
    "    return node != node.lower()\n",
    "\n",
    "# returns a set of visited nodes\n",
    "def build_path(G, cur_node, path_so_far, visited_nodes, all_paths):\n",
    "    visited_nodes.add(cur_node)\n",
    "    path_so_far.append(cur_node)\n",
    "    \n",
    "    # path_so_far is a list that we return once we hit the \"end\" node\n",
    "    if cur_node == 'end':\n",
    "        path_str = ','.join(path_so_far)\n",
    "        all_paths.add(path_str)\n",
    "    \n",
    "    else:\n",
    "        for edge in G.edges(cur_node):\n",
    "            next_node = edge[1]\n",
    "            # it's okay to visit the node again if it's uppercase, but not if it's lowercase\n",
    "            if next_node not in visited_nodes or is_upper(next_node):\n",
    "                build_path(G, next_node, path_so_far, visited_nodes, all_paths)\n",
    "    \n",
    "    path_so_far.pop()\n",
    "    if cur_node in visited_nodes:\n",
    "        visited_nodes.remove(cur_node)\n",
    "\n",
    "        \n",
    "example = load_largest_example()\n",
    "G = nx.Graph()\n",
    "G.add_edges_from(x.split('-') for x in example)\n",
    "visited_nodes = set()\n",
    "path_so_far = []\n",
    "all_paths = set()\n",
    "build_path(G, 'start', path_so_far, visited_nodes, all_paths)\n",
    "\n",
    "len(all_paths)"
   ]
  },
  {
   "cell_type": "code",
   "execution_count": 200,
   "metadata": {},
   "outputs": [
    {
     "data": {
      "text/plain": [
       "5228"
      ]
     },
     "execution_count": 200,
     "metadata": {},
     "output_type": "execute_result"
    }
   ],
   "source": [
    "G = nx.Graph()\n",
    "G.add_edges_from(x.split('-') for x in load_my_input())\n",
    "visited_nodes = set()\n",
    "path_so_far = []\n",
    "all_paths = set()\n",
    "build_path(G, 'start', path_so_far, visited_nodes, all_paths)\n",
    "\n",
    "len(all_paths)"
   ]
  },
  {
   "cell_type": "code",
   "execution_count": 216,
   "metadata": {},
   "outputs": [
    {
     "data": {
      "text/plain": [
       "36"
      ]
     },
     "execution_count": 216,
     "metadata": {},
     "output_type": "execute_result"
    }
   ],
   "source": [
    "# part 2: it's okay to visit one small cave more than once\n",
    "\n",
    "# visited_nodes is a counter dictionary of how many times we've seen different nodes\n",
    "def build_path2(G, cur_node, path_so_far, visited_nodes, all_paths):\n",
    "    # add the current node to the visited nodes, or increment if already exists\n",
    "    if cur_node in visited_nodes:\n",
    "        visited_nodes[cur_node] += 1\n",
    "    else:\n",
    "        visited_nodes[cur_node] = 1\n",
    "\n",
    "    path_so_far.append(cur_node)\n",
    "    \n",
    "    # path_so_far is a list that we return once we hit the \"end\" node\n",
    "    if cur_node == 'end':\n",
    "        path_str = ','.join(path_so_far)\n",
    "        all_paths.add(path_str)\n",
    "    \n",
    "    else:\n",
    "        for edge in G.edges(cur_node):\n",
    "            next_node = edge[1]\n",
    "            if next_node == 'start' and 'start' in visited_nodes:\n",
    "                continue  # don't visit \"start\" again\n",
    "                \n",
    "            small_cave_counts = {k: v for k, v in visited_nodes.items() if is_lower(k)}\n",
    "            \n",
    "            # first time seeing this node\n",
    "            if next_node not in visited_nodes or visited_nodes.get(next_node) == 0:\n",
    "                build_path2(G, next_node, path_so_far, visited_nodes, all_paths)\n",
    "            \n",
    "            # it's okay to visit the node again if it's uppercase\n",
    "            elif is_upper(next_node):\n",
    "                build_path2(G, next_node, path_so_far, visited_nodes, all_paths)\n",
    "            \n",
    "            # if it's a lowercase node, it's okay to visit it again if it's been visited once before and no other\n",
    "            # small caves have been visited twice before\n",
    "            elif visited_nodes.get(next_node) == 1 and not any(x == 2 for x in small_cave_counts.values()):\n",
    "                build_path2(G, next_node, path_so_far, visited_nodes, all_paths)\n",
    "\n",
    "    path_so_far.pop()\n",
    "    visited_nodes[cur_node] -= 1\n",
    "        \n",
    "\n",
    "example = load_small_example()\n",
    "G = nx.Graph()\n",
    "G.add_edges_from(x.split('-') for x in example)\n",
    "visited_nodes = {}\n",
    "path_so_far = []\n",
    "all_paths = set()\n",
    "build_path2(G, 'start', path_so_far, visited_nodes, all_paths)\n",
    "\n",
    "len(all_paths)"
   ]
  },
  {
   "cell_type": "code",
   "execution_count": 219,
   "metadata": {},
   "outputs": [
    {
     "data": {
      "text/plain": [
       "131228"
      ]
     },
     "execution_count": 219,
     "metadata": {},
     "output_type": "execute_result"
    }
   ],
   "source": [
    "G = nx.Graph()\n",
    "G.add_edges_from(x.split('-') for x in load_my_input())\n",
    "visited_nodes = {}\n",
    "path_so_far = []\n",
    "all_paths = set()\n",
    "build_path2(G, 'start', path_so_far, visited_nodes, all_paths)\n",
    "\n",
    "len(all_paths)"
   ]
  }
 ],
 "metadata": {
  "kernelspec": {
   "display_name": "Python 3",
   "language": "python",
   "name": "python3"
  },
  "language_info": {
   "codemirror_mode": {
    "name": "ipython",
    "version": 3
   },
   "file_extension": ".py",
   "mimetype": "text/x-python",
   "name": "python",
   "nbconvert_exporter": "python",
   "pygments_lexer": "ipython3",
   "version": "3.6.7"
  }
 },
 "nbformat": 4,
 "nbformat_minor": 2
}
