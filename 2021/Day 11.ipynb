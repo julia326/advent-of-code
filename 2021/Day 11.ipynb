{
 "cells": [
  {
   "cell_type": "code",
   "execution_count": 1,
   "metadata": {},
   "outputs": [],
   "source": [
    "import io\n",
    "import pandas as pd"
   ]
  },
  {
   "cell_type": "code",
   "execution_count": 80,
   "metadata": {},
   "outputs": [
    {
     "data": {
      "text/html": [
       "<div>\n",
       "<style scoped>\n",
       "    .dataframe tbody tr th:only-of-type {\n",
       "        vertical-align: middle;\n",
       "    }\n",
       "\n",
       "    .dataframe tbody tr th {\n",
       "        vertical-align: top;\n",
       "    }\n",
       "\n",
       "    .dataframe thead th {\n",
       "        text-align: right;\n",
       "    }\n",
       "</style>\n",
       "<table border=\"1\" class=\"dataframe\">\n",
       "  <thead>\n",
       "    <tr style=\"text-align: right;\">\n",
       "      <th></th>\n",
       "      <th>0</th>\n",
       "      <th>1</th>\n",
       "      <th>2</th>\n",
       "      <th>3</th>\n",
       "      <th>4</th>\n",
       "      <th>5</th>\n",
       "      <th>6</th>\n",
       "      <th>7</th>\n",
       "      <th>8</th>\n",
       "      <th>9</th>\n",
       "    </tr>\n",
       "  </thead>\n",
       "  <tbody>\n",
       "    <tr>\n",
       "      <th>0</th>\n",
       "      <td>4</td>\n",
       "      <td>7</td>\n",
       "      <td>6</td>\n",
       "      <td>4</td>\n",
       "      <td>7</td>\n",
       "      <td>4</td>\n",
       "      <td>5</td>\n",
       "      <td>7</td>\n",
       "      <td>8</td>\n",
       "      <td>4</td>\n",
       "    </tr>\n",
       "    <tr>\n",
       "      <th>1</th>\n",
       "      <td>4</td>\n",
       "      <td>6</td>\n",
       "      <td>4</td>\n",
       "      <td>3</td>\n",
       "      <td>4</td>\n",
       "      <td>5</td>\n",
       "      <td>7</td>\n",
       "      <td>1</td>\n",
       "      <td>7</td>\n",
       "      <td>6</td>\n",
       "    </tr>\n",
       "    <tr>\n",
       "      <th>2</th>\n",
       "      <td>8</td>\n",
       "      <td>3</td>\n",
       "      <td>2</td>\n",
       "      <td>2</td>\n",
       "      <td>6</td>\n",
       "      <td>2</td>\n",
       "      <td>8</td>\n",
       "      <td>4</td>\n",
       "      <td>7</td>\n",
       "      <td>7</td>\n",
       "    </tr>\n",
       "    <tr>\n",
       "      <th>3</th>\n",
       "      <td>7</td>\n",
       "      <td>6</td>\n",
       "      <td>1</td>\n",
       "      <td>7</td>\n",
       "      <td>1</td>\n",
       "      <td>5</td>\n",
       "      <td>2</td>\n",
       "      <td>5</td>\n",
       "      <td>4</td>\n",
       "      <td>6</td>\n",
       "    </tr>\n",
       "    <tr>\n",
       "      <th>4</th>\n",
       "      <td>6</td>\n",
       "      <td>1</td>\n",
       "      <td>3</td>\n",
       "      <td>7</td>\n",
       "      <td>5</td>\n",
       "      <td>1</td>\n",
       "      <td>8</td>\n",
       "      <td>1</td>\n",
       "      <td>6</td>\n",
       "      <td>5</td>\n",
       "    </tr>\n",
       "    <tr>\n",
       "      <th>5</th>\n",
       "      <td>1</td>\n",
       "      <td>5</td>\n",
       "      <td>5</td>\n",
       "      <td>6</td>\n",
       "      <td>7</td>\n",
       "      <td>2</td>\n",
       "      <td>3</td>\n",
       "      <td>1</td>\n",
       "      <td>7</td>\n",
       "      <td>6</td>\n",
       "    </tr>\n",
       "    <tr>\n",
       "      <th>6</th>\n",
       "      <td>2</td>\n",
       "      <td>1</td>\n",
       "      <td>8</td>\n",
       "      <td>7</td>\n",
       "      <td>8</td>\n",
       "      <td>6</td>\n",
       "      <td>1</td>\n",
       "      <td>8</td>\n",
       "      <td>8</td>\n",
       "      <td>6</td>\n",
       "    </tr>\n",
       "    <tr>\n",
       "      <th>7</th>\n",
       "      <td>2</td>\n",
       "      <td>5</td>\n",
       "      <td>5</td>\n",
       "      <td>3</td>\n",
       "      <td>4</td>\n",
       "      <td>2</td>\n",
       "      <td>2</td>\n",
       "      <td>6</td>\n",
       "      <td>2</td>\n",
       "      <td>5</td>\n",
       "    </tr>\n",
       "    <tr>\n",
       "      <th>8</th>\n",
       "      <td>4</td>\n",
       "      <td>8</td>\n",
       "      <td>1</td>\n",
       "      <td>7</td>\n",
       "      <td>5</td>\n",
       "      <td>8</td>\n",
       "      <td>4</td>\n",
       "      <td>6</td>\n",
       "      <td>3</td>\n",
       "      <td>8</td>\n",
       "    </tr>\n",
       "    <tr>\n",
       "      <th>9</th>\n",
       "      <td>3</td>\n",
       "      <td>7</td>\n",
       "      <td>5</td>\n",
       "      <td>4</td>\n",
       "      <td>2</td>\n",
       "      <td>8</td>\n",
       "      <td>5</td>\n",
       "      <td>6</td>\n",
       "      <td>6</td>\n",
       "      <td>2</td>\n",
       "    </tr>\n",
       "  </tbody>\n",
       "</table>\n",
       "</div>"
      ],
      "text/plain": [
       "   0  1  2  3  4  5  6  7  8  9\n",
       "0  4  7  6  4  7  4  5  7  8  4\n",
       "1  4  6  4  3  4  5  7  1  7  6\n",
       "2  8  3  2  2  6  2  8  4  7  7\n",
       "3  7  6  1  7  1  5  2  5  4  6\n",
       "4  6  1  3  7  5  1  8  1  6  5\n",
       "5  1  5  5  6  7  2  3  1  7  6\n",
       "6  2  1  8  7  8  6  1  8  8  6\n",
       "7  2  5  5  3  4  2  2  6  2  5\n",
       "8  4  8  1  7  5  8  4  6  3  8\n",
       "9  3  7  5  4  2  8  5  6  6  2"
      ]
     },
     "execution_count": 80,
     "metadata": {},
     "output_type": "execute_result"
    }
   ],
   "source": [
    "def load_easier_example():\n",
    "    example = \"\"\"11111\n",
    "19991\n",
    "19191\n",
    "19991\n",
    "11111\n",
    "\"\"\"\n",
    "    example = example.split('\\n')[:-1]\n",
    "    return pd.DataFrame(list(x) for x in example).astype(int)\n",
    "\n",
    "def load_harder_example():\n",
    "    example = \"\"\"5483143223\n",
    "2745854711\n",
    "5264556173\n",
    "6141336146\n",
    "6357385478\n",
    "4167524645\n",
    "2176841721\n",
    "6882881134\n",
    "4846848554\n",
    "5283751526\n",
    "\"\"\"\n",
    "    example = example.split('\\n')[:-1]\n",
    "    return pd.DataFrame(list(x) for x in example).astype(int)\n",
    "\n",
    "def load_input():\n",
    "    data = \"\"\"4764745784\n",
    "4643457176\n",
    "8322628477\n",
    "7617152546\n",
    "6137518165\n",
    "1556723176\n",
    "2187861886\n",
    "2553422625\n",
    "4817584638\n",
    "3754285662\n",
    "\"\"\"\n",
    "    data = data.split('\\n')[:-1]\n",
    "    return pd.DataFrame(list(x) for x in data).astype(int)\n",
    "\n",
    "load_input()"
   ]
  },
  {
   "cell_type": "code",
   "execution_count": 69,
   "metadata": {},
   "outputs": [
    {
     "data": {
      "text/plain": [
       "{(2, 8), (2, 9), (3, 8), (4, 8), (4, 9)}"
      ]
     },
     "execution_count": 69,
     "metadata": {},
     "output_type": "execute_result"
    }
   ],
   "source": [
    "from itertools import product\n",
    "\n",
    "# return all nearby positions, including diagonals\n",
    "def get_nearby_positions(a, i, j):\n",
    "    numrows, numcols = a.shape\n",
    "    nearby_positions = []\n",
    "    \n",
    "    allowed_is = [i]\n",
    "    allowed_js = [j]\n",
    "    if i > 0:\n",
    "        allowed_is.append(i-1)\n",
    "    if i < numrows-1:\n",
    "        allowed_is.append(i+1)\n",
    "    if j > 0:\n",
    "        allowed_js.append(j-1)\n",
    "    if j < numcols-1:\n",
    "        allowed_js.append(j+1)\n",
    "        \n",
    "    nearby_positions = set(product(allowed_is, allowed_js))\n",
    "    nearby_positions.remove((i, j))  # remove the input position itself\n",
    "    return nearby_positions\n",
    "\n",
    "a = load_easier_example()\n",
    "get_nearby_positions(a, 3, 9)"
   ]
  },
  {
   "cell_type": "code",
   "execution_count": 75,
   "metadata": {},
   "outputs": [
    {
     "name": "stdout",
     "output_type": "stream",
     "text": [
      "11111\n",
      "19991\n",
      "19191\n",
      "19991\n",
      "11111\n",
      "\n",
      "34543\n",
      "40004\n",
      "50005\n",
      "40004\n",
      "34543\n",
      "\n",
      "45654\n",
      "51115\n",
      "61116\n",
      "51115\n",
      "45654\n",
      "\n"
     ]
    },
    {
     "data": {
      "text/plain": [
       "9"
      ]
     },
     "execution_count": 75,
     "metadata": {},
     "output_type": "execute_result"
    }
   ],
   "source": [
    "# find all the 9s\n",
    "def find_pos_9s(df):\n",
    "    pos_9s = []\n",
    "    for i in range(df.shape[0]):\n",
    "        for j in range(df.shape[1]):\n",
    "            if df.iloc[i, j] > 9:\n",
    "                pos_9s.append((i, j))\n",
    "\n",
    "    return set(pos_9s)\n",
    "\n",
    "# one step\n",
    "def step(a):\n",
    "    a = a.apply(lambda x: x+1)  # increment by 1\n",
    "    # if any 9s, increment all adjacent ones by 1\n",
    "    \n",
    "    num_flashes = 0\n",
    "    \n",
    "    older_pos_to_flash = None\n",
    "    flashed_already = set()\n",
    "    while True:\n",
    "        pos_to_flash = find_pos_9s(a)\n",
    "        if not pos_to_flash:\n",
    "            break\n",
    "            \n",
    "        # does this match the older pos_to_flash? if yes, break\n",
    "        if older_pos_to_flash != None and pos_to_flash == older_pos_to_flash:\n",
    "            break\n",
    "        \n",
    "        # increment adjacent ones\n",
    "        if pos_to_flash:\n",
    "            for pos_9 in pos_to_flash:\n",
    "                if pos_9 in flashed_already:  # can only flash once\n",
    "                    continue\n",
    "                flashed_already.add(pos_9)\n",
    "                num_flashes += 1\n",
    "                nearby_pos = get_nearby_positions(a, pos_9[0], pos_9[1])\n",
    "                for pos in nearby_pos:\n",
    "                    a.iloc[pos[0], pos[1]] += 1\n",
    "                    \n",
    "        older_pos_to_flash = pos_to_flash.copy()\n",
    "\n",
    "    # check for anything greater than 9 and set to 0\n",
    "    a = a.mask(a > 9, 0)\n",
    "    return a, num_flashes\n",
    "\n",
    "def stringify(df):\n",
    "    out = ''\n",
    "    df = df.transpose()\n",
    "    for x in df.to_dict().values():\n",
    "        out += ''.join([str(y) for y in x.values()]) + '\\n'\n",
    "    return out\n",
    "\n",
    "a = load_easier_example()\n",
    "print(stringify(a))\n",
    "total_num_flashes = 0\n",
    "for i in range(2):\n",
    "    a, num_flashes = step(a)\n",
    "    total_num_flashes += num_flashes\n",
    "    print(stringify(a))\n",
    "    \n",
    "total_num_flashes"
   ]
  },
  {
   "cell_type": "code",
   "execution_count": 79,
   "metadata": {},
   "outputs": [
    {
     "name": "stdout",
     "output_type": "stream",
     "text": [
      "5483143223\n",
      "2745854711\n",
      "5264556173\n",
      "6141336146\n",
      "6357385478\n",
      "4167524645\n",
      "2176841721\n",
      "6882881134\n",
      "4846848554\n",
      "5283751526\n",
      "\n",
      "0397666866\n",
      "0749766918\n",
      "0053976933\n",
      "0004297822\n",
      "0004229892\n",
      "0053222877\n",
      "0532222966\n",
      "9322228966\n",
      "7922286866\n",
      "6789998766\n",
      "\n"
     ]
    },
    {
     "data": {
      "text/plain": [
       "1656"
      ]
     },
     "execution_count": 79,
     "metadata": {},
     "output_type": "execute_result"
    }
   ],
   "source": [
    "a = load_harder_example()\n",
    "print(stringify(a))\n",
    "total_num_flashes = 0\n",
    "for i in range(100):\n",
    "    a, num_flashes = step(a)\n",
    "    total_num_flashes += num_flashes\n",
    "\n",
    "print(stringify(a))    \n",
    "total_num_flashes\n",
    "    "
   ]
  },
  {
   "cell_type": "code",
   "execution_count": 81,
   "metadata": {},
   "outputs": [
    {
     "name": "stdout",
     "output_type": "stream",
     "text": [
      "4764745784\n",
      "4643457176\n",
      "8322628477\n",
      "7617152546\n",
      "6137518165\n",
      "1556723176\n",
      "2187861886\n",
      "2553422625\n",
      "4817584638\n",
      "3754285662\n",
      "\n",
      "7944600009\n",
      "9444700000\n",
      "4444709000\n",
      "4444700000\n",
      "4444700000\n",
      "4444700000\n",
      "4444700000\n",
      "4444700000\n",
      "4444600000\n",
      "8444570007\n",
      "\n"
     ]
    },
    {
     "data": {
      "text/plain": [
       "1588"
      ]
     },
     "execution_count": 81,
     "metadata": {},
     "output_type": "execute_result"
    }
   ],
   "source": [
    "a = load_input()\n",
    "print(stringify(a))\n",
    "total_num_flashes = 0\n",
    "for i in range(100):\n",
    "    a, num_flashes = step(a)\n",
    "    total_num_flashes += num_flashes\n",
    "\n",
    "print(stringify(a))    \n",
    "total_num_flashes"
   ]
  },
  {
   "cell_type": "code",
   "execution_count": 86,
   "metadata": {},
   "outputs": [
    {
     "name": "stdout",
     "output_type": "stream",
     "text": [
      "5483143223\n",
      "2745854711\n",
      "5264556173\n",
      "6141336146\n",
      "6357385478\n",
      "4167524645\n",
      "2176841721\n",
      "6882881134\n",
      "4846848554\n",
      "5283751526\n",
      "\n"
     ]
    }
   ],
   "source": [
    "# part 2: figure out when they all flash simultaneously\n",
    "\n",
    "a = load_harder_example()\n",
    "print(stringify(a))\n",
    "i = 0\n",
    "while sum(a.sum()) != 0:\n",
    "    a, num_flashes = step(a)\n",
    "    i += 1"
   ]
  },
  {
   "cell_type": "code",
   "execution_count": 87,
   "metadata": {},
   "outputs": [
    {
     "data": {
      "text/plain": [
       "195"
      ]
     },
     "execution_count": 87,
     "metadata": {},
     "output_type": "execute_result"
    }
   ],
   "source": [
    "i"
   ]
  },
  {
   "cell_type": "code",
   "execution_count": 88,
   "metadata": {},
   "outputs": [
    {
     "name": "stdout",
     "output_type": "stream",
     "text": [
      "4764745784\n",
      "4643457176\n",
      "8322628477\n",
      "7617152546\n",
      "6137518165\n",
      "1556723176\n",
      "2187861886\n",
      "2553422625\n",
      "4817584638\n",
      "3754285662\n",
      "\n"
     ]
    }
   ],
   "source": [
    "a = load_input()\n",
    "print(stringify(a))\n",
    "i = 0\n",
    "while sum(a.sum()) != 0:\n",
    "    a, num_flashes = step(a)\n",
    "    i += 1"
   ]
  },
  {
   "cell_type": "code",
   "execution_count": 89,
   "metadata": {},
   "outputs": [
    {
     "data": {
      "text/plain": [
       "517"
      ]
     },
     "execution_count": 89,
     "metadata": {},
     "output_type": "execute_result"
    }
   ],
   "source": [
    "i"
   ]
  }
 ],
 "metadata": {
  "kernelspec": {
   "display_name": "Python 3",
   "language": "python",
   "name": "python3"
  },
  "language_info": {
   "codemirror_mode": {
    "name": "ipython",
    "version": 3
   },
   "file_extension": ".py",
   "mimetype": "text/x-python",
   "name": "python",
   "nbconvert_exporter": "python",
   "pygments_lexer": "ipython3",
   "version": "3.6.7"
  }
 },
 "nbformat": 4,
 "nbformat_minor": 2
}
