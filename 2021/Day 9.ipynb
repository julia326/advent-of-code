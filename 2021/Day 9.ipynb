{
 "cells": [
  {
   "cell_type": "code",
   "execution_count": 99,
   "metadata": {},
   "outputs": [
    {
     "data": {
      "text/plain": [
       "[['2', '1', '9', '9', '9', '4', '3', '2', '1', '0'],\n",
       " ['3', '9', '8', '7', '8', '9', '4', '9', '2', '1'],\n",
       " ['9', '8', '5', '6', '7', '8', '9', '8', '9', '2'],\n",
       " ['8', '7', '6', '7', '8', '9', '6', '7', '8', '9'],\n",
       " ['9', '8', '9', '9', '9', '6', '5', '6', '7', '8']]"
      ]
     },
     "execution_count": 99,
     "metadata": {},
     "output_type": "execute_result"
    }
   ],
   "source": [
    "example = \"\"\"2199943210\n",
    "3987894921\n",
    "9856789892\n",
    "8767896789\n",
    "9899965678\n",
    "\"\"\"\n",
    "\n",
    "example = example.split('\\n')[:-1]\n",
    "[list(x) for x in example]"
   ]
  },
  {
   "cell_type": "code",
   "execution_count": 100,
   "metadata": {},
   "outputs": [
    {
     "data": {
      "text/html": [
       "<div>\n",
       "<style scoped>\n",
       "    .dataframe tbody tr th:only-of-type {\n",
       "        vertical-align: middle;\n",
       "    }\n",
       "\n",
       "    .dataframe tbody tr th {\n",
       "        vertical-align: top;\n",
       "    }\n",
       "\n",
       "    .dataframe thead th {\n",
       "        text-align: right;\n",
       "    }\n",
       "</style>\n",
       "<table border=\"1\" class=\"dataframe\">\n",
       "  <thead>\n",
       "    <tr style=\"text-align: right;\">\n",
       "      <th></th>\n",
       "      <th>0</th>\n",
       "      <th>1</th>\n",
       "      <th>2</th>\n",
       "      <th>3</th>\n",
       "      <th>4</th>\n",
       "      <th>5</th>\n",
       "      <th>6</th>\n",
       "      <th>7</th>\n",
       "      <th>8</th>\n",
       "      <th>9</th>\n",
       "    </tr>\n",
       "  </thead>\n",
       "  <tbody>\n",
       "    <tr>\n",
       "      <th>0</th>\n",
       "      <td>2</td>\n",
       "      <td>1</td>\n",
       "      <td>9</td>\n",
       "      <td>9</td>\n",
       "      <td>9</td>\n",
       "      <td>4</td>\n",
       "      <td>3</td>\n",
       "      <td>2</td>\n",
       "      <td>1</td>\n",
       "      <td>0</td>\n",
       "    </tr>\n",
       "    <tr>\n",
       "      <th>1</th>\n",
       "      <td>3</td>\n",
       "      <td>9</td>\n",
       "      <td>8</td>\n",
       "      <td>7</td>\n",
       "      <td>8</td>\n",
       "      <td>9</td>\n",
       "      <td>4</td>\n",
       "      <td>9</td>\n",
       "      <td>2</td>\n",
       "      <td>1</td>\n",
       "    </tr>\n",
       "    <tr>\n",
       "      <th>2</th>\n",
       "      <td>9</td>\n",
       "      <td>8</td>\n",
       "      <td>5</td>\n",
       "      <td>6</td>\n",
       "      <td>7</td>\n",
       "      <td>8</td>\n",
       "      <td>9</td>\n",
       "      <td>8</td>\n",
       "      <td>9</td>\n",
       "      <td>2</td>\n",
       "    </tr>\n",
       "    <tr>\n",
       "      <th>3</th>\n",
       "      <td>8</td>\n",
       "      <td>7</td>\n",
       "      <td>6</td>\n",
       "      <td>7</td>\n",
       "      <td>8</td>\n",
       "      <td>9</td>\n",
       "      <td>6</td>\n",
       "      <td>7</td>\n",
       "      <td>8</td>\n",
       "      <td>9</td>\n",
       "    </tr>\n",
       "    <tr>\n",
       "      <th>4</th>\n",
       "      <td>9</td>\n",
       "      <td>8</td>\n",
       "      <td>9</td>\n",
       "      <td>9</td>\n",
       "      <td>9</td>\n",
       "      <td>6</td>\n",
       "      <td>5</td>\n",
       "      <td>6</td>\n",
       "      <td>7</td>\n",
       "      <td>8</td>\n",
       "    </tr>\n",
       "  </tbody>\n",
       "</table>\n",
       "</div>"
      ],
      "text/plain": [
       "   0  1  2  3  4  5  6  7  8  9\n",
       "0  2  1  9  9  9  4  3  2  1  0\n",
       "1  3  9  8  7  8  9  4  9  2  1\n",
       "2  9  8  5  6  7  8  9  8  9  2\n",
       "3  8  7  6  7  8  9  6  7  8  9\n",
       "4  9  8  9  9  9  6  5  6  7  8"
      ]
     },
     "execution_count": 100,
     "metadata": {},
     "output_type": "execute_result"
    }
   ],
   "source": [
    "import pandas as pd\n",
    "\n",
    "a = pd.DataFrame([list(x) for x in example]).apply(pd.to_numeric)\n",
    "a"
   ]
  },
  {
   "cell_type": "code",
   "execution_count": 101,
   "metadata": {},
   "outputs": [
    {
     "data": {
      "text/plain": [
       "[4, 9, 8]"
      ]
     },
     "execution_count": 101,
     "metadata": {},
     "output_type": "execute_result"
    }
   ],
   "source": [
    "def get_nearby_positions(a, i, j):\n",
    "    numrows, numcols = a.shape\n",
    "    nearby_positions = []\n",
    "    \n",
    "    # check to the right: is it out of bounds?\n",
    "    if j < numcols-1:\n",
    "        nearby_positions.append((i, j+1))\n",
    "    # check to the left\n",
    "    if j > 0:\n",
    "        nearby_positions.append((i, j-1))\n",
    "    # check up\n",
    "    if i > 0:\n",
    "        nearby_positions.append((i-1, j))\n",
    "    if i < numrows-1:\n",
    "        nearby_positions.append((i+1, j))\n",
    "    return nearby_positions\n",
    "\n",
    "def get_nearby_values(a, i, j):\n",
    "    nearby_positions = get_nearby_positions(a, i, j)\n",
    "    values = []\n",
    "    for pos in nearby_positions:\n",
    "        x, y = pos[0], pos[1]\n",
    "        values.append(a[y][x])\n",
    "    return values\n",
    "\n",
    "get_nearby_values(a, 0, 4)"
   ]
  },
  {
   "cell_type": "code",
   "execution_count": 102,
   "metadata": {
    "scrolled": true
   },
   "outputs": [
    {
     "data": {
      "text/plain": [
       "[1, 0, 5, 5]"
      ]
     },
     "execution_count": 102,
     "metadata": {},
     "output_type": "execute_result"
    }
   ],
   "source": [
    "numrows, numcols = a.shape\n",
    "local_mins = []\n",
    "for i in range(numrows):\n",
    "    for j in range(numcols):\n",
    "        # check if this is a local minimum\n",
    "        val = a[j][i]\n",
    "        nearby_values = get_nearby_values(a, i, j)\n",
    "        if all(x > val for x in nearby_values):\n",
    "            local_mins.append(val)\n",
    "\n",
    "local_mins"
   ]
  },
  {
   "cell_type": "code",
   "execution_count": 103,
   "metadata": {},
   "outputs": [
    {
     "data": {
      "text/plain": [
       "15"
      ]
     },
     "execution_count": 103,
     "metadata": {},
     "output_type": "execute_result"
    }
   ],
   "source": [
    "sum(local_mins) + len(local_mins)"
   ]
  },
  {
   "cell_type": "code",
   "execution_count": 104,
   "metadata": {},
   "outputs": [
    {
     "data": {
      "text/plain": [
       "100"
      ]
     },
     "execution_count": 104,
     "metadata": {},
     "output_type": "execute_result"
    }
   ],
   "source": [
    "a = open('day9.txt').read().split('\\n')[:-1]\n",
    "len(a)"
   ]
  },
  {
   "cell_type": "code",
   "execution_count": 105,
   "metadata": {},
   "outputs": [],
   "source": [
    "real_input = open('day9.txt').read().split('\\n')[:-1]\n",
    "a = pd.DataFrame([list(x) for x in real_input]).apply(pd.to_numeric)\n",
    "numrows, numcols = a.shape\n",
    "local_mins = []\n",
    "for i in range(numrows):\n",
    "    for j in range(numcols):\n",
    "        # check if this is a local minimum\n",
    "        val = a[j][i]\n",
    "        nearby_values = get_nearby_values(a, i, j)\n",
    "        if all(x > val for x in nearby_values):\n",
    "            local_mins.append(val)"
   ]
  },
  {
   "cell_type": "code",
   "execution_count": 106,
   "metadata": {},
   "outputs": [
    {
     "data": {
      "text/plain": [
       "548"
      ]
     },
     "execution_count": 106,
     "metadata": {},
     "output_type": "execute_result"
    }
   ],
   "source": [
    "sum(local_mins) + len(local_mins)"
   ]
  },
  {
   "cell_type": "code",
   "execution_count": 107,
   "metadata": {},
   "outputs": [],
   "source": [
    "# find the basin for a low point: \"climb up\" until you hit a 9\n",
    "def find_basin_helper(a, i, j, basins):\n",
    "    if a[j][i] == 9:  # base case\n",
    "        return\n",
    "    curpos = (i, j)\n",
    "    if curpos in basins:  # been here already\n",
    "        return\n",
    "    basins.add(curpos)\n",
    "    nearby_positions = get_nearby_positions(a, i, j)\n",
    "    for pos in nearby_positions:\n",
    "        find_basin_helper(a, pos[0], pos[1], basins)\n",
    "        \n",
    "starter_basins = set()\n",
    "find_basin_helper(a, 4, 6, starter_basins)"
   ]
  },
  {
   "cell_type": "code",
   "execution_count": 108,
   "metadata": {},
   "outputs": [
    {
     "data": {
      "text/plain": [
       "[3, 9, 9, 14]"
      ]
     },
     "execution_count": 108,
     "metadata": {},
     "output_type": "execute_result"
    }
   ],
   "source": [
    "# part 2: for each location, find its low point\n",
    "a = pd.DataFrame([list(x) for x in example]).apply(pd.to_numeric)\n",
    "numrows, numcols = a.shape\n",
    "local_min_locations = []\n",
    "for i in range(numrows):\n",
    "    for j in range(numcols):\n",
    "        # check if this is a local minimum\n",
    "        val = a[j][i]\n",
    "        nearby_values = get_nearby_values(a, i, j)\n",
    "        if all(x > val for x in nearby_values):\n",
    "            local_min_locations.append((i, j))\n",
    "\n",
    "basin_sizes = []\n",
    "for pos in local_min_locations:\n",
    "    basins = set()\n",
    "    find_basin_helper(a, pos[0], pos[1], basins)\n",
    "    basin_sizes.append(len(basins))\n",
    "    \n",
    "sorted(basin_sizes)"
   ]
  },
  {
   "cell_type": "code",
   "execution_count": 109,
   "metadata": {},
   "outputs": [
    {
     "data": {
      "text/plain": [
       "[9, 9, 14]"
      ]
     },
     "execution_count": 109,
     "metadata": {},
     "output_type": "execute_result"
    }
   ],
   "source": [
    "sorted(basin_sizes)[-3:]"
   ]
  },
  {
   "cell_type": "code",
   "execution_count": 110,
   "metadata": {},
   "outputs": [
    {
     "data": {
      "text/plain": [
       "[89, 92, 96]"
      ]
     },
     "execution_count": 110,
     "metadata": {},
     "output_type": "execute_result"
    }
   ],
   "source": [
    "# part 2: for each location, find its low point\n",
    "a = pd.DataFrame([list(x) for x in real_input]).apply(pd.to_numeric)\n",
    "numrows, numcols = a.shape\n",
    "local_min_locations = []\n",
    "for i in range(numrows):\n",
    "    for j in range(numcols):\n",
    "        # check if this is a local minimum\n",
    "        val = a[j][i]\n",
    "        nearby_values = get_nearby_values(a, i, j)\n",
    "        if all(x > val for x in nearby_values):\n",
    "            local_min_locations.append((i, j))\n",
    "            \n",
    "basin_sizes = []\n",
    "for pos in local_min_locations:\n",
    "    basins = set()\n",
    "    find_basin_helper(a, pos[0], pos[1], basins)\n",
    "    basin_sizes.append(len(basins))\n",
    "    \n",
    "sorted(basin_sizes)[-3:]"
   ]
  },
  {
   "cell_type": "code",
   "execution_count": 111,
   "metadata": {},
   "outputs": [
    {
     "data": {
      "text/plain": [
       "786048"
      ]
     },
     "execution_count": 111,
     "metadata": {},
     "output_type": "execute_result"
    }
   ],
   "source": [
    "89*92*96"
   ]
  }
 ],
 "metadata": {
  "kernelspec": {
   "display_name": "Python 3",
   "language": "python",
   "name": "python3"
  },
  "language_info": {
   "codemirror_mode": {
    "name": "ipython",
    "version": 3
   },
   "file_extension": ".py",
   "mimetype": "text/x-python",
   "name": "python",
   "nbconvert_exporter": "python",
   "pygments_lexer": "ipython3",
   "version": "3.6.7"
  }
 },
 "nbformat": 4,
 "nbformat_minor": 2
}
