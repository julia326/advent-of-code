{
 "cells": [
  {
   "cell_type": "code",
   "execution_count": 49,
   "metadata": {},
   "outputs": [
    {
     "name": "stdout",
     "output_type": "stream",
     "text": [
      "}\n",
      ")\n",
      "]\n",
      ")\n",
      ">\n"
     ]
    }
   ],
   "source": [
    "open_to_close = {\n",
    "    '{': '}',\n",
    "    '[': ']',\n",
    "    '(': ')',\n",
    "    '<': '>',\n",
    "}\n",
    "\n",
    "close_to_open = {v: k for k, v in open_to_close.items()}\n",
    "\n",
    "def process_line(line):\n",
    "    stack = []\n",
    "    for char in line:\n",
    "        if char in open_to_close.keys():  # open char, pop it on the stack\n",
    "            stack.append(char)\n",
    "        elif char in open_to_close.values():\n",
    "            # closing char, check the stack to see if it's a corresponding open one; if not, error closing\n",
    "            if not stack or stack[-1] != close_to_open[char]:\n",
    "                return char\n",
    "            stack = stack[:-1]\n",
    "    return ''\n",
    "\n",
    "print(process_line('{([(<{}[<>[]}>{[]{[(<()>'))\n",
    "print(process_line('[[<[([]))<([[{}[[()]]]'))\n",
    "print(process_line('[{[{({}]{}}([{[{{{}}([]'))\n",
    "print(process_line('[<(<(<(<{}))><([]([]()'))\n",
    "print(process_line('<{([([[(<>()){}]>(<<{{'))"
   ]
  },
  {
   "cell_type": "code",
   "execution_count": 50,
   "metadata": {},
   "outputs": [
    {
     "data": {
      "text/plain": [
       "26397"
      ]
     },
     "execution_count": 50,
     "metadata": {},
     "output_type": "execute_result"
    }
   ],
   "source": [
    "example = \"\"\"[({(<(())[]>[[{[]{<()<>>\n",
    "[(()[<>])]({[<{<<[]>>(\n",
    "{([(<{}[<>[]}>{[]{[(<()>\n",
    "(((({<>}<{<{<>}{[]{[]{}\n",
    "[[<[([]))<([[{}[[()]]]\n",
    "[{[{({}]{}}([{[{{{}}([]\n",
    "{<[[]]>}<{[{[{[]{()[[[]\n",
    "[<(<(<(<{}))><([]([]()\n",
    "<{([([[(<>()){}]>(<<{{\n",
    "<{([{{}}[<[[[<>{}]]]>[]]\n",
    "\"\"\"\n",
    "\n",
    "example = example.split('\\n')[:-1]\n",
    "\n",
    "costs = {')': 3, ']': 57, '}': 1197, '>': 25137}\n",
    "\n",
    "total_cost = 0\n",
    "for line in example:\n",
    "    char = process_line(line)\n",
    "    if char:\n",
    "        total_cost += costs[char]\n",
    "total_cost"
   ]
  },
  {
   "cell_type": "code",
   "execution_count": 51,
   "metadata": {},
   "outputs": [
    {
     "data": {
      "text/plain": [
       "339477"
      ]
     },
     "execution_count": 51,
     "metadata": {},
     "output_type": "execute_result"
    }
   ],
   "source": [
    "a = open('day10.txt').read().split('\\n')[:-1]\n",
    "\n",
    "total_cost = 0\n",
    "for line in a:\n",
    "    char = process_line(line)\n",
    "    if char:\n",
    "        total_cost += costs[char]\n",
    "total_cost"
   ]
  },
  {
   "cell_type": "code",
   "execution_count": 52,
   "metadata": {},
   "outputs": [],
   "source": [
    "# part 2\n",
    "\n",
    "def complete_line(line):\n",
    "    stack = []\n",
    "    for char in line:\n",
    "        if char in open_to_close.keys():  # open char, pop it on the stack\n",
    "            stack.append(char)\n",
    "        elif char in open_to_close.values():\n",
    "            # closing char, check the stack to see if it's a corresponding open one; if not, error closing\n",
    "            if not stack or stack[-1] != close_to_open[char]:\n",
    "                return ''\n",
    "            stack = stack[:-1]\n",
    "    return ''.join(reversed(list(open_to_close[x] for x in stack)))\n",
    "\n",
    "assert complete_line('[({(<(())[]>[[{[]{<()<>>') == '}}]])})]'\n",
    "assert complete_line('[(()[<>])]({[<{<<[]>>(') == ')}>]})'\n",
    "assert complete_line('(((({<>}<{<{<>}{[]{[]{}') == '}}>}>))))'"
   ]
  },
  {
   "cell_type": "code",
   "execution_count": 53,
   "metadata": {},
   "outputs": [
    {
     "data": {
      "text/plain": [
       "5566"
      ]
     },
     "execution_count": 53,
     "metadata": {},
     "output_type": "execute_result"
    }
   ],
   "source": [
    "def get_score(string):\n",
    "    values = {')': 1, ']': 2, '}': 3, '>': 4}\n",
    "    score = 0\n",
    "    for char in string:\n",
    "        score *= 5\n",
    "        score += values[char]\n",
    "    return score\n",
    "\n",
    "get_score(')}>]})')"
   ]
  },
  {
   "cell_type": "code",
   "execution_count": 54,
   "metadata": {},
   "outputs": [
    {
     "data": {
      "text/plain": [
       "288957"
      ]
     },
     "execution_count": 54,
     "metadata": {},
     "output_type": "execute_result"
    }
   ],
   "source": [
    "scores = set()\n",
    "for line in example:\n",
    "    completion_string = complete_line(line)\n",
    "    if completion_string:\n",
    "        score = get_score(completion_string)\n",
    "        scores.add(score)\n",
    "        \n",
    "def get_median_score(scores):\n",
    "    med_position = int((len(scores)-1)/2)\n",
    "    return list(sorted(scores))[med_position]\n",
    "\n",
    "get_median_score(scores)"
   ]
  },
  {
   "cell_type": "code",
   "execution_count": 55,
   "metadata": {},
   "outputs": [
    {
     "data": {
      "text/plain": [
       "3049320156"
      ]
     },
     "execution_count": 55,
     "metadata": {},
     "output_type": "execute_result"
    }
   ],
   "source": [
    "scores = set()\n",
    "for line in a:\n",
    "    completion_string = complete_line(line)\n",
    "    if completion_string:\n",
    "        score = get_score(completion_string)\n",
    "        scores.add(score)\n",
    " \n",
    "get_median_score(scores)"
   ]
  }
 ],
 "metadata": {
  "kernelspec": {
   "display_name": "Python 3",
   "language": "python",
   "name": "python3"
  },
  "language_info": {
   "codemirror_mode": {
    "name": "ipython",
    "version": 3
   },
   "file_extension": ".py",
   "mimetype": "text/x-python",
   "name": "python",
   "nbconvert_exporter": "python",
   "pygments_lexer": "ipython3",
   "version": "3.6.7"
  }
 },
 "nbformat": 4,
 "nbformat_minor": 2
}
