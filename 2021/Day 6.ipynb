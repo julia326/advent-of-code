{
 "cells": [
  {
   "cell_type": "code",
   "execution_count": 56,
   "metadata": {},
   "outputs": [
    {
     "name": "stdout",
     "output_type": "stream",
     "text": [
      "0: [3, 4, 3, 1, 2]\n",
      "1: [2, 3, 2, 0, 1]\n",
      "2: [1, 2, 1, 6, 0, 8]\n",
      "3: [0, 1, 0, 5, 6, 7, 8]\n",
      "4: [6, 0, 6, 4, 5, 6, 7, 8, 8]\n",
      "5: [5, 6, 5, 3, 4, 5, 6, 7, 7, 8]\n",
      "6: [4, 5, 4, 2, 3, 4, 5, 6, 6, 7]\n",
      "7: [3, 4, 3, 1, 2, 3, 4, 5, 5, 6]\n",
      "8: [2, 3, 2, 0, 1, 2, 3, 4, 4, 5]\n",
      "9: [1, 2, 1, 6, 0, 1, 2, 3, 3, 4, 8]\n",
      "10: [0, 1, 0, 5, 6, 0, 1, 2, 2, 3, 7, 8]\n",
      "11: [6, 0, 6, 4, 5, 6, 0, 1, 1, 2, 6, 7, 8, 8, 8]\n",
      "12: [5, 6, 5, 3, 4, 5, 6, 0, 0, 1, 5, 6, 7, 7, 7, 8, 8]\n",
      "13: [4, 5, 4, 2, 3, 4, 5, 6, 6, 0, 4, 5, 6, 6, 6, 7, 7, 8, 8]\n",
      "14: [3, 4, 3, 1, 2, 3, 4, 5, 5, 6, 3, 4, 5, 5, 5, 6, 6, 7, 7, 8]\n",
      "15: [2, 3, 2, 0, 1, 2, 3, 4, 4, 5, 2, 3, 4, 4, 4, 5, 5, 6, 6, 7]\n",
      "16: [1, 2, 1, 6, 0, 1, 2, 3, 3, 4, 1, 2, 3, 3, 3, 4, 4, 5, 5, 6, 8]\n",
      "17: [0, 1, 0, 5, 6, 0, 1, 2, 2, 3, 0, 1, 2, 2, 2, 3, 3, 4, 4, 5, 7, 8]\n",
      "18: [6, 0, 6, 4, 5, 6, 0, 1, 1, 2, 6, 0, 1, 1, 1, 2, 2, 3, 3, 4, 6, 7, 8, 8, 8, 8]\n"
     ]
    }
   ],
   "source": [
    "example = \"3,4,3,1,2\"\n",
    "example = [int(x) for x in example.split(',')]\n",
    "\n",
    "# a is a list of lanternfish\n",
    "def step(a):\n",
    "    # for each fish, if it's 0, reset it to 6 and add an 8 to the end of the list. otherwise, subtract 1\n",
    "    num_new_fish = 0\n",
    "    for i in range(len(a)):\n",
    "        if a[i] == 0:\n",
    "            num_new_fish += 1\n",
    "            a[i] = 6\n",
    "        else:\n",
    "            a[i] -= 1\n",
    "    if num_new_fish:\n",
    "        a.extend([8] * num_new_fish)\n",
    "    return a\n",
    "\n",
    "print('0: %s' % example)\n",
    "for i in range(18):\n",
    "    example = step(example)\n",
    "    print('%d: %s' % (i+1, example))"
   ]
  },
  {
   "cell_type": "code",
   "execution_count": 13,
   "metadata": {},
   "outputs": [
    {
     "data": {
      "text/plain": [
       "26"
      ]
     },
     "execution_count": 13,
     "metadata": {},
     "output_type": "execute_result"
    }
   ],
   "source": [
    "len(example)"
   ]
  },
  {
   "cell_type": "code",
   "execution_count": 14,
   "metadata": {},
   "outputs": [
    {
     "data": {
      "text/plain": [
       "300"
      ]
     },
     "execution_count": 14,
     "metadata": {},
     "output_type": "execute_result"
    }
   ],
   "source": [
    "a = \"1,4,1,1,1,1,1,1,1,4,3,1,1,3,5,1,5,3,2,1,1,2,3,1,1,5,3,1,5,1,1,2,1,2,1,1,3,1,5,1,1,1,3,1,1,1,1,1,1,4,5,3,1,1,1,1,1,1,2,1,1,1,1,4,4,4,1,1,1,1,5,1,2,4,1,1,4,1,2,1,1,1,2,1,5,1,1,1,3,4,1,1,1,3,2,1,1,1,4,1,1,1,5,1,1,4,1,1,2,1,4,1,1,1,3,1,1,1,1,1,3,1,3,1,1,2,1,4,1,1,1,1,3,1,1,1,1,1,1,2,1,3,1,1,1,1,4,1,1,1,1,1,1,1,1,1,1,1,1,2,1,1,5,1,1,1,2,2,1,1,3,5,1,1,1,1,3,1,3,3,1,1,1,1,3,5,2,1,1,1,1,5,1,1,1,1,1,1,1,2,1,2,1,1,1,2,1,1,1,1,1,2,1,1,1,1,1,5,1,4,3,3,1,3,4,1,1,1,1,1,1,1,1,1,1,4,3,5,1,1,1,1,1,1,1,1,1,1,1,1,1,5,2,1,4,1,1,1,1,1,1,1,1,1,1,1,1,1,5,1,1,1,1,1,1,1,1,2,1,4,4,1,1,1,1,1,1,1,5,1,1,2,5,1,1,4,1,3,1,1\"\n",
    "a = [int(x) for x in a.split(',')]\n",
    "len(a)"
   ]
  },
  {
   "cell_type": "code",
   "execution_count": 15,
   "metadata": {},
   "outputs": [
    {
     "data": {
      "text/plain": [
       "393019"
      ]
     },
     "execution_count": 15,
     "metadata": {},
     "output_type": "execute_result"
    }
   ],
   "source": [
    "for i in range(80):\n",
    "    a = step(a)\n",
    "    \n",
    "len(a)"
   ]
  },
  {
   "cell_type": "code",
   "execution_count": null,
   "metadata": {},
   "outputs": [],
   "source": [
    "# for part 2, need to do some more efficient counter magic: instead of keeping everything in a list and\n",
    "# counting the members of the list, keep track of how many lanternfish counters there are for each possible\n",
    "# counter value (of which there are only 9), and update the counters with each step.\n",
    "# example step change:\n",
    "# - {0: 3, 2: 1, 3: 1, 5: 4, 7: 3}\n",
    "# - {1: 1, 2:1, 4: 4, 6: 6, 8: 3}\n",
    "\n",
    "# 2, 3, 5, 7 become 1, 2, 4, 6: so first, decrease the key on anything greater than 0.\n",
    "# then: the 0:3 makes 3 new 8 fish, so make an 8:3; take the 3 count from the 0, add it to the existing 6."
   ]
  },
  {
   "cell_type": "code",
   "execution_count": 58,
   "metadata": {},
   "outputs": [
    {
     "data": {
      "text/plain": [
       "5934"
      ]
     },
     "execution_count": 58,
     "metadata": {},
     "output_type": "execute_result"
    }
   ],
   "source": [
    "init = {3:2, 4:1, 1:1, 2:1}  # from 3,4,3,1,2\n",
    "\n",
    "def step_with_counter(a):\n",
    "    out = {}\n",
    "    for k, v in a.items():\n",
    "        if k > 0:\n",
    "            out[k-1] = v\n",
    "    # take any 0 counts, convert to 8s, add to the current 6s\n",
    "    zero_count = a.get(0)\n",
    "    if zero_count:\n",
    "        out[8] = zero_count\n",
    "        out[6] = zero_count + (out.get(6) or 0)\n",
    "\n",
    "    return out\n",
    "\n",
    "for i in range(80):\n",
    "    init = step_with_counter(init)\n",
    "\n",
    "sum(init.values())"
   ]
  },
  {
   "cell_type": "code",
   "execution_count": 59,
   "metadata": {},
   "outputs": [
    {
     "data": {
      "text/plain": [
       "5934"
      ]
     },
     "execution_count": 59,
     "metadata": {},
     "output_type": "execute_result"
    }
   ],
   "source": [
    "def convert_to_counts(a):\n",
    "    return {int(k): v for k, v in Counter(a.split(',')).items()}\n",
    "\n",
    "example = '3,4,3,1,2'\n",
    "init = convert_to_counts(example)\n",
    "\n",
    "for i in range(80):\n",
    "    init = step_with_counter(init)\n",
    "\n",
    "sum(init.values())"
   ]
  },
  {
   "cell_type": "code",
   "execution_count": 60,
   "metadata": {},
   "outputs": [
    {
     "data": {
      "text/plain": [
       "393019"
      ]
     },
     "execution_count": 60,
     "metadata": {},
     "output_type": "execute_result"
    }
   ],
   "source": [
    "a = \"1,4,1,1,1,1,1,1,1,4,3,1,1,3,5,1,5,3,2,1,1,2,3,1,1,5,3,1,5,1,1,2,1,2,1,1,3,1,5,1,1,1,3,1,1,1,1,1,1,4,5,3,1,1,1,1,1,1,2,1,1,1,1,4,4,4,1,1,1,1,5,1,2,4,1,1,4,1,2,1,1,1,2,1,5,1,1,1,3,4,1,1,1,3,2,1,1,1,4,1,1,1,5,1,1,4,1,1,2,1,4,1,1,1,3,1,1,1,1,1,3,1,3,1,1,2,1,4,1,1,1,1,3,1,1,1,1,1,1,2,1,3,1,1,1,1,4,1,1,1,1,1,1,1,1,1,1,1,1,2,1,1,5,1,1,1,2,2,1,1,3,5,1,1,1,1,3,1,3,3,1,1,1,1,3,5,2,1,1,1,1,5,1,1,1,1,1,1,1,2,1,2,1,1,1,2,1,1,1,1,1,2,1,1,1,1,1,5,1,4,3,3,1,3,4,1,1,1,1,1,1,1,1,1,1,4,3,5,1,1,1,1,1,1,1,1,1,1,1,1,1,5,2,1,4,1,1,1,1,1,1,1,1,1,1,1,1,1,5,1,1,1,1,1,1,1,1,2,1,4,4,1,1,1,1,1,1,1,5,1,1,2,5,1,1,4,1,3,1,1\"\n",
    "\n",
    "init = convert_to_counts(a)\n",
    "\n",
    "for i in range(80):\n",
    "    init = step_with_counter(init)\n",
    "\n",
    "sum(init.values())"
   ]
  },
  {
   "cell_type": "code",
   "execution_count": 61,
   "metadata": {},
   "outputs": [
    {
     "data": {
      "text/plain": [
       "1757714216975"
      ]
     },
     "execution_count": 61,
     "metadata": {},
     "output_type": "execute_result"
    }
   ],
   "source": [
    "init = convert_to_counts(a)\n",
    "\n",
    "for i in range(256):\n",
    "    init = step_with_counter(init)\n",
    "\n",
    "sum(init.values())"
   ]
  }
 ],
 "metadata": {
  "kernelspec": {
   "display_name": "Python 3",
   "language": "python",
   "name": "python3"
  },
  "language_info": {
   "codemirror_mode": {
    "name": "ipython",
    "version": 3
   },
   "file_extension": ".py",
   "mimetype": "text/x-python",
   "name": "python",
   "nbconvert_exporter": "python",
   "pygments_lexer": "ipython3",
   "version": "3.6.7"
  }
 },
 "nbformat": 4,
 "nbformat_minor": 2
}
