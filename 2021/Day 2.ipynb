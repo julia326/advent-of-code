{
 "cells": [
  {
   "cell_type": "code",
   "execution_count": 4,
   "metadata": {},
   "outputs": [
    {
     "data": {
      "text/plain": [
       "['forward 5', 'down 5', 'forward 8', 'up 3', 'down 8', 'forward 2']"
      ]
     },
     "execution_count": 4,
     "metadata": {},
     "output_type": "execute_result"
    }
   ],
   "source": [
    "example_input = \"\"\"forward 5\n",
    "down 5\n",
    "forward 8\n",
    "up 3\n",
    "down 8\n",
    "forward 2\n",
    "\"\"\"\n",
    "\n",
    "def process_input(a):\n",
    "    return a.split('\\n')[:-1]\n",
    "\n",
    "process_input(example_input)"
   ]
  },
  {
   "cell_type": "code",
   "execution_count": 8,
   "metadata": {},
   "outputs": [
    {
     "data": {
      "text/plain": [
       "(15, 10)"
      ]
     },
     "execution_count": 8,
     "metadata": {},
     "output_type": "execute_result"
    }
   ],
   "source": [
    "# a is a list of course commands\n",
    "def get_final_pos(a):\n",
    "    x = 0\n",
    "    y = 0\n",
    "    for cmd in a:\n",
    "        direction, inc = cmd.split(' ')\n",
    "        inc = int(inc)\n",
    "        if direction == 'forward':\n",
    "            x += inc\n",
    "        elif direction == 'down':\n",
    "            y += inc\n",
    "        elif direction == 'up':\n",
    "            y -= inc\n",
    "    return (x, y)\n",
    "\n",
    "get_final_pos(process_input(example_input))"
   ]
  },
  {
   "cell_type": "code",
   "execution_count": 9,
   "metadata": {},
   "outputs": [
    {
     "data": {
      "text/plain": [
       "(2105, 807)"
      ]
     },
     "execution_count": 9,
     "metadata": {},
     "output_type": "execute_result"
    }
   ],
   "source": [
    "a = open('day2.txt').read()\n",
    "get_final_pos(process_input(a))"
   ]
  },
  {
   "cell_type": "code",
   "execution_count": 10,
   "metadata": {},
   "outputs": [
    {
     "data": {
      "text/plain": [
       "1698735"
      ]
     },
     "execution_count": 10,
     "metadata": {},
     "output_type": "execute_result"
    }
   ],
   "source": [
    "2105 * 807"
   ]
  },
  {
   "cell_type": "code",
   "execution_count": 13,
   "metadata": {},
   "outputs": [
    {
     "data": {
      "text/plain": [
       "(15, 60, 10)"
      ]
     },
     "execution_count": 13,
     "metadata": {},
     "output_type": "execute_result"
    }
   ],
   "source": [
    "# a is a list of course commands\n",
    "def get_final_pos2(a):\n",
    "    x = 0\n",
    "    y = 0\n",
    "    aim = 0\n",
    "    for cmd in a:\n",
    "        direction, inc = cmd.split(' ')\n",
    "        inc = int(inc)\n",
    "        if direction == 'down':\n",
    "            aim += inc\n",
    "        elif direction == 'up':\n",
    "            aim -= inc\n",
    "        elif direction == 'forward':\n",
    "            x += inc\n",
    "            y += aim*inc\n",
    "\n",
    "    return (x, y, aim)\n",
    "\n",
    "get_final_pos2(process_input(example_input))"
   ]
  },
  {
   "cell_type": "code",
   "execution_count": 14,
   "metadata": {},
   "outputs": [
    {
     "data": {
      "text/plain": [
       "(2105, 757618, 807)"
      ]
     },
     "execution_count": 14,
     "metadata": {},
     "output_type": "execute_result"
    }
   ],
   "source": [
    "get_final_pos2(process_input(a))"
   ]
  },
  {
   "cell_type": "code",
   "execution_count": 15,
   "metadata": {},
   "outputs": [
    {
     "data": {
      "text/plain": [
       "1594785890"
      ]
     },
     "execution_count": 15,
     "metadata": {},
     "output_type": "execute_result"
    }
   ],
   "source": [
    "2105*757618"
   ]
  }
 ],
 "metadata": {
  "kernelspec": {
   "display_name": "Python 3",
   "language": "python",
   "name": "python3"
  },
  "language_info": {
   "codemirror_mode": {
    "name": "ipython",
    "version": 3
   },
   "file_extension": ".py",
   "mimetype": "text/x-python",
   "name": "python",
   "nbconvert_exporter": "python",
   "pygments_lexer": "ipython3",
   "version": "3.6.7"
  }
 },
 "nbformat": 4,
 "nbformat_minor": 2
}
