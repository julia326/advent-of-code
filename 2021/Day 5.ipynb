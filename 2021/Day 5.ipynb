{
 "cells": [
  {
   "cell_type": "code",
   "execution_count": 3,
   "metadata": {},
   "outputs": [
    {
     "data": {
      "text/plain": [
       "['0,9 -> 5,9',\n",
       " '8,0 -> 0,8',\n",
       " '9,4 -> 3,4',\n",
       " '2,2 -> 2,1',\n",
       " '7,0 -> 7,4',\n",
       " '6,4 -> 2,0',\n",
       " '0,9 -> 2,9',\n",
       " '3,4 -> 1,4',\n",
       " '0,0 -> 8,8',\n",
       " '5,5 -> 8,2']"
      ]
     },
     "execution_count": 3,
     "metadata": {},
     "output_type": "execute_result"
    }
   ],
   "source": [
    "example = \"\"\"0,9 -> 5,9\n",
    "8,0 -> 0,8\n",
    "9,4 -> 3,4\n",
    "2,2 -> 2,1\n",
    "7,0 -> 7,4\n",
    "6,4 -> 2,0\n",
    "0,9 -> 2,9\n",
    "3,4 -> 1,4\n",
    "0,0 -> 8,8\n",
    "5,5 -> 8,2\n",
    "\"\"\"\n",
    "\n",
    "example = example.split('\\n')[:-1]\n",
    "example"
   ]
  },
  {
   "cell_type": "code",
   "execution_count": 40,
   "metadata": {},
   "outputs": [
    {
     "data": {
      "text/plain": [
       "5"
      ]
     },
     "execution_count": 40,
     "metadata": {},
     "output_type": "execute_result"
    }
   ],
   "source": [
    "# come up with the points that make up each line: line is like '8,0 -> 0,8'\n",
    "def get_points(line):\n",
    "    start_xy, end_xy = line.split(' -> ')\n",
    "    start_x, start_y = [int(x) for x in start_xy.split(',')]\n",
    "    end_x, end_y = [int(y) for y in end_xy.split(',')]\n",
    "    \n",
    "    if start_x == end_x:\n",
    "        # vertical line\n",
    "        yrange = list(range(start_y, end_y+1) if end_y > start_y else reversed(range(end_y, start_y+1)))\n",
    "        xrange = [start_x] * len(yrange)\n",
    "        \n",
    "    elif start_y == end_y:\n",
    "        # horizontal line\n",
    "        xrange = list(range(start_x, end_x+1) if end_x > start_x else reversed(range(end_x, start_x+1)))\n",
    "        yrange = [start_y] * len(xrange)\n",
    "    \n",
    "    else:\n",
    "        return []\n",
    "\n",
    "    return list(zip(xrange, yrange))\n",
    "    \n",
    "from collections import Counter\n",
    "\n",
    "c = Counter()\n",
    "for line in example:\n",
    "    points = get_points(line)\n",
    "    c.update(points)\n",
    "    \n",
    "len({k: v for k, v in c.items() if v > 1})\n"
   ]
  },
  {
   "cell_type": "code",
   "execution_count": 41,
   "metadata": {},
   "outputs": [
    {
     "data": {
      "text/plain": [
       "7297"
      ]
     },
     "execution_count": 41,
     "metadata": {},
     "output_type": "execute_result"
    }
   ],
   "source": [
    "a = open('day5.txt').read().split('\\n')[:-1]\n",
    "\n",
    "c = Counter()\n",
    "for line in a:\n",
    "    points = get_points(line)\n",
    "    c.update(points)\n",
    "    \n",
    "len({k: v for k, v in c.items() if v > 1})"
   ]
  },
  {
   "cell_type": "code",
   "execution_count": 44,
   "metadata": {},
   "outputs": [
    {
     "data": {
      "text/plain": [
       "[(9, 7), (8, 8), (7, 9)]"
      ]
     },
     "execution_count": 44,
     "metadata": {},
     "output_type": "execute_result"
    }
   ],
   "source": [
    "# now diagonal lines wheeeeee\n",
    "def get_points_with_diagonals(line):\n",
    "    out = []\n",
    "    start_xy, end_xy = line.split(' -> ')\n",
    "    start_x, start_y = [int(x) for x in start_xy.split(',')]\n",
    "    end_x, end_y = [int(y) for y in end_xy.split(',')]\n",
    "    \n",
    "    if start_x == end_x:\n",
    "        # vertical line\n",
    "        yrange = list(range(start_y, end_y+1) if end_y > start_y else reversed(range(end_y, start_y+1)))\n",
    "        xrange = [start_x] * len(yrange)\n",
    "        \n",
    "    elif start_y == end_y:\n",
    "        # horizontal line\n",
    "        xrange = list(range(start_x, end_x+1) if end_x > start_x else reversed(range(end_x, start_x+1)))\n",
    "        yrange = [start_y] * len(xrange)\n",
    "        \n",
    "    elif abs(end_x - start_x) == abs(end_y - start_y):\n",
    "        # diagonal line, could go in 4 different directions\n",
    "        xrange = list(range(start_x, end_x+1)) if end_x > start_x else list(reversed(range(end_x, start_x+1)))\n",
    "        yrange = list(range(start_y, end_y+1)) if end_y > start_y else reversed(range(end_y, start_y+1))\n",
    "    \n",
    "    else:\n",
    "        return []\n",
    "    \n",
    "    return list(zip(xrange, yrange))\n",
    "\n",
    "\n",
    "get_points_with_diagonals('9,7 -> 7,9')"
   ]
  },
  {
   "cell_type": "code",
   "execution_count": 45,
   "metadata": {},
   "outputs": [
    {
     "data": {
      "text/plain": [
       "12"
      ]
     },
     "execution_count": 45,
     "metadata": {},
     "output_type": "execute_result"
    }
   ],
   "source": [
    "c = Counter()\n",
    "for line in example:\n",
    "    points = get_points_with_diagonals(line)\n",
    "    c.update(points)\n",
    "    \n",
    "len({k: v for k, v in c.items() if v > 1})"
   ]
  },
  {
   "cell_type": "code",
   "execution_count": 47,
   "metadata": {},
   "outputs": [
    {
     "data": {
      "text/plain": [
       "21038"
      ]
     },
     "execution_count": 47,
     "metadata": {},
     "output_type": "execute_result"
    }
   ],
   "source": [
    "c = Counter()\n",
    "for line in a:\n",
    "    points = get_points_with_diagonals(line)\n",
    "    c.update(points)\n",
    "    \n",
    "len({k: v for k, v in c.items() if v > 1})"
   ]
  }
 ],
 "metadata": {
  "kernelspec": {
   "display_name": "Python 3",
   "language": "python",
   "name": "python3"
  },
  "language_info": {
   "codemirror_mode": {
    "name": "ipython",
    "version": 3
   },
   "file_extension": ".py",
   "mimetype": "text/x-python",
   "name": "python",
   "nbconvert_exporter": "python",
   "pygments_lexer": "ipython3",
   "version": "3.6.7"
  }
 },
 "nbformat": 4,
 "nbformat_minor": 2
}
