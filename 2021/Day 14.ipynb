{
 "cells": [
  {
   "cell_type": "code",
   "execution_count": 1,
   "metadata": {},
   "outputs": [
    {
     "name": "stdout",
     "output_type": "stream",
     "text": [
      "{'OV': 'V', 'CO': 'V', 'CS': 'O', 'NP': 'H', 'HH': 'P', 'KO': 'F', 'VO': 'B', 'SP': 'O', 'CB': 'N', 'SB': 'F', 'CF': 'S', 'KS': 'P', 'OH': 'H', 'NN': 'O', 'SF': 'K', 'FH': 'F', 'VV': 'B', 'VH': 'O', 'BV': 'V', 'KF': 'K', 'CC': 'F', 'NF': 'H', 'VS': 'O', 'SK': 'K', 'HV': 'O', 'CK': 'K', 'VP': 'F', 'HP': 'S', 'CN': 'K', 'OB': 'H', 'NS': 'F', 'PS': 'S', 'KB': 'S', 'VF': 'S', 'FP': 'H', 'BB': 'N', 'HF': 'V', 'CH': 'N', 'BH': 'F', 'KK': 'B', 'OO': 'N', 'NO': 'K', 'BP': 'K', 'KH': 'P', 'KN': 'P', 'OF': 'B', 'VC': 'F', 'NK': 'F', 'ON': 'O', 'OC': 'P', 'VK': 'O', 'SH': 'C', 'NH': 'C', 'FB': 'B', 'FC': 'K', 'OP': 'O', 'PV': 'V', 'BN': 'V', 'PC': 'K', 'PK': 'S', 'FF': 'C', 'SV': 'S', 'HK': 'H', 'NB': 'C', 'OK': 'C', 'PH': 'B', 'SO': 'O', 'PP': 'F', 'KV': 'V', 'FO': 'B', 'FN': 'H', 'HN': 'C', 'VB': 'K', 'CV': 'O', 'BC': 'C', 'CP': 'S', 'FS': 'S', 'KP': 'V', 'BS': 'V', 'BK': 'B', 'PN': 'C', 'PF': 'S', 'HO': 'V', 'NC': 'N', 'SS': 'N', 'BO': 'P', 'BF': 'N', 'NV': 'P', 'PB': 'K', 'HB': 'H', 'VN': 'H', 'FV': 'B', 'FK': 'K', 'PO': 'S', 'SC': 'S', 'HS': 'S', 'KC': 'F', 'HC': 'S', 'OS': 'K', 'SN': 'N'}\n"
     ]
    }
   ],
   "source": [
    "def load_input():\n",
    "    a = open('day14.txt').read().split('\\n\\n')\n",
    "    input_str = a[0]\n",
    "    rules = a[1].split('\\n')[:-1]\n",
    "    rule_dict = {}\n",
    "    for rule in rules:\n",
    "        k, v = rule.split(' -> ')\n",
    "        rule_dict[k] = v\n",
    "    return (input_str, rule_dict)\n",
    "\n",
    "input_str, rule_dict = load_input()\n",
    "print(rule_dict)"
   ]
  },
  {
   "cell_type": "code",
   "execution_count": 2,
   "metadata": {},
   "outputs": [
    {
     "data": {
      "text/plain": [
       "{'CH': 'B',\n",
       " 'HH': 'N',\n",
       " 'CB': 'H',\n",
       " 'NH': 'C',\n",
       " 'HB': 'C',\n",
       " 'HC': 'B',\n",
       " 'HN': 'C',\n",
       " 'NN': 'C',\n",
       " 'BH': 'H',\n",
       " 'NC': 'B',\n",
       " 'NB': 'B',\n",
       " 'BN': 'B',\n",
       " 'BB': 'N',\n",
       " 'BC': 'B',\n",
       " 'CC': 'N',\n",
       " 'CN': 'C'}"
      ]
     },
     "execution_count": 2,
     "metadata": {},
     "output_type": "execute_result"
    }
   ],
   "source": [
    "def load_example():\n",
    "    example = \"\"\"NNCB\n",
    "\n",
    "CH -> B\n",
    "HH -> N\n",
    "CB -> H\n",
    "NH -> C\n",
    "HB -> C\n",
    "HC -> B\n",
    "HN -> C\n",
    "NN -> C\n",
    "BH -> H\n",
    "NC -> B\n",
    "NB -> B\n",
    "BN -> B\n",
    "BB -> N\n",
    "BC -> B\n",
    "CC -> N\n",
    "CN -> C\n",
    "    \"\"\"\n",
    "    a = example.split('\\n\\n')\n",
    "    input_str = a[0]\n",
    "    rules = a[1].split('\\n')[:-1]\n",
    "    rule_dict = {}\n",
    "    for rule in rules:\n",
    "        k, v = rule.split(' -> ')\n",
    "        rule_dict[k] = v\n",
    "    return (input_str, rule_dict)\n",
    "\n",
    "input_str, rule_dict = load_example()\n",
    "rule_dict"
   ]
  },
  {
   "cell_type": "code",
   "execution_count": 3,
   "metadata": {},
   "outputs": [
    {
     "data": {
      "text/plain": [
       "1588"
      ]
     },
     "execution_count": 3,
     "metadata": {},
     "output_type": "execute_result"
    }
   ],
   "source": [
    "# input_str is a list\n",
    "def step(input_str, rule_dict):\n",
    "    input_str = list(input_str)\n",
    "    for i in range(len(input_str) - 1):\n",
    "        substr = ''.join(input_str[i:i+2])\n",
    "        char_to_insert = rule_dict.get(substr)\n",
    "        input_str[i] += char_to_insert if char_to_insert else ''\n",
    "    return ''.join(input_str)\n",
    "\n",
    "input_str, rule_dict = load_example()\n",
    "for i in range(10):\n",
    "    input_str = step(input_str, rule_dict)\n",
    "    \n",
    "from collections import Counter\n",
    "c = Counter(list(input_str))\n",
    "max(c.values()) - min(c.values())"
   ]
  },
  {
   "cell_type": "code",
   "execution_count": 4,
   "metadata": {},
   "outputs": [
    {
     "data": {
      "text/plain": [
       "2797"
      ]
     },
     "execution_count": 4,
     "metadata": {},
     "output_type": "execute_result"
    }
   ],
   "source": [
    "input_str, rule_dict = load_input()\n",
    "\n",
    "for i in range(10):\n",
    "    input_str = step(input_str, rule_dict)\n",
    "    \n",
    "c = Counter(list(input_str))\n",
    "max(c.values()) - min(c.values())"
   ]
  },
  {
   "cell_type": "code",
   "execution_count": 5,
   "metadata": {},
   "outputs": [
    {
     "name": "stdout",
     "output_type": "stream",
     "text": [
      "defaultdict(<class 'int'>, {'BC': 1, 'CC': 1, 'CF': 20501747391, 'FC': 48917705917, 'CS': 10250772360, 'SF': 244809943119, 'FK': 374150018162, 'KC': 56832103096, 'CO': 6833022501, 'OS': 39758730665, 'SK': 282775716918, 'KF': 626871592250, 'KK': 830914241689, 'CV': 3416146313, 'VO': 225440571040, 'OK': 139939392113, 'KS': 350464759767, 'KB': 661171595548, 'BK': 927924278692, 'OV': 93705929976, 'VB': 480238997570, 'BO': 194028913110, 'OC': 69969826018, 'CK': 378029858307, 'KP': 283261736320, 'PS': 485447236382, 'SB': 330585525944, 'BB': 710560935544, 'VV': 735037861834, 'VK': 240119704971, 'BP': 97015046101, 'PO': 97015046101, 'OP': 98864116391, 'PC': 64746327369, 'KV': 283262249175, 'VP': 141630959960, 'SS': 421827297341, 'FB': 493202541275, 'BN': 358075954117, 'NB': 473701300766, 'BV': 1093109138459, 'SO': 125911722862, 'OO': 762853289052, 'PK': 37968668805, 'VF': 138533223036, 'FP': 70815568684, 'SN': 421819449827, 'NS': 210912340809, 'VN': 179036416522, 'NC': 654276473066, 'CB': 236848489640, 'ON': 1300916544024, 'NO': 650451950395, 'VS': 69266814463, 'FH': 82006429068, 'HP': 57786933443, 'NN': 538044684303, 'NF': 270868586496, 'FS': 210907109017, 'VH': 89517184502, 'HN': 89517184502, 'CN': 238087814353, 'NK': 325228157014, 'KO': 325228157014, 'FF': 41003450159, 'HS': 102546168247, 'SP': 28893760467, 'NH': 180580139270, 'HF': 135434772464, 'OH': 89515823538, 'HC': 44758010966, 'KN': 119043601811, 'FO': 162615612897, 'CH': 90290408141, 'HV': 90290408140, 'HH': 44757812572, 'SC': 44757812573, 'PN': 59521982660, 'HO': 45145366805, 'PH': 22379074798, 'PB': 11189785250, 'BH': 11189785250, 'BF': 5595120264, 'PV': 1})\n",
      "defaultdict(<class 'int'>, {'B': 3397499171538, 'C': 984258259007, 'H': 610236657139, 'K': 3537050036671, 'F': 1483618435179, 'S': 1901381229051, 'P': 778268121366, 'N': 3304063632119, 'V': 2298821733898, 'O': 2595523651777})\n"
     ]
    },
    {
     "data": {
      "text/plain": [
       "2926813379532"
      ]
     },
     "execution_count": 5,
     "metadata": {},
     "output_type": "execute_result"
    }
   ],
   "source": [
    "from collections import defaultdict\n",
    "\n",
    "input_str, rule_dict = load_input()\n",
    "\n",
    "input_str = list(input_str)\n",
    "pair_counts = defaultdict(int)  # count of pairs: used to figure out what to replace strings with\n",
    "char_count = defaultdict(int)  # count of individual chars: used in final answer\n",
    "char_count.update(Counter(input_str))\n",
    "\n",
    "for i in range(len(input_str) - 1):\n",
    "    substr = ''.join(input_str[i:i+2])\n",
    "    pair_counts[substr] += 1\n",
    "\n",
    "for i in range(40):\n",
    "    new_pair_counts = defaultdict(int)\n",
    "    \n",
    "    # create the next step one\n",
    "    for k, v in pair_counts.items():\n",
    "        if k in rule_dict:\n",
    "            new_char = rule_dict[k]\n",
    "            # e.g. NN for the next turn splits into NC and CN\n",
    "            new_pair_counts[k[0] + new_char] += v\n",
    "            new_pair_counts[new_char + k[1]] += v\n",
    "            char_count[new_char] += v\n",
    "\n",
    "    pair_counts = new_pair_counts\n",
    "\n",
    "print(pair_counts)\n",
    "print(char_count)\n",
    "\n",
    "max(char_count.values()) - min(char_count.values())"
   ]
  }
 ],
 "metadata": {
  "kernelspec": {
   "display_name": "Python 3",
   "language": "python",
   "name": "python3"
  },
  "language_info": {
   "codemirror_mode": {
    "name": "ipython",
    "version": 3
   },
   "file_extension": ".py",
   "mimetype": "text/x-python",
   "name": "python",
   "nbconvert_exporter": "python",
   "pygments_lexer": "ipython3",
   "version": "3.6.7"
  }
 },
 "nbformat": 4,
 "nbformat_minor": 2
}
