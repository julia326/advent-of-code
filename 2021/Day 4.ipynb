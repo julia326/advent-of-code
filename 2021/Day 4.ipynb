{
 "cells": [
  {
   "cell_type": "code",
   "execution_count": 20,
   "metadata": {},
   "outputs": [],
   "source": [
    "import numpy as np\n",
    "import pandas as pd"
   ]
  },
  {
   "cell_type": "code",
   "execution_count": 3,
   "metadata": {},
   "outputs": [
    {
     "data": {
      "text/plain": [
       "'7,4,9,5,11,17,23,2,0,14,21,24,10,16,13,6,15,25,12,22,18,20,8,19,3,26,1'"
      ]
     },
     "execution_count": 3,
     "metadata": {},
     "output_type": "execute_result"
    }
   ],
   "source": [
    "example = \"\"\"7,4,9,5,11,17,23,2,0,14,21,24,10,16,13,6,15,25,12,22,18,20,8,19,3,26,1\n",
    "\n",
    "22 13 17 11  0\n",
    " 8  2 23  4 24\n",
    "21  9 14 16  7\n",
    " 6 10  3 18  5\n",
    " 1 12 20 15 19\n",
    "\n",
    " 3 15  0  2 22\n",
    " 9 18 13 17  5\n",
    "19  8  7 25 23\n",
    "20 11 10 24  4\n",
    "14 21 16 12  6\n",
    "\n",
    "14 21 17 24  4\n",
    "10 16 15  9 19\n",
    "18  8 23 26 20\n",
    "22 11 13  6  5\n",
    " 2  0 12  3  7\n",
    "\"\"\"\n",
    "\n",
    "inputs = example.split('\\n\\n')\n",
    "bingo_input = inputs[0]\n",
    "boards = inputs[1:]\n",
    "\n",
    "bingo_input"
   ]
  },
  {
   "cell_type": "code",
   "execution_count": 84,
   "metadata": {
    "scrolled": true
   },
   "outputs": [
    {
     "data": {
      "text/plain": [
       "[{'pos_dict': {'22': (0, 0),\n",
       "   '13': (0, 1),\n",
       "   '17': (0, 2),\n",
       "   '11': (0, 3),\n",
       "   '0': (0, 4),\n",
       "   '8': (1, 0),\n",
       "   '2': (1, 1),\n",
       "   '23': (1, 2),\n",
       "   '4': (1, 3),\n",
       "   '24': (1, 4),\n",
       "   '21': (2, 0),\n",
       "   '9': (2, 1),\n",
       "   '14': (2, 2),\n",
       "   '16': (2, 3),\n",
       "   '7': (2, 4),\n",
       "   '6': (3, 0),\n",
       "   '10': (3, 1),\n",
       "   '3': (3, 2),\n",
       "   '18': (3, 3),\n",
       "   '5': (3, 4),\n",
       "   '1': (4, 0),\n",
       "   '12': (4, 1),\n",
       "   '20': (4, 2),\n",
       "   '15': (4, 3),\n",
       "   '19': (4, 4)},\n",
       "  'is_marked':      0    1    2    3    4\n",
       "  0  0.0  0.0  0.0  0.0  0.0\n",
       "  1  0.0  0.0  0.0  0.0  0.0\n",
       "  2  0.0  0.0  0.0  0.0  0.0\n",
       "  3  0.0  0.0  0.0  0.0  0.0\n",
       "  4  0.0  0.0  0.0  0.0  0.0},\n",
       " {'pos_dict': {'3': (0, 0),\n",
       "   '15': (0, 1),\n",
       "   '0': (0, 2),\n",
       "   '2': (0, 3),\n",
       "   '22': (0, 4),\n",
       "   '9': (1, 0),\n",
       "   '18': (1, 1),\n",
       "   '13': (1, 2),\n",
       "   '17': (1, 3),\n",
       "   '5': (1, 4),\n",
       "   '19': (2, 0),\n",
       "   '8': (2, 1),\n",
       "   '7': (2, 2),\n",
       "   '25': (2, 3),\n",
       "   '23': (2, 4),\n",
       "   '20': (3, 0),\n",
       "   '11': (3, 1),\n",
       "   '10': (3, 2),\n",
       "   '24': (3, 3),\n",
       "   '4': (3, 4),\n",
       "   '14': (4, 0),\n",
       "   '21': (4, 1),\n",
       "   '16': (4, 2),\n",
       "   '12': (4, 3),\n",
       "   '6': (4, 4)},\n",
       "  'is_marked':      0    1    2    3    4\n",
       "  0  0.0  0.0  0.0  0.0  0.0\n",
       "  1  0.0  0.0  0.0  0.0  0.0\n",
       "  2  0.0  0.0  0.0  0.0  0.0\n",
       "  3  0.0  0.0  0.0  0.0  0.0\n",
       "  4  0.0  0.0  0.0  0.0  0.0},\n",
       " {'pos_dict': {'14': (0, 0),\n",
       "   '21': (0, 1),\n",
       "   '17': (0, 2),\n",
       "   '24': (0, 3),\n",
       "   '4': (0, 4),\n",
       "   '10': (1, 0),\n",
       "   '16': (1, 1),\n",
       "   '15': (1, 2),\n",
       "   '9': (1, 3),\n",
       "   '19': (1, 4),\n",
       "   '18': (2, 0),\n",
       "   '8': (2, 1),\n",
       "   '23': (2, 2),\n",
       "   '26': (2, 3),\n",
       "   '20': (2, 4),\n",
       "   '22': (3, 0),\n",
       "   '11': (3, 1),\n",
       "   '13': (3, 2),\n",
       "   '6': (3, 3),\n",
       "   '5': (3, 4),\n",
       "   '2': (4, 0),\n",
       "   '0': (4, 1),\n",
       "   '12': (4, 2),\n",
       "   '3': (4, 3),\n",
       "   '7': (4, 4)},\n",
       "  'is_marked':      0    1    2    3    4\n",
       "  0  0.0  0.0  0.0  0.0  0.0\n",
       "  1  0.0  0.0  0.0  0.0  0.0\n",
       "  2  0.0  0.0  0.0  0.0  0.0\n",
       "  3  0.0  0.0  0.0  0.0  0.0\n",
       "  4  0.0  0.0  0.0  0.0  0.0}]"
      ]
     },
     "execution_count": 84,
     "metadata": {},
     "output_type": "execute_result"
    }
   ],
   "source": [
    "def process_board(board):\n",
    "    board = board.strip()\n",
    "    # remember each number's position on the board: {num -> (i, j)}\n",
    "    # make a binary matrix of the same shape\n",
    "    # then when you encounter a number, flip its corresponding (i, j) binary bit to 1\n",
    "\n",
    "    # {num -> (i, j)}\n",
    "    pos_dict = {}\n",
    "    for i, line in enumerate(board.split('\\n')):\n",
    "        for j, char in enumerate(line.split()):\n",
    "            pos_dict[char] = (i, j)\n",
    "\n",
    "    dim = len(board.split('\\n'))\n",
    "    d = pd.DataFrame(np.zeros((dim, dim)))\n",
    "    return (pos_dict, d)\n",
    "\n",
    "out = []\n",
    "for board in boards:\n",
    "    pos_dict, d = process_board(board)\n",
    "    out.append({'pos_dict': pos_dict, 'is_marked': d})\n",
    "    \n",
    "out"
   ]
  },
  {
   "cell_type": "code",
   "execution_count": 85,
   "metadata": {},
   "outputs": [
    {
     "name": "stdout",
     "output_type": "stream",
     "text": [
      "7\n",
      "4\n",
      "9\n",
      "5\n",
      "11\n",
      "17\n",
      "23\n",
      "2\n",
      "0\n",
      "14\n",
      "21\n",
      "24\n"
     ]
    }
   ],
   "source": [
    "def get_winning_board(bingo_input, out):\n",
    "    for char in bingo_input.split(','):\n",
    "        print(char)\n",
    "        for board_rep in out:\n",
    "            pos_dict = board_rep['pos_dict']\n",
    "            is_marked = board_rep['is_marked']\n",
    "            dim = is_marked.shape[0]\n",
    "            if char in pos_dict:\n",
    "                (i, j) = pos_dict[char]\n",
    "                is_marked[j][i] = 1\n",
    "\n",
    "                # check if board has bingo\n",
    "                if any(is_marked.sum(axis=1) == dim) or any(is_marked.sum(axis=0) == dim):\n",
    "                    return board_rep, char\n",
    "\n",
    "winning_board, winning_char = get_winning_board(bingo_input, out)"
   ]
  },
  {
   "cell_type": "code",
   "execution_count": 76,
   "metadata": {},
   "outputs": [
    {
     "data": {
      "text/plain": [
       "{'pos_dict': {'14': (0, 0),\n",
       "  '21': (0, 1),\n",
       "  '17': (0, 2),\n",
       "  '24': (0, 3),\n",
       "  '4': (0, 4),\n",
       "  '10': (1, 0),\n",
       "  '16': (1, 1),\n",
       "  '15': (1, 2),\n",
       "  '9': (1, 3),\n",
       "  '19': (1, 4),\n",
       "  '18': (2, 0),\n",
       "  '8': (2, 1),\n",
       "  '23': (2, 2),\n",
       "  '26': (2, 3),\n",
       "  '20': (2, 4),\n",
       "  '22': (3, 0),\n",
       "  '11': (3, 1),\n",
       "  '13': (3, 2),\n",
       "  '6': (3, 3),\n",
       "  '5': (3, 4),\n",
       "  '2': (4, 0),\n",
       "  '0': (4, 1),\n",
       "  '12': (4, 2),\n",
       "  '3': (4, 3),\n",
       "  '7': (4, 4)},\n",
       " 'is_marked':      0    1    2    3    4\n",
       " 0  1.0  1.0  1.0  1.0  1.0\n",
       " 1  0.0  0.0  0.0  1.0  0.0\n",
       " 2  0.0  0.0  1.0  0.0  0.0\n",
       " 3  0.0  1.0  0.0  0.0  1.0\n",
       " 4  1.0  1.0  0.0  0.0  1.0}"
      ]
     },
     "execution_count": 76,
     "metadata": {},
     "output_type": "execute_result"
    }
   ],
   "source": [
    "winning_board"
   ]
  },
  {
   "cell_type": "code",
   "execution_count": 92,
   "metadata": {},
   "outputs": [],
   "source": [
    "# compute score of winning board: sum all unmarked numbers, multiply by the last char called\n",
    "def get_score(winning_board, winning_char):\n",
    "    unmarked_numbers = []\n",
    "    for char, (i, j) in winning_board['pos_dict'].items():\n",
    "        if winning_board['is_marked'][j][i] == 0:\n",
    "            unmarked_numbers.append(int(char))\n",
    "\n",
    "    return sum(unmarked_numbers) * int(winning_char)"
   ]
  },
  {
   "cell_type": "code",
   "execution_count": 94,
   "metadata": {},
   "outputs": [
    {
     "data": {
      "text/plain": [
       "100"
      ]
     },
     "execution_count": 94,
     "metadata": {},
     "output_type": "execute_result"
    }
   ],
   "source": [
    "# real input\n",
    "\n",
    "a = open('day4.txt').read()\n",
    "inputs = a.split('\\n\\n')\n",
    "bingo_input = inputs[0]\n",
    "boards = inputs[1:]\n",
    "len(boards)"
   ]
  },
  {
   "cell_type": "code",
   "execution_count": 95,
   "metadata": {},
   "outputs": [],
   "source": [
    "out = []\n",
    "for board in boards:\n",
    "    pos_dict, d = process_board(board)\n",
    "    out.append({'pos_dict': pos_dict, 'is_marked': d})"
   ]
  },
  {
   "cell_type": "code",
   "execution_count": 96,
   "metadata": {
    "scrolled": true
   },
   "outputs": [
    {
     "name": "stdout",
     "output_type": "stream",
     "text": [
      "67\n",
      "3\n",
      "19\n",
      "4\n",
      "64\n",
      "39\n",
      "85\n",
      "14\n",
      "84\n",
      "93\n",
      "79\n",
      "26\n",
      "61\n",
      "24\n",
      "65\n",
      "63\n",
      "15\n",
      "69\n",
      "48\n",
      "8\n",
      "82\n",
      "75\n",
      "36\n",
      "96\n",
      "16\n",
      "49\n",
      "28\n",
      "40\n",
      "97\n",
      "38\n"
     ]
    }
   ],
   "source": [
    "winning_board, winning_char = get_winning_board(bingo_input, out)"
   ]
  },
  {
   "cell_type": "code",
   "execution_count": 97,
   "metadata": {},
   "outputs": [
    {
     "data": {
      "text/plain": [
       "28082"
      ]
     },
     "execution_count": 97,
     "metadata": {},
     "output_type": "execute_result"
    }
   ],
   "source": [
    "get_score(winning_board, winning_char)"
   ]
  },
  {
   "cell_type": "code",
   "execution_count": 126,
   "metadata": {},
   "outputs": [],
   "source": [
    "# okay part 2: figure out which board is the last to win\n",
    "\n",
    "def get_last_winning_board(bingo_input, out):\n",
    "    for char in bingo_input.split(','):\n",
    "#         print(char)\n",
    "        # iterate through all boards and see if they get a bingo\n",
    "        bingo_from_char_list = []\n",
    "        for board_rep in out:\n",
    "            pos_dict = board_rep['pos_dict']\n",
    "            is_marked = board_rep['is_marked']\n",
    "            dim = is_marked.shape[0]\n",
    "            if char in pos_dict:\n",
    "                (i, j) = pos_dict[char]\n",
    "                is_marked[j][i] = 1\n",
    "\n",
    "                # check if board has bingo, if yes, add it to the list\n",
    "                if any(is_marked.sum(axis=1) == dim) or any(is_marked.sum(axis=0) == dim):\n",
    "                    bingo_from_char_list.append(board_rep)\n",
    "                    if len(out) == 1:   # last winning board\n",
    "                        return out[0], char\n",
    "                    \n",
    "        for board_rep in bingo_from_char_list:\n",
    "            out.remove(board_rep)"
   ]
  },
  {
   "cell_type": "code",
   "execution_count": 127,
   "metadata": {},
   "outputs": [
    {
     "data": {
      "text/plain": [
       "'13'"
      ]
     },
     "execution_count": 127,
     "metadata": {},
     "output_type": "execute_result"
    }
   ],
   "source": [
    "inputs = example.split('\\n\\n')\n",
    "bingo_input = inputs[0]\n",
    "boards = inputs[1:]\n",
    "out = []\n",
    "for board in boards:\n",
    "    pos_dict, d = process_board(board)\n",
    "    out.append({'pos_dict': pos_dict, 'is_marked': d})\n",
    "  \n",
    "last_winning_board, last_winning_char = get_last_winning_board(bingo_input, out)\n",
    "last_winning_char"
   ]
  },
  {
   "cell_type": "code",
   "execution_count": 128,
   "metadata": {},
   "outputs": [
    {
     "data": {
      "text/plain": [
       "1924"
      ]
     },
     "execution_count": 128,
     "metadata": {},
     "output_type": "execute_result"
    }
   ],
   "source": [
    "get_score(last_winning_board, last_winning_char)"
   ]
  },
  {
   "cell_type": "code",
   "execution_count": 129,
   "metadata": {},
   "outputs": [],
   "source": [
    "# real input again\n",
    "\n",
    "a = open('day4.txt').read()\n",
    "inputs = a.split('\\n\\n')\n",
    "bingo_input = inputs[0]\n",
    "boards = inputs[1:]\n",
    "out = []\n",
    "for board in boards:\n",
    "    pos_dict, d = process_board(board)\n",
    "    out.append({'pos_dict': pos_dict, 'is_marked': d})\n",
    "  \n",
    "last_winning_board, last_winning_char = get_last_winning_board(bingo_input, out)"
   ]
  },
  {
   "cell_type": "code",
   "execution_count": 130,
   "metadata": {},
   "outputs": [
    {
     "data": {
      "text/plain": [
       "8224"
      ]
     },
     "execution_count": 130,
     "metadata": {},
     "output_type": "execute_result"
    }
   ],
   "source": [
    "get_score(last_winning_board, last_winning_char)"
   ]
  }
 ],
 "metadata": {
  "kernelspec": {
   "display_name": "Python 3",
   "language": "python",
   "name": "python3"
  },
  "language_info": {
   "codemirror_mode": {
    "name": "ipython",
    "version": 3
   },
   "file_extension": ".py",
   "mimetype": "text/x-python",
   "name": "python",
   "nbconvert_exporter": "python",
   "pygments_lexer": "ipython3",
   "version": "3.6.7"
  }
 },
 "nbformat": 4,
 "nbformat_minor": 2
}
