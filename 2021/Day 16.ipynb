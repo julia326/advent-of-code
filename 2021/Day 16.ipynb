{
 "cells": [
  {
   "cell_type": "code",
   "execution_count": 1,
   "metadata": {},
   "outputs": [],
   "source": [
    "import binascii"
   ]
  },
  {
   "cell_type": "code",
   "execution_count": 2,
   "metadata": {},
   "outputs": [
    {
     "data": {
      "text/plain": [
       "True"
      ]
     },
     "execution_count": 2,
     "metadata": {},
     "output_type": "execute_result"
    }
   ],
   "source": [
    "def get_binary_str(hex_str):\n",
    "    out = bin(int(hex_str, 16))[2:]\n",
    "    padding = 4 - (len(out) % 4)\n",
    "    if padding != 0:\n",
    "        out = '0' * padding + out\n",
    "    assert len(out) % 4 == 0\n",
    "    return out\n",
    "\n",
    "expected_out = '00111000000000000110111101000101001010010001001000000000'\n",
    "get_binary_str('38006F45291200') == expected_out"
   ]
  },
  {
   "cell_type": "code",
   "execution_count": 3,
   "metadata": {},
   "outputs": [
    {
     "data": {
      "text/plain": [
       "True"
      ]
     },
     "execution_count": 3,
     "metadata": {},
     "output_type": "execute_result"
    }
   ],
   "source": [
    "get_binary_str('38006F45291200') == '00111000000000000110111101000101001010010001001000000000'"
   ]
  },
  {
   "cell_type": "code",
   "execution_count": 4,
   "metadata": {},
   "outputs": [
    {
     "name": "stdout",
     "output_type": "stream",
     "text": [
      "00111000000000000110111101000101001010010001001000000000\n",
      "001\n",
      "110\n",
      "0\n",
      "27\n",
      "110100010100101001000100100\n"
     ]
    }
   ],
   "source": [
    "packet = '38006F45291200'\n",
    "binary_str = get_binary_str(packet)\n",
    "print(binary_str)\n",
    "main_version = binary_str[:3]\n",
    "print(main_version)\n",
    "packet_type = binary_str[3:6]\n",
    "print(packet_type)\n",
    "if packet_type == '100':\n",
    "    print('literal packet! no other versions')\n",
    "else:\n",
    "    length_type_id = binary_str[6]\n",
    "    print(length_type_id)\n",
    "    if length_type_id == '0':\n",
    "        # next 15 bits are a number that represents the total length in bits\n",
    "        subpacket_length = int(binary_str[7:22], 2)\n",
    "        print(subpacket_length)\n",
    "        subpacket_str = binary_str[22:22+subpacket_length]\n",
    "        print(subpacket_str)"
   ]
  },
  {
   "cell_type": "code",
   "execution_count": 5,
   "metadata": {},
   "outputs": [],
   "source": [
    "def parse_packet(binary_str):\n",
    "    main_version = binary_str[:3]\n",
    "    packet_type = binary_str[3:6]\n",
    "    if packet_type == '100':\n",
    "        length_type_id = None\n",
    "        payload = binary_str[6:]\n",
    "        for i in range(len(payload)):\n",
    "            if i % 5 == 0 and possible_payload[i] == '0':\n",
    "                # if this bit is 0, this is the last group\n",
    "                payload = payload[:i+5]\n",
    "                return (main_version, packet_type, length_type_id, payload)\n",
    "                \n",
    "    else:\n",
    "        length_type_id = binary_str[6]\n",
    "        payload = binary_str[7:]\n",
    "        if length_type_id == '0':\n",
    "            # next 15 bits are a number that represents the total subpackets length in bits\n",
    "            subpackets_length = int(binary_str[7:22], 2)\n",
    "            subpackets_str = binary_str[22:22+subpacket_length]\n",
    "            payload = subpackets_str\n",
    "            return (main_version, packet_type, length_type_id, payload)\n",
    "        \n"
   ]
  },
  {
   "cell_type": "code",
   "execution_count": 6,
   "metadata": {},
   "outputs": [],
   "source": [
    "def get_first_complete_packet(binary_str):\n",
    "    main_version = binary_str[:3]\n",
    "    packet_type = binary_str[3:6]\n",
    "    if packet_type == '100':\n",
    "        length_type_id = None\n",
    "        payload = binary_str[6:]\n",
    "        for i in range(len(payload)):\n",
    "            if i % 5 == 0 and possible_payload[i] == '0':\n",
    "                # if this bit is 0, this is the last group\n",
    "                payload = payload[:i+5]\n",
    "                full_packet = main_version + packet_type + payload\n",
    "                return full_packet\n",
    "    "
   ]
  },
  {
   "cell_type": "code",
   "execution_count": 39,
   "metadata": {},
   "outputs": [
    {
     "data": {
      "text/plain": [
       "'110100101111111000101'"
      ]
     },
     "execution_count": 39,
     "metadata": {},
     "output_type": "execute_result"
    }
   ],
   "source": [
    "\"\"\"\n",
    "parsing a packet happens left to right: recursive thing, I think. The hard part really is the case where we know\n",
    "how many packets are coming but not how long they are. The base case needs to be a literal packet (leaf).\n",
    "But an operator can contain any number of operators, and really the thing here is finding all literal leaves.\n",
    "\n",
    "for each packet, figure out the boundaries of the packets it contains.\n",
    "if an operator packet contains any number of literal packets, find those.\n",
    "the hard part is figuring out the boundaries of other operator packets\n",
    "\n",
    "so for each packet, we need to figure out its children packets\n",
    "if a child is a literal, that's easy\n",
    "if a child is another operator, need to figure out that operator's boundaries\n",
    "\n",
    "the main function takes a packet startpoint and figures out what index it ends at.\n",
    "  if literal, that's easy.\n",
    "  if operator, then drop into its subpackets, figure out what index they end at.\n",
    "    first subpacket: figure out what index it ends at. if literal, that's easy.\n",
    "    if operator, drop into its subpackets, figure out what index they end at.\n",
    "\n",
    "\"\"\"\n",
    "\n",
    "def find_end_index_for_packet(binary_str):\n",
    "    packet_type = binary_str[3:6]\n",
    "    if packet_type == '100':  # literal, base case\n",
    "        payload = binary_str[6:]\n",
    "        for i in range(len(payload)):\n",
    "#             print('%d: %s' % (i, payload[i:]))\n",
    "            if i % 5 == 0 and payload[i] == '0':\n",
    "#                 print('last 4-digit number starts at position %d' % i)\n",
    "                last_pos = i+11  # add another 5 bits for the last number, and 6 for starter padding\n",
    "                return last_pos  # this is the last packet\n",
    "\n",
    "packet = '110100101111111000101000'\n",
    "end_index = find_end_index_for_packet(packet)\n",
    "packet[:end_index]"
   ]
  },
  {
   "cell_type": "code",
   "execution_count": 24,
   "metadata": {},
   "outputs": [
    {
     "data": {
      "text/plain": [
       "'110100101111111000101'"
      ]
     },
     "execution_count": 24,
     "metadata": {},
     "output_type": "execute_result"
    }
   ],
   "source": [
    "'110100101111111000101000'[:20+1]"
   ]
  }
 ],
 "metadata": {
  "kernelspec": {
   "display_name": "Python 3",
   "language": "python",
   "name": "python3"
  },
  "language_info": {
   "codemirror_mode": {
    "name": "ipython",
    "version": 3
   },
   "file_extension": ".py",
   "mimetype": "text/x-python",
   "name": "python",
   "nbconvert_exporter": "python",
   "pygments_lexer": "ipython3",
   "version": "3.6.7"
  }
 },
 "nbformat": 4,
 "nbformat_minor": 2
}
