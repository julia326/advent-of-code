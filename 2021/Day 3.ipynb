{
 "cells": [
  {
   "cell_type": "code",
   "execution_count": 21,
   "metadata": {},
   "outputs": [
    {
     "data": {
      "text/plain": [
       "['00100',\n",
       " '11110',\n",
       " '10110',\n",
       " '10111',\n",
       " '10101',\n",
       " '01111',\n",
       " '00111',\n",
       " '11100',\n",
       " '10000',\n",
       " '11001',\n",
       " '00010',\n",
       " '01010']"
      ]
     },
     "execution_count": 21,
     "metadata": {},
     "output_type": "execute_result"
    }
   ],
   "source": [
    "example_input = \"\"\"00100\n",
    "11110\n",
    "10110\n",
    "10111\n",
    "10101\n",
    "01111\n",
    "00111\n",
    "11100\n",
    "10000\n",
    "11001\n",
    "00010\n",
    "01010\n",
    "\"\"\"\n",
    "\n",
    "def process_input(a):\n",
    "    return a.split('\\n')[:-1]\n",
    "\n",
    "process_input(example_input)"
   ]
  },
  {
   "cell_type": "code",
   "execution_count": 49,
   "metadata": {},
   "outputs": [
    {
     "data": {
      "text/plain": [
       "198"
      ]
     },
     "execution_count": 49,
     "metadata": {},
     "output_type": "execute_result"
    }
   ],
   "source": [
    "# do this the silly way: actually go through and count up the 1s in each position\n",
    "def get_gamma_epsilon(a):\n",
    "    counts = [0] * len(a[0])\n",
    "    for line in a:\n",
    "        nums = [int(x) for x in line]\n",
    "        for i, num in enumerate(nums):\n",
    "            counts[i] += num\n",
    "            \n",
    "    freq_bits = [0] * len(a[0])\n",
    "    num_nums = len(a)\n",
    "    for i, count in enumerate(counts):\n",
    "        freq_bits[i] = count > num_nums/2\n",
    "    gamma = freq_bits\n",
    "    epsilon = [not x for x in gamma]\n",
    "    \n",
    "    # this is very silly\n",
    "    gamma_base10 = int(''.join([str(int(x)) for x in gamma]), 2)\n",
    "    epsilon_base10 = int(''.join([str(int(x)) for x in epsilon]), 2)\n",
    "    \n",
    "    return (gamma_base10, epsilon_base10)\n",
    "            \n",
    "g, e = get_gamma_epsilon(process_input(example_input))\n",
    "g * e"
   ]
  },
  {
   "cell_type": "code",
   "execution_count": 50,
   "metadata": {},
   "outputs": [
    {
     "data": {
      "text/plain": [
       "1000"
      ]
     },
     "execution_count": 50,
     "metadata": {},
     "output_type": "execute_result"
    }
   ],
   "source": [
    "a = open('day3.txt').read().split('\\n')[:-1]\n",
    "len(a)"
   ]
  },
  {
   "cell_type": "code",
   "execution_count": 51,
   "metadata": {},
   "outputs": [
    {
     "data": {
      "text/plain": [
       "2250414"
      ]
     },
     "execution_count": 51,
     "metadata": {},
     "output_type": "execute_result"
    }
   ],
   "source": [
    "g, e = get_gamma_epsilon(a)\n",
    "g * e"
   ]
  },
  {
   "cell_type": "code",
   "execution_count": 52,
   "metadata": {},
   "outputs": [
    {
     "data": {
      "text/plain": [
       "['00100',\n",
       " '11110',\n",
       " '10110',\n",
       " '10111',\n",
       " '10101',\n",
       " '01111',\n",
       " '00111',\n",
       " '11100',\n",
       " '10000',\n",
       " '11001',\n",
       " '00010',\n",
       " '01010']"
      ]
     },
     "execution_count": 52,
     "metadata": {},
     "output_type": "execute_result"
    }
   ],
   "source": [
    "# part 2\n",
    "\n",
    "process_input(example_input)"
   ]
  },
  {
   "cell_type": "code",
   "execution_count": 80,
   "metadata": {},
   "outputs": [
    {
     "data": {
      "text/plain": [
       "'10111'"
      ]
     },
     "execution_count": 80,
     "metadata": {},
     "output_type": "execute_result"
    }
   ],
   "source": [
    "# constrain the input to only that with the most common value in the 1st bit \n",
    "def step_ox_gen(a, pos):\n",
    "    num_nums = len(a)\n",
    "    count = 0\n",
    "    for line in a:\n",
    "        count += 1 if line[pos] == '1' else 0\n",
    "    \n",
    "    common = str(int(count >= num_nums/2))\n",
    "    keep = []\n",
    "    for line in a:\n",
    "        if line[pos] == common:\n",
    "            keep.append(line)\n",
    "    return keep\n",
    "\n",
    "def get_ox_gen(a):\n",
    "    i = 0\n",
    "    while len(a) > 1:\n",
    "        a = step_ox_gen(a, i)\n",
    "        i += 1\n",
    "    return a[0]\n",
    "\n",
    "get_ox_gen(process_input(example_input))"
   ]
  },
  {
   "cell_type": "code",
   "execution_count": 81,
   "metadata": {},
   "outputs": [
    {
     "data": {
      "text/plain": [
       "'01010'"
      ]
     },
     "execution_count": 81,
     "metadata": {},
     "output_type": "execute_result"
    }
   ],
   "source": [
    "# constrain the input to only that with the LEAST common value in the 1st bit \n",
    "def step_co2_scrub(a, pos):\n",
    "    num_nums = len(a)\n",
    "    count = 0\n",
    "    for line in a:\n",
    "        count += 1 if line[pos] == '1' else 0\n",
    "    \n",
    "    least_common = str(int(count < num_nums/2))\n",
    "    keep = []\n",
    "    for line in a:\n",
    "        if line[pos] == least_common:\n",
    "            keep.append(line)\n",
    "    return keep\n",
    "\n",
    "def get_co2_scrub(a):\n",
    "    i = 0\n",
    "    while len(a) > 1:\n",
    "        a = step_co2_scrub(a, i)\n",
    "        i += 1\n",
    "    return a[0]\n",
    "\n",
    "get_co2_scrub(process_input(example_input))"
   ]
  },
  {
   "cell_type": "code",
   "execution_count": 83,
   "metadata": {},
   "outputs": [
    {
     "data": {
      "text/plain": [
       "230"
      ]
     },
     "execution_count": 83,
     "metadata": {},
     "output_type": "execute_result"
    }
   ],
   "source": [
    "int('10111', 2) * int('01010', 2)"
   ]
  },
  {
   "cell_type": "code",
   "execution_count": 86,
   "metadata": {},
   "outputs": [
    {
     "data": {
      "text/plain": [
       "6085575"
      ]
     },
     "execution_count": 86,
     "metadata": {},
     "output_type": "execute_result"
    }
   ],
   "source": [
    "ox_gen = get_ox_gen(a)\n",
    "co2_scrub = get_co2_scrub(a)\n",
    "\n",
    "int(ox_gen, 2) * int(co2_scrub, 2)"
   ]
  }
 ],
 "metadata": {
  "kernelspec": {
   "display_name": "Python 3",
   "language": "python",
   "name": "python3"
  },
  "language_info": {
   "codemirror_mode": {
    "name": "ipython",
    "version": 3
   },
   "file_extension": ".py",
   "mimetype": "text/x-python",
   "name": "python",
   "nbconvert_exporter": "python",
   "pygments_lexer": "ipython3",
   "version": "3.6.7"
  }
 },
 "nbformat": 4,
 "nbformat_minor": 2
}
