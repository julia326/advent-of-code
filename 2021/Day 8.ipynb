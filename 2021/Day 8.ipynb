{
 "cells": [
  {
   "cell_type": "code",
   "execution_count": 1,
   "metadata": {},
   "outputs": [
    {
     "data": {
      "text/plain": [
       "{0: 6, 1: 2, 2: 5, 3: 5, 4: 4, 5: 5, 6: 6, 7: 3, 8: 7, 9: 6}"
      ]
     },
     "execution_count": 1,
     "metadata": {},
     "output_type": "execute_result"
    }
   ],
   "source": [
    "digit_map = {\n",
    "    0: 'abcefg',\n",
    "    1: 'cf',\n",
    "    2: 'acdeg',\n",
    "    3: 'acdfg',\n",
    "    4: 'bcdf',\n",
    "    5: 'abdfg',\n",
    "    6: 'abdefg',\n",
    "    7: 'acf',\n",
    "    8: 'abcdefg',\n",
    "    9: 'abcdfg'\n",
    "}\n",
    "\n",
    "{k: len(v) for k, v in digit_map.items()}"
   ]
  },
  {
   "cell_type": "code",
   "execution_count": 2,
   "metadata": {},
   "outputs": [
    {
     "data": {
      "text/plain": [
       "[6, 2, 5, 5, 4, 5, 6, 3, 7, 6]"
      ]
     },
     "execution_count": 2,
     "metadata": {},
     "output_type": "execute_result"
    }
   ],
   "source": [
    "[len(x) for x in digit_map.values()]"
   ]
  },
  {
   "cell_type": "code",
   "execution_count": 89,
   "metadata": {},
   "outputs": [
    {
     "data": {
      "text/plain": [
       "['be cfbegad cbdgef fgaecd cgeb fdcge agebfd fecdb fabcd edb | fdgacbe cefdb cefbgd gcbe',\n",
       " 'edbfga begcd cbg gc gcadebf fbgde acbgfd abcde gfcbed gfec | fcgedb cgb dgebacf gc',\n",
       " 'fgaebd cg bdaec gdafb agbcfd gdcbef bgcad gfac gcb cdgabef | cg cg fdcagb cbg',\n",
       " 'fbegcd cbd adcefb dageb afcb bc aefdc ecdab fgdeca fcdbega | efabcd cedba gadfec cb',\n",
       " 'aecbfdg fbg gf bafeg dbefa fcge gcbea fcaegb dgceab fcbdga | gecf egdcabf bgf bfgea',\n",
       " 'fgeab ca afcebg bdacfeg cfaedg gcfdb baec bfadeg bafgc acf | gebdcfa ecba ca fadegcb',\n",
       " 'dbcfg fgd bdegcaf fgec aegbdf ecdfab fbedc dacgb gdcebf gf | cefg dcbef fcge gbcadfe',\n",
       " 'bdfegc cbegaf gecbf dfcage bdacg ed bedf ced adcbefg gebcd | ed bcgafe cdgba cbgef',\n",
       " 'egadfb cdbfeg cegd fecab cgb gbdefca cg fgcdab egfdb bfceg | gbdfcae bgc cg cgb',\n",
       " 'gcafb gcf dcaebfg ecagb gf abcdeg gaef cafbge fdbac fegbdc | fgae cfgab fg bagce']"
      ]
     },
     "execution_count": 89,
     "metadata": {},
     "output_type": "execute_result"
    }
   ],
   "source": [
    "example = \"\"\"be cfbegad cbdgef fgaecd cgeb fdcge agebfd fecdb fabcd edb | fdgacbe cefdb cefbgd gcbe\n",
    "edbfga begcd cbg gc gcadebf fbgde acbgfd abcde gfcbed gfec | fcgedb cgb dgebacf gc\n",
    "fgaebd cg bdaec gdafb agbcfd gdcbef bgcad gfac gcb cdgabef | cg cg fdcagb cbg\n",
    "fbegcd cbd adcefb dageb afcb bc aefdc ecdab fgdeca fcdbega | efabcd cedba gadfec cb\n",
    "aecbfdg fbg gf bafeg dbefa fcge gcbea fcaegb dgceab fcbdga | gecf egdcabf bgf bfgea\n",
    "fgeab ca afcebg bdacfeg cfaedg gcfdb baec bfadeg bafgc acf | gebdcfa ecba ca fadegcb\n",
    "dbcfg fgd bdegcaf fgec aegbdf ecdfab fbedc dacgb gdcebf gf | cefg dcbef fcge gbcadfe\n",
    "bdfegc cbegaf gecbf dfcage bdacg ed bedf ced adcbefg gebcd | ed bcgafe cdgba cbgef\n",
    "egadfb cdbfeg cegd fecab cgb gbdefca cg fgcdab egfdb bfceg | gbdfcae bgc cg cgb\n",
    "gcafb gcf dcaebfg ecagb gf abcdeg gaef cafbge fdbac fegbdc | fgae cfgab fg bagce\n",
    "\"\"\"\n",
    "\n",
    "example = example.split('\\n')[:-1]\n",
    "example"
   ]
  },
  {
   "cell_type": "code",
   "execution_count": 9,
   "metadata": {},
   "outputs": [
    {
     "data": {
      "text/plain": [
       "3"
      ]
     },
     "execution_count": 9,
     "metadata": {},
     "output_type": "execute_result"
    }
   ],
   "source": [
    "unique_seg_nums = {2, 3, 4, 7}\n",
    "\n",
    "# line is e.g. \"cg cg fdcagb cbg\"\n",
    "def num_digits_with_unique_segments(line):\n",
    "    return sum(len(x) in unique_seg_nums for x in line.split(' '))\n",
    "\n",
    "num_digits_with_unique_segments('cefg dcbef fcge gbcadfe')"
   ]
  },
  {
   "cell_type": "code",
   "execution_count": 21,
   "metadata": {},
   "outputs": [
    {
     "data": {
      "text/plain": [
       "26"
      ]
     },
     "execution_count": 21,
     "metadata": {},
     "output_type": "execute_result"
    }
   ],
   "source": [
    "count = 0\n",
    "for line in example:\n",
    "    line = line.split(' | ')[1]\n",
    "    count += num_digits_with_unique_segments(line)\n",
    "\n",
    "sum(num_digits_with_unique_segments(x.split(' | ')[1]) for x in example)"
   ]
  },
  {
   "cell_type": "code",
   "execution_count": 22,
   "metadata": {},
   "outputs": [
    {
     "data": {
      "text/plain": [
       "476"
      ]
     },
     "execution_count": 22,
     "metadata": {},
     "output_type": "execute_result"
    }
   ],
   "source": [
    "a = open('day8.txt').read().split('\\n')[:-1]\n",
    "sum(num_digits_with_unique_segments(x.split(' | ')[1]) for x in a)"
   ]
  },
  {
   "cell_type": "code",
   "execution_count": null,
   "metadata": {},
   "outputs": [],
   "source": [
    "digit_map = {\n",
    "    1: 'cf',\n",
    "    7: 'acf',\n",
    "    4: 'bcdf',\n",
    "    2: 'acdeg',\n",
    "    3: 'acdfg',\n",
    "    5: 'abdfg',\n",
    "    6: 'abdefg',\n",
    "    0: 'abcefg',\n",
    "    9: 'abcdfg',\n",
    "    8: 'abcdefg',\n",
    "}"
   ]
  },
  {
   "cell_type": "markdown",
   "metadata": {},
   "source": [
    "# well damn"
   ]
  },
  {
   "cell_type": "code",
   "execution_count": 33,
   "metadata": {},
   "outputs": [],
   "source": [
    "from itertools import permutations"
   ]
  },
  {
   "cell_type": "code",
   "execution_count": 36,
   "metadata": {},
   "outputs": [
    {
     "data": {
      "text/plain": [
       "5040"
      ]
     },
     "execution_count": 36,
     "metadata": {},
     "output_type": "execute_result"
    }
   ],
   "source": [
    "perms = list(permutations('abcdefg'))\n",
    "len(perms)"
   ]
  },
  {
   "cell_type": "code",
   "execution_count": 60,
   "metadata": {},
   "outputs": [
    {
     "data": {
      "text/plain": [
       "{'abcdefg',\n",
       " 'abcdfg',\n",
       " 'abcefg',\n",
       " 'abdefg',\n",
       " 'abdeg',\n",
       " 'abdfg',\n",
       " 'acdeg',\n",
       " 'bdef',\n",
       " 'be',\n",
       " 'beg'}"
      ]
     },
     "execution_count": 60,
     "metadata": {},
     "output_type": "execute_result"
    }
   ],
   "source": [
    "# perm is a string like 'abgcefd', returns a set of 10 strings representing the numbers in this permutation\n",
    "\n",
    "def generate_nums(perm):\n",
    "    orig = 'abcdefg'\n",
    "    char_map = {k: v for (k, v) in zip(orig, perm)}\n",
    "    new_vals = set()\n",
    "    for value in digit_map.values():\n",
    "        mapped_value = ''.join(sorted(char_map[x] for x in list(value)))\n",
    "        new_vals.add(mapped_value)\n",
    "\n",
    "    return new_vals\n",
    "\n",
    "generate_nums('gfedcba')"
   ]
  },
  {
   "cell_type": "code",
   "execution_count": 87,
   "metadata": {},
   "outputs": [
    {
     "data": {
      "text/plain": [
       "5353"
      ]
     },
     "execution_count": 87,
     "metadata": {},
     "output_type": "execute_result"
    }
   ],
   "source": [
    "def process_part2(line):\n",
    "    line, new_nums = line.split(' | ')\n",
    "    line_num_set = set([''.join(sorted(x)) for x in line.split(' ')])\n",
    "\n",
    "    # returns the number in the permutation's order, sorted\n",
    "    def map_num(num, char_map):\n",
    "        orig_chars = digit_map[num]\n",
    "        new_chars = ''.join(sorted([char_map[x] for x in list(orig_chars)]))\n",
    "        return new_chars\n",
    "\n",
    "    for perm in list(permutations('abcdefg')):\n",
    "        num_set = generate_nums(perm)\n",
    "        if num_set == line_num_set:\n",
    "            orig = 'abcdefg'\n",
    "            char_map = {k: v for (k, v) in zip(orig, perm)}\n",
    "\n",
    "            new_chars_to_num = {}\n",
    "            for num in digit_map.keys():\n",
    "                new_chars = map_num(num, char_map)\n",
    "                new_chars_to_num[new_chars] = num\n",
    "\n",
    "            # iterate through the nums and figure out what they are\n",
    "            new_string = ''\n",
    "            for new_num in new_nums.split(' '):\n",
    "                num_in_new_chars = ''.join(sorted(new_num))\n",
    "                new_string += str(new_chars_to_num[num_in_new_chars])\n",
    "\n",
    "            return int(new_string)\n",
    "\n",
    "# convert each line into a sorted list of sorted chars\n",
    "line = 'acedgfb cdfbe gcdfa fbcad dab cefabd cdfgeb eafb cagedb ab | cdfeb fcadb cdfeb cdbaf'\n",
    "process_part2(line)"
   ]
  },
  {
   "cell_type": "code",
   "execution_count": 91,
   "metadata": {},
   "outputs": [
    {
     "data": {
      "text/plain": [
       "61229"
      ]
     },
     "execution_count": 91,
     "metadata": {},
     "output_type": "execute_result"
    }
   ],
   "source": [
    "total = 0\n",
    "for line in example:\n",
    "    total += process_part2(line)\n",
    "\n",
    "total"
   ]
  },
  {
   "cell_type": "code",
   "execution_count": 92,
   "metadata": {},
   "outputs": [
    {
     "data": {
      "text/plain": [
       "1011823"
      ]
     },
     "execution_count": 92,
     "metadata": {},
     "output_type": "execute_result"
    }
   ],
   "source": [
    "# real input\n",
    "a = open('day8.txt').read().split('\\n')[:-1]\n",
    "\n",
    "total = 0\n",
    "for line in a:\n",
    "    total += process_part2(line)\n",
    "\n",
    "total"
   ]
  }
 ],
 "metadata": {
  "kernelspec": {
   "display_name": "Python 3",
   "language": "python",
   "name": "python3"
  },
  "language_info": {
   "codemirror_mode": {
    "name": "ipython",
    "version": 3
   },
   "file_extension": ".py",
   "mimetype": "text/x-python",
   "name": "python",
   "nbconvert_exporter": "python",
   "pygments_lexer": "ipython3",
   "version": "3.6.7"
  }
 },
 "nbformat": 4,
 "nbformat_minor": 2
}
