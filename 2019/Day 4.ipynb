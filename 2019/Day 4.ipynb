{
 "cells": [
  {
   "cell_type": "code",
   "execution_count": 3,
   "metadata": {},
   "outputs": [
    {
     "data": {
      "text/plain": [
       "460"
      ]
     },
     "execution_count": 3,
     "metadata": {},
     "output_type": "execute_result"
    }
   ],
   "source": [
    "# part 1\n",
    "\n",
    "def is_valid_password(a):\n",
    "    a = str(a)\n",
    "    if len(a) != 6:\n",
    "        return False\n",
    "    seen_identical = False\n",
    "    for i in range(len(a)-1):\n",
    "        cur_digit = int(a[i])\n",
    "        next_digit = int(a[i+1])\n",
    "        if cur_digit == next_digit:\n",
    "            seen_identical = True\n",
    "            continue\n",
    "        if cur_digit > next_digit:\n",
    "            return False\n",
    "    return seen_identical\n",
    "\n",
    "valid_password_count = 0\n",
    "for i in range(382345, 843167+1):\n",
    "    if is_valid_password(i):\n",
    "        valid_password_count += 1\n",
    "\n",
    "valid_password_count"
   ]
  },
  {
   "cell_type": "code",
   "execution_count": 11,
   "metadata": {},
   "outputs": [
    {
     "data": {
      "text/plain": [
       "290"
      ]
     },
     "execution_count": 11,
     "metadata": {},
     "output_type": "execute_result"
    }
   ],
   "source": [
    "# part 2: if any matching digits, then there needs to be at least one set of matching digits that's only 2\n",
    "\n",
    "from collections import Counter\n",
    "\n",
    "def is_valid_password2(a):\n",
    "    a = str(a)\n",
    "    if len(a) != 6:\n",
    "        return False\n",
    "    \n",
    "    for i in range(len(a)-1):\n",
    "        cur_digit = int(a[i])\n",
    "        next_digit = int(a[i+1])\n",
    "        if cur_digit > next_digit:\n",
    "            return False\n",
    "        \n",
    "    char_counts = set(Counter(a).values())\n",
    "    # if any values are greater than 1, then there has to be at least one value that's 2\n",
    "    if char_counts != {1}:\n",
    "        return 2 in char_counts\n",
    "\n",
    "valid_password_count = 0\n",
    "for i in range(382345, 843167+1):\n",
    "    if is_valid_password2(i):\n",
    "        valid_password_count += 1\n",
    "\n",
    "valid_password_count"
   ]
  }
 ],
 "metadata": {
  "kernelspec": {
   "display_name": "Python 3",
   "language": "python",
   "name": "python3"
  },
  "language_info": {
   "codemirror_mode": {
    "name": "ipython",
    "version": 3
   },
   "file_extension": ".py",
   "mimetype": "text/x-python",
   "name": "python",
   "nbconvert_exporter": "python",
   "pygments_lexer": "ipython3",
   "version": "3.6.7"
  }
 },
 "nbformat": 4,
 "nbformat_minor": 2
}
