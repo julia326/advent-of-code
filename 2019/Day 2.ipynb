{
 "cells": [
  {
   "cell_type": "code",
   "execution_count": 31,
   "metadata": {},
   "outputs": [],
   "source": [
    "sample_input = '1,9,10,3,2,3,11,0,99,30,40,50'\n",
    "sample_input = [int(x) for x in sample_input.split(',')]\n",
    "sample_input\n",
    "        \n",
    "def step(intcode_lst, current_pos):\n",
    "    op = intcode_lst[current_pos]\n",
    "    if op == 1:\n",
    "        first_pos = intcode_lst[current_pos+1]\n",
    "        second_pos = intcode_lst[current_pos+2]\n",
    "        new_val = intcode_lst[first_pos] + intcode_lst[second_pos]\n",
    "        pos_to_set = intcode_lst[current_pos+3]\n",
    "        intcode_lst[pos_to_set] = new_val\n",
    "        return intcode_lst, current_pos + 4\n",
    "    elif op == 2:\n",
    "        first_pos = intcode_lst[current_pos+1]\n",
    "        second_pos = intcode_lst[current_pos+2]\n",
    "        new_val = intcode_lst[first_pos] * intcode_lst[second_pos]\n",
    "        pos_to_set = intcode_lst[current_pos+3]\n",
    "        intcode_lst[pos_to_set] = new_val\n",
    "        return intcode_lst, current_pos + 4\n",
    "    elif op == 99:\n",
    "        return intcode_lst, -1\n",
    "    else:\n",
    "        raise ValueError('unknown value for op: %d' % op)\n",
    "        \n",
    "def process(sample_input):\n",
    "    sample_input = [int(x) for x in sample_input.split(',')]\n",
    "    \n",
    "    current_pos = 0\n",
    "    while current_pos != -1:\n",
    "        sample_input, current_pos = step(sample_input, current_pos)\n",
    "    return ','.join(str(x) for x in sample_input)\n",
    "    \n",
    "assert process('1,0,0,0,99') == '2,0,0,0,99'\n",
    "assert process('2,3,0,3,99') == '2,3,0,6,99'\n",
    "assert process('2,4,4,5,99,0') == '2,4,4,5,99,9801'\n",
    "assert process('1,1,1,4,99,5,6,0,99') == '30,1,1,4,2,5,6,0,99'"
   ]
  },
  {
   "cell_type": "code",
   "execution_count": 34,
   "metadata": {},
   "outputs": [
    {
     "data": {
      "text/plain": [
       "157"
      ]
     },
     "execution_count": 34,
     "metadata": {},
     "output_type": "execute_result"
    }
   ],
   "source": [
    "real_input = '1,0,0,3,1,1,2,3,1,3,4,3,1,5,0,3,2,13,1,19,1,10,19,23,1,23,9,27,1,5,27,31,2,31,13,35,1,35,5,39,1,39,5,43,2,13,43,47,2,47,10,51,1,51,6,55,2,55,9,59,1,59,5,63,1,63,13,67,2,67,6,71,1,71,5,75,1,75,5,79,1,79,9,83,1,10,83,87,1,87,10,91,1,91,9,95,1,10,95,99,1,10,99,103,2,103,10,107,1,107,9,111,2,6,111,115,1,5,115,119,2,119,13,123,1,6,123,127,2,9,127,131,1,131,5,135,1,135,13,139,1,139,10,143,1,2,143,147,1,147,10,0,99,2,0,14,0'\n",
    "len(real_input.split(','))"
   ]
  },
  {
   "cell_type": "code",
   "execution_count": 40,
   "metadata": {},
   "outputs": [
    {
     "data": {
      "text/plain": [
       "'4930687'"
      ]
     },
     "execution_count": 40,
     "metadata": {},
     "output_type": "execute_result"
    }
   ],
   "source": [
    "# replace position 1 with the value 12 and replace position 2 with the value 2.\n",
    "# What value is left at position 0 after the program halts?\n",
    "\n",
    "real_input = real_input.split(',')\n",
    "real_input[1] = '12'\n",
    "real_input[2] = '2'\n",
    "real_input = ','.join(real_input)\n",
    "real_input\n",
    "\n",
    "processed_input = process(real_input)\n",
    "processed_input.split(',')[0]"
   ]
  },
  {
   "cell_type": "code",
   "execution_count": 49,
   "metadata": {},
   "outputs": [
    {
     "name": "stdout",
     "output_type": "stream",
     "text": [
      "53\n",
      "35\n"
     ]
    }
   ],
   "source": [
    "desired_out = '19690720'\n",
    "\n",
    "def part2():\n",
    "    for noun in range(100):\n",
    "        for verb in range(100):\n",
    "            updated_input = real_input.split(',')\n",
    "            updated_input[1] = str(noun)\n",
    "            updated_input[2] = str(verb)\n",
    "            updated_input = ','.join(updated_input)\n",
    "            processed_input = process(updated_input)\n",
    "            out = processed_input.split(',')[0]\n",
    "            if out == desired_out:\n",
    "                print(noun)\n",
    "                print(verb)\n",
    "                return\n",
    "            \n",
    "part2()"
   ]
  },
  {
   "cell_type": "code",
   "execution_count": 50,
   "metadata": {},
   "outputs": [
    {
     "data": {
      "text/plain": [
       "5335"
      ]
     },
     "execution_count": 50,
     "metadata": {},
     "output_type": "execute_result"
    }
   ],
   "source": [
    "100 * 53 + 35"
   ]
  }
 ],
 "metadata": {
  "kernelspec": {
   "display_name": "Python 3",
   "language": "python",
   "name": "python3"
  },
  "language_info": {
   "codemirror_mode": {
    "name": "ipython",
    "version": 3
   },
   "file_extension": ".py",
   "mimetype": "text/x-python",
   "name": "python",
   "nbconvert_exporter": "python",
   "pygments_lexer": "ipython3",
   "version": "3.6.7"
  }
 },
 "nbformat": 4,
 "nbformat_minor": 2
}
