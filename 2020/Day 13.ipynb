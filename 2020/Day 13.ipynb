{
 "cells": [
  {
   "cell_type": "code",
   "execution_count": 36,
   "metadata": {},
   "outputs": [],
   "source": [
    "with open('inputs/input13.txt') as f:\n",
    "    buses = f.read().split('\\n')"
   ]
  },
  {
   "cell_type": "code",
   "execution_count": 38,
   "metadata": {},
   "outputs": [
    {
     "name": "stdout",
     "output_type": "stream",
     "text": [
      "1013728\n",
      "[23, 41, 733, 13, 17, 19, 29, 449, 37]\n",
      "8063\n"
     ]
    }
   ],
   "source": [
    "def find_lowest_multiple(min_start, nums):\n",
    "    for i in range(min_start, 2**31-1):\n",
    "        for num in nums:\n",
    "            if i % num == 0:\n",
    "                return num, i\n",
    "            \n",
    "# puzzle 1\n",
    "min_start = int(buses[0])\n",
    "buses_in_service = list(map(int, (x for x in buses[1].split(',') if x != 'x')))\n",
    "print(min_start)\n",
    "print(buses_in_service)\n",
    "\n",
    "# starting with min_start, what's the smallest multiple of any of the input numbers?\n",
    "first_bus, etd = find_lowest_multiple(min_start, buses_in_service)\n",
    "wait_time = etd - min_start\n",
    "print(first_bus * wait_time)"
   ]
  },
  {
   "cell_type": "code",
   "execution_count": 338,
   "metadata": {},
   "outputs": [
    {
     "data": {
      "text/plain": [
       "(2324, 7735)"
      ]
     },
     "execution_count": 338,
     "metadata": {},
     "output_type": "execute_result"
    }
   ],
   "source": [
    "def find_t_and_step_size(offsets, starting_t=0):\n",
    "    buses = list(offsets.keys())\n",
    "    offset_vals = list(offsets.values())\n",
    "    \n",
    "    # find the starter t that works\n",
    "    t = starting_t\n",
    "    step_size = 1\n",
    "    while True:\n",
    "        t = t + step_size\n",
    "        if t % buses[0] == offset_vals[0]:\n",
    "            break\n",
    "            \n",
    "    for i in range(1, len(buses)):\n",
    "        step_size *= buses[i-1]\n",
    "        while True:\n",
    "            t = t + step_size\n",
    "            if (t + offset_vals[i]) % buses[i] == 0:\n",
    "                break\n",
    "                \n",
    "    return t, np.product(buses)\n",
    "\n",
    "find_t_and_step_size({7: 0, 5: 1, 13: 3, 17: 5})"
   ]
  },
  {
   "cell_type": "code",
   "execution_count": 340,
   "metadata": {},
   "outputs": [
    {
     "data": {
      "text/plain": [
       "(1068781, 3162341)"
      ]
     },
     "execution_count": 340,
     "metadata": {},
     "output_type": "execute_result"
    }
   ],
   "source": [
    "offsets = {7:0, 13:1, 59:4, 31:6, 19:7}\n",
    "find_t_and_step_size(offsets)"
   ]
  },
  {
   "cell_type": "code",
   "execution_count": 341,
   "metadata": {},
   "outputs": [
    {
     "name": "stdout",
     "output_type": "stream",
     "text": [
      "{23: 0, 41: 13, 733: 23, 13: 36, 17: 37, 19: 42, 29: 52, 449: 54, 37: 91}\n"
     ]
    }
   ],
   "source": [
    "buses = '23,x,x,x,x,x,x,x,x,x,x,x,x,41,x,x,x,x,x,x,x,x,x,733,x,x,x,x,x,x,x,x,x,x,x,x,13,17,x,x,x,x,19,x,x,x,x,x,x,x,x,x,29,x,449,x,x,x,x,x,x,x,x,x,x,x,x,x,x,x,x,x,x,x,x,x,x,x,x,x,x,x,x,x,x,x,x,x,x,x,x,37'\n",
    "bus_offsets = {}\n",
    "for i, bus in enumerate(buses.split(',')):\n",
    "    if bus != 'x':\n",
    "        bus_offsets[int(bus)] = i\n",
    "print(bus_offsets)"
   ]
  },
  {
   "cell_type": "code",
   "execution_count": 342,
   "metadata": {},
   "outputs": [
    {
     "data": {
      "text/plain": [
       "(775230782877242, 1398323334468437)"
      ]
     },
     "execution_count": 342,
     "metadata": {},
     "output_type": "execute_result"
    }
   ],
   "source": [
    "find_t_and_step_size(bus_offsets, starting_t=100000000000000)"
   ]
  }
 ],
 "metadata": {
  "kernelspec": {
   "display_name": "Python 3",
   "language": "python",
   "name": "python3"
  },
  "language_info": {
   "codemirror_mode": {
    "name": "ipython",
    "version": 3
   },
   "file_extension": ".py",
   "mimetype": "text/x-python",
   "name": "python",
   "nbconvert_exporter": "python",
   "pygments_lexer": "ipython3",
   "version": "3.6.7"
  }
 },
 "nbformat": 4,
 "nbformat_minor": 2
}
