{
 "cells": [
  {
   "cell_type": "code",
   "execution_count": 58,
   "metadata": {},
   "outputs": [
    {
     "name": "stdout",
     "output_type": "stream",
     "text": [
      "Final move: [5, 4, 3, 2, 9, 7, 8, 1, 6]: 2\n",
      "Output: 65432978\n"
     ]
    }
   ],
   "source": [
    "def get_3_clockwise_cup_labels(current_cup_label, cups):\n",
    "    pos = cups.index(current_cup_label)\n",
    "    out = []\n",
    "    for i in range(pos+1, pos+4):\n",
    "        real_pos = i % len(cups)\n",
    "        out.append(cups[real_pos])\n",
    "    return out\n",
    "\n",
    "# returns label and position (within cups) of the destination cup\n",
    "def get_destination_cup_with_pos(current_cup_label, cups):\n",
    "    dest_cup_label = current_cup_label - 1\n",
    "    cup_set = set(cups)\n",
    "    max_cup_label = max(cup_set)\n",
    "    min_cup_label = min(cup_set)\n",
    "    while dest_cup_label not in cup_set:\n",
    "        dest_cup_label -= 1\n",
    "        if dest_cup_label < min_cup_label:  # wrap around to highest value instead\n",
    "            dest_cup_label = max_cup_label\n",
    "\n",
    "    dest_cup_pos = cups.index(dest_cup_label)\n",
    "    return dest_cup_label, dest_cup_pos\n",
    "\n",
    "def get_next_cup_label(current_cup_label, cups):\n",
    "    new_pos = (cups.index(current_cup_label)+1) % len(cups)\n",
    "    return cups[new_pos]\n",
    "\n",
    "def convert_to_output(cups):\n",
    "    pos_1 = cups.index(1)\n",
    "    out = []\n",
    "    for i in range(pos_1 + 1, pos_1 + 9):\n",
    "        pos = i % len(cups)\n",
    "        out.append(cups[pos])\n",
    "    return ''.join(str(x) for x in out)\n",
    "\n",
    "def make_move(current_cup_label, cups):\n",
    "    # grab the 3 cups clockwise and remove from cups\n",
    "    clockwise_cups = get_3_clockwise_cup_labels(current_cup_label, cups)\n",
    "    for cup in clockwise_cups:\n",
    "        cups.remove(cup)\n",
    "        \n",
    "    dest_cup_label, dest_cup_pos = get_destination_cup_with_pos(current_cup_label, cups)\n",
    "    # insert the clockwise cups right after dest_cup_pos\n",
    "    cups[dest_cup_pos+1:dest_cup_pos+1] = clockwise_cups\n",
    "    new_current_cup = get_next_cup_label(current_cup_label, cups)\n",
    "    return new_current_cup, cups\n",
    "\n",
    "# my input\n",
    "cups = list(map(int, list('962713854')))\n",
    "current_cup = cups[0]\n",
    "\n",
    "for i in range(100):\n",
    "    current_cup, cups = make_move(current_cup, cups)\n",
    "\n",
    "print('Final move: %s: %d' % (cups, current_cup))\n",
    "print('Output: %s' % convert_to_output(cups))"
   ]
  },
  {
   "cell_type": "code",
   "execution_count": 210,
   "metadata": {},
   "outputs": [],
   "source": [
    "# okay fine linked lists\n",
    "\n",
    "class Node:\n",
    "    def __init__(self, label):\n",
    "        self.label = label\n",
    "        self.next = None\n",
    "        \n",
    "        \n",
    "class MyCircularLinkedList:\n",
    "\n",
    "    # initializes with node labels in order, \"current\" node as the 1st one\n",
    "    def __init__(self, labels):\n",
    "        first_label = labels[0]\n",
    "        self.current = Node(first_label)\n",
    "        self.label_to_node_dict = {first_label: self.current}\n",
    "        \n",
    "        now_at_node = self.current\n",
    "        for label in labels[1:]:  # build up the chain\n",
    "            node = Node(label)\n",
    "            self.label_to_node_dict[label] = node\n",
    "            now_at_node.next = node\n",
    "            now_at_node = node\n",
    "        \n",
    "        now_at_node.next = self.current  # link the last one back to the current node\n",
    "        \n",
    "        self.in_flight_list = []  # this will keep track of labels that are in flight\n",
    "\n",
    "    def add_after_label(self, starting_label, labels):\n",
    "        now_at_node = self.label_to_node_dict[starting_label]\n",
    "        later_next = now_at_node.next\n",
    "        for label in labels:\n",
    "            node = Node(label)\n",
    "            self.label_to_node_dict[label] = node\n",
    "            now_at_node.next = node\n",
    "            now_at_node = node\n",
    "        now_at_node.next = later_next\n",
    "    \n",
    "    def print_from_current(self):\n",
    "        print(self.current.label, end = ' ')\n",
    "        node = self.current.next\n",
    "        while node:\n",
    "            if node.label == self.current.label:\n",
    "                break\n",
    "            print(node.label, end = ' ')\n",
    "            node = node.next\n",
    "            \n",
    "        print('\\n')\n",
    "\n",
    "    def set_current_by_label(self, label):\n",
    "        self.current = self.label_to_node_dict[label]\n",
    "        \n",
    "    def remove_three_after_current(self):\n",
    "        now_at_node = self.current\n",
    "        self.in_flight_list = []\n",
    "        for i in range(3):\n",
    "            now_at_node = now_at_node.next\n",
    "            self.in_flight_list.append(now_at_node.label)\n",
    "            del self.label_to_node_dict[now_at_node.label]\n",
    "\n",
    "        self.current.next = now_at_node.next\n",
    "        \n",
    "    # returns the label of the destination node\n",
    "    def get_destination_label(self):\n",
    "        # get the label of current minus one\n",
    "        dest_label = self.current.label - 1\n",
    "        while dest_label in self.in_flight_list:\n",
    "            dest_label -= 1\n",
    "        if dest_label < 1:\n",
    "            max_label = len(self.label_to_node_dict.keys()) + len(self.in_flight_list)\n",
    "            while max_label in self.in_flight_list:\n",
    "                max_label -= 1\n",
    "            dest_label = max_label\n",
    "\n",
    "        dest_node = self.label_to_node_dict[dest_label]\n",
    "        return dest_node.label\n",
    "    \n",
    "    def move(self):\n",
    "        # remove 3 nodes after current\n",
    "        self.remove_three_after_current()\n",
    "        dest_label = self.get_destination_label()\n",
    "        self.add_after_label(dest_label, self.in_flight_list)\n",
    "        self.in_flight_list = []\n",
    "        self.current = self.current.next\n"
   ]
  },
  {
   "cell_type": "code",
   "execution_count": 220,
   "metadata": {},
   "outputs": [
    {
     "name": "stdout",
     "output_type": "stream",
     "text": [
      "Starting positions:\n",
      "9 6 2 7 1 3 8 5 4 \n",
      "\n",
      "Ending positions:\n",
      "2 9 7 8 1 6 5 4 3 \n",
      "\n"
     ]
    }
   ],
   "source": [
    "cups = list(map(int, list('962713854')))\n",
    "current_cup = cups[0]\n",
    "\n",
    "cll = MyCircularLinkedList(cups)\n",
    "cll.set_current_by_label(current_cup)\n",
    "print('Starting positions:')\n",
    "cll.print_from_current()\n",
    "\n",
    "for i in range(100):\n",
    "    cll.move()\n",
    "    \n",
    "print('Ending positions:')\n",
    "cll.print_from_current()"
   ]
  },
  {
   "cell_type": "code",
   "execution_count": 252,
   "metadata": {},
   "outputs": [],
   "source": [
    "# puzzle 2\n",
    "\n",
    "# the cups are actually up to 10^6\n",
    "cups = list(range(1, 1000001))\n",
    "starting_cups = list(map(int, list('962713854')))\n",
    "for i in range(len(starting_cups)):\n",
    "    cups[i] = starting_cups[i]\n",
    "current_cup = cups[0]\n",
    "\n",
    "cll = MyCircularLinkedList(cups)\n",
    "cll.set_current_by_label(9)"
   ]
  },
  {
   "cell_type": "code",
   "execution_count": 253,
   "metadata": {},
   "outputs": [
    {
     "name": "stdout",
     "output_type": "stream",
     "text": [
      "at iteration 0\n",
      "at iteration 1000000\n",
      "at iteration 2000000\n",
      "at iteration 3000000\n",
      "at iteration 4000000\n",
      "at iteration 5000000\n",
      "at iteration 6000000\n",
      "at iteration 7000000\n",
      "at iteration 8000000\n",
      "at iteration 9000000\n"
     ]
    }
   ],
   "source": [
    "for i in range(10000000):\n",
    "    if i % 1000000 == 0:\n",
    "        print('at iteration %d' % i)\n",
    "    cll.move()"
   ]
  },
  {
   "cell_type": "code",
   "execution_count": 254,
   "metadata": {},
   "outputs": [
    {
     "name": "stdout",
     "output_type": "stream",
     "text": [
      "778214\n",
      "369089\n",
      "287230227046\n"
     ]
    }
   ],
   "source": [
    "a = cll.label_to_node_dict[1].next.label\n",
    "b = cll.label_to_node_dict[1].next.next.label\n",
    "\n",
    "print(a)\n",
    "print(b)\n",
    "print(a*b)"
   ]
  }
 ],
 "metadata": {
  "kernelspec": {
   "display_name": "Python 3",
   "language": "python",
   "name": "python3"
  },
  "language_info": {
   "codemirror_mode": {
    "name": "ipython",
    "version": 3
   },
   "file_extension": ".py",
   "mimetype": "text/x-python",
   "name": "python",
   "nbconvert_exporter": "python",
   "pygments_lexer": "ipython3",
   "version": "3.6.7"
  }
 },
 "nbformat": 4,
 "nbformat_minor": 2
}
