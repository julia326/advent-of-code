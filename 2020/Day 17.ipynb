{
 "cells": [
  {
   "cell_type": "code",
   "execution_count": 1,
   "metadata": {},
   "outputs": [],
   "source": [
    "def get_neighbors(x, y, z):\n",
    "    neighbors = []\n",
    "    for i in [x-1, x, x+1]:\n",
    "        for j in [y-1, y, y+1]:\n",
    "            for k in [z-1, z, z+1]:\n",
    "                if not (i == x and j == y and k == z):\n",
    "                    neighbors.append((i, j, k))\n",
    "    return neighbors"
   ]
  },
  {
   "cell_type": "code",
   "execution_count": 54,
   "metadata": {},
   "outputs": [
    {
     "name": "stdout",
     "output_type": "stream",
     "text": [
      "defaultdict(<class 'bool'>, {(0, 1, 0): True, (1, 2, 0): True, (2, 0, 0): True, (2, 1, 0): True, (2, 2, 0): True})\n"
     ]
    }
   ],
   "source": [
    "starting_state = \"\"\".#.\n",
    "..#\n",
    "###\"\"\"\n",
    "\n",
    "from collections import defaultdict\n",
    "\n",
    "active = defaultdict(bool)\n",
    "# assume this is at z=0: what are the active bits?\n",
    "for i, line in enumerate(starting_state.split('\\n')):\n",
    "    for j, char in enumerate(list(line)):\n",
    "        if char == '#':\n",
    "            active[(i, j, 0)] = True\n",
    "            \n",
    "print(active)"
   ]
  },
  {
   "cell_type": "code",
   "execution_count": 55,
   "metadata": {},
   "outputs": [
    {
     "name": "stdout",
     "output_type": "stream",
     "text": [
      "Cycle 0\n",
      "Cycle 1\n",
      "Cycle 2\n",
      "Cycle 3\n",
      "Cycle 4\n",
      "Cycle 5\n"
     ]
    }
   ],
   "source": [
    "def get_new_cube_state(current_state, num_active_neighbors):\n",
    "    if current_state:\n",
    "        return num_active_neighbors in [2, 3]\n",
    "    return num_active_neighbors == 3\n",
    "\n",
    "\n",
    "# positions to compute include everything we know, but also one layer in all directions surrounding it\n",
    "for cycle in range(6):\n",
    "    print('Cycle %d' % cycle)\n",
    "    # play one cycle forward: this is the one we'll modify, while keeping \"active\" the same\n",
    "    new_active = active.copy()\n",
    "    for pos, state in active.items():\n",
    "        # compute all neighbors first\n",
    "        neighbors = get_neighbors(*pos)\n",
    "        active_count = 0\n",
    "        for neighbor in neighbors:\n",
    "            if active.get(neighbor):\n",
    "                active_count += 1\n",
    "            # check the neighbor's neighbors!\n",
    "            neighbor_active_count = 0\n",
    "            for neighbor_neighbor in get_neighbors(*neighbor):\n",
    "                if active.get(neighbor_neighbor):\n",
    "                    neighbor_active_count += 1\n",
    "            new_active[neighbor] = get_new_cube_state(active.get(neighbor), neighbor_active_count)\n",
    "\n",
    "        new_active[pos] = get_new_cube_state(state, active_count)\n",
    "    active = new_active"
   ]
  },
  {
   "cell_type": "code",
   "execution_count": 61,
   "metadata": {},
   "outputs": [
    {
     "name": "stdout",
     "output_type": "stream",
     "text": [
      "Cycle 0\n",
      "Cycle 1\n",
      "Cycle 2\n",
      "Cycle 3\n",
      "Cycle 4\n",
      "Cycle 5\n"
     ]
    }
   ],
   "source": [
    "real_starting_state = \"\"\"##...#.#\n",
    "####.#.#\n",
    "#...####\n",
    "..#.#.#.\n",
    "####.#..\n",
    "#.#.#..#\n",
    ".####.##\n",
    "..#...##\"\"\"\n",
    "\n",
    "active = defaultdict(bool)\n",
    "# assume this is at z=0: what are the active bits?\n",
    "for i, line in enumerate(real_starting_state.split('\\n')):\n",
    "    for j, char in enumerate(list(line)):\n",
    "        if char == '#':\n",
    "            active[(i, j, 0)] = True\n",
    "            \n",
    "# positions to compute include everything we know, but also one layer in all directions surrounding it\n",
    "for cycle in range(6):\n",
    "    print('Cycle %d' % cycle)\n",
    "    # play one cycle forward: this is the one we'll modify, while keeping \"active\" the same\n",
    "    new_active = active.copy()\n",
    "    for pos, state in active.items():\n",
    "        # compute all neighbors first\n",
    "        neighbors = get_neighbors(*pos)\n",
    "        active_count = 0\n",
    "        for neighbor in neighbors:\n",
    "            if active.get(neighbor):\n",
    "                active_count += 1\n",
    "            # check the neighbor's neighbors!\n",
    "            neighbor_active_count = 0\n",
    "            for neighbor_neighbor in get_neighbors(*neighbor):\n",
    "                if active.get(neighbor_neighbor):\n",
    "                    neighbor_active_count += 1\n",
    "            new_active[neighbor] = get_new_cube_state(active.get(neighbor), neighbor_active_count)\n",
    "\n",
    "        new_active[pos] = get_new_cube_state(state, active_count)\n",
    "    active = new_active"
   ]
  },
  {
   "cell_type": "code",
   "execution_count": 62,
   "metadata": {},
   "outputs": [
    {
     "data": {
      "text/plain": [
       "382"
      ]
     },
     "execution_count": 62,
     "metadata": {},
     "output_type": "execute_result"
    }
   ],
   "source": [
    "sum(active.values())"
   ]
  },
  {
   "cell_type": "code",
   "execution_count": 66,
   "metadata": {},
   "outputs": [
    {
     "name": "stdout",
     "output_type": "stream",
     "text": [
      "Cycle 0\n",
      "Cycle 1\n",
      "Cycle 2\n",
      "Cycle 3\n",
      "Cycle 4\n",
      "Cycle 5\n"
     ]
    }
   ],
   "source": [
    "# same thing but for 4 DIMENSIONS NOW\n",
    "\n",
    "starting_state = \"\"\".#.\n",
    "..#\n",
    "###\"\"\"\n",
    "\n",
    "from collections import defaultdict\n",
    "\n",
    "active = defaultdict(bool)\n",
    "# assume this is at z=0: what are the active bits?\n",
    "for i, line in enumerate(starting_state.split('\\n')):\n",
    "    for j, char in enumerate(list(line)):\n",
    "        if char == '#':\n",
    "            active[(i, j, 0, 0)] = True\n",
    "            \n",
    "def get_4d_neighbors(x, y, z, w):\n",
    "    neighbors = []\n",
    "    for i in [x-1, x, x+1]:\n",
    "        for j in [y-1, y, y+1]:\n",
    "            for k in [z-1, z, z+1]:\n",
    "                for l in [w-1, w, w+1]:\n",
    "                    if not (i == x and j == y and k == z and l == w):\n",
    "                        neighbors.append((i, j, k, l))\n",
    "    return neighbors\n",
    "\n",
    "# positions to compute include everything we know, but also one layer in all directions surrounding it\n",
    "for cycle in range(6):\n",
    "    print('Cycle %d' % cycle)\n",
    "    # play one cycle forward: this is the one we'll modify, while keeping \"active\" the same\n",
    "    new_active = active.copy()\n",
    "    for pos, state in active.items():\n",
    "        # compute all neighbors first\n",
    "        neighbors = get_4d_neighbors(*pos)\n",
    "        active_count = 0\n",
    "        for neighbor in neighbors:\n",
    "            if active.get(neighbor):\n",
    "                active_count += 1\n",
    "            # check the neighbor's neighbors!\n",
    "            neighbor_active_count = 0\n",
    "            for neighbor_neighbor in get_4d_neighbors(*neighbor):\n",
    "                if active.get(neighbor_neighbor):\n",
    "                    neighbor_active_count += 1\n",
    "            new_active[neighbor] = get_new_cube_state(active.get(neighbor), neighbor_active_count)\n",
    "\n",
    "        new_active[pos] = get_new_cube_state(state, active_count)\n",
    "    active = new_active"
   ]
  },
  {
   "cell_type": "code",
   "execution_count": 67,
   "metadata": {},
   "outputs": [
    {
     "data": {
      "text/plain": [
       "848"
      ]
     },
     "execution_count": 67,
     "metadata": {},
     "output_type": "execute_result"
    }
   ],
   "source": [
    "sum(active.values())"
   ]
  },
  {
   "cell_type": "code",
   "execution_count": 68,
   "metadata": {},
   "outputs": [
    {
     "name": "stdout",
     "output_type": "stream",
     "text": [
      "Cycle 0\n",
      "Cycle 1\n",
      "Cycle 2\n",
      "Cycle 3\n",
      "Cycle 4\n",
      "Cycle 5\n"
     ]
    }
   ],
   "source": [
    "# same thing but for 4 DIMENSIONS NOW, with the real starting state - this is gonna take a sec\n",
    "\n",
    "starting_state = \"\"\"##...#.#\n",
    "####.#.#\n",
    "#...####\n",
    "..#.#.#.\n",
    "####.#..\n",
    "#.#.#..#\n",
    ".####.##\n",
    "..#...##\"\"\"\n",
    "\n",
    "from collections import defaultdict\n",
    "\n",
    "active = defaultdict(bool)\n",
    "# assume this is at z=0: what are the active bits?\n",
    "for i, line in enumerate(starting_state.split('\\n')):\n",
    "    for j, char in enumerate(list(line)):\n",
    "        if char == '#':\n",
    "            active[(i, j, 0, 0)] = True\n",
    "            \n",
    "def get_4d_neighbors(x, y, z, w):\n",
    "    neighbors = []\n",
    "    for i in [x-1, x, x+1]:\n",
    "        for j in [y-1, y, y+1]:\n",
    "            for k in [z-1, z, z+1]:\n",
    "                for l in [w-1, w, w+1]:\n",
    "                    if not (i == x and j == y and k == z and l == w):\n",
    "                        neighbors.append((i, j, k, l))\n",
    "    return neighbors\n",
    "\n",
    "# positions to compute include everything we know, but also one layer in all directions surrounding it\n",
    "for cycle in range(6):\n",
    "    print('Cycle %d' % cycle)\n",
    "    # play one cycle forward: this is the one we'll modify, while keeping \"active\" the same\n",
    "    new_active = active.copy()\n",
    "    for pos, state in active.items():\n",
    "        # compute all neighbors first\n",
    "        neighbors = get_4d_neighbors(*pos)\n",
    "        active_count = 0\n",
    "        for neighbor in neighbors:\n",
    "            if active.get(neighbor):\n",
    "                active_count += 1\n",
    "            # check the neighbor's neighbors!\n",
    "            neighbor_active_count = 0\n",
    "            for neighbor_neighbor in get_4d_neighbors(*neighbor):\n",
    "                if active.get(neighbor_neighbor):\n",
    "                    neighbor_active_count += 1\n",
    "            new_active[neighbor] = get_new_cube_state(active.get(neighbor), neighbor_active_count)\n",
    "\n",
    "        new_active[pos] = get_new_cube_state(state, active_count)\n",
    "    active = new_active"
   ]
  },
  {
   "cell_type": "code",
   "execution_count": 69,
   "metadata": {},
   "outputs": [
    {
     "data": {
      "text/plain": [
       "2552"
      ]
     },
     "execution_count": 69,
     "metadata": {},
     "output_type": "execute_result"
    }
   ],
   "source": [
    "sum(active.values())"
   ]
  }
 ],
 "metadata": {
  "kernelspec": {
   "display_name": "Python 3",
   "language": "python",
   "name": "python3"
  },
  "language_info": {
   "codemirror_mode": {
    "name": "ipython",
    "version": 3
   },
   "file_extension": ".py",
   "mimetype": "text/x-python",
   "name": "python",
   "nbconvert_exporter": "python",
   "pygments_lexer": "ipython3",
   "version": "3.6.7"
  }
 },
 "nbformat": 4,
 "nbformat_minor": 2
}
