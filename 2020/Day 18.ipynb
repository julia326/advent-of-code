{
 "cells": [
  {
   "cell_type": "code",
   "execution_count": 83,
   "metadata": {},
   "outputs": [
    {
     "data": {
      "text/plain": [
       "372"
      ]
     },
     "execution_count": 83,
     "metadata": {},
     "output_type": "execute_result"
    }
   ],
   "source": [
    "with open('inputs/input18.txt') as f:\n",
    "    maths = f.read().split('\\n')\n",
    "len(maths)"
   ]
  },
  {
   "cell_type": "code",
   "execution_count": 84,
   "metadata": {},
   "outputs": [
    {
     "data": {
      "text/plain": [
       "'(7 * 7 + (2 + 5 * 7 * 8 + 2) + 4 + 2) * 5 * ((9 * 3 * 9 + 8 + 3) + (9 + 4 + 7 + 8) * (2 + 5))'"
      ]
     },
     "execution_count": 84,
     "metadata": {},
     "output_type": "execute_result"
    }
   ],
   "source": [
    "line = maths[0]\n",
    "line"
   ]
  },
  {
   "cell_type": "code",
   "execution_count": 85,
   "metadata": {},
   "outputs": [
    {
     "data": {
      "text/plain": [
       "'2 + 5 * 7 * 8 + 2'"
      ]
     },
     "execution_count": 85,
     "metadata": {},
     "output_type": "execute_result"
    }
   ],
   "source": [
    "import re\n",
    "\n",
    "expr = re.search('\\(([0-9 \\* \\+]+)\\)', line).groups()[0]\n",
    "expr"
   ]
  },
  {
   "cell_type": "code",
   "execution_count": 86,
   "metadata": {},
   "outputs": [
    {
     "name": "stdout",
     "output_type": "stream",
     "text": [
      "2 + 5 * 7 * 8 + 2\n"
     ]
    },
    {
     "data": {
      "text/plain": [
       "394"
      ]
     },
     "execution_count": 86,
     "metadata": {},
     "output_type": "execute_result"
    }
   ],
   "source": [
    "# evaluates an expression left to right\n",
    "# example input: '2 + 5 * 7 * 8 + 2'\n",
    "def evaluate(expr):\n",
    "    # left to right\n",
    "    expr_list = list(expr.split())\n",
    "    new_expr_list = expr_list.copy()\n",
    "    while len(expr_list) > 1:\n",
    "        val = eval(''.join(expr_list[:3]))\n",
    "        new_expr_list = [str(val)] + expr_list[3:]\n",
    "        expr_list = new_expr_list\n",
    "    return int(expr_list[0])\n",
    "    \n",
    "print(expr)\n",
    "evaluate(expr)\n",
    "    "
   ]
  },
  {
   "cell_type": "code",
   "execution_count": 87,
   "metadata": {},
   "outputs": [
    {
     "name": "stdout",
     "output_type": "stream",
     "text": [
      "21347713555555\n"
     ]
    }
   ],
   "source": [
    "total = 0\n",
    "\n",
    "def compute_line(line):\n",
    "    while True:\n",
    "        expr = re.search('\\(([0-9 \\* \\+]+)\\)', line)\n",
    "        if expr is None:\n",
    "            return evaluate(line)\n",
    "        expr = expr.groups()[0]\n",
    "        val = evaluate(expr)\n",
    "        line = line.replace('(%s)' % expr, str(val))\n",
    "\n",
    "for line in maths:\n",
    "    total += compute_line(line)\n",
    "    \n",
    "print(total)"
   ]
  },
  {
   "cell_type": "code",
   "execution_count": 88,
   "metadata": {},
   "outputs": [
    {
     "data": {
      "text/plain": [
       "490"
      ]
     },
     "execution_count": 88,
     "metadata": {},
     "output_type": "execute_result"
    }
   ],
   "source": [
    "def evaluate_addition_first(line):\n",
    "    while True:\n",
    "        expr = re.search('[0-9]+ \\+ [0-9]+', line)\n",
    "        if expr is None:\n",
    "            return evaluate(line)\n",
    "        \n",
    "        val = evaluate(expr.group())\n",
    "        # horrible things to avoid how string replace goes wrong\n",
    "        line = line[:expr.start()] + str(val) + line[expr.start()+len(expr.group()):]\n",
    "\n",
    "evaluate_addition_first( '2 + 5 * 7 * 8 + 2')"
   ]
  },
  {
   "cell_type": "code",
   "execution_count": 89,
   "metadata": {
    "scrolled": true
   },
   "outputs": [
    {
     "data": {
      "text/plain": [
       "1537200"
      ]
     },
     "execution_count": 89,
     "metadata": {},
     "output_type": "execute_result"
    }
   ],
   "source": [
    "def compute_line_addition_first(line):\n",
    "    while True:\n",
    "        expr = re.search('\\(([0-9 \\* \\+]+)\\)', line)\n",
    "        if expr is None:\n",
    "            return evaluate_addition_first(line)\n",
    "        expr = expr.groups()[0]\n",
    "        val = evaluate_addition_first(expr)\n",
    "        line = line.replace('(%s)' % expr, str(val))\n",
    "        \n",
    "compute_line_addition_first('(7 * 4 * 3 + (5 + 6 + 2 + 4 * 7) * 5) * 5 + 2 + 8 * 6')"
   ]
  },
  {
   "cell_type": "code",
   "execution_count": 90,
   "metadata": {},
   "outputs": [],
   "source": [
    "expected_nums = {\n",
    "    '1 + 2 * 3 + 4 * 5 + 6': 231,\n",
    "    '1 + (2 * 3) + (4 * (5 + 6))': 51,\n",
    "    '2 * 3 + (4 * 5)': 46,\n",
    "    '5 * 9 * (7 * 3 * 3 + 9 * 3 + (8 + 6 * 4))': 669060,\n",
    "    '((2 + 4 * 9) * (6 + 9 * 8 + 6) + 6) + 2 + 4 * 2': 23340,\n",
    "}\n",
    "\n",
    "for line, num in expected_nums.items():\n",
    "    assert compute_line_addition_first(line) == num"
   ]
  },
  {
   "cell_type": "code",
   "execution_count": 91,
   "metadata": {},
   "outputs": [
    {
     "name": "stdout",
     "output_type": "stream",
     "text": [
      "275011754427339\n"
     ]
    }
   ],
   "source": [
    "total = 0\n",
    "for line in maths:\n",
    "    value = compute_line_addition_first(line)\n",
    "    total += value\n",
    "    \n",
    "print(total)"
   ]
  }
 ],
 "metadata": {
  "kernelspec": {
   "display_name": "Python 3",
   "language": "python",
   "name": "python3"
  },
  "language_info": {
   "codemirror_mode": {
    "name": "ipython",
    "version": 3
   },
   "file_extension": ".py",
   "mimetype": "text/x-python",
   "name": "python",
   "nbconvert_exporter": "python",
   "pygments_lexer": "ipython3",
   "version": "3.6.7"
  }
 },
 "nbformat": 4,
 "nbformat_minor": 2
}
