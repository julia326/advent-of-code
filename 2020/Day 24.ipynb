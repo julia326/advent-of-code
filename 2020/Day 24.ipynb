{
 "cells": [
  {
   "cell_type": "code",
   "execution_count": 79,
   "metadata": {},
   "outputs": [],
   "source": [
    "# implement a hex grid using offset coordinates\n",
    "# see https://math.stackexchange.com/questions/2254655/hexagon-grid-coordinate-system\n",
    "\n",
    "# e: (i, j) -> (i+1, j)\n",
    "# se: (i, j) -> (i, j+1) if j is even, (i+1, j+1) if j is odd\n",
    "# sw: (i, j) -> (i-1, j+1) if j is even, (i, j+1) if j is odd\n",
    "# w: (i, j) -> (i-1, j)\n",
    "# nw: (i, j) -> (i-1, j-1) if j is even, (i, j-1) if j is odd\n",
    "# ne: (i, j) -> (i, j-1) if j is even, (i+1, j-1) if j is odd\n",
    "\n",
    "def is_even(j):\n",
    "    return j % 2 == 0\n",
    "\n",
    "def move(i, j, direction):\n",
    "    if direction == 'e':\n",
    "        return i+1, j\n",
    "    elif direction == 'se':\n",
    "        if is_even(j):\n",
    "            return i, j+1\n",
    "        else:\n",
    "            return i+1, j+1\n",
    "    elif direction == 'sw':\n",
    "        if is_even(j):\n",
    "            return i-1, j+1\n",
    "        else:\n",
    "            return i, j+1\n",
    "    elif direction == 'w':\n",
    "        return i-1, j\n",
    "    elif direction == 'nw':\n",
    "        if is_even(j):\n",
    "            return i-1, j-1\n",
    "        else:\n",
    "            return i, j-1\n",
    "    elif direction == 'ne':\n",
    "        if is_even(j):\n",
    "            return i, j-1\n",
    "        else:\n",
    "            return i+1, j-1\n",
    "      \n",
    "# odd j\n",
    "assert move(2, 3, 'e') == (3, 3)\n",
    "assert move(2, 3, 'se') == (3, 4)\n",
    "assert move(2, 3, 'sw') == (2, 4)\n",
    "assert move(2, 3, 'w') == (1, 3)\n",
    "assert move(2, 3, 'nw') == (2, 2)\n",
    "assert move(2, 3, 'ne') == (3, 2)\n",
    "\n",
    "# even j\n",
    "assert move(3, 4, 'e') == (4, 4)\n",
    "assert move(3, 4, 'se') == (3, 5)\n",
    "assert move(3, 4, 'sw') == (2, 5)\n",
    "assert move(3, 4, 'w') == (2, 4)\n",
    "assert move(3, 4, 'nw') == (2, 3)\n",
    "assert move(3, 4, 'ne') == (3, 3)"
   ]
  },
  {
   "cell_type": "code",
   "execution_count": 80,
   "metadata": {},
   "outputs": [
    {
     "data": {
      "text/plain": [
       "['sesenwnenenewseeswwswswwnenewsewsw',\n",
       " 'neeenesenwnwwswnenewnwwsewnenwseswesw',\n",
       " 'seswneswswsenwwnwse',\n",
       " 'nwnwneseeswswnenewneswwnewseswneseene',\n",
       " 'swweswneswnenwsewnwneneseenw',\n",
       " 'eesenwseswswnenwswnwnwsewwnwsene',\n",
       " 'sewnenenenesenwsewnenwwwse',\n",
       " 'wenwwweseeeweswwwnwwe',\n",
       " 'wsweesenenewnwwnwsenewsenwwsesesenwne',\n",
       " 'neeswseenwwswnwswswnw',\n",
       " 'nenwswwsewswnenenewsenwsenwnesesenew',\n",
       " 'enewnwewneswsewnwswenweswnenwsenwsw',\n",
       " 'sweneswneswneneenwnewenewwneswswnese',\n",
       " 'swwesenesewenwneswnwwneseswwne',\n",
       " 'enesenwswwswneneswsenwnewswseenwsese',\n",
       " 'wnwnesenesenenwwnenwsewesewsesesew',\n",
       " 'nenewswnwewswnenesenwnesewesw',\n",
       " 'eneswnwswnwsenenwnwnwwseeswneewsenese',\n",
       " 'neswnwewnwnwseenwseesewsenwsweewe',\n",
       " 'wseweeenwnesenwwwswnew']"
      ]
     },
     "execution_count": 80,
     "metadata": {},
     "output_type": "execute_result"
    }
   ],
   "source": [
    "def get_example_lines():\n",
    "    return \"\"\"\n",
    "sesenwnenenewseeswwswswwnenewsewsw\n",
    "neeenesenwnwwswnenewnwwsewnenwseswesw\n",
    "seswneswswsenwwnwse\n",
    "nwnwneseeswswnenewneswwnewseswneseene\n",
    "swweswneswnenwsewnwneneseenw\n",
    "eesenwseswswnenwswnwnwsewwnwsene\n",
    "sewnenenenesenwsewnenwwwse\n",
    "wenwwweseeeweswwwnwwe\n",
    "wsweesenenewnwwnwsenewsenwwsesesenwne\n",
    "neeswseenwwswnwswswnw\n",
    "nenwswwsewswnenenewsenwsenwnesesenew\n",
    "enewnwewneswsewnwswenweswnenwsenwsw\n",
    "sweneswneswneneenwnewenewwneswswnese\n",
    "swwesenesewenwneswnwwneseswwne\n",
    "enesenwswwswneneswsenwnewswseenwsese\n",
    "wnwnesenesenenwwnenwsewesewsesesew\n",
    "nenewswnwewswnenesenwnesewesw\n",
    "eneswnwswnwsenenwnwnwwseeswneewsenese\n",
    "neswnwewnwnwseenwseesewsenwsweewe\n",
    "wseweeenwnesenwwwswnew\n",
    "    \"\"\".strip().split('\\n')\n",
    "\n",
    "get_example_lines()"
   ]
  },
  {
   "cell_type": "code",
   "execution_count": 89,
   "metadata": {},
   "outputs": [
    {
     "data": {
      "text/plain": [
       "10"
      ]
     },
     "execution_count": 89,
     "metadata": {},
     "output_type": "execute_result"
    }
   ],
   "source": [
    "positions_to_color = {}  # (i, j) -> bool, where True is black\n",
    "\n",
    "def get_coordinates(line):\n",
    "    dirs = []\n",
    "    while line != '':\n",
    "        for a in ['e', 'w', 'se', 'sw', 'ne', 'nw']:\n",
    "            if line.startswith(a):\n",
    "                dirs.append(a)\n",
    "                line = line[len(a):]\n",
    "                break\n",
    "\n",
    "    i, j = 0, 0\n",
    "    for a in dirs:\n",
    "        i, j = move(i, j, a)\n",
    "        \n",
    "    return (i, j)\n",
    "\n",
    "for line in get_example_lines():\n",
    "    i, j = get_coordinates(line)\n",
    "    # if not there, default to True. If there and False, change to True. If there and True, change to False.\n",
    "    color = positions_to_color.get((i, j))\n",
    "    new_color = True if color is None else not color\n",
    "    positions_to_color[(i, j)] = new_color\n",
    "    \n",
    "sum(positions_to_color.values())"
   ]
  },
  {
   "cell_type": "code",
   "execution_count": 92,
   "metadata": {},
   "outputs": [
    {
     "data": {
      "text/plain": [
       "523"
      ]
     },
     "execution_count": 92,
     "metadata": {},
     "output_type": "execute_result"
    }
   ],
   "source": [
    "# same thing on real input\n",
    "with open('inputs/input24.txt') as f:\n",
    "    lines = f.read().split('\\n')\n",
    "    \n",
    "positions_to_color = {}\n",
    "for line in lines:\n",
    "    i, j = get_coordinates(line)\n",
    "    color = positions_to_color.get((i, j))\n",
    "    new_color = True if color is None else not color\n",
    "    positions_to_color[(i, j)] = new_color\n",
    "    \n",
    "sum(positions_to_color.values())"
   ]
  },
  {
   "cell_type": "code",
   "execution_count": 103,
   "metadata": {},
   "outputs": [
    {
     "name": "stdout",
     "output_type": "stream",
     "text": [
      "Starting: 552 total, 523 black tiles\n",
      "Day 100: 4225\n"
     ]
    }
   ],
   "source": [
    "def get_all_adjacent_coords(i, j):\n",
    "    out = []\n",
    "    for a in ['e', 'w', 'se', 'sw', 'ne', 'nw']:\n",
    "        out.append(move(i, j, a))\n",
    "    return out\n",
    "\n",
    "# True = black, False = white\n",
    "def get_new_color(i, j, positions_to_color):\n",
    "    adjacent_coords = get_all_adjacent_coords(i, j)\n",
    "    num_black = 0\n",
    "    for coord in adjacent_coords:\n",
    "        color = positions_to_color.get(coord)\n",
    "        if color is not None and color:\n",
    "            num_black += 1\n",
    "    \n",
    "    color = positions_to_color.get((i, j))\n",
    "    currently_black = False if color is None else color\n",
    "\n",
    "    if not currently_black and num_black == 2:\n",
    "        return True\n",
    "    \n",
    "    if currently_black and num_black not in [1, 2]:\n",
    "        return False\n",
    "    \n",
    "    return currently_black\n",
    "\n",
    "# checking all tiles simultaneously involves figuring out which tiles to check other than what's already\n",
    "# in positions_to_color, since there will be some white ones not in the dictionary but that are adjacent to \n",
    "# black ones, that may need to turn black\n",
    "# for each black tile, we need to check all its adjacent tiles (whether we've seen them\n",
    "# before or not) to see if they need to turn black, then this should work\n",
    "\n",
    "def one_day(positions_to_color):\n",
    "    new_positions_to_color = {}\n",
    "    for (i, j), color in positions_to_color.items():\n",
    "        new_color = get_new_color(i, j, positions_to_color)\n",
    "        new_positions_to_color[(i, j)] = new_color\n",
    "        \n",
    "        # if this is a black tile, also check all its neighbors\n",
    "        if color:\n",
    "            adjacent_coords = get_all_adjacent_coords(i, j)\n",
    "            for (i2, j2) in adjacent_coords:\n",
    "                new_positions_to_color[(i2, j2)] = get_new_color(i2, j2, positions_to_color)\n",
    "\n",
    "    return new_positions_to_color\n",
    "    \n",
    "# set up initial state\n",
    "positions_to_color = {}\n",
    "\n",
    "with open('inputs/input24.txt') as f:\n",
    "    lines = f.read().split('\\n')\n",
    "\n",
    "for line in lines:\n",
    "    i, j = get_coordinates(line)\n",
    "    color = positions_to_color.get((i, j))\n",
    "    new_color = True if color is None else not color\n",
    "    positions_to_color[(i, j)] = new_color\n",
    "    \n",
    "print('Starting: %d total, %d black tiles' % (len(positions_to_color), sum(positions_to_color.values())))\n",
    "\n",
    "# iterate one day\n",
    "for i in range(100):\n",
    "    positions_to_color = one_day(positions_to_color)\n",
    "print('Day %d: %d' % (i+1, sum(positions_to_color.values())))\n"
   ]
  }
 ],
 "metadata": {
  "kernelspec": {
   "display_name": "Python 3",
   "language": "python",
   "name": "python3"
  },
  "language_info": {
   "codemirror_mode": {
    "name": "ipython",
    "version": 3
   },
   "file_extension": ".py",
   "mimetype": "text/x-python",
   "name": "python",
   "nbconvert_exporter": "python",
   "pygments_lexer": "ipython3",
   "version": "3.6.7"
  }
 },
 "nbformat": 4,
 "nbformat_minor": 2
}
