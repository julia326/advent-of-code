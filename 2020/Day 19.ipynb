{
 "cells": [
  {
   "cell_type": "code",
   "execution_count": 195,
   "metadata": {},
   "outputs": [],
   "source": [
    "example_rules = \"\"\"\n",
    "0: 4 1 5\n",
    "1: 2 3 | 3 2\n",
    "2: 4 4 | 5 5\n",
    "3: 4 5 | 5 4\n",
    "4: \"a\"\n",
    "5: \"b\"\n",
    "\"\"\"\n",
    "\n",
    "example_input = \"\"\"\n",
    "ababbb\n",
    "bababa\n",
    "abbbab\n",
    "aaabbb\n",
    "aaaabbb\n",
    "\"\"\""
   ]
  },
  {
   "cell_type": "code",
   "execution_count": 196,
   "metadata": {},
   "outputs": [
    {
     "data": {
      "text/plain": [
       "['0: 4 1 5',\n",
       " '1: 2 3 | 3 2',\n",
       " '2: 4 4 | 5 5',\n",
       " '3: 4 5 | 5 4',\n",
       " '4: \"a\"',\n",
       " '5: \"b\"']"
      ]
     },
     "execution_count": 196,
     "metadata": {},
     "output_type": "execute_result"
    }
   ],
   "source": [
    "a = example_rules.strip().split('\\n')\n",
    "a"
   ]
  },
  {
   "cell_type": "code",
   "execution_count": 197,
   "metadata": {},
   "outputs": [
    {
     "data": {
      "text/plain": [
       "{'4': ['a'], '5': ['b']}"
      ]
     },
     "execution_count": 197,
     "metadata": {},
     "output_type": "execute_result"
    }
   ],
   "source": [
    "def make_initial_rule_dict(rule_input):\n",
    "    rule_dict = {}\n",
    "    for rule in rule_input:\n",
    "        num, rules = rule.split(': ')\n",
    "        if '\"' in rules:\n",
    "            rule_dict[num] = [rules[1]]\n",
    "    return rule_dict\n",
    "rule_dict = make_initial_rule_dict(a)\n",
    "rule_dict"
   ]
  },
  {
   "cell_type": "code",
   "execution_count": 198,
   "metadata": {
    "scrolled": true
   },
   "outputs": [],
   "source": [
    "import itertools\n",
    "\n",
    "def resolve_lists(chars, rule_dict):\n",
    "    # if any of the chars not in the dict, return\n",
    "    char_list = chars.split(' ')\n",
    "    for char in char_list:\n",
    "        if char not in rule_dict:\n",
    "            return None\n",
    "        \n",
    "    out = []\n",
    "    strings_to_combine = [rule_dict[char] for char in char_list]\n",
    "    # if any are empty, return None\n",
    "    if any(len(x) == 0 for x in strings_to_combine):\n",
    "        return None\n",
    "    \n",
    "    for element in itertools.product(*strings_to_combine):\n",
    "        out.append(''.join(element))\n",
    "    return out\n",
    "\n",
    "def resolve_with_or(chars, rule_dict):\n",
    "    out = []\n",
    "    for expr in chars.split(' | '):\n",
    "        # resolve each\n",
    "        ans = resolve_lists(expr, rule_dict)\n",
    "        if not ans:\n",
    "            return None\n",
    "        out.extend(ans)\n",
    "    return out\n",
    "\n",
    "rule_dict = make_initial_rule_dict(a)\n",
    "num_rules = len(a)\n",
    "\n",
    "while True:\n",
    "    for line in a:\n",
    "        num, rule = line.split(': ')\n",
    "        if num in rule_dict:  # already evaluated\n",
    "            continue\n",
    "        # attempt to resolve rule\n",
    "        resolved = resolve_with_or(rule, rule_dict)\n",
    "        if resolved:\n",
    "            rule_dict[num] = resolved\n",
    "    if len(rule_dict) == num_rules:\n",
    "        break\n"
   ]
  },
  {
   "cell_type": "code",
   "execution_count": 199,
   "metadata": {},
   "outputs": [
    {
     "data": {
      "text/plain": [
       "{'4': ['a'],\n",
       " '5': ['b'],\n",
       " '2': ['aa', 'bb'],\n",
       " '3': ['ab', 'ba'],\n",
       " '1': ['aaab', 'aaba', 'bbab', 'bbba', 'abaa', 'abbb', 'baaa', 'babb'],\n",
       " '0': ['aaaabb',\n",
       "  'aaabab',\n",
       "  'abbabb',\n",
       "  'abbbab',\n",
       "  'aabaab',\n",
       "  'aabbbb',\n",
       "  'abaaab',\n",
       "  'ababbb']}"
      ]
     },
     "execution_count": 199,
     "metadata": {},
     "output_type": "execute_result"
    }
   ],
   "source": [
    "rule_dict"
   ]
  },
  {
   "cell_type": "code",
   "execution_count": 200,
   "metadata": {},
   "outputs": [
    {
     "data": {
      "text/plain": [
       "2"
      ]
     },
     "execution_count": 200,
     "metadata": {},
     "output_type": "execute_result"
    }
   ],
   "source": [
    "# check the received messages\n",
    "messages = example_input.strip().split('\\n')\n",
    "count = 0\n",
    "for message in messages:\n",
    "    if message in rule_dict['0']:\n",
    "        count += 1\n",
    "count"
   ]
  },
  {
   "cell_type": "code",
   "execution_count": 201,
   "metadata": {},
   "outputs": [],
   "source": [
    "def get_rules_messages():\n",
    "    with open('inputs/input19.txt') as f:\n",
    "        real_rules, real_messages = f.read().split('\\n\\n')\n",
    "    real_rules = real_rules.split('\\n')\n",
    "    real_messages = real_messages.split('\\n')\n",
    "    return real_rules, real_messages"
   ]
  },
  {
   "cell_type": "code",
   "execution_count": 202,
   "metadata": {},
   "outputs": [],
   "source": [
    "real_rules, real_messages = get_rules_messages()\n",
    "    \n",
    "rule_dict = make_initial_rule_dict(real_rules)\n",
    "num_rules = len(real_rules)\n",
    "\n",
    "while True:\n",
    "    for line in real_rules:\n",
    "        num, rule = line.split(': ')\n",
    "        if num in rule_dict:  # already evaluated\n",
    "            continue\n",
    "        # attempt to resolve rule\n",
    "        resolved = resolve_with_or(rule, rule_dict)\n",
    "        if resolved:\n",
    "            rule_dict[num] = resolved\n",
    "    if len(rule_dict) == num_rules:\n",
    "        break"
   ]
  },
  {
   "cell_type": "code",
   "execution_count": 203,
   "metadata": {},
   "outputs": [
    {
     "data": {
      "text/plain": [
       "['baaaabba', 'babaabba', 'bbaaabba', 'bbbaabba', 'bbbbabba']"
      ]
     },
     "execution_count": 203,
     "metadata": {},
     "output_type": "execute_result"
    }
   ],
   "source": [
    "rule_dict['42'][:5]"
   ]
  },
  {
   "cell_type": "code",
   "execution_count": 204,
   "metadata": {},
   "outputs": [
    {
     "data": {
      "text/plain": [
       "139"
      ]
     },
     "execution_count": 204,
     "metadata": {},
     "output_type": "execute_result"
    }
   ],
   "source": [
    "count = 0\n",
    "allowed_set = set(rule_dict['0'])\n",
    "for message in real_messages:\n",
    "    if message in allowed_set:\n",
    "        count += 1\n",
    "count"
   ]
  },
  {
   "cell_type": "code",
   "execution_count": 205,
   "metadata": {},
   "outputs": [
    {
     "name": "stdout",
     "output_type": "stream",
     "text": [
      "12\n"
     ]
    }
   ],
   "source": [
    "new_rules = \"\"\"\n",
    "42: 9 14 | 10 1\n",
    "9: 14 27 | 1 26\n",
    "10: 23 14 | 28 1\n",
    "1: \"a\"\n",
    "11: 42 31\n",
    "5: 1 14 | 15 1\n",
    "19: 14 1 | 14 14\n",
    "12: 24 14 | 19 1\n",
    "16: 15 1 | 14 14\n",
    "31: 14 17 | 1 13\n",
    "6: 14 14 | 1 14\n",
    "2: 1 24 | 14 4\n",
    "0: 8 11\n",
    "13: 14 3 | 1 12\n",
    "15: 1 | 14\n",
    "17: 14 2 | 1 7\n",
    "23: 25 1 | 22 14\n",
    "28: 16 1\n",
    "4: 1 1\n",
    "20: 14 14 | 1 15\n",
    "3: 5 14 | 16 1\n",
    "27: 1 6 | 14 18\n",
    "14: \"b\"\n",
    "21: 14 1 | 1 14\n",
    "25: 1 1 | 1 14\n",
    "22: 14 14\n",
    "8: 42\n",
    "26: 14 22 | 1 20\n",
    "18: 15 15\n",
    "7: 14 5 | 1 21\n",
    "24: 14 1\n",
    "\"\"\"\n",
    "\n",
    "new_messages = \"\"\"\n",
    "abbbbbabbbaaaababbaabbbbabababbbabbbbbbabaaaa\n",
    "bbabbbbaabaabba\n",
    "babbbbaabbbbbabbbbbbaabaaabaaa\n",
    "aaabbbbbbaaaabaababaabababbabaaabbababababaaa\n",
    "bbbbbbbaaaabbbbaaabbabaaa\n",
    "bbbababbbbaaaaaaaabbababaaababaabab\n",
    "ababaaaaaabaaab\n",
    "ababaaaaabbbaba\n",
    "baabbaaaabbaaaababbaababb\n",
    "abbbbabbbbaaaababbbbbbaaaababb\n",
    "aaaaabbaabaaaaababaa\n",
    "aaaabbaaaabbaaa\n",
    "aaaabbaabbaaaaaaabbbabbbaaabbaabaaa\n",
    "babaaabbbaaabaababbaabababaaab\n",
    "aabbbbbaabbbaaaaaabbbbbababaaaaabbaaabba\n",
    "\"\"\"\n",
    "\n",
    "new_rules = new_rules.strip().split('\\n')\n",
    "new_messages = new_messages.strip().split('\\n')\n",
    "    \n",
    "rule_dict = make_initial_rule_dict(new_rules)\n",
    "num_rules = len(new_rules)\n",
    "\n",
    "# reconstruct set of substrings, but skip 8 and 11\n",
    "while True:\n",
    "    for line in new_rules:\n",
    "        num, rule = line.split(': ')\n",
    "        if num in ['8', '11', '0']:\n",
    "            continue\n",
    "        if num in rule_dict:  # already evaluated\n",
    "            continue\n",
    "        \n",
    "        # attempt to resolve rule\n",
    "        resolved = resolve_with_or(rule, rule_dict)\n",
    "        if resolved:\n",
    "            rule_dict[num] = resolved\n",
    "    if len(rule_dict) == num_rules - 3:  # resolved all rules except 8, 11 and 0\n",
    "        break\n",
    "        \n",
    "# rule 0 is now: 42k31n, for k > n and n >= 1\n",
    "def process_message(message, rule_dict):\n",
    "    substr_len = len(rule_dict['31'][0])\n",
    "    set_42 = set(rule_dict['42'])\n",
    "    set_31 = set(rule_dict['31'])\n",
    "    \n",
    "    chunks = [message[i:i+substr_len] for i in range(0, len(message), substr_len)]\n",
    "    count = 0\n",
    "    hit31 = False\n",
    "    for chunk in chunks:\n",
    "        if chunk in set_42:  # if yes, keep counting how many of those we've seen\n",
    "            if hit31:\n",
    "                return False\n",
    "            count += 1\n",
    "        elif chunk in set_31:  # we've hit 31, start decrementing count of 42 and don't exceed\n",
    "            count -= 1\n",
    "            if count <= 0:\n",
    "                return False\n",
    "            hit31 = True\n",
    "        else:\n",
    "            return False  # some other rule, no match\n",
    "    return hit31  # it's a hit only if we've seen at least one 31 match\n",
    "\n",
    "hits = set()\n",
    "for message in new_messages:\n",
    "    if process_message(message, rule_dict):\n",
    "        hits.add(message)\n",
    "\n",
    "print(len(hits))"
   ]
  },
  {
   "cell_type": "code",
   "execution_count": 206,
   "metadata": {},
   "outputs": [
    {
     "data": {
      "text/plain": [
       "{'aaaaabbaabaaaaababaa',\n",
       " 'aaaabbaabbaaaaaaabbbabbbaaabbaabaaa',\n",
       " 'aaabbbbbbaaaabaababaabababbabaaabbababababaaa',\n",
       " 'aabbbbbaabbbaaaaaabbbbbababaaaaabbaaabba',\n",
       " 'ababaaaaaabaaab',\n",
       " 'ababaaaaabbbaba',\n",
       " 'abbbbabbbbaaaababbbbbbaaaababb',\n",
       " 'baabbaaaabbaaaababbaababb',\n",
       " 'babbbbaabbbbbabbbbbbaabaaabaaa',\n",
       " 'bbabbbbaabaabba',\n",
       " 'bbbababbbbaaaaaaaabbababaaababaabab',\n",
       " 'bbbbbbbaaaabbbbaaabbabaaa'}"
      ]
     },
     "execution_count": 206,
     "metadata": {},
     "output_type": "execute_result"
    }
   ],
   "source": [
    "hits"
   ]
  },
  {
   "cell_type": "code",
   "execution_count": 207,
   "metadata": {},
   "outputs": [
    {
     "data": {
      "text/plain": [
       "True"
      ]
     },
     "execution_count": 207,
     "metadata": {},
     "output_type": "execute_result"
    }
   ],
   "source": [
    "expected_hits = \"\"\"\n",
    "bbabbbbaabaabba\n",
    "babbbbaabbbbbabbbbbbaabaaabaaa\n",
    "aaabbbbbbaaaabaababaabababbabaaabbababababaaa\n",
    "bbbbbbbaaaabbbbaaabbabaaa\n",
    "bbbababbbbaaaaaaaabbababaaababaabab\n",
    "ababaaaaaabaaab\n",
    "ababaaaaabbbaba\n",
    "baabbaaaabbaaaababbaababb\n",
    "abbbbabbbbaaaababbbbbbaaaababb\n",
    "aaaaabbaabaaaaababaa\n",
    "aaaabbaabbaaaaaaabbbabbbaaabbaabaaa\n",
    "aabbbbbaabbbaaaaaabbbbbababaaaaabbaaabba\n",
    "\"\"\".strip().split('\\n')\n",
    "set(expected_hits) == hits"
   ]
  },
  {
   "cell_type": "code",
   "execution_count": 208,
   "metadata": {},
   "outputs": [
    {
     "name": "stdout",
     "output_type": "stream",
     "text": [
      "289\n"
     ]
    }
   ],
   "source": [
    "real_rules, real_messages = get_rules_messages()\n",
    "\n",
    "rule_dict = make_initial_rule_dict(real_rules)\n",
    "num_rules = len(real_rules)\n",
    "\n",
    "# reconstruct set of substrings, but skip 8 and 11\n",
    "while True:\n",
    "    for line in real_rules:\n",
    "        num, rule = line.split(': ')\n",
    "        if num in ['8', '11', '0']:\n",
    "            continue\n",
    "        if num in rule_dict:  # already evaluated\n",
    "            continue\n",
    "        \n",
    "        # attempt to resolve rule\n",
    "        resolved = resolve_with_or(rule, rule_dict)\n",
    "        if resolved:\n",
    "            rule_dict[num] = resolved\n",
    "    if len(rule_dict) == num_rules - 3:  # resolved all rules except 8, 11 and 0\n",
    "        break\n",
    "\n",
    "hits = set()\n",
    "for message in real_messages:\n",
    "    if process_message(message, rule_dict):\n",
    "        hits.add(message)\n",
    "\n",
    "print(len(hits))"
   ]
  }
 ],
 "metadata": {
  "kernelspec": {
   "display_name": "Python 3",
   "language": "python",
   "name": "python3"
  },
  "language_info": {
   "codemirror_mode": {
    "name": "ipython",
    "version": 3
   },
   "file_extension": ".py",
   "mimetype": "text/x-python",
   "name": "python",
   "nbconvert_exporter": "python",
   "pygments_lexer": "ipython3",
   "version": "3.6.7"
  }
 },
 "nbformat": 4,
 "nbformat_minor": 2
}
