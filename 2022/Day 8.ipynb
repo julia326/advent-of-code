{
 "cells": [
  {
   "cell_type": "code",
   "execution_count": 21,
   "metadata": {},
   "outputs": [
    {
     "data": {
      "text/plain": [
       "'3,0,3,7,3\\n2,5,5,1,2\\n6,5,3,3,2\\n3,3,5,4,9\\n3,5,3,9,0\\n'"
      ]
     },
     "execution_count": 21,
     "metadata": {},
     "output_type": "execute_result"
    }
   ],
   "source": [
    "example_input = \"\"\"30373\n",
    "25512\n",
    "65332\n",
    "33549\n",
    "35390\n",
    "\"\"\"\n",
    "\n",
    "def convert_input_to_csv(a):\n",
    "    return ','.join(list(a)).replace(',\\n,', '\\n').replace(',\\n', '\\n')\n",
    "\n",
    "convert_input_to_csv(example_input)"
   ]
  },
  {
   "cell_type": "code",
   "execution_count": 24,
   "metadata": {},
   "outputs": [
    {
     "data": {
      "text/html": [
       "<div>\n",
       "<style scoped>\n",
       "    .dataframe tbody tr th:only-of-type {\n",
       "        vertical-align: middle;\n",
       "    }\n",
       "\n",
       "    .dataframe tbody tr th {\n",
       "        vertical-align: top;\n",
       "    }\n",
       "\n",
       "    .dataframe thead th {\n",
       "        text-align: right;\n",
       "    }\n",
       "</style>\n",
       "<table border=\"1\" class=\"dataframe\">\n",
       "  <thead>\n",
       "    <tr style=\"text-align: right;\">\n",
       "      <th></th>\n",
       "      <th>0</th>\n",
       "      <th>1</th>\n",
       "      <th>2</th>\n",
       "      <th>3</th>\n",
       "      <th>4</th>\n",
       "    </tr>\n",
       "  </thead>\n",
       "  <tbody>\n",
       "    <tr>\n",
       "      <th>0</th>\n",
       "      <td>3</td>\n",
       "      <td>0</td>\n",
       "      <td>3</td>\n",
       "      <td>7</td>\n",
       "      <td>3</td>\n",
       "    </tr>\n",
       "    <tr>\n",
       "      <th>1</th>\n",
       "      <td>2</td>\n",
       "      <td>5</td>\n",
       "      <td>5</td>\n",
       "      <td>1</td>\n",
       "      <td>2</td>\n",
       "    </tr>\n",
       "    <tr>\n",
       "      <th>2</th>\n",
       "      <td>6</td>\n",
       "      <td>5</td>\n",
       "      <td>3</td>\n",
       "      <td>3</td>\n",
       "      <td>2</td>\n",
       "    </tr>\n",
       "    <tr>\n",
       "      <th>3</th>\n",
       "      <td>3</td>\n",
       "      <td>3</td>\n",
       "      <td>5</td>\n",
       "      <td>4</td>\n",
       "      <td>9</td>\n",
       "    </tr>\n",
       "    <tr>\n",
       "      <th>4</th>\n",
       "      <td>3</td>\n",
       "      <td>5</td>\n",
       "      <td>3</td>\n",
       "      <td>9</td>\n",
       "      <td>0</td>\n",
       "    </tr>\n",
       "  </tbody>\n",
       "</table>\n",
       "</div>"
      ],
      "text/plain": [
       "   0  1  2  3  4\n",
       "0  3  0  3  7  3\n",
       "1  2  5  5  1  2\n",
       "2  6  5  3  3  2\n",
       "3  3  3  5  4  9\n",
       "4  3  5  3  9  0"
      ]
     },
     "execution_count": 24,
     "metadata": {},
     "output_type": "execute_result"
    }
   ],
   "source": [
    "from io import StringIO\n",
    "import pandas as pd\n",
    "\n",
    "df = pd.read_csv(StringIO(convert_input_to_csv(example_input)), header=None)\n",
    "df"
   ]
  },
  {
   "cell_type": "code",
   "execution_count": 47,
   "metadata": {},
   "outputs": [],
   "source": [
    "def check_visible_left(df, i, j):\n",
    "    return df.iloc[i,j] > max(df.iloc[i,0:j])\n",
    "\n",
    "def check_visible_right(df, i, j):\n",
    "    return df.iloc[i,j] > max(df.iloc[i,j+1:df.shape[1]])\n",
    "\n",
    "def check_visible_up(df, i, j):\n",
    "    return df.iloc[i,j] > max(df.iloc[0:i,j])\n",
    "\n",
    "def check_visible_down(df, i, j):\n",
    "    return df.iloc[i,j] > max(df.iloc[i+1:df.shape[0],j])\n",
    "\n",
    "def is_visible(df, i, j):\n",
    "    # if it's an edge, it's visible\n",
    "    if i in (0, df.shape[0]-1) or j in (0, df.shape[1]-1):\n",
    "        return True\n",
    "    # check if it's taller than all other trees\n",
    "    \n",
    "    # left\n",
    "    visible_left = check_visible_left(df, i, j)\n",
    "    if visible_left:\n",
    "        return True\n",
    "    \n",
    "    visible_right = check_visible_right(df, i, j)\n",
    "    if visible_right:\n",
    "        return True\n",
    "    \n",
    "    visible_up = check_visible_up(df, i, j)\n",
    "    if visible_up:\n",
    "        return True\n",
    "    \n",
    "    visible_down = check_visible_down(df, i, j)\n",
    "    if visible_down:\n",
    "        return True\n",
    "    \n",
    "    return False"
   ]
  },
  {
   "cell_type": "code",
   "execution_count": 48,
   "metadata": {},
   "outputs": [
    {
     "data": {
      "text/html": [
       "<div>\n",
       "<style scoped>\n",
       "    .dataframe tbody tr th:only-of-type {\n",
       "        vertical-align: middle;\n",
       "    }\n",
       "\n",
       "    .dataframe tbody tr th {\n",
       "        vertical-align: top;\n",
       "    }\n",
       "\n",
       "    .dataframe thead th {\n",
       "        text-align: right;\n",
       "    }\n",
       "</style>\n",
       "<table border=\"1\" class=\"dataframe\">\n",
       "  <thead>\n",
       "    <tr style=\"text-align: right;\">\n",
       "      <th></th>\n",
       "      <th>0</th>\n",
       "      <th>1</th>\n",
       "      <th>2</th>\n",
       "      <th>3</th>\n",
       "      <th>4</th>\n",
       "    </tr>\n",
       "  </thead>\n",
       "  <tbody>\n",
       "    <tr>\n",
       "      <th>0</th>\n",
       "      <td>3</td>\n",
       "      <td>0</td>\n",
       "      <td>3</td>\n",
       "      <td>7</td>\n",
       "      <td>3</td>\n",
       "    </tr>\n",
       "    <tr>\n",
       "      <th>1</th>\n",
       "      <td>2</td>\n",
       "      <td>5</td>\n",
       "      <td>5</td>\n",
       "      <td>1</td>\n",
       "      <td>2</td>\n",
       "    </tr>\n",
       "    <tr>\n",
       "      <th>2</th>\n",
       "      <td>6</td>\n",
       "      <td>5</td>\n",
       "      <td>3</td>\n",
       "      <td>3</td>\n",
       "      <td>2</td>\n",
       "    </tr>\n",
       "    <tr>\n",
       "      <th>3</th>\n",
       "      <td>3</td>\n",
       "      <td>3</td>\n",
       "      <td>5</td>\n",
       "      <td>4</td>\n",
       "      <td>9</td>\n",
       "    </tr>\n",
       "    <tr>\n",
       "      <th>4</th>\n",
       "      <td>3</td>\n",
       "      <td>5</td>\n",
       "      <td>3</td>\n",
       "      <td>9</td>\n",
       "      <td>0</td>\n",
       "    </tr>\n",
       "  </tbody>\n",
       "</table>\n",
       "</div>"
      ],
      "text/plain": [
       "   0  1  2  3  4\n",
       "0  3  0  3  7  3\n",
       "1  2  5  5  1  2\n",
       "2  6  5  3  3  2\n",
       "3  3  3  5  4  9\n",
       "4  3  5  3  9  0"
      ]
     },
     "execution_count": 48,
     "metadata": {},
     "output_type": "execute_result"
    }
   ],
   "source": [
    "df"
   ]
  },
  {
   "cell_type": "code",
   "execution_count": 55,
   "metadata": {},
   "outputs": [
    {
     "data": {
      "text/plain": [
       "21"
      ]
     },
     "execution_count": 55,
     "metadata": {},
     "output_type": "execute_result"
    }
   ],
   "source": [
    "total_visible = 0\n",
    "for i in range(df.shape[0]):\n",
    "    for j in range(df.shape[1]):\n",
    "        if is_visible(df, i, j):\n",
    "            total_visible += 1\n",
    "total_visible"
   ]
  },
  {
   "cell_type": "code",
   "execution_count": 56,
   "metadata": {},
   "outputs": [
    {
     "data": {
      "text/plain": [
       "(99, 99)"
      ]
     },
     "execution_count": 56,
     "metadata": {},
     "output_type": "execute_result"
    }
   ],
   "source": [
    "a = open('input8.txt').read()\n",
    "my_df = pd.read_csv(StringIO(convert_input_to_csv(a)), header=None)\n",
    "my_df.shape"
   ]
  },
  {
   "cell_type": "code",
   "execution_count": 57,
   "metadata": {},
   "outputs": [
    {
     "data": {
      "text/plain": [
       "1805"
      ]
     },
     "execution_count": 57,
     "metadata": {},
     "output_type": "execute_result"
    }
   ],
   "source": [
    "total_visible = 0\n",
    "for i in range(my_df.shape[0]):\n",
    "    for j in range(my_df.shape[1]):\n",
    "        if is_visible(my_df, i, j):\n",
    "            total_visible += 1\n",
    "total_visible"
   ]
  },
  {
   "cell_type": "code",
   "execution_count": 98,
   "metadata": {},
   "outputs": [],
   "source": [
    "def get_up_viewing_distance(df, i, j):\n",
    "    count = 0\n",
    "    for x in range(i-1, -1, -1):\n",
    "        count += 1\n",
    "        if df.iloc[x,j] >= df.iloc[i,j]:  # comparison is same height or taller than our tree\n",
    "            break\n",
    "    return count\n",
    "\n",
    "def get_down_viewing_distance(df, i, j):\n",
    "    count = 0\n",
    "    for x in range(i+1, df.shape[0]):\n",
    "        count += 1\n",
    "        if df.iloc[x,j] >= df.iloc[i,j]:  # comparison is same height or taller than our tree\n",
    "            break\n",
    "    return count\n",
    "\n",
    "def get_left_viewing_distance(df, i, j):\n",
    "    count = 0\n",
    "    for y in range(j-1, -1, -1):\n",
    "        count += 1\n",
    "        if df.iloc[i,y] >= df.iloc[i,j]:  # comparison is same height or taller than our tree\n",
    "            break\n",
    "    return count\n",
    "\n",
    "def get_right_viewing_distance(df, i, j):\n",
    "    count = 0\n",
    "    for y in range(j+1, df.shape[1]):\n",
    "        count += 1\n",
    "        if df.iloc[i,y] >= df.iloc[i,j]:  # comparison is same height or taller than our tree\n",
    "            break\n",
    "    return count\n",
    "\n",
    "def get_scenic_score_components(df, i, j):\n",
    "    left = get_left_viewing_distance(df, i, j)\n",
    "    right = get_right_viewing_distance(df, i, j)\n",
    "    up = get_up_viewing_distance(df, i, j)\n",
    "    down = get_down_viewing_distance(df, i, j)\n",
    "    return [left, right, up, down]"
   ]
  },
  {
   "cell_type": "code",
   "execution_count": 62,
   "metadata": {},
   "outputs": [
    {
     "data": {
      "text/html": [
       "<div>\n",
       "<style scoped>\n",
       "    .dataframe tbody tr th:only-of-type {\n",
       "        vertical-align: middle;\n",
       "    }\n",
       "\n",
       "    .dataframe tbody tr th {\n",
       "        vertical-align: top;\n",
       "    }\n",
       "\n",
       "    .dataframe thead th {\n",
       "        text-align: right;\n",
       "    }\n",
       "</style>\n",
       "<table border=\"1\" class=\"dataframe\">\n",
       "  <thead>\n",
       "    <tr style=\"text-align: right;\">\n",
       "      <th></th>\n",
       "      <th>0</th>\n",
       "      <th>1</th>\n",
       "      <th>2</th>\n",
       "      <th>3</th>\n",
       "      <th>4</th>\n",
       "    </tr>\n",
       "  </thead>\n",
       "  <tbody>\n",
       "    <tr>\n",
       "      <th>0</th>\n",
       "      <td>3</td>\n",
       "      <td>0</td>\n",
       "      <td>3</td>\n",
       "      <td>7</td>\n",
       "      <td>3</td>\n",
       "    </tr>\n",
       "    <tr>\n",
       "      <th>1</th>\n",
       "      <td>2</td>\n",
       "      <td>5</td>\n",
       "      <td>5</td>\n",
       "      <td>1</td>\n",
       "      <td>2</td>\n",
       "    </tr>\n",
       "    <tr>\n",
       "      <th>2</th>\n",
       "      <td>6</td>\n",
       "      <td>5</td>\n",
       "      <td>3</td>\n",
       "      <td>3</td>\n",
       "      <td>2</td>\n",
       "    </tr>\n",
       "    <tr>\n",
       "      <th>3</th>\n",
       "      <td>3</td>\n",
       "      <td>3</td>\n",
       "      <td>5</td>\n",
       "      <td>4</td>\n",
       "      <td>9</td>\n",
       "    </tr>\n",
       "    <tr>\n",
       "      <th>4</th>\n",
       "      <td>3</td>\n",
       "      <td>5</td>\n",
       "      <td>3</td>\n",
       "      <td>9</td>\n",
       "      <td>0</td>\n",
       "    </tr>\n",
       "  </tbody>\n",
       "</table>\n",
       "</div>"
      ],
      "text/plain": [
       "   0  1  2  3  4\n",
       "0  3  0  3  7  3\n",
       "1  2  5  5  1  2\n",
       "2  6  5  3  3  2\n",
       "3  3  3  5  4  9\n",
       "4  3  5  3  9  0"
      ]
     },
     "execution_count": 62,
     "metadata": {},
     "output_type": "execute_result"
    }
   ],
   "source": [
    "df"
   ]
  },
  {
   "cell_type": "code",
   "execution_count": 103,
   "metadata": {},
   "outputs": [
    {
     "data": {
      "text/plain": [
       "8"
      ]
     },
     "execution_count": 103,
     "metadata": {},
     "output_type": "execute_result"
    }
   ],
   "source": [
    "from numpy import prod\n",
    "\n",
    "prod(get_scenic_score_components(df, 3, 2))"
   ]
  },
  {
   "cell_type": "code",
   "execution_count": 105,
   "metadata": {},
   "outputs": [
    {
     "data": {
      "text/plain": [
       "8"
      ]
     },
     "execution_count": 105,
     "metadata": {},
     "output_type": "execute_result"
    }
   ],
   "source": [
    "max_scenic_score = 0\n",
    "for i in range(df.shape[0]):\n",
    "    for j in range(df.shape[1]):\n",
    "        max_scenic_score = max(max_scenic_score, prod(get_scenic_score_components(df, i, j)))\n",
    "        \n",
    "max_scenic_score"
   ]
  },
  {
   "cell_type": "code",
   "execution_count": 106,
   "metadata": {},
   "outputs": [
    {
     "data": {
      "text/plain": [
       "444528"
      ]
     },
     "execution_count": 106,
     "metadata": {},
     "output_type": "execute_result"
    }
   ],
   "source": [
    "max_scenic_score = 0\n",
    "for i in range(my_df.shape[0]):\n",
    "    for j in range(my_df.shape[1]):\n",
    "        max_scenic_score = max(max_scenic_score, prod(get_scenic_score_components(my_df, i, j)))\n",
    "        \n",
    "max_scenic_score"
   ]
  }
 ],
 "metadata": {
  "kernelspec": {
   "display_name": "Python 3",
   "language": "python",
   "name": "python3"
  },
  "language_info": {
   "codemirror_mode": {
    "name": "ipython",
    "version": 3
   },
   "file_extension": ".py",
   "mimetype": "text/x-python",
   "name": "python",
   "nbconvert_exporter": "python",
   "pygments_lexer": "ipython3",
   "version": "3.6.7"
  }
 },
 "nbformat": 4,
 "nbformat_minor": 2
}
