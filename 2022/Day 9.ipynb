{
 "cells": [
  {
   "cell_type": "code",
   "execution_count": 20,
   "metadata": {},
   "outputs": [],
   "source": [
    "example_input = \"\"\"R 4\n",
    "U 4\n",
    "L 3\n",
    "D 1\n",
    "R 4\n",
    "D 1\n",
    "L 5\n",
    "R 2\"\"\""
   ]
  },
  {
   "cell_type": "code",
   "execution_count": 21,
   "metadata": {},
   "outputs": [
    {
     "data": {
      "text/plain": [
       "(2, 2)"
      ]
     },
     "execution_count": 21,
     "metadata": {},
     "output_type": "execute_result"
    }
   ],
   "source": [
    "head_pos = (0, 0)\n",
    "tail_pos = (0, 0)\n",
    "\n",
    "def next_tail_pos(head_pos, tail_pos):\n",
    "    horizontal_diff = head_pos[0] - tail_pos[0]\n",
    "    vertical_diff = head_pos[1] - tail_pos[1]\n",
    "    # head_pos is to the left or right of tail_pos\n",
    "    if abs(horizontal_diff) == 2:\n",
    "        return (tail_pos[0] + int(horizontal_diff/2), tail_pos[1] + vertical_diff)\n",
    "    # up or down\n",
    "    elif abs(vertical_diff) == 2:\n",
    "        return (tail_pos[0] + horizontal_diff, tail_pos[1] + int(vertical_diff/2))\n",
    "    else:\n",
    "        return tail_pos\n",
    "    \n",
    "next_tail_pos((2,3), (3,1))"
   ]
  },
  {
   "cell_type": "code",
   "execution_count": 22,
   "metadata": {},
   "outputs": [
    {
     "data": {
      "text/plain": [
       "13"
      ]
     },
     "execution_count": 22,
     "metadata": {},
     "output_type": "execute_result"
    }
   ],
   "source": [
    "def update_head_pos_with_move(head_pos, move):\n",
    "    if move == 'R':\n",
    "        return (head_pos[0] + 1, head_pos[1])\n",
    "    elif move == 'L':\n",
    "        return (head_pos[0] - 1, head_pos[1])\n",
    "    elif move == 'U':\n",
    "        return (head_pos[0], head_pos[1] + 1)\n",
    "    elif move == 'D':\n",
    "        return (head_pos[0], head_pos[1] - 1)\n",
    "    else:\n",
    "        raise ValueError\n",
    "        \n",
    "def convert_input_to_moves(my_input):\n",
    "    moves = []\n",
    "    for line in my_input:\n",
    "        move, count = line.split(' ')\n",
    "        moves.extend(list(move * int(count)))\n",
    "\n",
    "    return moves\n",
    "\n",
    "head_pos = (0, 0)\n",
    "tail_pos = (0, 0)\n",
    "tail_pos_set = set()\n",
    "for move in convert_input_to_moves(example_input.split('\\n')):\n",
    "    head_pos = update_head_pos_with_move(head_pos, move)\n",
    "    tail_pos = next_tail_pos(head_pos, tail_pos)\n",
    "    tail_pos_set.add(tail_pos)\n",
    "    \n",
    "len(tail_pos_set)"
   ]
  },
  {
   "cell_type": "code",
   "execution_count": 23,
   "metadata": {},
   "outputs": [
    {
     "data": {
      "text/plain": [
       "6494"
      ]
     },
     "execution_count": 23,
     "metadata": {},
     "output_type": "execute_result"
    }
   ],
   "source": [
    "my_input = open('input9.txt').read().split('\\n')[:-1]\n",
    "\n",
    "head_pos = (0, 0)\n",
    "tail_pos = (0, 0)\n",
    "tail_pos_set = set()\n",
    "for move in convert_input_to_moves(my_input):\n",
    "    head_pos = update_head_pos_with_move(head_pos, move)\n",
    "    tail_pos = next_tail_pos(head_pos, tail_pos)\n",
    "    tail_pos_set.add(tail_pos)\n",
    "    \n",
    "len(tail_pos_set)"
   ]
  },
  {
   "cell_type": "code",
   "execution_count": 30,
   "metadata": {},
   "outputs": [
    {
     "data": {
      "text/plain": [
       "1"
      ]
     },
     "execution_count": 30,
     "metadata": {},
     "output_type": "execute_result"
    }
   ],
   "source": [
    "# part 2: there are 10 knots now to keep track of instead of 2\n",
    "\n",
    "pos_values = []\n",
    "for i in range(10):\n",
    "    pos_values.append((0, 0))\n",
    "\n",
    "# head_pos = (0, 0)\n",
    "# tail_pos = (0, 0)\n",
    "tail_pos_set = set()\n",
    "for move in convert_input_to_moves(example_input.split('\\n')):\n",
    "    head_pos = pos_values[0]\n",
    "    pos_values[0] = update_head_pos_with_move(head_pos, move)\n",
    "    for i in range(1, len(pos_values)):\n",
    "        pos_values[i] = next_tail_pos(pos_values[i-1], pos_values[i])\n",
    "    tail_pos_set.add(pos_values[-1])\n",
    "    \n",
    "len(tail_pos_set)"
   ]
  },
  {
   "cell_type": "code",
   "execution_count": 31,
   "metadata": {},
   "outputs": [
    {
     "data": {
      "text/plain": [
       "36"
      ]
     },
     "execution_count": 31,
     "metadata": {},
     "output_type": "execute_result"
    }
   ],
   "source": [
    "example_input = \"\"\"R 5\n",
    "U 8\n",
    "L 8\n",
    "D 3\n",
    "R 17\n",
    "D 10\n",
    "L 25\n",
    "U 20\"\"\"\n",
    "\n",
    "pos_values = []\n",
    "for i in range(10):\n",
    "    pos_values.append((0, 0))\n",
    "\n",
    "# head_pos = (0, 0)\n",
    "# tail_pos = (0, 0)\n",
    "tail_pos_set = set()\n",
    "for move in convert_input_to_moves(example_input.split('\\n')):\n",
    "    head_pos = pos_values[0]\n",
    "    pos_values[0] = update_head_pos_with_move(head_pos, move)\n",
    "    for i in range(1, len(pos_values)):\n",
    "        pos_values[i] = next_tail_pos(pos_values[i-1], pos_values[i])\n",
    "    tail_pos_set.add(pos_values[-1])\n",
    "    \n",
    "len(tail_pos_set)"
   ]
  },
  {
   "cell_type": "code",
   "execution_count": 35,
   "metadata": {},
   "outputs": [
    {
     "data": {
      "text/plain": [
       "2390"
      ]
     },
     "execution_count": 35,
     "metadata": {},
     "output_type": "execute_result"
    }
   ],
   "source": [
    "pos_values = []\n",
    "for i in range(10):\n",
    "    pos_values.append((0, 0))\n",
    "\n",
    "# head_pos = (0, 0)\n",
    "# tail_pos = (0, 0)\n",
    "tail_pos_set = set()\n",
    "my_input = open('input9.txt').read().split('\\n')[:-1]\n",
    "for move in convert_input_to_moves(my_input):\n",
    "    head_pos = pos_values[0]\n",
    "    pos_values[0] = update_head_pos_with_move(head_pos, move)\n",
    "    for i in range(1, len(pos_values)):\n",
    "        pos_values[i] = next_tail_pos(pos_values[i-1], pos_values[i])\n",
    "    tail_pos_set.add(pos_values[-1])\n",
    "    \n",
    "len(tail_pos_set)"
   ]
  },
  {
   "cell_type": "code",
   "execution_count": 34,
   "metadata": {},
   "outputs": [
    {
     "data": {
      "text/plain": [
       "11565"
      ]
     },
     "execution_count": 34,
     "metadata": {},
     "output_type": "execute_result"
    }
   ],
   "source": [
    "my_input = open('input9.txt').read().split('\\n')[:-1]\n",
    "moves = convert_input_to_moves(my_input)\n",
    "len(moves)"
   ]
  }
 ],
 "metadata": {
  "kernelspec": {
   "display_name": "Python 3",
   "language": "python",
   "name": "python3"
  },
  "language_info": {
   "codemirror_mode": {
    "name": "ipython",
    "version": 3
   },
   "file_extension": ".py",
   "mimetype": "text/x-python",
   "name": "python",
   "nbconvert_exporter": "python",
   "pygments_lexer": "ipython3",
   "version": "3.6.7"
  }
 },
 "nbformat": 4,
 "nbformat_minor": 2
}
