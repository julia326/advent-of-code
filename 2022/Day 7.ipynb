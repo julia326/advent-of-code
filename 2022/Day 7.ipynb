{
 "cells": [
  {
   "cell_type": "code",
   "execution_count": 20,
   "metadata": {},
   "outputs": [],
   "source": [
    "class TreeNode:\n",
    "    def __init__(self, filename=None, filesize=None, parent=None):\n",
    "        self.filename = filename # data\n",
    "        self.filesize = filesize\n",
    "        self.parent = parent\n",
    "        self.children = {} # references to other nodes: filename to TreeNode objects\n",
    "\n",
    "    def add_child(self, child_node):\n",
    "        # creates parent-child relationship\n",
    "        self.children[child_node.filename] = child_node\n",
    "\n",
    "    def traverse(self):\n",
    "        # moves through each node referenced from self downwards\n",
    "        nodes_to_visit = [self]\n",
    "        while len(nodes_to_visit) > 0:\n",
    "            current_node = nodes_to_visit.pop()\n",
    "            print(current_node.filename)\n",
    "            nodes_to_visit += current_node.children.values()\n",
    "            \n",
    "    def total_size(self):\n",
    "        # compute total size of the subtree from self downwards\n",
    "        total_size = 0\n",
    "        nodes_to_visit = [self]\n",
    "        while len(nodes_to_visit) > 0:\n",
    "            current_node = nodes_to_visit.pop()\n",
    "            if current_node.filesize != None:\n",
    "                total_size += int(current_node.filesize)\n",
    "            nodes_to_visit += current_node.children.values()\n",
    "        return total_size\n",
    "    \n",
    "    def full_path(self):\n",
    "        if self.filename == '/':\n",
    "            return '/'\n",
    "        cur_node = self\n",
    "        dirs = [self.filename]\n",
    "        while cur_node.parent != None:\n",
    "            cur_node = cur_node.parent\n",
    "            dirs.append(cur_node.filename)\n",
    "        dirs.reverse()\n",
    "        return '/'.join(dirs)[1:]  # grossss\n",
    "\n",
    "def make_tree(my_input):\n",
    "    root = TreeNode(filename='/')\n",
    "    cur_node = root\n",
    "    \n",
    "    for x in my_input:\n",
    "#         print(x)\n",
    "#         print(cur_node.full_path())\n",
    "#         print('\\n')\n",
    "        \n",
    "        # if we're in change-directory mode, use this to navigate dirs as needed\n",
    "        if x.startswith('$ cd'):\n",
    "            dirname = x[5:]\n",
    "            if dirname == '/':  # back to root\n",
    "                cur_node = root\n",
    "            elif dirname != '..':\n",
    "                # child dir should already have been created as the result of an ls command below\n",
    "                assert dirname in cur_node.children.keys()\n",
    "                cur_node = cur_node.children[dirname]\n",
    "            else:\n",
    "                # go up a level\n",
    "                assert dirname == '..'\n",
    "                cur_node = cur_node.parent\n",
    "\n",
    "        elif x.startswith('$ ls'):\n",
    "            continue\n",
    "\n",
    "        else:\n",
    "            # we're in \"ls\" mode, make new files as needed\n",
    "            filesize, filename = x.split(' ')\n",
    "            if filesize == 'dir':\n",
    "                # add if we don't already know about it\n",
    "                if filename not in cur_node.children.keys():\n",
    "                    new_node = TreeNode(filename=filename, parent=cur_node)\n",
    "                    cur_node.add_child(new_node)\n",
    "                continue\n",
    "                \n",
    "            new_node = TreeNode(filename=filename, filesize=filesize, parent=cur_node)\n",
    "            cur_node.add_child(new_node)\n",
    "        \n",
    "    return root"
   ]
  },
  {
   "cell_type": "code",
   "execution_count": 21,
   "metadata": {
    "scrolled": true
   },
   "outputs": [
    {
     "data": {
      "text/plain": [
       "['$ cd /',\n",
       " '$ ls',\n",
       " 'dir a',\n",
       " '14848514 b.txt',\n",
       " '8504156 c.dat',\n",
       " 'dir d',\n",
       " '$ cd a',\n",
       " '$ ls',\n",
       " 'dir e',\n",
       " '29116 f',\n",
       " '2557 g',\n",
       " '62596 h.lst',\n",
       " '$ cd e',\n",
       " '$ ls',\n",
       " '584 i',\n",
       " '$ cd ..',\n",
       " '$ cd ..',\n",
       " '$ cd d',\n",
       " '$ ls',\n",
       " '4060174 j',\n",
       " '8033020 d.log',\n",
       " '5626152 d.ext',\n",
       " '7214296 k']"
      ]
     },
     "execution_count": 21,
     "metadata": {},
     "output_type": "execute_result"
    }
   ],
   "source": [
    "example_input = \"\"\"$ cd /\n",
    "$ ls\n",
    "dir a\n",
    "14848514 b.txt\n",
    "8504156 c.dat\n",
    "dir d\n",
    "$ cd a\n",
    "$ ls\n",
    "dir e\n",
    "29116 f\n",
    "2557 g\n",
    "62596 h.lst\n",
    "$ cd e\n",
    "$ ls\n",
    "584 i\n",
    "$ cd ..\n",
    "$ cd ..\n",
    "$ cd d\n",
    "$ ls\n",
    "4060174 j\n",
    "8033020 d.log\n",
    "5626152 d.ext\n",
    "7214296 k\n",
    "\"\"\"\n",
    "\n",
    "example_input = example_input.split('\\n')[:-1]\n",
    "example_input"
   ]
  },
  {
   "cell_type": "code",
   "execution_count": 22,
   "metadata": {
    "scrolled": true
   },
   "outputs": [],
   "source": [
    "tree = make_tree(example_input)"
   ]
  },
  {
   "cell_type": "code",
   "execution_count": 23,
   "metadata": {},
   "outputs": [
    {
     "data": {
      "text/plain": [
       "95437"
      ]
     },
     "execution_count": 23,
     "metadata": {},
     "output_type": "execute_result"
    }
   ],
   "source": [
    "# find all directories whose total size is <= 100000\n",
    "\n",
    "def find_small_dirs(root):\n",
    "    name_to_size = {}\n",
    "    nodes_to_visit = [root]\n",
    "    while len(nodes_to_visit) > 0:\n",
    "        current_node = nodes_to_visit.pop()\n",
    "        if current_node.filesize is not None:  # not a directory so we don't care\n",
    "            continue\n",
    "        total_size = current_node.total_size()\n",
    "        if total_size <= 100000:\n",
    "            name_to_size[current_node.filename] = total_size\n",
    "        nodes_to_visit += current_node.children.values()\n",
    "    return name_to_size\n",
    "\n",
    "sum(find_small_dirs(tree).values())"
   ]
  },
  {
   "cell_type": "code",
   "execution_count": 24,
   "metadata": {},
   "outputs": [
    {
     "data": {
      "text/plain": [
       "1646948"
      ]
     },
     "execution_count": 24,
     "metadata": {},
     "output_type": "execute_result"
    }
   ],
   "source": [
    "my_input = open('input7.txt').read().split('\\n')[:-1]\n",
    "my_tree = make_tree(my_input)\n",
    "sum(find_small_dirs(my_tree).values())"
   ]
  },
  {
   "cell_type": "markdown",
   "metadata": {},
   "source": [
    "## Ignore stuff below this line"
   ]
  },
  {
   "cell_type": "code",
   "execution_count": 25,
   "metadata": {},
   "outputs": [
    {
     "name": "stdout",
     "output_type": "stream",
     "text": [
      "['wlqhpwqv', 'zfhnw', 'zdv', 'pjdhn', 'rvbw', 'cjdhwbv']\n"
     ]
    }
   ],
   "source": [
    "def get_node_by_dir(node, dirname):\n",
    "    dirs = dirname.split('/')[1:]\n",
    "    print(dirs)\n",
    "\n",
    "get_node_by_dir(my_tree, '/wlqhpwqv/zfhnw/zdv/pjdhn/rvbw/cjdhwbv')"
   ]
  },
  {
   "cell_type": "code",
   "execution_count": 26,
   "metadata": {},
   "outputs": [
    {
     "data": {
      "text/plain": [
       "1010"
      ]
     },
     "execution_count": 26,
     "metadata": {},
     "output_type": "execute_result"
    }
   ],
   "source": [
    "len(my_input)"
   ]
  },
  {
   "cell_type": "code",
   "execution_count": 27,
   "metadata": {},
   "outputs": [
    {
     "data": {
      "text/plain": [
       "1646948"
      ]
     },
     "execution_count": 27,
     "metadata": {},
     "output_type": "execute_result"
    }
   ],
   "source": [
    "sum(find_small_dirs(my_tree).values())"
   ]
  },
  {
   "cell_type": "code",
   "execution_count": 28,
   "metadata": {},
   "outputs": [
    {
     "name": "stdout",
     "output_type": "stream",
     "text": [
      "186\n",
      "140\n"
     ]
    }
   ],
   "source": [
    "dirs = [x for x in my_input if x.startswith('dir')]\n",
    "print(len(dirs))\n",
    "print(len(set(dirs)))"
   ]
  },
  {
   "cell_type": "code",
   "execution_count": 29,
   "metadata": {},
   "outputs": [],
   "source": [
    "# how many leaves are there in the input?"
   ]
  }
 ],
 "metadata": {
  "kernelspec": {
   "display_name": "Python 3",
   "language": "python",
   "name": "python3"
  },
  "language_info": {
   "codemirror_mode": {
    "name": "ipython",
    "version": 3
   },
   "file_extension": ".py",
   "mimetype": "text/x-python",
   "name": "python",
   "nbconvert_exporter": "python",
   "pygments_lexer": "ipython3",
   "version": "3.6.7"
  }
 },
 "nbformat": 4,
 "nbformat_minor": 2
}
