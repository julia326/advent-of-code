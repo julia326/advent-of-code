{
 "cells": [
  {
   "cell_type": "code",
   "execution_count": 23,
   "metadata": {},
   "outputs": [
    {
     "data": {
      "text/plain": [
       "['vJrwpWtwJgWrhcsFMMfFFhFp',\n",
       " 'jqHRNqRjqzjGDLGLrsFMfFZSrLrFZsSL',\n",
       " 'PmmdzqPrVvPwwTWBwg',\n",
       " 'wMqvLMZHhHMvwLHjbvcjnnSBnvTQFn',\n",
       " 'ttgJtRGJQctTZtZT',\n",
       " 'CrZsJsPPZsGzwwsLwLmpwMDw']"
      ]
     },
     "execution_count": 23,
     "metadata": {},
     "output_type": "execute_result"
    }
   ],
   "source": [
    "example_input = \"\"\"vJrwpWtwJgWrhcsFMMfFFhFp\n",
    "jqHRNqRjqzjGDLGLrsFMfFZSrLrFZsSL\n",
    "PmmdzqPrVvPwwTWBwg\n",
    "wMqvLMZHhHMvwLHjbvcjnnSBnvTQFn\n",
    "ttgJtRGJQctTZtZT\n",
    "CrZsJsPPZsGzwwsLwLmpwMDw\"\"\"\n",
    "\n",
    "example_input = example_input.split('\\n')\n",
    "example_input"
   ]
  },
  {
   "cell_type": "code",
   "execution_count": 14,
   "metadata": {},
   "outputs": [],
   "source": [
    "# construct the priorities dict\n",
    "\n",
    "import string\n",
    "\n",
    "priorities = {}\n",
    "for i, char in enumerate(string.ascii_lowercase):\n",
    "    priorities[char] = i+1\n",
    "\n",
    "for i, char in enumerate(string.ascii_uppercase):\n",
    "    priorities[char] = i+27"
   ]
  },
  {
   "cell_type": "code",
   "execution_count": 24,
   "metadata": {},
   "outputs": [
    {
     "data": {
      "text/plain": [
       "157"
      ]
     },
     "execution_count": 24,
     "metadata": {},
     "output_type": "execute_result"
    }
   ],
   "source": [
    "def process_line(line):\n",
    "    comp_size = int(len(line)/2)\n",
    "    comp1 = line[:comp_size]\n",
    "    comp2 = line[comp_size:]\n",
    "    overlap = set(comp1).intersection(set(comp2))\n",
    "    priority_sum = 0\n",
    "    for char in overlap:\n",
    "        priority_sum += priorities[char]\n",
    "    return priority_sum\n",
    "\n",
    "priority_sum = 0\n",
    "for line in example_input:\n",
    "    priority_sum += process_line(line)\n",
    "priority_sum"
   ]
  },
  {
   "cell_type": "code",
   "execution_count": 21,
   "metadata": {},
   "outputs": [
    {
     "data": {
      "text/plain": [
       "7824"
      ]
     },
     "execution_count": 21,
     "metadata": {},
     "output_type": "execute_result"
    }
   ],
   "source": [
    "my_input = open('input3.txt').read().split('\\n')[:-1]\n",
    "\n",
    "priority_sum = 0\n",
    "for line in my_input:\n",
    "    priority_sum += process_line(line)\n",
    "priority_sum"
   ]
  },
  {
   "cell_type": "code",
   "execution_count": 34,
   "metadata": {},
   "outputs": [
    {
     "data": {
      "text/plain": [
       "70"
      ]
     },
     "execution_count": 34,
     "metadata": {},
     "output_type": "execute_result"
    }
   ],
   "source": [
    "# part 2: need to process each set of 3 lines\n",
    "\n",
    "priority_sum = 0\n",
    "for i in range(int(len(example_input)/3)):\n",
    "    line1, line2, line3 = example_input[i*3], example_input[i*3+1], example_input[i*3+2]\n",
    "    overlaps = set(line1).intersection(set(line2)).intersection(set(line3))\n",
    "    for char in overlaps:\n",
    "        priority_sum += priorities[char]\n",
    "        \n",
    "priority_sum"
   ]
  },
  {
   "cell_type": "code",
   "execution_count": 35,
   "metadata": {},
   "outputs": [
    {
     "data": {
      "text/plain": [
       "2798"
      ]
     },
     "execution_count": 35,
     "metadata": {},
     "output_type": "execute_result"
    }
   ],
   "source": [
    "priority_sum = 0\n",
    "for i in range(int(len(my_input)/3)):\n",
    "    line1, line2, line3 = my_input[i*3], my_input[i*3+1], my_input[i*3+2]\n",
    "    overlaps = set(line1).intersection(set(line2)).intersection(set(line3))\n",
    "    for char in overlaps:\n",
    "        priority_sum += priorities[char]\n",
    "        \n",
    "priority_sum"
   ]
  }
 ],
 "metadata": {
  "kernelspec": {
   "display_name": "Python 3",
   "language": "python",
   "name": "python3"
  },
  "language_info": {
   "codemirror_mode": {
    "name": "ipython",
    "version": 3
   },
   "file_extension": ".py",
   "mimetype": "text/x-python",
   "name": "python",
   "nbconvert_exporter": "python",
   "pygments_lexer": "ipython3",
   "version": "3.6.7"
  }
 },
 "nbformat": 4,
 "nbformat_minor": 2
}
