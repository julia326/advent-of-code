{
 "cells": [
  {
   "cell_type": "code",
   "execution_count": 1,
   "metadata": {},
   "outputs": [],
   "source": [
    "example_input = \"\"\"A Y\n",
    "B X\n",
    "C Z\"\"\""
   ]
  },
  {
   "cell_type": "code",
   "execution_count": 2,
   "metadata": {},
   "outputs": [
    {
     "data": {
      "text/plain": [
       "['A Y', 'B X', 'C Z']"
      ]
     },
     "execution_count": 2,
     "metadata": {},
     "output_type": "execute_result"
    }
   ],
   "source": [
    "example_input.split('\\n')"
   ]
  },
  {
   "cell_type": "code",
   "execution_count": 5,
   "metadata": {},
   "outputs": [],
   "source": [
    "rock = {'A', 'X'}\n",
    "paper = {'B', 'Y'}\n",
    "scissors = {'C', 'Z'}\n",
    "\n",
    "shape_scores = {'A': 1, 'X': 1, 'B': 2, 'Y': 2, 'C': 3, 'Z': 3}"
   ]
  },
  {
   "cell_type": "code",
   "execution_count": 11,
   "metadata": {},
   "outputs": [
    {
     "name": "stdout",
     "output_type": "stream",
     "text": [
      "15\n"
     ]
    }
   ],
   "source": [
    "def score_round(line):\n",
    "    opp_move, my_move = line.split(' ')\n",
    "    if opp_move in rock and my_move in rock or \\\n",
    "            opp_move in paper and my_move in paper or \\\n",
    "            opp_move in scissors and my_move in scissors:\n",
    "        # draw\n",
    "        return shape_scores[my_move] + 3\n",
    "    elif opp_move in rock and my_move in paper or \\\n",
    "            opp_move in paper and my_move in scissors or \\\n",
    "            opp_move in scissors and my_move in rock:\n",
    "        # i win\n",
    "        return shape_scores[my_move] + 6\n",
    "    else:\n",
    "        return shape_scores[my_move] + 0\n",
    "    \n",
    "\n",
    "score_sum = 0\n",
    "for line in example_input.split('\\n'):\n",
    "    score_sum += score_round(line)\n",
    "    \n",
    "print(score_sum)"
   ]
  },
  {
   "cell_type": "code",
   "execution_count": 17,
   "metadata": {},
   "outputs": [
    {
     "name": "stdout",
     "output_type": "stream",
     "text": [
      "15572\n"
     ]
    }
   ],
   "source": [
    "my_input = open('input2.txt').read()[:-1]\n",
    "\n",
    "score_sum = 0\n",
    "for line in my_input.split('\\n'):\n",
    "    score_sum += score_round(line)\n",
    "    \n",
    "print(score_sum)"
   ]
  },
  {
   "cell_type": "code",
   "execution_count": 28,
   "metadata": {},
   "outputs": [
    {
     "data": {
      "text/plain": [
       "12"
      ]
     },
     "execution_count": 28,
     "metadata": {},
     "output_type": "execute_result"
    }
   ],
   "source": [
    "# key is move, value is responding move that would lose to it\n",
    "winning_moves = {\n",
    "    'A': 'B',\n",
    "    'B': 'C',\n",
    "    'C': 'A'\n",
    "}\n",
    "\n",
    "losing_moves = {\n",
    "    'B': 'A',\n",
    "    'C': 'B',\n",
    "    'A': 'C'\n",
    "}\n",
    "\n",
    "def get_my_move(opp_move, outcome):\n",
    "    if outcome == 'X':  # I should lose\n",
    "        return losing_moves[opp_move]\n",
    "    elif outcome == 'Y':  # draw\n",
    "        return opp_move\n",
    "    else:\n",
    "        assert outcome == 'Z'  # I should win\n",
    "        return winning_moves[opp_move]\n",
    "    \n",
    "# rock = A, paper = B, scissors = C    \n",
    "\n",
    "example_input = \"\"\"A Y\n",
    "B X\n",
    "C Z\"\"\"\n",
    "\n",
    "score_sum = 0\n",
    "for line in example_input.split('\\n'):\n",
    "    opp_move, outcome = line.split(' ')\n",
    "    my_move = get_my_move(opp_move, outcome)\n",
    "    score = score_round(opp_move + ' ' + my_move)\n",
    "    score_sum += score\n",
    "    \n",
    "score_sum"
   ]
  },
  {
   "cell_type": "code",
   "execution_count": 31,
   "metadata": {},
   "outputs": [
    {
     "data": {
      "text/plain": [
       "16098"
      ]
     },
     "execution_count": 31,
     "metadata": {},
     "output_type": "execute_result"
    }
   ],
   "source": [
    "score_sum = 0\n",
    "for line in my_input.split('\\n'):\n",
    "    opp_move, outcome = line.split(' ')\n",
    "    my_move = get_my_move(opp_move, outcome)\n",
    "    score_sum += score_round(opp_move + ' ' + my_move)\n",
    "    \n",
    "score_sum"
   ]
  }
 ],
 "metadata": {
  "kernelspec": {
   "display_name": "Python 3",
   "language": "python",
   "name": "python3"
  },
  "language_info": {
   "codemirror_mode": {
    "name": "ipython",
    "version": 3
   },
   "file_extension": ".py",
   "mimetype": "text/x-python",
   "name": "python",
   "nbconvert_exporter": "python",
   "pygments_lexer": "ipython3",
   "version": "3.6.7"
  }
 },
 "nbformat": 4,
 "nbformat_minor": 2
}
