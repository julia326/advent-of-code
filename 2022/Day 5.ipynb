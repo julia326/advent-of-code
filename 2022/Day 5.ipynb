{
 "cells": [
  {
   "cell_type": "code",
   "execution_count": 30,
   "metadata": {},
   "outputs": [
    {
     "data": {
      "text/plain": [
       "['1,Z,N', '2,M,C,D', '3,P']"
      ]
     },
     "execution_count": 30,
     "metadata": {},
     "output_type": "execute_result"
    }
   ],
   "source": [
    "example_input = \"\"\"\n",
    "    [D]    \n",
    "[N] [C]    \n",
    "[Z] [M] [P]\n",
    " 1   2   3\n",
    "\"\"\"\n",
    "\n",
    "# ugh not worth writing a parser, I'm going to do this manually, ugh ugh\n",
    "\n",
    "# this is in order from lowest, ie, last element is the top of the stack\n",
    "example_input = \"\"\"1,Z,N\n",
    "2,M,C,D\n",
    "3,P\n",
    "\"\"\"\n",
    "\n",
    "example_input = example_input.split('\\n')[:-1]\n",
    "example_input"
   ]
  },
  {
   "cell_type": "code",
   "execution_count": 59,
   "metadata": {},
   "outputs": [
    {
     "data": {
      "text/plain": [
       "{'1': ['Z', 'N'], '2': ['M', 'C', 'D'], '3': ['P']}"
      ]
     },
     "execution_count": 59,
     "metadata": {},
     "output_type": "execute_result"
    }
   ],
   "source": [
    "# create stacks\n",
    "\n",
    "def make_example_stacks():\n",
    "    stacks = {}  # ID -> stack list\n",
    "    for line in example_input:\n",
    "        split_line = line.split(',')\n",
    "        stack = []\n",
    "        for item in split_line[1:]:\n",
    "            stack.append(item)\n",
    "        stacks[split_line[0]] = stack\n",
    "\n",
    "    return stacks\n",
    "\n",
    "make_example_stacks()"
   ]
  },
  {
   "cell_type": "code",
   "execution_count": 42,
   "metadata": {},
   "outputs": [
    {
     "data": {
      "text/plain": [
       "{'1': ['C'], '2': ['M'], '3': ['P', 'D', 'N', 'Z']}"
      ]
     },
     "execution_count": 42,
     "metadata": {},
     "output_type": "execute_result"
    }
   ],
   "source": [
    "example_instructions = \"\"\"move 1 from 2 to 1\n",
    "move 3 from 1 to 3\n",
    "move 2 from 2 to 1\n",
    "move 1 from 1 to 2\"\"\"\n",
    "\n",
    "example_instructions = example_instructions.split('\\n')\n",
    "\n",
    "# returns: how many, original stack, destination stack\n",
    "def parse_instruction(instruction):\n",
    "    split_instruction = instruction.split(' ')\n",
    "    move_count = split_instruction[1]\n",
    "    from_stack = split_instruction[3]\n",
    "    to_stack = split_instruction[5]\n",
    "    return int(move_count), from_stack, to_stack\n",
    "\n",
    "# modifies stacks according to instructions\n",
    "def process_instructions(stacks, instructions):\n",
    "    for instruction in instructions:\n",
    "        move_count, from_stack, to_stack = parse_instruction(instruction)\n",
    "        for i in range(move_count):\n",
    "            elt = stacks[from_stack].pop()\n",
    "            stacks[to_stack].append(elt)\n",
    "\n",
    "process_instructions(stacks, example_instructions)\n",
    "stacks"
   ]
  },
  {
   "cell_type": "code",
   "execution_count": 43,
   "metadata": {},
   "outputs": [
    {
     "data": {
      "text/plain": [
       "'CMZ'"
      ]
     },
     "execution_count": 43,
     "metadata": {},
     "output_type": "execute_result"
    }
   ],
   "source": [
    "def get_last_elts(stacks):\n",
    "    last_elts = ''\n",
    "    for _, stack in stacks.items():\n",
    "        last_elts += stack[-1]\n",
    "    return last_elts\n",
    "\n",
    "get_last_elts(stacks)"
   ]
  },
  {
   "cell_type": "code",
   "execution_count": 44,
   "metadata": {},
   "outputs": [],
   "source": [
    "my_input = open('input5.txt').read()"
   ]
  },
  {
   "cell_type": "code",
   "execution_count": 62,
   "metadata": {},
   "outputs": [],
   "source": [
    "\"\"\"  (this is the stack which I'm manually converting ugh ugh ugh)\n",
    "[T]     [D]         [L]            \n",
    "[R]     [S] [G]     [P]         [H]\n",
    "[G]     [H] [W]     [R] [L]     [P]\n",
    "[W]     [G] [F] [H] [S] [M]     [L]\n",
    "[Q]     [V] [B] [J] [H] [N] [R] [N]\n",
    "[M] [R] [R] [P] [M] [T] [H] [Q] [C]\n",
    "[F] [F] [Z] [H] [S] [Z] [T] [D] [S]\n",
    "[P] [H] [P] [Q] [P] [M] [P] [F] [D]\n",
    " 1   2   3   4   5   6   7   8   9 \n",
    "\"\"\"\n",
    "\n",
    "# this is in order from lowest, ie, last element is the top of the stack\n",
    "def make_my_stacks():\n",
    "    my_stacks = {\n",
    "        '1': ['P','F','M','Q','W','G','R','T'],\n",
    "        '2': ['H','F','R'],\n",
    "        '3': ['P','Z','R','V','G','H','S','D'],\n",
    "        '4': ['Q','H','P','B','F','W','G'],\n",
    "        '5': ['P','S','M','J','H'],\n",
    "        '6': ['M','Z','T','H','S','R','P','L'],\n",
    "        '7': ['P','T','H','N','M','L'],\n",
    "        '8': ['F','D','Q','R'],\n",
    "        '9': ['D','S','C','N','L','P','H']\n",
    "    }\n",
    "    return my_stacks"
   ]
  },
  {
   "cell_type": "code",
   "execution_count": 63,
   "metadata": {},
   "outputs": [
    {
     "data": {
      "text/plain": [
       "'TPGVQPFDH'"
      ]
     },
     "execution_count": 63,
     "metadata": {},
     "output_type": "execute_result"
    }
   ],
   "source": [
    "my_instructions = my_input.split('\\n')[10:-1]\n",
    "\n",
    "my_stacks = make_my_stacks()\n",
    "process_instructions(my_stacks, my_instructions)\n",
    "get_last_elts(my_stacks)"
   ]
  },
  {
   "cell_type": "code",
   "execution_count": 61,
   "metadata": {},
   "outputs": [
    {
     "data": {
      "text/plain": [
       "'MCD'"
      ]
     },
     "execution_count": 61,
     "metadata": {},
     "output_type": "execute_result"
    }
   ],
   "source": [
    "# part 2: instead of moving elements one by one, move them as a group\n",
    "# modifies stacks according to instructions\n",
    "def process_instructions_part2(stacks, instructions):\n",
    "    for instruction in instructions:\n",
    "        move_count, from_stack, to_stack = parse_instruction(instruction)\n",
    "        elts = []\n",
    "        for i in range(move_count):\n",
    "            elts.append(stacks[from_stack].pop())\n",
    "        stacks[to_stack].extend(list(reversed(elts)))\n",
    "\n",
    "stacks = make_example_stacks()\n",
    "process_instructions_part2(stacks, example_instructions)\n",
    "get_last_elts(stacks)"
   ]
  },
  {
   "cell_type": "code",
   "execution_count": 64,
   "metadata": {},
   "outputs": [
    {
     "data": {
      "text/plain": [
       "'DMRDFRHHH'"
      ]
     },
     "execution_count": 64,
     "metadata": {},
     "output_type": "execute_result"
    }
   ],
   "source": [
    "my_stacks = make_my_stacks()\n",
    "process_instructions_part2(my_stacks, my_instructions)\n",
    "get_last_elts(my_stacks)"
   ]
  }
 ],
 "metadata": {
  "kernelspec": {
   "display_name": "Python 3",
   "language": "python",
   "name": "python3"
  },
  "language_info": {
   "codemirror_mode": {
    "name": "ipython",
    "version": 3
   },
   "file_extension": ".py",
   "mimetype": "text/x-python",
   "name": "python",
   "nbconvert_exporter": "python",
   "pygments_lexer": "ipython3",
   "version": "3.6.7"
  }
 },
 "nbformat": 4,
 "nbformat_minor": 2
}
