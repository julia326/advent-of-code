{
 "cells": [
  {
   "cell_type": "code",
   "execution_count": 4,
   "metadata": {},
   "outputs": [
    {
     "data": {
      "text/plain": [
       "['2-4,6-8', '2-3,4-5', '5-7,7-9', '2-8,3-7', '6-6,4-6', '2-6,4-8']"
      ]
     },
     "execution_count": 4,
     "metadata": {},
     "output_type": "execute_result"
    }
   ],
   "source": [
    "example_input = \"\"\"2-4,6-8\n",
    "2-3,4-5\n",
    "5-7,7-9\n",
    "2-8,3-7\n",
    "6-6,4-6\n",
    "2-6,4-8\"\"\"\n",
    "\n",
    "example_input = example_input.split('\\n')\n",
    "example_input"
   ]
  },
  {
   "cell_type": "code",
   "execution_count": 9,
   "metadata": {},
   "outputs": [],
   "source": [
    "def is_subset(r1, r2):\n",
    "    # return true if either r1 is fully contained in r2 or vice versa\n",
    "    r1_min, r1_max = [int(x) for x in r1.split('-')]\n",
    "    r2_min, r2_max = [int(x) for x in r2.split('-')]\n",
    "    return r1_min <= r2_min and r1_max >= r2_max or r2_min <= r1_min and r2_max >= r1_max"
   ]
  },
  {
   "cell_type": "code",
   "execution_count": 13,
   "metadata": {},
   "outputs": [
    {
     "data": {
      "text/plain": [
       "2"
      ]
     },
     "execution_count": 13,
     "metadata": {},
     "output_type": "execute_result"
    }
   ],
   "source": [
    "subset_count = 0\n",
    "for line in example_input:\n",
    "    r1, r2 = line.split(',')\n",
    "    if is_subset(r1, r2):\n",
    "        subset_count += 1\n",
    "\n",
    "subset_count"
   ]
  },
  {
   "cell_type": "code",
   "execution_count": 15,
   "metadata": {},
   "outputs": [
    {
     "data": {
      "text/plain": [
       "518"
      ]
     },
     "execution_count": 15,
     "metadata": {},
     "output_type": "execute_result"
    }
   ],
   "source": [
    "my_input = open('input4.txt').read().split('\\n')[:-1]\n",
    "\n",
    "subset_count = 0\n",
    "for line in my_input:\n",
    "    r1, r2 = line.split(',')\n",
    "    if is_subset(r1, r2):\n",
    "        subset_count += 1\n",
    "\n",
    "subset_count"
   ]
  },
  {
   "cell_type": "code",
   "execution_count": 19,
   "metadata": {},
   "outputs": [
    {
     "name": "stdout",
     "output_type": "stream",
     "text": [
      "5-7,7-9\n",
      "2-8,3-7\n",
      "6-6,4-6\n",
      "2-6,4-8\n"
     ]
    },
    {
     "data": {
      "text/plain": [
       "4"
      ]
     },
     "execution_count": 19,
     "metadata": {},
     "output_type": "execute_result"
    }
   ],
   "source": [
    "# overlap at all\n",
    "\n",
    "def is_overlap(r1, r2):\n",
    "    # return true if r1 overlaps with r2\n",
    "    r1_min, r1_max = [int(x) for x in r1.split('-')]\n",
    "    r2_min, r2_max = [int(x) for x in r2.split('-')]\n",
    "    assert r1_min <= r1_max and r2_min <= r2_max\n",
    "    # overlaps if: r2_min is in r1, or r2_max is in r1\n",
    "    return r2_min <= r1_max and r2_min >= r1_min or r2_max >= r1_min and r2_max <= r1_max\n",
    "\n",
    "overlap_count = 0\n",
    "for line in example_input:\n",
    "    r1, r2 = line.split(',')\n",
    "    if is_overlap(r1, r2):\n",
    "        print(line)\n",
    "        overlap_count += 1\n",
    "\n",
    "overlap_count"
   ]
  },
  {
   "cell_type": "code",
   "execution_count": 23,
   "metadata": {},
   "outputs": [
    {
     "data": {
      "text/plain": [
       "909"
      ]
     },
     "execution_count": 23,
     "metadata": {},
     "output_type": "execute_result"
    }
   ],
   "source": [
    "# part 2\n",
    "\n",
    "overlap_count = 0\n",
    "for line in my_input:\n",
    "    r1, r2 = line.split(',')\n",
    "    if is_overlap(r1, r2) or is_subset(r1, r2):\n",
    "        overlap_count += 1\n",
    "\n",
    "overlap_count"
   ]
  }
 ],
 "metadata": {
  "kernelspec": {
   "display_name": "Python 3",
   "language": "python",
   "name": "python3"
  },
  "language_info": {
   "codemirror_mode": {
    "name": "ipython",
    "version": 3
   },
   "file_extension": ".py",
   "mimetype": "text/x-python",
   "name": "python",
   "nbconvert_exporter": "python",
   "pygments_lexer": "ipython3",
   "version": "3.6.7"
  }
 },
 "nbformat": 4,
 "nbformat_minor": 2
}
